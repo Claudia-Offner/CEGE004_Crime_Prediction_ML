{
 "cells": [
  {
   "cell_type": "markdown",
   "source": [
    "# Bayesian Learning"
   ],
   "metadata": {
    "collapsed": false
   }
  },
  {
   "cell_type": "code",
   "execution_count": 64,
   "outputs": [
    {
     "data": {
      "text/plain": "<Figure size 432x288 with 1 Axes>",
      "image/png": "[encoded data removed]"
     },
     "metadata": {
      "needs_background": "light"
     },
     "output_type": "display_data"
    },
    {
     "name": "stdout",
     "output_type": "stream",
     "text": [
      "(1549, 100)\n",
      "(665, 100)\n"
     ]
    }
   ],
   "source": [
    "%run alt_Preprocessing.ipynb"
   ],
   "metadata": {
    "collapsed": false,
    "pycharm": {
     "name": "#%%\n"
    }
   }
  },
  {
   "cell_type": "code",
   "execution_count": 65,
   "outputs": [],
   "source": [
    "# Naive Bayes Classifiers\n",
    "from sklearn.naive_bayes import GaussianNB\n",
    "from sklearn.naive_bayes import MultinomialNB\n",
    "from sklearn.naive_bayes import BernoulliNB\n",
    "import seaborn as sns\n",
    "from matplotlib import pyplot as plt\n",
    "from sklearn import metrics\n",
    "from sklearn.metrics import confusion_matrix\n",
    "from sklearn.model_selection import KFold, cross_val_score"
   ],
   "metadata": {
    "collapsed": false,
    "pycharm": {
     "name": "#%%\n"
    }
   }
  },
  {
   "cell_type": "markdown",
   "source": [
    "## Naive Bayes"
   ],
   "metadata": {
    "collapsed": false
   }
  },
  {
   "cell_type": "code",
   "execution_count": 66,
   "outputs": [],
   "source": [
    "# Load train and test sets from Preprocessing file\n",
    "x_train = x_train\n",
    "y_train = y_train\n",
    "x_test = x_test\n",
    "y_test = y_test\n",
    "\n",
    "# Set classes based on classification complexity decided in pre-processing\n",
    "classes = {'LowCrime': 0, 'HighCrime': 1}\n",
    "\n",
    "# Function for plotting confusion matrix\n",
    "def plot_confusion_matrix(train_pred, train, dom):\n",
    "    cf = confusion_matrix(train_pred,train)\n",
    "    sns.heatmap(cf,annot=True,yticklabels=classes,xticklabels=classes,cmap='Blues', fmt='g')\n",
    "    plt.title(f'{dom} Confusion matrix')\n",
    "    plt.tight_layout()\n",
    "    plt.savefig(f'{dom} Confusion matrix.png')\n",
    "    plt.show()\n"
   ],
   "metadata": {
    "collapsed": false,
    "pycharm": {
     "name": "#%%\n"
    }
   }
  },
  {
   "cell_type": "markdown",
   "source": [
    "**Gaussian:** 81% accuracy\n",
    "\n",
    "Parameters:\n",
    "- priors: Prior probabilities of the classes. If specified the priors are not adjusted according to the data.\n",
    "- var_smoothing: Portion of the largest variance of all features that is added to variances for calculation stability."
   ],
   "metadata": {
    "collapsed": false
   }
  },
  {
   "cell_type": "code",
   "execution_count": 67,
   "outputs": [
    {
     "data": {
      "text/plain": "GaussianNB()"
     },
     "execution_count": 67,
     "metadata": {},
     "output_type": "execute_result"
    }
   ],
   "source": [
    "# Gaussian Naive Bayes\n",
    "gnb_model = GaussianNB(priors=None, var_smoothing=1e-9)\n",
    "gnb_model.fit(x_train, y_train)"
   ],
   "metadata": {
    "collapsed": false,
    "pycharm": {
     "name": "#%%\n"
    }
   }
  },
  {
   "cell_type": "code",
   "execution_count": 68,
   "outputs": [
    {
     "data": {
      "text/plain": "<Figure size 432x288 with 1 Axes>",
      "image/png": "[encoded data removed]"
     },
     "metadata": {
      "needs_background": "light"
     },
     "output_type": "display_data"
    }
   ],
   "source": [
    "# Perform k-fold validation on training data\n",
    "kf =KFold(n_splits=10, shuffle=True, random_state=42)\n",
    "kfold_scores = {}\n",
    "for i in range(2,12):\n",
    "    kf =KFold(n_splits=i, shuffle=True, random_state=42)\n",
    "    score = cross_val_score(gnb_model, x_train, y_train, cv= kf, scoring=\"accuracy\")\n",
    "    res = {str(i): score.mean()}\n",
    "    kfold_scores.update(res)\n",
    "\n",
    "for key in kfold_scores:\n",
    "    plt.bar([key], kfold_scores[key], label=key, color=(0.2, 0.4, 0.6, 0.6))\n",
    "\n",
    "plt.title('K-Fold vs Train Data Accuracy')\n",
    "plt.xlabel('K')\n",
    "plt.ylabel('Accuracy')\n",
    "plt.ylim(0.81, 0.82)\n",
    "plt.show()"
   ],
   "metadata": {
    "collapsed": false,
    "pycharm": {
     "name": "#%%\n"
    }
   }
  },
  {
   "cell_type": "code",
   "execution_count": 69,
   "outputs": [
    {
     "name": "stdout",
     "output_type": "stream",
     "text": [
      "Scores for each fold are: [0.8516129  0.73548387 0.81290323 0.87096774 0.83870968 0.78709677\n",
      " 0.76129032 0.84516129 0.81290323 0.81168831]\n",
      "Average score: 0.81\n",
      "Standard Deviation in score: 0.04\n"
     ]
    }
   ],
   "source": [
    "# Check k-fold validation\n",
    "kf =KFold(n_splits=10, shuffle=True, random_state=42)\n",
    "score = cross_val_score(gnb_model, x_train, y_train, cv= kf, scoring=\"accuracy\")\n",
    "print(f'Scores for each fold are: {score}')\n",
    "print(f'Average score: {\"{:.2f}\".format(score.mean())}')\n",
    "print(f'Standard Deviation in score: {\"{:.2f}\".format(score.std())}')"
   ],
   "metadata": {
    "collapsed": false,
    "pycharm": {
     "name": "#%%\n"
    }
   }
  },
  {
   "cell_type": "code",
   "execution_count": 70,
   "outputs": [
    {
     "name": "stdout",
     "output_type": "stream",
     "text": [
      "Gaussian Naive Bayes Train Model Accuracy(in %): 81.6010329244674\n",
      "Gaussian Naive Bayes Test Model Accuracy(in %): 85.71428571428571\n"
     ]
    }
   ],
   "source": [
    "# Compare train &  test data\n",
    "y_train_pred = gnb_model.predict(x_train)\n",
    "y_test_pred = gnb_model.predict(x_test)\n",
    "\n",
    "print(f'Gaussian Naive Bayes Train Model Accuracy(in %): {metrics.accuracy_score(y_train_pred,y_train)*100}')\n",
    "print(f'Gaussian Naive Bayes Test Model Accuracy(in %): {metrics.accuracy_score(y_test_pred,y_test)*100}')"
   ],
   "metadata": {
    "collapsed": false,
    "pycharm": {
     "name": "#%%\n"
    }
   }
  },
  {
   "cell_type": "markdown",
   "source": [
    "**Multinomial:** 81% accuracy\n",
    "\n",
    "Parameters:\n",
    "- alpha: Additive (Laplace/Lidstone) smoothing parameter (0 for no smoothing).\n",
    "- fit_prior: Whether to learn class prior probabilities or not. If false, a uniform prior will be used.\n",
    "- class_prior: Prior probabilities of the classes. If specified the priors are not adjusted according to the data."
   ],
   "metadata": {
    "collapsed": false
   }
  },
  {
   "cell_type": "code",
   "execution_count": 71,
   "outputs": [
    {
     "data": {
      "text/plain": "MultinomialNB(alpha=1)"
     },
     "execution_count": 71,
     "metadata": {},
     "output_type": "execute_result"
    }
   ],
   "source": [
    "# Multinomial Naive Bayes\n",
    "m_model = MultinomialNB(alpha=1, class_prior=None, fit_prior=True)\n",
    "m_model.fit(x_train, y_train)"
   ],
   "metadata": {
    "collapsed": false,
    "pycharm": {
     "name": "#%%\n"
    }
   }
  },
  {
   "cell_type": "code",
   "execution_count": 72,
   "outputs": [
    {
     "data": {
      "text/plain": "<Figure size 432x288 with 1 Axes>",
      "image/png": "[encoded data removed]"
     },
     "metadata": {
      "needs_background": "light"
     },
     "output_type": "display_data"
    }
   ],
   "source": [
    "# Perform k-fold validation on training data\n",
    "kf =KFold(n_splits=10, shuffle=True, random_state=42)\n",
    "kfold_scores = {}\n",
    "for i in range(2,12):\n",
    "    kf =KFold(n_splits=i, shuffle=True, random_state=42)\n",
    "    score = cross_val_score(m_model, x_train, y_train, cv= kf, scoring=\"accuracy\")\n",
    "    res = {str(i): score.mean()}\n",
    "    kfold_scores.update(res)\n",
    "\n",
    "for key in kfold_scores:\n",
    "    plt.bar([key], kfold_scores[key], label=key, color=(0.2, 0.4, 0.6, 0.6))\n",
    "\n",
    "plt.title('K-Fold vs Train Data Accuracy')\n",
    "plt.xlabel('K')\n",
    "plt.ylabel('Accuracy')\n",
    "plt.ylim(0.805, 0.815)\n",
    "plt.show()"
   ],
   "metadata": {
    "collapsed": false,
    "pycharm": {
     "name": "#%%\n"
    }
   }
  },
  {
   "cell_type": "code",
   "execution_count": 73,
   "outputs": [
    {
     "name": "stdout",
     "output_type": "stream",
     "text": [
      "Scores for each fold are: [0.85549133 0.77325581 0.76744186 0.87209302 0.80813953 0.77325581\n",
      " 0.81395349 0.84883721 0.80232558]\n",
      "Average score: 0.81\n",
      "Standard Deviation in score: 0.04\n"
     ]
    }
   ],
   "source": [
    "# Check k-fold split\n",
    "kf =KFold(n_splits=9, shuffle=True, random_state=42)\n",
    "score = cross_val_score(m_model, x_train, y_train, cv= kf, scoring=\"accuracy\")\n",
    "print(f'Scores for each fold are: {score}')\n",
    "print(f'Average score: {\"{:.2f}\".format(score.mean())}')\n",
    "print(f'Standard Deviation in score: {\"{:.2f}\".format(score.std())}')"
   ],
   "metadata": {
    "collapsed": false,
    "pycharm": {
     "name": "#%%\n"
    }
   }
  },
  {
   "cell_type": "code",
   "execution_count": 74,
   "outputs": [
    {
     "name": "stdout",
     "output_type": "stream",
     "text": [
      "Multinomial Naive Bayes Train Model Accuracy(in %): 81.40735958683021\n",
      "Multinomial Naive Bayes Test Model Accuracy(in %): 86.01503759398497\n"
     ]
    }
   ],
   "source": [
    "# Compare train &  test data\n",
    "y_train_pred = m_model.predict(x_train)\n",
    "y_test_pred = m_model.predict(x_test)\n",
    "\n",
    "print(f'Multinomial Naive Bayes Train Model Accuracy(in %): {metrics.accuracy_score(y_train_pred,y_train)*100}')\n",
    "print(f'Multinomial Naive Bayes Test Model Accuracy(in %): {metrics.accuracy_score(y_test_pred,y_test)*100}')"
   ],
   "metadata": {
    "collapsed": false,
    "pycharm": {
     "name": "#%%\n"
    }
   }
  },
  {
   "cell_type": "markdown",
   "source": [
    "**Bernoulli:** 83% accuracy\n",
    "\n",
    "Parameters:\n",
    "- alpha: Additive (Laplace/Lidstone) smoothing parameter (0 for no smoothing).\n",
    "- binarize: Threshold for binarizing (mapping to booleans) of sample features. If None, input is presumed to already consist of binary vectors.\n",
    "- fit_prior: Whether to learn class prior probabilities or not. If false, a uniform prior will be used.\n",
    "- class_prior: Prior probabilities of the classes. If specified the priors are not adjusted according to the data."
   ],
   "metadata": {
    "collapsed": false
   }
  },
  {
   "cell_type": "code",
   "execution_count": 75,
   "outputs": [
    {
     "data": {
      "text/plain": "BernoulliNB(alpha=1, binarize=None)"
     },
     "execution_count": 75,
     "metadata": {},
     "output_type": "execute_result"
    }
   ],
   "source": [
    "# Bernoulli Naive Bayes\n",
    "b_model = BernoulliNB(alpha=1, binarize=None, fit_prior=True, class_prior=None)\n",
    "b_model.fit(x_train, y_train)"
   ],
   "metadata": {
    "collapsed": false,
    "pycharm": {
     "name": "#%%\n"
    }
   }
  },
  {
   "cell_type": "code",
   "execution_count": 76,
   "outputs": [
    {
     "data": {
      "text/plain": "<Figure size 432x288 with 1 Axes>",
      "image/png": "[encoded data removed]"
     },
     "metadata": {
      "needs_background": "light"
     },
     "output_type": "display_data"
    }
   ],
   "source": [
    "# Perform k-fold validation on training data\n",
    "kf =KFold(n_splits=10, shuffle=True, random_state=42)\n",
    "kfold_scores = {}\n",
    "for i in range(2,12):\n",
    "    kf =KFold(n_splits=i, shuffle=True, random_state=42)\n",
    "    score = cross_val_score(b_model, x_train, y_train, cv= kf, scoring=\"accuracy\")\n",
    "    res = {str(i): score.mean()}\n",
    "    kfold_scores.update(res)\n",
    "\n",
    "for key in kfold_scores:\n",
    "    plt.bar([key], kfold_scores[key], label=key, color=(0.2, 0.4, 0.6, 0.6))\n",
    "\n",
    "plt.title('K-Fold vs Train Data Accuracy')\n",
    "plt.xlabel('K')\n",
    "plt.ylabel('Accuracy')\n",
    "plt.ylim(0.82, 0.83)\n",
    "plt.savefig('k_fold.png')\n",
    "plt.show()"
   ],
   "metadata": {
    "collapsed": false,
    "pycharm": {
     "name": "#%%\n"
    }
   }
  },
  {
   "cell_type": "code",
   "execution_count": 77,
   "outputs": [
    {
     "name": "stdout",
     "output_type": "stream",
     "text": [
      "Scores for each fold are: [0.81237911 0.83527132 0.83527132]\n",
      "Average score(in %): 82.76\n",
      "Standard Deviation in score: 0.01\n"
     ]
    }
   ],
   "source": [
    "# Check k-fold split\n",
    "kf =KFold(n_splits=3, shuffle=True, random_state=42)\n",
    "score = cross_val_score(b_model, x_train, y_train, cv= kf, scoring=\"accuracy\")\n",
    "print(f'Scores for each fold are: {score}')\n",
    "print(f'Average score(in %): {\"{:.2f}\".format(score.mean()*100)}')\n",
    "print(f'Standard Deviation in score: {\"{:.2f}\".format(score.std())}')"
   ],
   "metadata": {
    "collapsed": false,
    "pycharm": {
     "name": "#%%\n"
    }
   }
  },
  {
   "cell_type": "code",
   "execution_count": 78,
   "outputs": [
    {
     "name": "stdout",
     "output_type": "stream",
     "text": [
      "Bernoulli Naive Bayes Train Model Accuracy(in %): 82.63395739186572\n",
      "Bernoulli Naive Bayes Test Model Accuracy(in %): 86.61654135338345\n"
     ]
    },
    {
     "data": {
      "text/plain": "<Figure size 432x288 with 2 Axes>",
      "image/png": "[encoded data removed]"
     },
     "metadata": {
      "needs_background": "light"
     },
     "output_type": "display_data"
    },
    {
     "data": {
      "text/plain": "<Figure size 432x288 with 2 Axes>",
      "image/png": "[encoded data removed]"
     },
     "metadata": {
      "needs_background": "light"
     },
     "output_type": "display_data"
    }
   ],
   "source": [
    "# Compare train & test data\n",
    "y_train_pred = b_model.predict(x_train)\n",
    "y_test_pred = b_model.predict(x_test)\n",
    "\n",
    "print(f'Bernoulli Naive Bayes Train Model Accuracy(in %): {metrics.accuracy_score(y_train_pred,y_train)*100}')\n",
    "print(f'Bernoulli Naive Bayes Test Model Accuracy(in %): {metrics.accuracy_score(y_test_pred,y_test)*100}')\n",
    "plot_confusion_matrix(y_train_pred,y_train,dom='Train')\n",
    "plot_confusion_matrix(y_test_pred,y_test,dom='Test')"
   ],
   "metadata": {
    "collapsed": false,
    "pycharm": {
     "name": "#%%\n"
    }
   }
  }
 ],
 "metadata": {
  "kernelspec": {
   "display_name": "Python 3",
   "language": "python",
   "name": "python3"
  },
  "language_info": {
   "codemirror_mode": {
    "name": "ipython",
    "version": 2
   },
   "file_extension": ".py",
   "mimetype": "text/x-python",
   "name": "python",
   "nbconvert_exporter": "python",
   "pygments_lexer": "ipython2",
   "version": "2.7.6"
  }
 },
 "nbformat": 4,
 "nbformat_minor": 0
}