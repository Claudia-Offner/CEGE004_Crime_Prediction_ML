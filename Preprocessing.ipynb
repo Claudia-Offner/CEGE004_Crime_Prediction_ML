{
 "cells": [
  {
   "cell_type": "markdown",
   "metadata": {
    "pycharm": {
     "name": "#%% md\n"
    }
   },
   "source": [
    "# Pre-processing data\n",
    "https://towardsdatascience.com/bayesian-linear-regression-in-python-using-machine-learning-to-predict-student-grades-part-1-7d0ad817fca5"
   ]
  },
  {
   "cell_type": "code",
   "execution_count": 81,
   "metadata": {
    "pycharm": {
     "name": "#%%\n"
    }
   },
   "outputs": [],
   "source": [
    "# import\n",
    "import pandas as pd\n",
    "import numpy as np\n",
    "import matplotlib.pyplot as plt\n",
    "from scipy.stats import percentileofscore\n",
    "from sklearn.model_selection import train_test_split\n",
    "from sklearn.impute import SimpleImputer\n",
    "from sklearn.preprocessing import MinMaxScaler\n",
    "# Visuals\n",
    "# import seaborn as sns\n",
    "# from scipy import stats\n",
    "# %matplotlib inline"
   ]
  },
  {
   "cell_type": "markdown",
   "metadata": {},
   "source": [
    "**Read in Data**\n",
    "- NOTE: Dropping spatial variables for the scope of project\n",
    "- Also, there was little correlation with spatial components in preliminary dummy coding correlation check"
   ]
  },
  {
   "cell_type": "code",
   "execution_count": 82,
   "metadata": {
    "pycharm": {
     "name": "#%%\n"
    }
   },
   "outputs": [],
   "source": [
    "# Read data and assign NA to missing values\n",
    "data = pd.read_csv('http://archive.ics.uci.edu/ml/machine-learning-databases/00211/CommViolPredUnnormalizedData.txt',\n",
    "                   sep='\\s*,\\s*',encoding='latin-1',engine='python', na_values=[\"?\"])\n",
    "\n",
    "\n",
    "data.columns = ['communityname','state','countyCode','communityCode','fold','population','householdsize','racepctblack',\n",
    "           'racePctWhite','racePctAsian','racePctHisp','agePct12t21','agePct12t29','agePct16t24','agePct65up',\n",
    "           'numbUrban','pctUrban','medIncome','pctWWage','pctWFarmSelf','pctWInvInc','pctWSocSec','pctWPubAsst',\n",
    "           'pctWRetire','medFamInc','perCapInc','whitePerCap','blackPerCap','indianPerCap','AsianPerCap','OtherPerCap',\n",
    "           'HispPerCap','NumUnderPov','PctPopUnderPov','PctLess9thGrade','PctNotHSGrad','PctBSorMore','PctUnemployed',\n",
    "           'PctEmploy','PctEmplManu','PctEmplProfServ','PctOccupManu','PctOccupMgmtProf','MalePctDivorce',\n",
    "           'MalePctNevMarr','FemalePctDiv','TotalPctDiv','PersPerFam','PctFam2Par','PctKids2Par','PctYoungKids2Par',\n",
    "           'PctTeen2Par','PctWorkMomYoungKids','PctWorkMom','NumKidsBornNeverMar','PctKidsBornNeverMar','NumImmig',\n",
    "           'PctImmigRecent','PctImmigRec5','PctImmigRec8','PctImmigRec10','PctRecentImmig','PctRecImmig5',\n",
    "           'PctRecImmig8','PctRecImmig10','PctSpeakEnglOnly','PctNotSpeakEnglWell','PctLargHouseFam',\n",
    "           'PctLargHouseOccup','PersPerOccupHous','PersPerOwnOccHous','PersPerRentOccHous','PctPersOwnOccup',\n",
    "           'PctPersDenseHous','PctHousLess3BR','MedNumBR','HousVacant','PctHousOccup','PctHousOwnOcc','PctVacantBoarded',\n",
    "           'PctVacMore6Mos','MedYrHousBuilt','PctHousNoPhone','PctWOFullPlumb','OwnOccLowQuart','OwnOccMedVal',\n",
    "           'OwnOccHiQuart','OwnOccQrange','RentLowQ','RentMedian','RentHighQ','RentQrange','MedRent','MedRentPctHousInc',\n",
    "           'MedOwnCostPctInc','MedOwnCostPctIncNoMtg','NumInShelters','NumStreet','PctForeignBorn','PctBornSameState',\n",
    "           'PctSameHouse85','PctSameCity85','PctSameState85','LemasSwornFT','LemasSwFTPerPop','LemasSwFTFieldOps',\n",
    "           'LemasSwFTFieldPerPop','LemasTotalReq','LemasTotReqPerPop','PolicReqPerOffic','PolicPerPop',\n",
    "           'RacialMatchCommPol','PctPolicWhite','PctPolicBlack','PctPolicHisp','PctPolicAsian','PctPolicMinor',\n",
    "           'OfficAssgnDrugUnits','NumKindsDrugsSeiz','PolicAveOTWorked','LandArea','PopDens','PctUsePubTrans',\n",
    "           'PolicCars','PolicOperBudg','LemasPctPolicOnPatr','LemasGangUnitDeploy','LemasPctOfficDrugUn',\n",
    "           'PolicBudgPerPop','murders','murdPerPop','rapes','rapesPerPop','robberies','robbbPerPop','assaults',\n",
    "           'assaultPerPop','burglaries','burglPerPop','larcenies','larcPerPop','autoTheft','autoTheftPerPop','arsons',\n",
    "           'arsonsPerPop','ViolentCrimesPerPop','nonViolPerPop']"
   ]
  },
  {
   "cell_type": "code",
   "execution_count": 83,
   "metadata": {
    "pycharm": {
     "name": "#%%\n"
    }
   },
   "outputs": [],
   "source": [
    "# Drop spatial variables\n",
    "data = data.drop(columns=['countyCode', 'communityCode', 'communityname', 'state'])\n",
    "\n",
    "# Drop other predictor variables from features\n",
    "data = data.drop(columns=['murders','murdPerPop','rapes','rapesPerPop','robberies','robbbPerPop','assaults',\n",
    "    'assaultPerPop','burglaries','burglPerPop','larcenies','larcPerPop','autoTheft','autoTheftPerPop','arsons',\n",
    "    'arsonsPerPop','nonViolPerPop'])"
   ]
  },
  {
   "cell_type": "markdown",
   "metadata": {},
   "source": [
    "**Check data**\n",
    "- NOTE: We have no categorical or string data."
   ]
  },
  {
   "cell_type": "code",
   "execution_count": 84,
   "metadata": {
    "pycharm": {
     "name": "#%%\n"
    }
   },
   "outputs": [
    {
     "data": {
      "text/plain": "   fold  population  householdsize  racepctblack  racePctWhite  racePctAsian  \\\n0     1       23123           2.82          0.80         95.57          3.44   \n1     1       29344           2.43          0.74         94.33          3.43   \n2     1       16656           2.40          1.70         97.35          0.50   \n3     1       11245           2.76          0.53         89.16          1.17   \n4     1      140494           2.45          2.51         95.65          0.90   \n\n   racePctHisp  agePct12t21  agePct12t29  agePct16t24  ...  LandArea  PopDens  \\\n0         0.85        11.01        21.30        10.48  ...      10.6   2186.7   \n1         2.35        11.36        25.88        11.01  ...      10.6   2780.9   \n2         0.70        12.55        25.20        12.19  ...       5.2   3217.7   \n3         0.52        24.46        40.53        28.69  ...      11.5    974.2   \n4         0.95        18.09        32.89        20.04  ...      70.4   1995.7   \n\n   PctUsePubTrans  PolicCars  PolicOperBudg  LemasPctPolicOnPatr  \\\n0            3.84        NaN            NaN                  NaN   \n1            4.37        NaN            NaN                  NaN   \n2            3.31        NaN            NaN                  NaN   \n3            0.38        NaN            NaN                  NaN   \n4            0.97        NaN            NaN                  NaN   \n\n   LemasGangUnitDeploy  LemasPctOfficDrugUn  PolicBudgPerPop  \\\n0                  NaN                  0.0              NaN   \n1                  NaN                  0.0              NaN   \n2                  NaN                  0.0              NaN   \n3                  NaN                  0.0              NaN   \n4                  NaN                  0.0              NaN   \n\n   ViolentCrimesPerPop  \n0               127.56  \n1               218.59  \n2               306.64  \n3                  NaN  \n4               442.95  \n\n[5 rows x 126 columns]",
      "text/html": "<div>\n<style scoped>\n    .dataframe tbody tr th:only-of-type {\n        vertical-align: middle;\n    }\n\n    .dataframe tbody tr th {\n        vertical-align: top;\n    }\n\n    .dataframe thead th {\n        text-align: right;\n    }\n</style>\n<table border=\"1\" class=\"dataframe\">\n  <thead>\n    <tr style=\"text-align: right;\">\n      <th></th>\n      <th>fold</th>\n      <th>population</th>\n      <th>householdsize</th>\n      <th>racepctblack</th>\n      <th>racePctWhite</th>\n      <th>racePctAsian</th>\n      <th>racePctHisp</th>\n      <th>agePct12t21</th>\n      <th>agePct12t29</th>\n      <th>agePct16t24</th>\n      <th>...</th>\n      <th>LandArea</th>\n      <th>PopDens</th>\n      <th>PctUsePubTrans</th>\n      <th>PolicCars</th>\n      <th>PolicOperBudg</th>\n      <th>LemasPctPolicOnPatr</th>\n      <th>LemasGangUnitDeploy</th>\n      <th>LemasPctOfficDrugUn</th>\n      <th>PolicBudgPerPop</th>\n      <th>ViolentCrimesPerPop</th>\n    </tr>\n  </thead>\n  <tbody>\n    <tr>\n      <th>0</th>\n      <td>1</td>\n      <td>23123</td>\n      <td>2.82</td>\n      <td>0.80</td>\n      <td>95.57</td>\n      <td>3.44</td>\n      <td>0.85</td>\n      <td>11.01</td>\n      <td>21.30</td>\n      <td>10.48</td>\n      <td>...</td>\n      <td>10.6</td>\n      <td>2186.7</td>\n      <td>3.84</td>\n      <td>NaN</td>\n      <td>NaN</td>\n      <td>NaN</td>\n      <td>NaN</td>\n      <td>0.0</td>\n      <td>NaN</td>\n      <td>127.56</td>\n    </tr>\n    <tr>\n      <th>1</th>\n      <td>1</td>\n      <td>29344</td>\n      <td>2.43</td>\n      <td>0.74</td>\n      <td>94.33</td>\n      <td>3.43</td>\n      <td>2.35</td>\n      <td>11.36</td>\n      <td>25.88</td>\n      <td>11.01</td>\n      <td>...</td>\n      <td>10.6</td>\n      <td>2780.9</td>\n      <td>4.37</td>\n      <td>NaN</td>\n      <td>NaN</td>\n      <td>NaN</td>\n      <td>NaN</td>\n      <td>0.0</td>\n      <td>NaN</td>\n      <td>218.59</td>\n    </tr>\n    <tr>\n      <th>2</th>\n      <td>1</td>\n      <td>16656</td>\n      <td>2.40</td>\n      <td>1.70</td>\n      <td>97.35</td>\n      <td>0.50</td>\n      <td>0.70</td>\n      <td>12.55</td>\n      <td>25.20</td>\n      <td>12.19</td>\n      <td>...</td>\n      <td>5.2</td>\n      <td>3217.7</td>\n      <td>3.31</td>\n      <td>NaN</td>\n      <td>NaN</td>\n      <td>NaN</td>\n      <td>NaN</td>\n      <td>0.0</td>\n      <td>NaN</td>\n      <td>306.64</td>\n    </tr>\n    <tr>\n      <th>3</th>\n      <td>1</td>\n      <td>11245</td>\n      <td>2.76</td>\n      <td>0.53</td>\n      <td>89.16</td>\n      <td>1.17</td>\n      <td>0.52</td>\n      <td>24.46</td>\n      <td>40.53</td>\n      <td>28.69</td>\n      <td>...</td>\n      <td>11.5</td>\n      <td>974.2</td>\n      <td>0.38</td>\n      <td>NaN</td>\n      <td>NaN</td>\n      <td>NaN</td>\n      <td>NaN</td>\n      <td>0.0</td>\n      <td>NaN</td>\n      <td>NaN</td>\n    </tr>\n    <tr>\n      <th>4</th>\n      <td>1</td>\n      <td>140494</td>\n      <td>2.45</td>\n      <td>2.51</td>\n      <td>95.65</td>\n      <td>0.90</td>\n      <td>0.95</td>\n      <td>18.09</td>\n      <td>32.89</td>\n      <td>20.04</td>\n      <td>...</td>\n      <td>70.4</td>\n      <td>1995.7</td>\n      <td>0.97</td>\n      <td>NaN</td>\n      <td>NaN</td>\n      <td>NaN</td>\n      <td>NaN</td>\n      <td>0.0</td>\n      <td>NaN</td>\n      <td>442.95</td>\n    </tr>\n  </tbody>\n</table>\n<p>5 rows × 126 columns</p>\n</div>"
     },
     "execution_count": 84,
     "metadata": {},
     "output_type": "execute_result"
    }
   ],
   "source": [
    "data.head(5)"
   ]
  },
  {
   "cell_type": "code",
   "execution_count": 85,
   "metadata": {
    "pycharm": {
     "name": "#%%\n"
    }
   },
   "outputs": [
    {
     "data": {
      "text/plain": "(2214, 126)"
     },
     "execution_count": 85,
     "metadata": {},
     "output_type": "execute_result"
    }
   ],
   "source": [
    "data.shape"
   ]
  },
  {
   "cell_type": "code",
   "execution_count": 86,
   "metadata": {
    "pycharm": {
     "name": "#%%\n"
    }
   },
   "outputs": [
    {
     "data": {
      "text/plain": "              fold    population  householdsize  racepctblack  racePctWhite  \\\ncount  2214.000000  2.214000e+03    2214.000000   2214.000000   2214.000000   \nmean      5.496387  5.313657e+04       2.707150      9.338699     83.976296   \nstd       2.871984  2.046646e+05       0.334091     14.249369     16.421952   \nmin       1.000000  1.000500e+04       1.600000      0.000000      2.680000   \n25%       3.000000  1.437125e+04       2.500000      0.860000     76.310000   \n50%       5.000000  2.280300e+04       2.660000      2.870000     90.350000   \n75%       8.000000  4.304350e+04       2.850000     11.157500     96.227500   \nmax      10.000000  7.322564e+06       5.280000     96.670000     99.630000   \n\n       racePctAsian  racePctHisp  agePct12t21  agePct12t29  agePct16t24  ...  \\\ncount   2214.000000  2214.000000  2214.000000  2214.000000  2214.000000  ...   \nmean       2.668473     7.952918    14.446730    27.647642    13.976518  ...   \nstd        4.474113    14.592557     4.519448     6.181506     5.971745  ...   \nmin        0.030000     0.120000     4.580000     9.380000     4.640000  ...   \n25%        0.620000     0.930000    12.250000    24.420000    11.320000  ...   \n50%        1.230000     2.180000    13.620000    26.780000    12.545000  ...   \n75%        2.670000     7.810000    15.360000    29.207500    14.347500  ...   \nmax       57.460000    95.290000    54.400000    70.510000    63.620000  ...   \n\n          LandArea       PopDens  PctUsePubTrans    PolicCars  PolicOperBudg  \\\ncount  2214.000000   2214.000000     2214.000000   343.000000   3.430000e+02   \nmean     27.429404   2784.258672        3.038148   185.478134   3.217602e+07   \nstd     109.846510   2829.562169        4.912029   318.542834   1.104566e+08   \nmin       0.900000     10.000000        0.000000    20.000000   2.380215e+06   \n25%       7.300000   1181.850000        0.360000    54.000000   7.275060e+06   \n50%      13.700000   2029.600000        1.220000    86.000000   1.116411e+07   \n75%      26.100000   3322.250000        3.357500   189.500000   2.014754e+07   \nmax    3569.800000  44229.900000       54.330000  3187.000000   1.617293e+09   \n\n       LemasPctPolicOnPatr  LemasGangUnitDeploy  LemasPctOfficDrugUn  \\\ncount           343.000000           343.000000          2214.000000   \nmean             87.130933             4.285714             0.980605   \nstd              10.349612             4.064538             2.877702   \nmin              10.850000             0.000000             0.000000   \n25%              84.295000             0.000000             0.000000   \n50%              89.580000             5.000000             0.000000   \n75%              93.200000            10.000000             0.000000   \nmax              99.940000            10.000000            48.440000   \n\n       PolicBudgPerPop  ViolentCrimesPerPop  \ncount     3.430000e+02          1993.000000  \nmean      1.535779e+05           589.353914  \nstd       2.030409e+05           614.816135  \nmin       1.526040e+04             0.000000  \n25%       8.809435e+04           161.730000  \n50%       1.145820e+05           374.070000  \n75%       1.556557e+05           794.410000  \nmax       2.422367e+06          4877.060000  \n\n[8 rows x 126 columns]",
      "text/html": "<div>\n<style scoped>\n    .dataframe tbody tr th:only-of-type {\n        vertical-align: middle;\n    }\n\n    .dataframe tbody tr th {\n        vertical-align: top;\n    }\n\n    .dataframe thead th {\n        text-align: right;\n    }\n</style>\n<table border=\"1\" class=\"dataframe\">\n  <thead>\n    <tr style=\"text-align: right;\">\n      <th></th>\n      <th>fold</th>\n      <th>population</th>\n      <th>householdsize</th>\n      <th>racepctblack</th>\n      <th>racePctWhite</th>\n      <th>racePctAsian</th>\n      <th>racePctHisp</th>\n      <th>agePct12t21</th>\n      <th>agePct12t29</th>\n      <th>agePct16t24</th>\n      <th>...</th>\n      <th>LandArea</th>\n      <th>PopDens</th>\n      <th>PctUsePubTrans</th>\n      <th>PolicCars</th>\n      <th>PolicOperBudg</th>\n      <th>LemasPctPolicOnPatr</th>\n      <th>LemasGangUnitDeploy</th>\n      <th>LemasPctOfficDrugUn</th>\n      <th>PolicBudgPerPop</th>\n      <th>ViolentCrimesPerPop</th>\n    </tr>\n  </thead>\n  <tbody>\n    <tr>\n      <th>count</th>\n      <td>2214.000000</td>\n      <td>2.214000e+03</td>\n      <td>2214.000000</td>\n      <td>2214.000000</td>\n      <td>2214.000000</td>\n      <td>2214.000000</td>\n      <td>2214.000000</td>\n      <td>2214.000000</td>\n      <td>2214.000000</td>\n      <td>2214.000000</td>\n      <td>...</td>\n      <td>2214.000000</td>\n      <td>2214.000000</td>\n      <td>2214.000000</td>\n      <td>343.000000</td>\n      <td>3.430000e+02</td>\n      <td>343.000000</td>\n      <td>343.000000</td>\n      <td>2214.000000</td>\n      <td>3.430000e+02</td>\n      <td>1993.000000</td>\n    </tr>\n    <tr>\n      <th>mean</th>\n      <td>5.496387</td>\n      <td>5.313657e+04</td>\n      <td>2.707150</td>\n      <td>9.338699</td>\n      <td>83.976296</td>\n      <td>2.668473</td>\n      <td>7.952918</td>\n      <td>14.446730</td>\n      <td>27.647642</td>\n      <td>13.976518</td>\n      <td>...</td>\n      <td>27.429404</td>\n      <td>2784.258672</td>\n      <td>3.038148</td>\n      <td>185.478134</td>\n      <td>3.217602e+07</td>\n      <td>87.130933</td>\n      <td>4.285714</td>\n      <td>0.980605</td>\n      <td>1.535779e+05</td>\n      <td>589.353914</td>\n    </tr>\n    <tr>\n      <th>std</th>\n      <td>2.871984</td>\n      <td>2.046646e+05</td>\n      <td>0.334091</td>\n      <td>14.249369</td>\n      <td>16.421952</td>\n      <td>4.474113</td>\n      <td>14.592557</td>\n      <td>4.519448</td>\n      <td>6.181506</td>\n      <td>5.971745</td>\n      <td>...</td>\n      <td>109.846510</td>\n      <td>2829.562169</td>\n      <td>4.912029</td>\n      <td>318.542834</td>\n      <td>1.104566e+08</td>\n      <td>10.349612</td>\n      <td>4.064538</td>\n      <td>2.877702</td>\n      <td>2.030409e+05</td>\n      <td>614.816135</td>\n    </tr>\n    <tr>\n      <th>min</th>\n      <td>1.000000</td>\n      <td>1.000500e+04</td>\n      <td>1.600000</td>\n      <td>0.000000</td>\n      <td>2.680000</td>\n      <td>0.030000</td>\n      <td>0.120000</td>\n      <td>4.580000</td>\n      <td>9.380000</td>\n      <td>4.640000</td>\n      <td>...</td>\n      <td>0.900000</td>\n      <td>10.000000</td>\n      <td>0.000000</td>\n      <td>20.000000</td>\n      <td>2.380215e+06</td>\n      <td>10.850000</td>\n      <td>0.000000</td>\n      <td>0.000000</td>\n      <td>1.526040e+04</td>\n      <td>0.000000</td>\n    </tr>\n    <tr>\n      <th>25%</th>\n      <td>3.000000</td>\n      <td>1.437125e+04</td>\n      <td>2.500000</td>\n      <td>0.860000</td>\n      <td>76.310000</td>\n      <td>0.620000</td>\n      <td>0.930000</td>\n      <td>12.250000</td>\n      <td>24.420000</td>\n      <td>11.320000</td>\n      <td>...</td>\n      <td>7.300000</td>\n      <td>1181.850000</td>\n      <td>0.360000</td>\n      <td>54.000000</td>\n      <td>7.275060e+06</td>\n      <td>84.295000</td>\n      <td>0.000000</td>\n      <td>0.000000</td>\n      <td>8.809435e+04</td>\n      <td>161.730000</td>\n    </tr>\n    <tr>\n      <th>50%</th>\n      <td>5.000000</td>\n      <td>2.280300e+04</td>\n      <td>2.660000</td>\n      <td>2.870000</td>\n      <td>90.350000</td>\n      <td>1.230000</td>\n      <td>2.180000</td>\n      <td>13.620000</td>\n      <td>26.780000</td>\n      <td>12.545000</td>\n      <td>...</td>\n      <td>13.700000</td>\n      <td>2029.600000</td>\n      <td>1.220000</td>\n      <td>86.000000</td>\n      <td>1.116411e+07</td>\n      <td>89.580000</td>\n      <td>5.000000</td>\n      <td>0.000000</td>\n      <td>1.145820e+05</td>\n      <td>374.070000</td>\n    </tr>\n    <tr>\n      <th>75%</th>\n      <td>8.000000</td>\n      <td>4.304350e+04</td>\n      <td>2.850000</td>\n      <td>11.157500</td>\n      <td>96.227500</td>\n      <td>2.670000</td>\n      <td>7.810000</td>\n      <td>15.360000</td>\n      <td>29.207500</td>\n      <td>14.347500</td>\n      <td>...</td>\n      <td>26.100000</td>\n      <td>3322.250000</td>\n      <td>3.357500</td>\n      <td>189.500000</td>\n      <td>2.014754e+07</td>\n      <td>93.200000</td>\n      <td>10.000000</td>\n      <td>0.000000</td>\n      <td>1.556557e+05</td>\n      <td>794.410000</td>\n    </tr>\n    <tr>\n      <th>max</th>\n      <td>10.000000</td>\n      <td>7.322564e+06</td>\n      <td>5.280000</td>\n      <td>96.670000</td>\n      <td>99.630000</td>\n      <td>57.460000</td>\n      <td>95.290000</td>\n      <td>54.400000</td>\n      <td>70.510000</td>\n      <td>63.620000</td>\n      <td>...</td>\n      <td>3569.800000</td>\n      <td>44229.900000</td>\n      <td>54.330000</td>\n      <td>3187.000000</td>\n      <td>1.617293e+09</td>\n      <td>99.940000</td>\n      <td>10.000000</td>\n      <td>48.440000</td>\n      <td>2.422367e+06</td>\n      <td>4877.060000</td>\n    </tr>\n  </tbody>\n</table>\n<p>8 rows × 126 columns</p>\n</div>"
     },
     "execution_count": 86,
     "metadata": {},
     "output_type": "execute_result"
    }
   ],
   "source": [
    "data.describe()"
   ]
  },
  {
   "cell_type": "code",
   "execution_count": 87,
   "metadata": {
    "pycharm": {
     "name": "#%%\n"
    }
   },
   "outputs": [],
   "source": [
    "# Print the value counts for categorical columns\n",
    "for col in data.columns:\n",
    "    if data[col].dtype == 'object':\n",
    "        print('\\nColumn Name:', col,)\n",
    "        print(data[col].value_counts())\n",
    "\n",
    "# There are none"
   ]
  },
  {
   "cell_type": "markdown",
   "metadata": {},
   "source": [
    "**Addressing missing values**\n",
    "\n",
    " - If 25% of a columns data is NA, that column is removed\n",
    " - For all other missing values, the column mean is used"
   ]
  },
  {
   "cell_type": "code",
   "execution_count": 88,
   "metadata": {
    "pycharm": {
     "name": "#%%\n"
    }
   },
   "outputs": [
    {
     "data": {
      "text/plain": "LemasSwFTFieldPerPop    1871\nLemasTotalReq           1871\nPolicReqPerOffic        1871\nPolicPerPop             1871\nRacialMatchCommPol      1871\ndtype: int64"
     },
     "execution_count": 88,
     "metadata": {},
     "output_type": "execute_result"
    }
   ],
   "source": [
    "# Establish how much data is missing\n",
    "data.isnull().sum().sort_values(ascending=False).head()"
   ]
  },
  {
   "cell_type": "code",
   "execution_count": 89,
   "metadata": {},
   "outputs": [],
   "source": [
    "variables_na = []\n",
    "for i in data:\n",
    "    if data[i].isnull().sum() > 554: #find the columns with large amounts of na values\n",
    "        str(i)\n",
    "        variables_na.append(i)\n",
    "        \n",
    "data = data.drop(columns=variables_na) #delete those"
   ]
  },
  {
   "cell_type": "code",
   "execution_count": 90,
   "metadata": {
    "scrolled": true
   },
   "outputs": [
    {
     "data": {
      "text/plain": "(2214, 104)"
     },
     "execution_count": 90,
     "metadata": {},
     "output_type": "execute_result"
    }
   ],
   "source": [
    "data.shape"
   ]
  },
  {
   "cell_type": "code",
   "execution_count": 91,
   "metadata": {
    "pycharm": {
     "name": "#%%\n"
    }
   },
   "outputs": [
    {
     "data": {
      "text/plain": "ViolentCrimesPerPop    0\nLemasPctOfficDrugUn    0\nHispPerCap             0\nNumUnderPov            0\nPctPopUnderPov         0\ndtype: int64"
     },
     "execution_count": 91,
     "metadata": {},
     "output_type": "execute_result"
    }
   ],
   "source": [
    "# Impute the missing values using SimpleImputer in sklearn.impute\n",
    "imp = SimpleImputer(missing_values=np.nan, strategy='mean')\n",
    "imp.fit(data)\n",
    "data = pd.DataFrame(data=imp.transform(data), columns=data.columns)\n",
    "\n",
    "# Check if there is still missing data\n",
    "data.isnull().sum().sort_values(ascending=False).head()"
   ]
  },
  {
   "cell_type": "code",
   "execution_count": 92,
   "metadata": {
    "pycharm": {
     "name": "#%%\n"
    }
   },
   "outputs": [
    {
     "data": {
      "text/plain": "   fold  population  householdsize  racepctblack  racePctWhite  racePctAsian  \\\n0   1.0     23123.0           2.82          0.80         95.57          3.44   \n1   1.0     29344.0           2.43          0.74         94.33          3.43   \n2   1.0     16656.0           2.40          1.70         97.35          0.50   \n3   1.0     11245.0           2.76          0.53         89.16          1.17   \n4   1.0    140494.0           2.45          2.51         95.65          0.90   \n\n   racePctHisp  agePct12t21  agePct12t29  agePct16t24  ...  PctForeignBorn  \\\n0         0.85        11.01        21.30        10.48  ...            8.30   \n1         2.35        11.36        25.88        11.01  ...            5.00   \n2         0.70        12.55        25.20        12.19  ...            2.04   \n3         0.52        24.46        40.53        28.69  ...            1.74   \n4         0.95        18.09        32.89        20.04  ...            1.49   \n\n   PctBornSameState  PctSameHouse85  PctSameCity85  PctSameState85  LandArea  \\\n0             77.17           71.27          90.22           96.12      10.6   \n1             44.77           36.60          61.26           82.85      10.6   \n2             88.71           56.70          90.17           96.24       5.2   \n3             73.75           42.22          60.34           89.02      11.5   \n4             64.35           42.29          70.61           85.66      70.4   \n\n   PopDens  PctUsePubTrans  LemasPctOfficDrugUn  ViolentCrimesPerPop  \n0   2186.7            3.84                  0.0           127.560000  \n1   2780.9            4.37                  0.0           218.590000  \n2   3217.7            3.31                  0.0           306.640000  \n3    974.2            0.38                  0.0           589.353914  \n4   1995.7            0.97                  0.0           442.950000  \n\n[5 rows x 104 columns]",
      "text/html": "<div>\n<style scoped>\n    .dataframe tbody tr th:only-of-type {\n        vertical-align: middle;\n    }\n\n    .dataframe tbody tr th {\n        vertical-align: top;\n    }\n\n    .dataframe thead th {\n        text-align: right;\n    }\n</style>\n<table border=\"1\" class=\"dataframe\">\n  <thead>\n    <tr style=\"text-align: right;\">\n      <th></th>\n      <th>fold</th>\n      <th>population</th>\n      <th>householdsize</th>\n      <th>racepctblack</th>\n      <th>racePctWhite</th>\n      <th>racePctAsian</th>\n      <th>racePctHisp</th>\n      <th>agePct12t21</th>\n      <th>agePct12t29</th>\n      <th>agePct16t24</th>\n      <th>...</th>\n      <th>PctForeignBorn</th>\n      <th>PctBornSameState</th>\n      <th>PctSameHouse85</th>\n      <th>PctSameCity85</th>\n      <th>PctSameState85</th>\n      <th>LandArea</th>\n      <th>PopDens</th>\n      <th>PctUsePubTrans</th>\n      <th>LemasPctOfficDrugUn</th>\n      <th>ViolentCrimesPerPop</th>\n    </tr>\n  </thead>\n  <tbody>\n    <tr>\n      <th>0</th>\n      <td>1.0</td>\n      <td>23123.0</td>\n      <td>2.82</td>\n      <td>0.80</td>\n      <td>95.57</td>\n      <td>3.44</td>\n      <td>0.85</td>\n      <td>11.01</td>\n      <td>21.30</td>\n      <td>10.48</td>\n      <td>...</td>\n      <td>8.30</td>\n      <td>77.17</td>\n      <td>71.27</td>\n      <td>90.22</td>\n      <td>96.12</td>\n      <td>10.6</td>\n      <td>2186.7</td>\n      <td>3.84</td>\n      <td>0.0</td>\n      <td>127.560000</td>\n    </tr>\n    <tr>\n      <th>1</th>\n      <td>1.0</td>\n      <td>29344.0</td>\n      <td>2.43</td>\n      <td>0.74</td>\n      <td>94.33</td>\n      <td>3.43</td>\n      <td>2.35</td>\n      <td>11.36</td>\n      <td>25.88</td>\n      <td>11.01</td>\n      <td>...</td>\n      <td>5.00</td>\n      <td>44.77</td>\n      <td>36.60</td>\n      <td>61.26</td>\n      <td>82.85</td>\n      <td>10.6</td>\n      <td>2780.9</td>\n      <td>4.37</td>\n      <td>0.0</td>\n      <td>218.590000</td>\n    </tr>\n    <tr>\n      <th>2</th>\n      <td>1.0</td>\n      <td>16656.0</td>\n      <td>2.40</td>\n      <td>1.70</td>\n      <td>97.35</td>\n      <td>0.50</td>\n      <td>0.70</td>\n      <td>12.55</td>\n      <td>25.20</td>\n      <td>12.19</td>\n      <td>...</td>\n      <td>2.04</td>\n      <td>88.71</td>\n      <td>56.70</td>\n      <td>90.17</td>\n      <td>96.24</td>\n      <td>5.2</td>\n      <td>3217.7</td>\n      <td>3.31</td>\n      <td>0.0</td>\n      <td>306.640000</td>\n    </tr>\n    <tr>\n      <th>3</th>\n      <td>1.0</td>\n      <td>11245.0</td>\n      <td>2.76</td>\n      <td>0.53</td>\n      <td>89.16</td>\n      <td>1.17</td>\n      <td>0.52</td>\n      <td>24.46</td>\n      <td>40.53</td>\n      <td>28.69</td>\n      <td>...</td>\n      <td>1.74</td>\n      <td>73.75</td>\n      <td>42.22</td>\n      <td>60.34</td>\n      <td>89.02</td>\n      <td>11.5</td>\n      <td>974.2</td>\n      <td>0.38</td>\n      <td>0.0</td>\n      <td>589.353914</td>\n    </tr>\n    <tr>\n      <th>4</th>\n      <td>1.0</td>\n      <td>140494.0</td>\n      <td>2.45</td>\n      <td>2.51</td>\n      <td>95.65</td>\n      <td>0.90</td>\n      <td>0.95</td>\n      <td>18.09</td>\n      <td>32.89</td>\n      <td>20.04</td>\n      <td>...</td>\n      <td>1.49</td>\n      <td>64.35</td>\n      <td>42.29</td>\n      <td>70.61</td>\n      <td>85.66</td>\n      <td>70.4</td>\n      <td>1995.7</td>\n      <td>0.97</td>\n      <td>0.0</td>\n      <td>442.950000</td>\n    </tr>\n  </tbody>\n</table>\n<p>5 rows × 104 columns</p>\n</div>"
     },
     "execution_count": 92,
     "metadata": {},
     "output_type": "execute_result"
    }
   ],
   "source": [
    "data.head(5)"
   ]
  },
  {
   "cell_type": "markdown",
   "metadata": {
    "pycharm": {
     "name": "#%% md\n"
    }
   },
   "source": [
    "**Normalize the data set**\n",
    "- Scales each column to values between 0-1 to be better interpreted by the models\n",
    "- CHECK: how normalisation impacts model accuracy\n"
   ]
  },
  {
   "cell_type": "code",
   "execution_count": 93,
   "metadata": {
    "pycharm": {
     "name": "#%%\n"
    }
   },
   "outputs": [
    {
     "data": {
      "text/plain": "              fold   population  householdsize  racepctblack  racePctWhite  \\\ncount  2214.000000  2214.000000    2214.000000   2214.000000   2214.000000   \nmean      0.499599     0.005898       0.300856      0.096604      0.838538   \nstd       0.319109     0.027988       0.090786      0.147402      0.169386   \nmin       0.000000     0.000000       0.000000      0.000000      0.000000   \n25%       0.222222     0.000597       0.244565      0.008896      0.759464   \n50%       0.444444     0.001750       0.288043      0.029689      0.904281   \n75%       0.777778     0.004518       0.339674      0.115418      0.964905   \nmax       1.000000     1.000000       1.000000      1.000000      1.000000   \n\n       racePctAsian  racePctHisp  agePct12t21  agePct12t29  agePct16t24  ...  \\\ncount   2214.000000  2214.000000  2214.000000  2214.000000  2214.000000  ...   \nmean       0.045942     0.082304     0.198048     0.298833     0.158300  ...   \nstd        0.077906     0.153331     0.090716     0.101121     0.101250  ...   \nmin        0.000000     0.000000     0.000000     0.000000     0.000000  ...   \n25%        0.010273     0.008511     0.153954     0.246033     0.113259  ...   \n50%        0.020895     0.021645     0.181453     0.284639     0.134028  ...   \n75%        0.045969     0.080803     0.216379     0.324350     0.164590  ...   \nmax        1.000000     1.000000     1.000000     1.000000     1.000000  ...   \n\n       PctForeignBorn  PctBornSameState  PctSameHouse85  PctSameCity85  \\\ncount     2214.000000       2214.000000     2214.000000    2214.000000   \nmean         0.118878          0.634254        0.594971       0.720582   \nstd          0.139822          0.193923        0.157594       0.158517   \nmin          0.000000          0.000000        0.000000       0.000000   \n25%          0.031219          0.501910        0.496965       0.642628   \n50%          0.068582          0.668480        0.604526       0.750947   \n75%          0.150573          0.788430        0.702795       0.833151   \nmax          1.000000          1.000000        1.000000       1.000000   \n\n       PctSameState85     LandArea      PopDens  PctUsePubTrans  \\\ncount     2214.000000  2214.000000  2214.000000     2214.000000   \nmean         0.824234     0.007433     0.062738        0.055920   \nstd          0.108684     0.030779     0.063988        0.090411   \nmin          0.000000     0.000000     0.000000        0.000000   \n25%          0.780826     0.001793     0.026501        0.006626   \n50%          0.852840     0.003587     0.045672        0.022455   \n75%          0.897272     0.007061     0.074904        0.061798   \nmax          1.000000     1.000000     1.000000        1.000000   \n\n       LemasPctOfficDrugUn  ViolentCrimesPerPop  \ncount          2214.000000          2214.000000  \nmean              0.020244             0.120842  \nstd               0.059408             0.119603  \nmin               0.000000             0.000000  \n25%               0.000000             0.038042  \n50%               0.000000             0.091446  \n75%               0.000000             0.148042  \nmax               1.000000             1.000000  \n\n[8 rows x 104 columns]",
      "text/html": "<div>\n<style scoped>\n    .dataframe tbody tr th:only-of-type {\n        vertical-align: middle;\n    }\n\n    .dataframe tbody tr th {\n        vertical-align: top;\n    }\n\n    .dataframe thead th {\n        text-align: right;\n    }\n</style>\n<table border=\"1\" class=\"dataframe\">\n  <thead>\n    <tr style=\"text-align: right;\">\n      <th></th>\n      <th>fold</th>\n      <th>population</th>\n      <th>householdsize</th>\n      <th>racepctblack</th>\n      <th>racePctWhite</th>\n      <th>racePctAsian</th>\n      <th>racePctHisp</th>\n      <th>agePct12t21</th>\n      <th>agePct12t29</th>\n      <th>agePct16t24</th>\n      <th>...</th>\n      <th>PctForeignBorn</th>\n      <th>PctBornSameState</th>\n      <th>PctSameHouse85</th>\n      <th>PctSameCity85</th>\n      <th>PctSameState85</th>\n      <th>LandArea</th>\n      <th>PopDens</th>\n      <th>PctUsePubTrans</th>\n      <th>LemasPctOfficDrugUn</th>\n      <th>ViolentCrimesPerPop</th>\n    </tr>\n  </thead>\n  <tbody>\n    <tr>\n      <th>count</th>\n      <td>2214.000000</td>\n      <td>2214.000000</td>\n      <td>2214.000000</td>\n      <td>2214.000000</td>\n      <td>2214.000000</td>\n      <td>2214.000000</td>\n      <td>2214.000000</td>\n      <td>2214.000000</td>\n      <td>2214.000000</td>\n      <td>2214.000000</td>\n      <td>...</td>\n      <td>2214.000000</td>\n      <td>2214.000000</td>\n      <td>2214.000000</td>\n      <td>2214.000000</td>\n      <td>2214.000000</td>\n      <td>2214.000000</td>\n      <td>2214.000000</td>\n      <td>2214.000000</td>\n      <td>2214.000000</td>\n      <td>2214.000000</td>\n    </tr>\n    <tr>\n      <th>mean</th>\n      <td>0.499599</td>\n      <td>0.005898</td>\n      <td>0.300856</td>\n      <td>0.096604</td>\n      <td>0.838538</td>\n      <td>0.045942</td>\n      <td>0.082304</td>\n      <td>0.198048</td>\n      <td>0.298833</td>\n      <td>0.158300</td>\n      <td>...</td>\n      <td>0.118878</td>\n      <td>0.634254</td>\n      <td>0.594971</td>\n      <td>0.720582</td>\n      <td>0.824234</td>\n      <td>0.007433</td>\n      <td>0.062738</td>\n      <td>0.055920</td>\n      <td>0.020244</td>\n      <td>0.120842</td>\n    </tr>\n    <tr>\n      <th>std</th>\n      <td>0.319109</td>\n      <td>0.027988</td>\n      <td>0.090786</td>\n      <td>0.147402</td>\n      <td>0.169386</td>\n      <td>0.077906</td>\n      <td>0.153331</td>\n      <td>0.090716</td>\n      <td>0.101121</td>\n      <td>0.101250</td>\n      <td>...</td>\n      <td>0.139822</td>\n      <td>0.193923</td>\n      <td>0.157594</td>\n      <td>0.158517</td>\n      <td>0.108684</td>\n      <td>0.030779</td>\n      <td>0.063988</td>\n      <td>0.090411</td>\n      <td>0.059408</td>\n      <td>0.119603</td>\n    </tr>\n    <tr>\n      <th>min</th>\n      <td>0.000000</td>\n      <td>0.000000</td>\n      <td>0.000000</td>\n      <td>0.000000</td>\n      <td>0.000000</td>\n      <td>0.000000</td>\n      <td>0.000000</td>\n      <td>0.000000</td>\n      <td>0.000000</td>\n      <td>0.000000</td>\n      <td>...</td>\n      <td>0.000000</td>\n      <td>0.000000</td>\n      <td>0.000000</td>\n      <td>0.000000</td>\n      <td>0.000000</td>\n      <td>0.000000</td>\n      <td>0.000000</td>\n      <td>0.000000</td>\n      <td>0.000000</td>\n      <td>0.000000</td>\n    </tr>\n    <tr>\n      <th>25%</th>\n      <td>0.222222</td>\n      <td>0.000597</td>\n      <td>0.244565</td>\n      <td>0.008896</td>\n      <td>0.759464</td>\n      <td>0.010273</td>\n      <td>0.008511</td>\n      <td>0.153954</td>\n      <td>0.246033</td>\n      <td>0.113259</td>\n      <td>...</td>\n      <td>0.031219</td>\n      <td>0.501910</td>\n      <td>0.496965</td>\n      <td>0.642628</td>\n      <td>0.780826</td>\n      <td>0.001793</td>\n      <td>0.026501</td>\n      <td>0.006626</td>\n      <td>0.000000</td>\n      <td>0.038042</td>\n    </tr>\n    <tr>\n      <th>50%</th>\n      <td>0.444444</td>\n      <td>0.001750</td>\n      <td>0.288043</td>\n      <td>0.029689</td>\n      <td>0.904281</td>\n      <td>0.020895</td>\n      <td>0.021645</td>\n      <td>0.181453</td>\n      <td>0.284639</td>\n      <td>0.134028</td>\n      <td>...</td>\n      <td>0.068582</td>\n      <td>0.668480</td>\n      <td>0.604526</td>\n      <td>0.750947</td>\n      <td>0.852840</td>\n      <td>0.003587</td>\n      <td>0.045672</td>\n      <td>0.022455</td>\n      <td>0.000000</td>\n      <td>0.091446</td>\n    </tr>\n    <tr>\n      <th>75%</th>\n      <td>0.777778</td>\n      <td>0.004518</td>\n      <td>0.339674</td>\n      <td>0.115418</td>\n      <td>0.964905</td>\n      <td>0.045969</td>\n      <td>0.080803</td>\n      <td>0.216379</td>\n      <td>0.324350</td>\n      <td>0.164590</td>\n      <td>...</td>\n      <td>0.150573</td>\n      <td>0.788430</td>\n      <td>0.702795</td>\n      <td>0.833151</td>\n      <td>0.897272</td>\n      <td>0.007061</td>\n      <td>0.074904</td>\n      <td>0.061798</td>\n      <td>0.000000</td>\n      <td>0.148042</td>\n    </tr>\n    <tr>\n      <th>max</th>\n      <td>1.000000</td>\n      <td>1.000000</td>\n      <td>1.000000</td>\n      <td>1.000000</td>\n      <td>1.000000</td>\n      <td>1.000000</td>\n      <td>1.000000</td>\n      <td>1.000000</td>\n      <td>1.000000</td>\n      <td>1.000000</td>\n      <td>...</td>\n      <td>1.000000</td>\n      <td>1.000000</td>\n      <td>1.000000</td>\n      <td>1.000000</td>\n      <td>1.000000</td>\n      <td>1.000000</td>\n      <td>1.000000</td>\n      <td>1.000000</td>\n      <td>1.000000</td>\n      <td>1.000000</td>\n    </tr>\n  </tbody>\n</table>\n<p>8 rows × 104 columns</p>\n</div>"
     },
     "execution_count": 93,
     "metadata": {},
     "output_type": "execute_result"
    }
   ],
   "source": [
    "scaler = MinMaxScaler()\n",
    "data = pd.DataFrame(scaler.fit_transform(data), columns=data.columns, index=data.index)\n",
    "data.head()\n",
    "data.describe()"
   ]
  },
  {
   "cell_type": "markdown",
   "metadata": {},
   "source": [
    "**Check target variable**\n",
    "- Distribution\n",
    "- Percentiles"
   ]
  },
  {
   "cell_type": "code",
   "execution_count": 94,
   "metadata": {
    "pycharm": {
     "name": "#%%\n"
    }
   },
   "outputs": [
    {
     "data": {
      "text/plain": "count    2214.000000\nmean        0.120842\nstd         0.119603\nmin         0.000000\n25%         0.038042\n50%         0.091446\n75%         0.148042\nmax         1.000000\nName: ViolentCrimesPerPop, dtype: float64"
     },
     "execution_count": 94,
     "metadata": {},
     "output_type": "execute_result"
    }
   ],
   "source": [
    "# Check violent crimes\n",
    "data['ViolentCrimesPerPop'].value_counts()\n",
    "data['ViolentCrimesPerPop'].describe()"
   ]
  },
  {
   "cell_type": "code",
   "execution_count": 95,
   "metadata": {
    "pycharm": {
     "name": "#%%\n"
    }
   },
   "outputs": [],
   "source": [
    "# # Plot\n",
    "# def histo_plot(x):\n",
    "#     plt.hist(x, color=(0.2, 0.4, 0.6, 0.6), alpha=0.5)\n",
    "#     plt.title(\"'{var_name}' Histogram\".format(var_name=x.name))\n",
    "#     plt.ylabel(\"Freq\")\n",
    "#     plt.xlabel(\"Value\")\n",
    "#     plt.show()\n",
    "# histo_plot(data['ViolentCrimesPerPop'])\n"
   ]
  },
  {
   "cell_type": "markdown",
   "metadata": {},
   "source": [
    "**Add a Crime Classification column**\n",
    "- Using column quartiles as a suitable threshold base\n",
    "- CHECK: how classification complexity impacts models\n",
    "- NOTE: Using +3 classes would be more informative in our model explorations"
   ]
  },
  {
   "cell_type": "code",
   "execution_count": 96,
   "metadata": {
    "pycharm": {
     "name": "#%%\n"
    }
   },
   "outputs": [],
   "source": [
    "# 3 fold classification based on quartiles\n",
    "data['HighCrime'] = pd.qcut(data['ViolentCrimesPerPop'], 4, [0, 1, 2, 3]) # so we take the top 25%\n",
    "# Binary Classification\n",
    "data['HighCrime'] = [0 if x < 3 else 1 for x in data['HighCrime']]\n",
    "\n",
    "# Reformat column\n",
    "data['HighCrime'] = data['HighCrime'].astype(float)"
   ]
  },
  {
   "cell_type": "markdown",
   "metadata": {},
   "source": [
    "**Check Variable Correlations**\n",
    "- No dummy encoding needed because we have no categorical variables"
   ]
  },
  {
   "cell_type": "code",
   "execution_count": 97,
   "metadata": {
    "pycharm": {
     "name": "#%%\n"
    }
   },
   "outputs": [
    {
     "data": {
      "text/plain": "PctKids2Par           -0.587835\nracePctWhite          -0.572887\nPctFam2Par            -0.546821\nPctYoungKids2Par      -0.529816\nPctTeen2Par           -0.518076\n                         ...   \npctWPubAsst            0.458665\nracepctblack           0.486424\nPctKidsBornNeverMar    0.570723\nViolentCrimesPerPop    0.784053\nHighCrime              1.000000\nName: HighCrime, Length: 105, dtype: float64"
     },
     "execution_count": 97,
     "metadata": {},
     "output_type": "execute_result"
    }
   ],
   "source": [
    "# Correlations of numerical values\n",
    "data.corr()['HighCrime'].sort_values()"
   ]
  },
  {
   "cell_type": "markdown",
   "metadata": {},
   "source": [
    "**Select Top 100 correlated features for analysis**\n",
    "- Split data into Training, Testing and Validation sets\n",
    "- CHECK: how feature complexity impacts model accuracy\n",
    "- NOTE: When variables <=75 or >=125, the models seems to do worse. 100 seems like a good point to avoid curse of dimensionality."
   ]
  },
  {
   "cell_type": "code",
   "execution_count": 98,
   "metadata": {
    "pycharm": {
     "name": "#%%\n"
    }
   },
   "outputs": [],
   "source": [
    "def format_data(df):\n",
    "    '''\n",
    "    Takes in a dataframe, finds the most correlated variables with crime and\n",
    "    returns training and testing datasets\n",
    "    '''\n",
    "    df = df.drop(columns=['ViolentCrimesPerPop'])\n",
    "\n",
    "    # Find correlations with the Crime\n",
    "    most_correlated = df.corr().abs()['HighCrime'].sort_values(ascending=False)\n",
    "\n",
    "    # Maintain the top 100 most correlation features with Crime\n",
    "    most_correlated = most_correlated[:101]\n",
    "    df = df.loc[:, most_correlated.index]\n",
    "\n",
    "    # split data into x & y\n",
    "    y = df['HighCrime']\n",
    "    x = df.drop(columns=['HighCrime'])\n",
    "\n",
    "    return df, x, y"
   ]
  },
  {
   "cell_type": "code",
   "execution_count": 99,
   "metadata": {
    "pycharm": {
     "name": "#%%\n"
    }
   },
   "outputs": [],
   "source": [
    "# Format data\n",
    "df, x, y = format_data(data)\n",
    "\n",
    "# Split data\n",
    "x_train, x_test, y_train, y_test = train_test_split(x, y, test_size=0.30, random_state=42)"
   ]
  },
  {
   "cell_type": "code",
   "execution_count": 100,
   "metadata": {
    "pycharm": {
     "name": "#%%\n"
    }
   },
   "outputs": [
    {
     "name": "stdout",
     "output_type": "stream",
     "text": [
      "(1549, 100)\n",
      "(665, 100)\n"
     ]
    }
   ],
   "source": [
    "print(x_train.shape)\n",
    "print(x_test.shape)"
   ]
  }
 ],
 "metadata": {
  "kernelspec": {
   "display_name": "Python 3",
   "language": "python",
   "name": "python3"
  },
  "language_info": {
   "codemirror_mode": {
    "name": "ipython",
    "version": 3
   },
   "file_extension": ".py",
   "mimetype": "text/x-python",
   "name": "python",
   "nbconvert_exporter": "python",
   "pygments_lexer": "ipython3",
   "version": "3.8.5"
  }
 },
 "nbformat": 4,
 "nbformat_minor": 1
}