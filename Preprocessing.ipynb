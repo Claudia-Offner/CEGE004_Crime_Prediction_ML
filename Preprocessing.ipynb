{
 "cells": [
  {
   "cell_type": "markdown",
   "metadata": {},
   "source": [
    "# Data Pre-processing\n",
    "\n",
    "Data from: https://archive.ics.uci.edu/ml/datasets/Communities+and+Crime\n",
    "\n",
    "1. Data Cleaning\n",
    "    - Dealing with data types e.g. making categorical data numeric i.e. dummy features\n",
    "    - Handling missing data (Imputing Na values instead of removing)\n",
    "\n",
    "2. Data Exploration\n",
    "    - Detecting outliers (Tukey IQH or Kernal Density Estimation)\n",
    "    - Plotting Distributions. Log transformation of data that is skewed (very long tails) can impove accuracy.\n",
    "    - Smote. Balance dataset-to prevent the tree from being biased toward the classes that are dominant. Create an equal number of samples from each class by normalising the sum of the sample weights for each class to the same value.\n",
    "\n",
    "3. Feature Enigineering\n",
    "    - Interactions between features\n",
    "    - Increasing dimensionality vs decreasing dimensionality\n",
    "\n",
    "4. Feature Selection\n",
    "    - Discard the least important variables to reduce noise (Decrease dimensionality)\n",
    "    - Good variables are often constructed using ratios, differences, averages of variables etc. (Increase Dimensionality)\n"
   ]
  },
  {
   "cell_type": "code",
   "execution_count": 29,
   "metadata": {},
   "outputs": [],
   "source": [
    "# Import packages\n",
    "import pandas as pd\n",
    "import numpy as np\n",
    "from sklearn.impute import SimpleImputer\n",
    "%matplotlib inline\n",
    "import matplotlib.pyplot as plt"
   ]
  },
  {
   "cell_type": "code",
   "execution_count": 30,
   "outputs": [
    {
     "name": "stdout",
     "output_type": "stream",
     "text": [
      "      communityname state  countyCode  communityCode  fold  population  \\\n",
      "0    Marpletownship    PA        45.0        47616.0     1       23123   \n",
      "1        Tigardcity    OR         NaN            NaN     1       29344   \n",
      "2  Gloversvillecity    NY        35.0        29443.0     1       16656   \n",
      "3       Bemidjicity    MN         7.0         5068.0     1       11245   \n",
      "4   Springfieldcity    MO         NaN            NaN     1      140494   \n",
      "\n",
      "   householdsize  racepctblack  racePctWhite  racePctAsian  ...  burglaries  \\\n",
      "0           2.82          0.80         95.57          3.44  ...        57.0   \n",
      "1           2.43          0.74         94.33          3.43  ...       274.0   \n",
      "2           2.40          1.70         97.35          0.50  ...       225.0   \n",
      "3           2.76          0.53         89.16          1.17  ...        91.0   \n",
      "4           2.45          2.51         95.65          0.90  ...      2094.0   \n",
      "\n",
      "   burglPerPop  larcenies  larcPerPop  autoTheft  autoTheftPerPop  arsons  \\\n",
      "0       242.37      376.0     1598.78       26.0           110.55     1.0   \n",
      "1       758.14     1797.0     4972.19      136.0           376.30    22.0   \n",
      "2      1301.78      716.0     4142.56       47.0           271.93     NaN   \n",
      "3       728.93     1060.0     8490.87       91.0           728.93     5.0   \n",
      "4      1386.46     7690.0     5091.64      454.0           300.60   134.0   \n",
      "\n",
      "   arsonsPerPop  ViolentCrimesPerPop  nonViolPerPop  \n",
      "0          4.25               127.56        1955.95  \n",
      "1         60.87               218.59        6167.51  \n",
      "2           NaN               306.64            NaN  \n",
      "3         40.05                  NaN        9988.79  \n",
      "4         88.72               442.95        6867.42  \n",
      "\n",
      "[5 rows x 147 columns]\n"
     ]
    }
   ],
   "source": [
    "# Read data and assign NA to missing values\n",
    "data = pd.read_csv('http://archive.ics.uci.edu/ml/machine-learning-databases/00211/CommViolPredUnnormalizedData.txt',\n",
    "                   sep='\\s*,\\s*',encoding='latin-1',engine='python', na_values=[\"?\"])\n",
    "\n",
    "\n",
    "data.columns = ['communityname','state','countyCode','communityCode','fold','population','householdsize','racepctblack',\n",
    "           'racePctWhite','racePctAsian','racePctHisp','agePct12t21','agePct12t29','agePct16t24','agePct65up',\n",
    "           'numbUrban','pctUrban','medIncome','pctWWage','pctWFarmSelf','pctWInvInc','pctWSocSec','pctWPubAsst',\n",
    "           'pctWRetire','medFamInc','perCapInc','whitePerCap','blackPerCap','indianPerCap','AsianPerCap','OtherPerCap',\n",
    "           'HispPerCap','NumUnderPov','PctPopUnderPov','PctLess9thGrade','PctNotHSGrad','PctBSorMore','PctUnemployed',\n",
    "           'PctEmploy','PctEmplManu','PctEmplProfServ','PctOccupManu','PctOccupMgmtProf','MalePctDivorce',\n",
    "           'MalePctNevMarr','FemalePctDiv','TotalPctDiv','PersPerFam','PctFam2Par','PctKids2Par','PctYoungKids2Par',\n",
    "           'PctTeen2Par','PctWorkMomYoungKids','PctWorkMom','NumKidsBornNeverMar','PctKidsBornNeverMar','NumImmig',\n",
    "           'PctImmigRecent','PctImmigRec5','PctImmigRec8','PctImmigRec10','PctRecentImmig','PctRecImmig5',\n",
    "           'PctRecImmig8','PctRecImmig10','PctSpeakEnglOnly','PctNotSpeakEnglWell','PctLargHouseFam',\n",
    "           'PctLargHouseOccup','PersPerOccupHous','PersPerOwnOccHous','PersPerRentOccHous','PctPersOwnOccup',\n",
    "           'PctPersDenseHous','PctHousLess3BR','MedNumBR','HousVacant','PctHousOccup','PctHousOwnOcc','PctVacantBoarded',\n",
    "           'PctVacMore6Mos','MedYrHousBuilt','PctHousNoPhone','PctWOFullPlumb','OwnOccLowQuart','OwnOccMedVal',\n",
    "           'OwnOccHiQuart','OwnOccQrange','RentLowQ','RentMedian','RentHighQ','RentQrange','MedRent','MedRentPctHousInc',\n",
    "           'MedOwnCostPctInc','MedOwnCostPctIncNoMtg','NumInShelters','NumStreet','PctForeignBorn','PctBornSameState',\n",
    "           'PctSameHouse85','PctSameCity85','PctSameState85','LemasSwornFT','LemasSwFTPerPop','LemasSwFTFieldOps',\n",
    "           'LemasSwFTFieldPerPop','LemasTotalReq','LemasTotReqPerPop','PolicReqPerOffic','PolicPerPop',\n",
    "           'RacialMatchCommPol','PctPolicWhite','PctPolicBlack','PctPolicHisp','PctPolicAsian','PctPolicMinor',\n",
    "           'OfficAssgnDrugUnits','NumKindsDrugsSeiz','PolicAveOTWorked','LandArea','PopDens','PctUsePubTrans',\n",
    "           'PolicCars','PolicOperBudg','LemasPctPolicOnPatr','LemasGangUnitDeploy','LemasPctOfficDrugUn',\n",
    "           'PolicBudgPerPop','murders','murdPerPop','rapes','rapesPerPop','robberies','robbbPerPop','assaults',\n",
    "           'assaultPerPop','burglaries','burglPerPop','larcenies','larcPerPop','autoTheft','autoTheftPerPop','arsons',\n",
    "           'arsonsPerPop','ViolentCrimesPerPop','nonViolPerPop']\n",
    "\n",
    "print(data.head(5))"
   ],
   "metadata": {
    "collapsed": false,
    "pycharm": {
     "name": "#%%\n"
    }
   }
  },
  {
   "cell_type": "code",
   "execution_count": 31,
   "metadata": {},
   "outputs": [
    {
     "data": {
      "text/plain": "         population  racepctblack  agePct12t29     numbUrban      medIncome  \\\ncount  2.214000e+03   2214.000000  2214.000000  2.214000e+03    2214.000000   \nmean   5.313657e+04      9.338699    27.647642  4.775087e+04   33966.115628   \nstd    2.046646e+05     14.249369     6.181506  2.056517e+05   13399.195028   \nmin    1.000500e+04      0.000000     9.380000  0.000000e+00    8866.000000   \n25%    1.437125e+04      0.860000    24.420000  0.000000e+00   23816.000000   \n50%    2.280300e+04      2.870000    26.780000  1.805000e+04   31417.500000   \n75%    4.304350e+04     11.157500    29.207500  4.193150e+04   41468.250000   \nmax    7.322564e+06     96.670000    70.510000  7.322564e+06  123625.000000   \n\n          pctWWage   pctWInvInc      medFamInc     perCapInc   whitePerCap  \\\ncount  2214.000000  2214.000000    2214.000000   2214.000000   2214.000000   \nmean     78.307823    43.738988   39839.111563  15597.152665  16561.526197   \nstd       7.949074    12.778445   14229.376744   6275.813440   6341.621423   \nmin      31.680000     5.810000   10447.000000   5237.000000   5472.000000   \n25%      73.400000    34.680000   29534.000000  11602.250000  12609.250000   \n50%      78.610000    42.850000   36671.000000  14098.500000  15071.500000   \n75%      84.020000    52.730000   46975.500000  17786.000000  18604.250000   \nmax      96.760000    89.040000  139008.000000  63302.000000  68850.000000   \n\n       ...    HousVacant  PctHousOwnOcc  OwnOccLowQuart   OwnOccMedVal  \\\ncount  ...    2214.00000    2214.000000     2214.000000    2214.000000   \nmean   ...    1749.12963      63.355813    88638.347787  113029.997290   \nstd    ...    6505.23720      13.960847    66630.973563   81863.173854   \nmin    ...      36.00000      16.860000    14999.000000   19500.000000   \n25%    ...     305.00000      54.820000    41500.000000   56200.000000   \n50%    ...     558.00000      62.810000    65500.000000   82800.000000   \n75%    ...    1228.50000      72.600000   121475.000000  150475.000000   \nmax    ...  172768.00000      96.490000   500001.000000  500001.000000   \n\n          RentLowQ   RentMedian      MedRent  MedOwnCostPctIncNoMtg  \\\ncount  2214.000000  2214.000000  2214.000000            2214.000000   \nmean    329.806233   428.278681   501.240741              13.009756   \nstd     143.973261   170.310815   168.976503               1.419843   \nmin      99.000000   120.000000   192.000000              10.100000   \n25%     213.250000   289.250000   364.000000              12.000000   \n50%     307.000000   397.000000   467.000000              12.800000   \n75%     421.000000   544.000000   614.750000              13.700000   \nmax    1001.000000  1001.000000  1001.000000              23.400000   \n\n          NumStreet  ViolentCrimesPerPop  \ncount   2214.000000          1993.000000  \nmean      17.831527           589.353914  \nstd      245.507711           614.816135  \nmin        0.000000             0.000000  \n25%        0.000000           161.730000  \n50%        0.000000           374.070000  \n75%        1.000000           794.410000  \nmax    10447.000000          4877.060000  \n\n[8 rows x 34 columns]",
      "text/html": "<div>\n<style scoped>\n    .dataframe tbody tr th:only-of-type {\n        vertical-align: middle;\n    }\n\n    .dataframe tbody tr th {\n        vertical-align: top;\n    }\n\n    .dataframe thead th {\n        text-align: right;\n    }\n</style>\n<table border=\"1\" class=\"dataframe\">\n  <thead>\n    <tr style=\"text-align: right;\">\n      <th></th>\n      <th>population</th>\n      <th>racepctblack</th>\n      <th>agePct12t29</th>\n      <th>numbUrban</th>\n      <th>medIncome</th>\n      <th>pctWWage</th>\n      <th>pctWInvInc</th>\n      <th>medFamInc</th>\n      <th>perCapInc</th>\n      <th>whitePerCap</th>\n      <th>...</th>\n      <th>HousVacant</th>\n      <th>PctHousOwnOcc</th>\n      <th>OwnOccLowQuart</th>\n      <th>OwnOccMedVal</th>\n      <th>RentLowQ</th>\n      <th>RentMedian</th>\n      <th>MedRent</th>\n      <th>MedOwnCostPctIncNoMtg</th>\n      <th>NumStreet</th>\n      <th>ViolentCrimesPerPop</th>\n    </tr>\n  </thead>\n  <tbody>\n    <tr>\n      <th>count</th>\n      <td>2.214000e+03</td>\n      <td>2214.000000</td>\n      <td>2214.000000</td>\n      <td>2.214000e+03</td>\n      <td>2214.000000</td>\n      <td>2214.000000</td>\n      <td>2214.000000</td>\n      <td>2214.000000</td>\n      <td>2214.000000</td>\n      <td>2214.000000</td>\n      <td>...</td>\n      <td>2214.00000</td>\n      <td>2214.000000</td>\n      <td>2214.000000</td>\n      <td>2214.000000</td>\n      <td>2214.000000</td>\n      <td>2214.000000</td>\n      <td>2214.000000</td>\n      <td>2214.000000</td>\n      <td>2214.000000</td>\n      <td>1993.000000</td>\n    </tr>\n    <tr>\n      <th>mean</th>\n      <td>5.313657e+04</td>\n      <td>9.338699</td>\n      <td>27.647642</td>\n      <td>4.775087e+04</td>\n      <td>33966.115628</td>\n      <td>78.307823</td>\n      <td>43.738988</td>\n      <td>39839.111563</td>\n      <td>15597.152665</td>\n      <td>16561.526197</td>\n      <td>...</td>\n      <td>1749.12963</td>\n      <td>63.355813</td>\n      <td>88638.347787</td>\n      <td>113029.997290</td>\n      <td>329.806233</td>\n      <td>428.278681</td>\n      <td>501.240741</td>\n      <td>13.009756</td>\n      <td>17.831527</td>\n      <td>589.353914</td>\n    </tr>\n    <tr>\n      <th>std</th>\n      <td>2.046646e+05</td>\n      <td>14.249369</td>\n      <td>6.181506</td>\n      <td>2.056517e+05</td>\n      <td>13399.195028</td>\n      <td>7.949074</td>\n      <td>12.778445</td>\n      <td>14229.376744</td>\n      <td>6275.813440</td>\n      <td>6341.621423</td>\n      <td>...</td>\n      <td>6505.23720</td>\n      <td>13.960847</td>\n      <td>66630.973563</td>\n      <td>81863.173854</td>\n      <td>143.973261</td>\n      <td>170.310815</td>\n      <td>168.976503</td>\n      <td>1.419843</td>\n      <td>245.507711</td>\n      <td>614.816135</td>\n    </tr>\n    <tr>\n      <th>min</th>\n      <td>1.000500e+04</td>\n      <td>0.000000</td>\n      <td>9.380000</td>\n      <td>0.000000e+00</td>\n      <td>8866.000000</td>\n      <td>31.680000</td>\n      <td>5.810000</td>\n      <td>10447.000000</td>\n      <td>5237.000000</td>\n      <td>5472.000000</td>\n      <td>...</td>\n      <td>36.00000</td>\n      <td>16.860000</td>\n      <td>14999.000000</td>\n      <td>19500.000000</td>\n      <td>99.000000</td>\n      <td>120.000000</td>\n      <td>192.000000</td>\n      <td>10.100000</td>\n      <td>0.000000</td>\n      <td>0.000000</td>\n    </tr>\n    <tr>\n      <th>25%</th>\n      <td>1.437125e+04</td>\n      <td>0.860000</td>\n      <td>24.420000</td>\n      <td>0.000000e+00</td>\n      <td>23816.000000</td>\n      <td>73.400000</td>\n      <td>34.680000</td>\n      <td>29534.000000</td>\n      <td>11602.250000</td>\n      <td>12609.250000</td>\n      <td>...</td>\n      <td>305.00000</td>\n      <td>54.820000</td>\n      <td>41500.000000</td>\n      <td>56200.000000</td>\n      <td>213.250000</td>\n      <td>289.250000</td>\n      <td>364.000000</td>\n      <td>12.000000</td>\n      <td>0.000000</td>\n      <td>161.730000</td>\n    </tr>\n    <tr>\n      <th>50%</th>\n      <td>2.280300e+04</td>\n      <td>2.870000</td>\n      <td>26.780000</td>\n      <td>1.805000e+04</td>\n      <td>31417.500000</td>\n      <td>78.610000</td>\n      <td>42.850000</td>\n      <td>36671.000000</td>\n      <td>14098.500000</td>\n      <td>15071.500000</td>\n      <td>...</td>\n      <td>558.00000</td>\n      <td>62.810000</td>\n      <td>65500.000000</td>\n      <td>82800.000000</td>\n      <td>307.000000</td>\n      <td>397.000000</td>\n      <td>467.000000</td>\n      <td>12.800000</td>\n      <td>0.000000</td>\n      <td>374.070000</td>\n    </tr>\n    <tr>\n      <th>75%</th>\n      <td>4.304350e+04</td>\n      <td>11.157500</td>\n      <td>29.207500</td>\n      <td>4.193150e+04</td>\n      <td>41468.250000</td>\n      <td>84.020000</td>\n      <td>52.730000</td>\n      <td>46975.500000</td>\n      <td>17786.000000</td>\n      <td>18604.250000</td>\n      <td>...</td>\n      <td>1228.50000</td>\n      <td>72.600000</td>\n      <td>121475.000000</td>\n      <td>150475.000000</td>\n      <td>421.000000</td>\n      <td>544.000000</td>\n      <td>614.750000</td>\n      <td>13.700000</td>\n      <td>1.000000</td>\n      <td>794.410000</td>\n    </tr>\n    <tr>\n      <th>max</th>\n      <td>7.322564e+06</td>\n      <td>96.670000</td>\n      <td>70.510000</td>\n      <td>7.322564e+06</td>\n      <td>123625.000000</td>\n      <td>96.760000</td>\n      <td>89.040000</td>\n      <td>139008.000000</td>\n      <td>63302.000000</td>\n      <td>68850.000000</td>\n      <td>...</td>\n      <td>172768.00000</td>\n      <td>96.490000</td>\n      <td>500001.000000</td>\n      <td>500001.000000</td>\n      <td>1001.000000</td>\n      <td>1001.000000</td>\n      <td>1001.000000</td>\n      <td>23.400000</td>\n      <td>10447.000000</td>\n      <td>4877.060000</td>\n    </tr>\n  </tbody>\n</table>\n<p>8 rows × 34 columns</p>\n</div>"
     },
     "execution_count": 31,
     "metadata": {},
     "output_type": "execute_result"
    }
   ],
   "source": [
    "cols_final = ['population',\n",
    " 'racepctblack',\n",
    " 'agePct12t29',\n",
    " 'numbUrban',\n",
    " 'medIncome',\n",
    " 'pctWWage',\n",
    " 'pctWInvInc',\n",
    " 'medFamInc',\n",
    " 'perCapInc',\n",
    " 'whitePerCap',\n",
    " 'PctEmploy',\n",
    " 'MalePctDivorce',\n",
    " 'MalePctNevMarr',\n",
    " 'TotalPctDiv',\n",
    " 'PctKids2Par',\n",
    " 'PctWorkMom',\n",
    " 'NumImmig',\n",
    " 'PctRecImmig8',\n",
    " 'PctRecImmig10',\n",
    " 'PctLargHouseOccup',\n",
    " 'PersPerOccupHous',\n",
    " 'PersPerRentOccHous',\n",
    " 'PctPersOwnOccup',\n",
    " 'PctPersDenseHous',\n",
    " 'HousVacant',\n",
    " 'PctHousOwnOcc',\n",
    " 'OwnOccLowQuart',\n",
    " 'OwnOccMedVal',\n",
    " 'RentLowQ',\n",
    " 'RentMedian',\n",
    " 'MedRent',\n",
    " 'MedOwnCostPctIncNoMtg',\n",
    " 'NumStreet',\n",
    " 'ViolentCrimesPerPop']\n",
    "data.drop(data.columns.difference(cols_final), 1, inplace=True) # drop all columns that are not in required list\n",
    "data.describe()"
   ]
  },
  {
   "cell_type": "code",
   "metadata": {
    "pycharm": {
     "name": "#%%\n"
    }
   },
   "source": [
    "# Take a look at the outcome variable i.e. crime\n",
    "print(data['ViolentCrimesPerPop'].value_counts())\n",
    "\n",
    "# need to transform this outcome into 0 and 1's, 0 for low crime, 1 for high crime.\n",
    "# choose a suitable threshold based, < 2500 crimes is low crime, although this is subjective.\n",
    "data['ViolentCrimesPerPop'] = [0 if x < 795 else 1 for x in data['ViolentCrimesPerPop']]\n",
    "\n",
    "# Then need to split up the features and outcomes\n",
    "# So x as a data frame of features and y as a series of the outcome variable\n",
    "x = data.drop('ViolentCrimesPerPop', 1)\n",
    "y = data.ViolentCrimesPerPop\n",
    "\n",
    "\n",
    "print('variables', x.head(5))\n",
    "print('crime outcome', y.head(5))"
   ],
   "execution_count": 32,
   "outputs": [
    {
     "name": "stdout",
     "output_type": "stream",
     "text": [
      "223.06     3\n",
      "190.95     2\n",
      "103.33     2\n",
      "144.90     2\n",
      "624.31     2\n",
      "          ..\n",
      "369.24     1\n",
      "636.96     1\n",
      "1135.50    1\n",
      "1502.52    1\n",
      "112.50     1\n",
      "Name: ViolentCrimesPerPop, Length: 1972, dtype: int64\n",
      "variables    population  racepctblack  agePct12t29  numbUrban  medIncome  pctWWage  \\\n",
      "0       23123          0.80        21.30      23123      47917     78.99   \n",
      "1       29344          0.74        25.88      29344      35669     82.00   \n",
      "2       16656          1.70        25.20          0      20580     68.15   \n",
      "3       11245          0.53        40.53          0      17390     69.33   \n",
      "4      140494          2.51        32.89     140494      21577     75.78   \n",
      "\n",
      "   pctWInvInc  medFamInc  perCapInc  whitePerCap  ...  PctPersDenseHous  \\\n",
      "0       64.11      55323      20148        20191  ...              1.01   \n",
      "1       55.73      42112      16946        17103  ...              2.03   \n",
      "2       38.95      26501      10810        10909  ...              1.21   \n",
      "3       42.82      24018       8483         9009  ...              2.94   \n",
      "4       41.15      27705      11878        12029  ...              2.11   \n",
      "\n",
      "   HousVacant  PctHousOwnOcc  OwnOccLowQuart  OwnOccMedVal  RentLowQ  \\\n",
      "0         240          84.88          136300        164200       467   \n",
      "1         544          57.79           74700         90400       370   \n",
      "2         669          54.89           36400         49600       195   \n",
      "3         333          53.57           30600         43200       202   \n",
      "4        5119          55.50           37700         53900       215   \n",
      "\n",
      "   RentMedian  MedRent  MedOwnCostPctIncNoMtg  NumStreet  \n",
      "0         560      627                   12.5          0  \n",
      "1         428      484                   11.6          0  \n",
      "2         250      333                   14.5          0  \n",
      "3         283      332                   12.9          0  \n",
      "4         280      340                   11.7          4  \n",
      "\n",
      "[5 rows x 33 columns]\n",
      "crime outcome 0    0\n",
      "1    0\n",
      "2    0\n",
      "3    1\n",
      "4    0\n",
      "Name: ViolentCrimesPerPop, dtype: int64\n"
     ]
    }
   ]
  },
  {
   "cell_type": "code",
   "execution_count": 33,
   "metadata": {},
   "outputs": [
    {
     "name": "stdout",
     "output_type": "stream",
     "text": [
      "   population  racepctblack  agePct12t29  numbUrban  medIncome  pctWWage  \\\n",
      "0       23123          0.80        21.30      23123      47917     78.99   \n",
      "1       29344          0.74        25.88      29344      35669     82.00   \n",
      "2       16656          1.70        25.20          0      20580     68.15   \n",
      "3       11245          0.53        40.53          0      17390     69.33   \n",
      "4      140494          2.51        32.89     140494      21577     75.78   \n",
      "\n",
      "   pctWInvInc  medFamInc  perCapInc  whitePerCap  ...  HousVacant  \\\n",
      "0       64.11      55323      20148        20191  ...         240   \n",
      "1       55.73      42112      16946        17103  ...         544   \n",
      "2       38.95      26501      10810        10909  ...         669   \n",
      "3       42.82      24018       8483         9009  ...         333   \n",
      "4       41.15      27705      11878        12029  ...        5119   \n",
      "\n",
      "   PctHousOwnOcc  OwnOccLowQuart  OwnOccMedVal  RentLowQ  RentMedian  MedRent  \\\n",
      "0          84.88          136300        164200       467         560      627   \n",
      "1          57.79           74700         90400       370         428      484   \n",
      "2          54.89           36400         49600       195         250      333   \n",
      "3          53.57           30600         43200       202         283      332   \n",
      "4          55.50           37700         53900       215         280      340   \n",
      "\n",
      "   MedOwnCostPctIncNoMtg  NumStreet  ViolentCrimesPerPop  \n",
      "0                   12.5          0                    0  \n",
      "1                   11.6          0                    0  \n",
      "2                   14.5          0                    0  \n",
      "3                   12.9          0                    1  \n",
      "4                   11.7          4                    0  \n",
      "\n",
      "[5 rows x 34 columns]\n"
     ]
    }
   ],
   "source": [
    "# look at data again to see all variables and then y, the outcome, as 0s and 1s\n",
    "print(data.head(5))\n"
   ]
  },
  {
   "cell_type": "markdown",
   "metadata": {
    "pycharm": {
     "name": "#%% md\n"
    }
   },
   "source": [
    "**Data Cleaning**\n",
    "- Decide which categorical variables to use in the model\n",
    "\n",
    "Models can only handle numerical features, so dummy features are created to transform a categorical feature into a set of dummy features, each representing a unique category. In the set of dummy features, 1 indicates that the observation belongs in that category e.g. female would be 1, male 0.\n",
    "\n",
    "Dummy features dont have to be used for ones with low frequencies, instead, buckets can be used to bucket low frequency categories as 'other'."
   ]
  },
  {
   "cell_type": "code",
   "metadata": {
    "pycharm": {
     "name": "#%%\n"
    }
   },
   "source": [
    "\n",
    "# Use get_dummies in pandas (OR OneHotEncoder in scikit learn) to change categorical data to numerical\n",
    "# print(pd.get_dummies(x['communityname']).head(5))\n",
    "\n",
    "# Check how many unique categories there are\n",
    "for col_name in x.columns:\n",
    "    if x[col_name].dtypes == 'object':\n",
    "        unique_cat = len(x[col_name].unique())\n",
    "        print(\"Feature '{col_name}' has {unique_cat} unique categories\".format(\n",
    "            col_name=col_name, unique_cat=unique_cat))\n",
    "\n",
    "# THERE ARE NONE - so skip dummy coding"
   ],
   "execution_count": 34,
   "outputs": []
  },
  {
   "cell_type": "code",
   "execution_count": 35,
   "metadata": {},
   "outputs": [],
   "source": [
    "# select the features which are not numeric\n",
    "# todummy_list = ['state', 'communityname']\n",
    "\n",
    "# Dummy all categorical variables used. make them numeric and then missing values can be dealt with.\n",
    "# def dummy_df(data, todummy_list):\n",
    "#     for x in todummy_list:\n",
    "#         dummies = pd.get_dummies(data[x], prefix=x, dummy_na=False)\n",
    "#         data = data.drop(x, 1) # dropping the original feature\n",
    "#         data = pd.concat([data, dummies], axis=1) # adding the one to be used\n",
    "#     return data\n",
    "#\n",
    "# x = dummy_df(x, todummy_list)\n",
    "# print(x.head(5))"
   ]
  },
  {
   "cell_type": "markdown",
   "metadata": {
    "pycharm": {
     "name": "#%% md\n"
    }
   },
   "source": [
    "**Removing items with missing data**\n",
    "\n",
    "Models can't handle missing data, so features with missing data should be removed. Removing data can cause issues if the data is randomly missing because it can cause the loss of a lot of data. However, greater issues arise from removing data if the data is randomly as well as non-randomly missing because this makes it no longer representative of the whole population and can introduce potential biases.\n",
    "\n",
    "Imputation can be used to replace missing values with another value i.e. the mean, median or highest frequency of a given feature."
   ]
  },
  {
   "cell_type": "code",
   "execution_count": 36,
   "metadata": {},
   "outputs": [],
   "source": [
    "# Remove missing values\n",
    "# First establish how much data is missing\n",
    "x.isnull().sum().sort_values(ascending=False).head()\n",
    "\n",
    "# Impute the missing values using SimpleImputer in sklearn.impute\n",
    "imp = SimpleImputer(missing_values=np.nan, strategy='mean')\n",
    "imp.fit(x)\n",
    "x = pd.DataFrame(data=imp.transform(x), columns=x.columns)"
   ]
  },
  {
   "cell_type": "code",
   "metadata": {
    "pycharm": {
     "name": "#%%\n"
    }
   },
   "source": [
    "# Check if there is still missing data\n",
    "x.isnull().sum().sort_values(ascending=False).head()"
   ],
   "execution_count": 37,
   "outputs": [
    {
     "data": {
      "text/plain": "NumStreet       0\nPctWorkMom      0\nracepctblack    0\nagePct12t29     0\nnumbUrban       0\ndtype: int64"
     },
     "execution_count": 37,
     "metadata": {},
     "output_type": "execute_result"
    }
   ]
  },
  {
   "cell_type": "markdown",
   "metadata": {
    "pycharm": {
     "name": "#%% md\n"
    }
   },
   "source": [
    "**Outlier Detection**\n",
    "\n",
    "An outlier = an observation that deviates drastically from other values in the dataset. Decision trees are robust to outliers because they isolate them in small regions of the feature space. Since the prediction for each leaf is the average (for regression), being isolated in seperate leaves, outliers won't influence the rest of the predictions/ impact the mean of the other leaves.\n",
    "\n",
    "Natural vs error:\n",
    "- Naturally occuring error, although not problematic, can skew the model by affecting the slope\n",
    "- Error is indicative of data quality issues, therefore it it not information that should be used in the model. Imputation can be used to deal with these erroneous values (the same way as dealing with missing data).\n",
    "\n",
    "Methods of outlier detection include Kernel density estimation or Tukey IQR.\n",
    "\n",
    "1. Tukey IQR\n",
    "Identifies extreme values in the data and is favourable to using standard deviation from the mean to detect outliers because Tukey doesn't make assumptions about normality and is less sensitive to extreme values.\n",
    "\n",
    "(Interquartile ranges). To find most most extreme values, use a diff multiplier to 1.5.\n",
    "\n",
    "Q1-1.5(Q3-Q1) or above Q3+1.5(Q3-Q1)\n",
    "\n",
    "One limitation of Tukey IQR outlier detection is that it does not capture outliers in a bimodal distribution, but rather extreme values, like Kernal Density Estimation can."
   ]
  },
  {
   "cell_type": "code",
   "metadata": {
    "pycharm": {
     "name": "#%%\n"
    }
   },
   "source": [
    "# find outliers using Tukey IQR\n",
    "def find_outliers_tukey(x):\n",
    "    q1 = np.percentile(x, 25)\n",
    "    q3 = np.percentile(x, 75)\n",
    "    iqr = q3-q1\n",
    "    floor = q1 - 1.5*iqr # The floor = less than the first quartile minus the IQR.\n",
    "    ceiling = q3 + 1.5*iqr # The ceiling = more than the third quartile plus the IQR.\n",
    "    outlier_indices = list(x.index[(x < floor) | (x > ceiling)]) # If the value is below the floor, or above the ceiling, it is an outlier\n",
    "    outlier_values = list(x[outlier_indices]) # indices to access these data points later\n",
    "\n",
    "    return outlier_indices, outlier_values\n",
    "\n",
    "# for example, check the outliers for ‘medIncome’\n",
    "tukey_indices, tukey_values = find_outliers_tukey(x['medIncome'])\n",
    "print(np.sort(tukey_values))\n",
    "\n",
    "# tukey_list = []\n",
    "# for column in x:\n",
    "#     tukey_indices, tukey_values = find_outliers_tukey(x[column])\n",
    "#     tukey_list.append(tukey_values) # We need ID though\n",
    "\n",
    "# NOTE: What are we going to do with outliers?"
   ],
   "execution_count": 38,
   "outputs": [
    {
     "name": "stdout",
     "output_type": "stream",
     "text": [
      "[ 68654.  68742.  69019.  69695.  69904.  69917.  70000.  70039.  70287.\n",
      "  70919.  71274.  71905.  71996.  72369.  74124.  74401.  74472.  74825.\n",
      "  75221.  75905.  76907.  77530.  78965.  79092.  79579.  79797.  80968.\n",
      "  81957.  83275.  83975.  84441.  84498.  86674.  87686.  89395.  91951.\n",
      "  95134. 100077. 101320. 110550. 118456. 123625.]\n"
     ]
    }
   ]
  },
  {
   "cell_type": "markdown",
   "metadata": {
    "pycharm": {
     "name": "#%% md\n"
    }
   },
   "source": [
    "**Distribution of Features**\n",
    "- Plotting frequency histograms to show the distribution of a given feature."
   ]
  },
  {
   "cell_type": "code",
   "execution_count": 39,
   "metadata": {},
   "outputs": [
    {
     "data": {
      "text/plain": "<Figure size 432x288 with 1 Axes>",
      "image/png": "[encoded data removed]"
     },
     "metadata": {
      "needs_background": "light"
     },
     "output_type": "display_data"
    }
   ],
   "source": [
    "# plot histograms using matplotlib\n",
    "def histo_plot(x):\n",
    "    plt.hist(x,color='red', alpha=0.5)\n",
    "    plt.title(\"'{var_name}' Histogram\".format(var_name=x.name))\n",
    "    plt.ylabel(\"Freq\")\n",
    "    plt.xlabel(\"Value\")\n",
    "    plt.show()\n",
    "\n",
    "# plot histograms to show the distributions of given features\n",
    "# for column in x: # Get all variable distributions\n",
    "#     histo_plot(x[column])\n",
    "histo_plot(x['medIncome'])"
   ]
  },
  {
   "cell_type": "code",
   "metadata": {
    "pycharm": {
     "name": "#%%\n"
    }
   },
   "source": [
    "# histograms showing the distribution of features by the outcome variable (dependent variable)\n",
    "def histogram_dv(a, b):\n",
    "    plt.hist(list(a[b==0]), alpha=0.5, label='DV=0')\n",
    "    plt.hist(list(a[b==1]), alpha=0.5, label='DV=1')\n",
    "    plt.title(\"'{var_name}' Histogram by DV Category\".format(var_name=a.name))\n",
    "    plt.ylabel(\"Freq\")\n",
    "    plt.xlabel(\"Value\")\n",
    "    plt.legend(loc='upper right')\n",
    "    plt.show()\n",
    "\n",
    "# these show the distribution of a feature when the outcome is 0, so crime is less than .../none\n",
    "# for column in x: # Get all variable distributions\n",
    "#     histogram_dv(x[column], y)\n",
    "histogram_dv(x['medIncome'], y)"
   ],
   "execution_count": 40,
   "outputs": [
    {
     "data": {
      "text/plain": "<Figure size 432x288 with 1 Axes>",
      "image/png": "[encoded data removed]"
     },
     "metadata": {
      "needs_background": "light"
     },
     "output_type": "display_data"
    }
   ]
  },
  {
   "cell_type": "markdown",
   "metadata": {
    "pycharm": {
     "name": "#%% md\n"
    }
   },
   "source": [
    "**Feature Engineering**\n",
    "\n",
    "Either 1. increase the dimensionality or 2. decrease the dimentionality\n",
    "\n",
    "1. Increasing Dimensionality\n",
    "= creating new features. This is useful if the impact of two or more features on the outcome is non-additive. A good automated way to do this is to look for interactions between features.\n",
    "\n",
    "e.g. a simple 2-way interaction (where X3 is the interaction between X1 and X2):\n",
    "\n",
    "X3-X1 * X2\n",
    "\n",
    "However, with lots of features, this grows the data A LOT. Therefore, it is better t use domain knowledge about certain interactions between features so that there aren't too many interaction terms.\n",
    "\n",
    "Dimensionality has benefits because information is added, however, it is computationally costly i.e. inefficient and also has the potential for overfitting the model. So it is a trade off between creating new useful information vs the potential for overfitting plus the computational cost."
   ]
  },
  {
   "cell_type": "code",
   "metadata": {
    "pycharm": {
     "name": "#%%\n"
    }
   },
   "source": [
    "# polynomialFeatures in sklearn.preprocessing to create two-way interactions for ALL features\n",
    "# from itertools import combinations\n",
    "# from sklearn.preprocessing import PolynomialFeatures\n",
    "\n",
    "# def add_interactions(df):\n",
    "#     # get feature names\n",
    "#     combos = list(combinations(list(df.columns),2))\n",
    "#     colnames = list(df.columns) + ['_'.join(x) for x in combos]\n",
    "#\n",
    "#     # establish the interactions in the data\n",
    "#     poly = PolynomialFeatures(interaction_only=True, include_bias=False)\n",
    "#     df = poly.fit_transform(df)\n",
    "#     df = pd.DataFrame(df)\n",
    "#     df.columns = colnames\n",
    "#\n",
    "#     # remove the interactions with 0 values\n",
    "#     noint_indicies = [i for i, x in enumerate(list((df == 0).all())) if x]\n",
    "#     df = df.drop(df.columns[noint_indicies], axis=1)\n",
    "#\n",
    "#     return df\n",
    "#\n",
    "# x = add_interactions(x)\n",
    "# print(x.head(5))\n",
    "\n",
    "# NOTE: maybe better if two way interactions are created only for SOME features, bc the data set is so large. Way too computationally slow.\n",
    "# NOTE: maybe select the most significantly correlated interactions from this set?"
   ],
   "execution_count": 41,
   "outputs": []
  },
  {
   "cell_type": "markdown",
   "metadata": {
    "pycharm": {
     "name": "#%% md\n"
    }
   },
   "source": [
    "2. Decreasing dimensionality\n",
    "\n",
    "Using principal component analysis(PCA), a method that transforms a dataset with many features into its principle components that best summarise the underlying variance in the data.\n",
    "\n",
    "Each ‘principle component’ is  established by finding the linear combination of features that maximises variance, whilst also ensuring zero correlation with previously calculated principal components.\n",
    "\n",
    "PCA/ decreasing dimensionality is useful when you have very high-dimensionality data, in order to reduce dimensions, when the dataset has many highly correlated variables because it will take the variance from these to reduce this correlation and when there is poor observation-to-feature ratio.\n",
    "\n",
    "However, using dimensionality reduction makes the data harder to interpret and understand because the output gives arbitrary principle components, e.g. for interpreting the outcome, principle component number 1 is not as easy to interpret as medIncome. Therefore, in certain contexts, like explaining the results to a client, this would make it difficult to explain the drivers of the target outcome variable."
   ]
  },
  {
   "cell_type": "code",
   "metadata": {
    "pycharm": {
     "name": "#%%\n"
    }
   },
   "source": [
    "# # Using sklearn.decomposition PCA to find the principal components\n",
    "# from sklearn.decomposition import PCA\n",
    "#\n",
    "# # transform entire data set into 10 features\n",
    "# pca = PCA(n_components=10)\n",
    "# x_pca = pd.DataFrame(pca.fit_transform(x))\n",
    "#\n",
    "# print(x_pca.head(5))\n",
    "\n",
    "# NOTE: maybe we should leave dimensionality out of the code, but mention it in the report?"
   ],
   "execution_count": 42,
   "outputs": []
  },
  {
   "cell_type": "markdown",
   "source": [
    "**End data processing**"
   ],
   "metadata": {
    "collapsed": false,
    "pycharm": {
     "name": "#%% md\n"
    }
   }
  }
 ],
 "metadata": {
  "kernelspec": {
   "name": "python3",
   "language": "python",
   "display_name": "Python 3"
  },
  "language_info": {
   "codemirror_mode": {
    "name": "ipython",
    "version": 3
   },
   "file_extension": ".py",
   "mimetype": "text/x-python",
   "name": "python",
   "nbconvert_exporter": "python",
   "pygments_lexer": "ipython3",
   "version": "3.9.1"
  }
 },
 "nbformat": 4,
 "nbformat_minor": 4
}