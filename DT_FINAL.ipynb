{
 "cells": [
  {
   "cell_type": "code",
   "execution_count": 13,
   "id": "editorial-parts",
   "metadata": {},
   "outputs": [
    {
     "name": "stdout",
     "output_type": "stream",
     "text": [
      "      communityname state  countyCode  communityCode  fold  population  \\\n",
      "0    Marpletownship    PA        45.0        47616.0     1       23123   \n",
      "1        Tigardcity    OR         NaN            NaN     1       29344   \n",
      "2  Gloversvillecity    NY        35.0        29443.0     1       16656   \n",
      "3       Bemidjicity    MN         7.0         5068.0     1       11245   \n",
      "4   Springfieldcity    MO         NaN            NaN     1      140494   \n",
      "\n",
      "   householdsize  racepctblack  racePctWhite  racePctAsian  ...  burglaries  \\\n",
      "0           2.82          0.80         95.57          3.44  ...        57.0   \n",
      "1           2.43          0.74         94.33          3.43  ...       274.0   \n",
      "2           2.40          1.70         97.35          0.50  ...       225.0   \n",
      "3           2.76          0.53         89.16          1.17  ...        91.0   \n",
      "4           2.45          2.51         95.65          0.90  ...      2094.0   \n",
      "\n",
      "   burglPerPop  larcenies  larcPerPop  autoTheft  autoTheftPerPop  arsons  \\\n",
      "0       242.37      376.0     1598.78       26.0           110.55     1.0   \n",
      "1       758.14     1797.0     4972.19      136.0           376.30    22.0   \n",
      "2      1301.78      716.0     4142.56       47.0           271.93     NaN   \n",
      "3       728.93     1060.0     8490.87       91.0           728.93     5.0   \n",
      "4      1386.46     7690.0     5091.64      454.0           300.60   134.0   \n",
      "\n",
      "   arsonsPerPop  ViolentCrimesPerPop  nonViolPerPop  \n",
      "0          4.25               127.56        1955.95  \n",
      "1         60.87               218.59        6167.51  \n",
      "2           NaN               306.64            NaN  \n",
      "3         40.05                  NaN        9988.79  \n",
      "4         88.72               442.95        6867.42  \n",
      "\n",
      "[5 rows x 147 columns]\n",
      "4877.06\n"
     ]
    },
    {
     "data": {
      "image/png": "[encoded data removed]",
      "text/plain": [
       "<Figure size 432x288 with 1 Axes>"
      ]
     },
     "metadata": {
      "needs_background": "light"
     },
     "output_type": "display_data"
    },
    {
     "name": "stdout",
     "output_type": "stream",
     "text": [
      "223.06     3\n",
      "624.31     2\n",
      "115.14     2\n",
      "28.45      2\n",
      "84.88      2\n",
      "          ..\n",
      "116.10     1\n",
      "280.44     1\n",
      "154.77     1\n",
      "974.36     1\n",
      "2089.32    1\n",
      "Name: ViolentCrimesPerPop, Length: 1972, dtype: int64\n",
      "variables    population  householdsize  racepctblack  racePctWhite  racePctAsian  \\\n",
      "0       23123           2.82          0.80         95.57          3.44   \n",
      "1       29344           2.43          0.74         94.33          3.43   \n",
      "2       16656           2.40          1.70         97.35          0.50   \n",
      "3       11245           2.76          0.53         89.16          1.17   \n",
      "4      140494           2.45          2.51         95.65          0.90   \n",
      "\n",
      "   racePctHisp  agePct12t21  agePct12t29  agePct16t24  agePct65up  ...  \\\n",
      "0         0.85        11.01        21.30        10.48       17.18  ...   \n",
      "1         2.35        11.36        25.88        11.01       10.28  ...   \n",
      "2         0.70        12.55        25.20        12.19       17.57  ...   \n",
      "3         0.52        24.46        40.53        28.69       12.65  ...   \n",
      "4         0.95        18.09        32.89        20.04       13.26  ...   \n",
      "\n",
      "   PctForeignBorn  PctBornSameState  PctSameHouse85  PctSameCity85  \\\n",
      "0            8.30             77.17           71.27          90.22   \n",
      "1            5.00             44.77           36.60          61.26   \n",
      "2            2.04             88.71           56.70          90.17   \n",
      "3            1.74             73.75           42.22          60.34   \n",
      "4            1.49             64.35           42.29          70.61   \n",
      "\n",
      "   PctSameState85  LandArea  PopDens  PctUsePubTrans  LemasPctOfficDrugUn  \\\n",
      "0           96.12      10.6   2186.7            3.84                  0.0   \n",
      "1           82.85      10.6   2780.9            4.37                  0.0   \n",
      "2           96.24       5.2   3217.7            3.31                  0.0   \n",
      "3           89.02      11.5    974.2            0.38                  0.0   \n",
      "4           85.66      70.4   1995.7            0.97                  0.0   \n",
      "\n",
      "   murders  \n",
      "0        0  \n",
      "1        3  \n",
      "2        0  \n",
      "3        0  \n",
      "4        7  \n",
      "\n",
      "[5 rows x 103 columns]\n",
      "crime outcome 0    0\n",
      "1    0\n",
      "2    0\n",
      "3    1\n",
      "4    0\n",
      "Name: ViolentCrimesPerPop, dtype: int64\n",
      "   population  householdsize  racepctblack  racePctWhite  racePctAsian  \\\n",
      "0       23123           2.82          0.80         95.57          3.44   \n",
      "1       29344           2.43          0.74         94.33          3.43   \n",
      "2       16656           2.40          1.70         97.35          0.50   \n",
      "3       11245           2.76          0.53         89.16          1.17   \n",
      "4      140494           2.45          2.51         95.65          0.90   \n",
      "\n",
      "   racePctHisp  agePct12t21  agePct12t29  agePct16t24  agePct65up  ...  \\\n",
      "0         0.85        11.01        21.30        10.48       17.18  ...   \n",
      "1         2.35        11.36        25.88        11.01       10.28  ...   \n",
      "2         0.70        12.55        25.20        12.19       17.57  ...   \n",
      "3         0.52        24.46        40.53        28.69       12.65  ...   \n",
      "4         0.95        18.09        32.89        20.04       13.26  ...   \n",
      "\n",
      "   PctBornSameState  PctSameHouse85  PctSameCity85  PctSameState85  LandArea  \\\n",
      "0             77.17           71.27          90.22           96.12      10.6   \n",
      "1             44.77           36.60          61.26           82.85      10.6   \n",
      "2             88.71           56.70          90.17           96.24       5.2   \n",
      "3             73.75           42.22          60.34           89.02      11.5   \n",
      "4             64.35           42.29          70.61           85.66      70.4   \n",
      "\n",
      "   PopDens  PctUsePubTrans  LemasPctOfficDrugUn  murders  ViolentCrimesPerPop  \n",
      "0   2186.7            3.84                  0.0        0                    0  \n",
      "1   2780.9            4.37                  0.0        3                    0  \n",
      "2   3217.7            3.31                  0.0        0                    0  \n",
      "3    974.2            0.38                  0.0        0                    1  \n",
      "4   1995.7            0.97                  0.0        7                    0  \n",
      "\n",
      "[5 rows x 104 columns]\n",
      "[ 68654.  68742.  69019.  69695.  69904.  69917.  70000.  70039.  70287.\n",
      "  70919.  71274.  71905.  71996.  72369.  74124.  74401.  74472.  74825.\n",
      "  75221.  75905.  76907.  77530.  78965.  79092.  79579.  79797.  80968.\n",
      "  81957.  83275.  83975.  84441.  84498.  86674.  87686.  89395.  91951.\n",
      "  95134. 100077. 101320. 110550. 118456. 123625.]\n"
     ]
    },
    {
     "data": {
      "image/png": "[encoded data removed]",
      "text/plain": [
       "<Figure size 432x288 with 1 Axes>"
      ]
     },
     "metadata": {
      "needs_background": "light"
     },
     "output_type": "display_data"
    },
    {
     "data": {
      "image/png": "[encoded data removed]",
      "text/plain": [
       "<Figure size 432x288 with 1 Axes>"
      ]
     },
     "metadata": {
      "needs_background": "light"
     },
     "output_type": "display_data"
    }
   ],
   "source": [
    "%run Preprocessing.ipynb"
   ]
  },
  {
   "cell_type": "code",
   "execution_count": 28,
   "id": "theoretical-official",
   "metadata": {
    "pycharm": {
     "name": "#%%\n"
    }
   },
   "outputs": [],
   "source": [
    "# Import packages\n",
    "import sklearn.feature_selection\n",
    "from sklearn.tree import DecisionTreeClassifier\n",
    "from sklearn import tree\n",
    "from sklearn import metrics\n",
    "from sklearn.model_selection import GridSearchCV # RandomizedSearchCV\n",
    "from sklearn.metrics import accuracy_score,confusion_matrix\n",
    "import seaborn as sns\n",
    "import pandas as pd"
   ]
  },
  {
   "cell_type": "code",
   "execution_count": 15,
   "id": "accessory-pulse",
   "metadata": {
    "pycharm": {
     "name": "#%%\n"
    }
   },
   "outputs": [
    {
     "name": "stdout",
     "output_type": "stream",
     "text": [
      "(2214, 104)\n",
      "(2214, 103)\n"
     ]
    }
   ],
   "source": [
    "# Split the data into training and test data sets using sklearn.model_selection\n",
    "from sklearn.model_selection import train_test_split\n",
    "\n",
    "x_train, x_test, y_train, y_test = train_test_split(x, y, train_size=0.70, random_state=1)\n",
    "\n",
    "# check the dataset to see how much the dataset has grown (if dimenstionality was increased)\n",
    "print(data.shape)\n",
    "print(x.shape)"
   ]
  },
  {
   "cell_type": "markdown",
   "id": "english-stereo",
   "metadata": {},
   "source": [
    "**Feature Selection**\n",
    "- Build the model using the pre-processed data\n",
    "\n",
    "In order to avoid overfitting and slow computing (due to the increase in features from dummying as well as increasing dimensionality), selecting the most important features is important. \n"
   ]
  },
  {
   "cell_type": "code",
   "execution_count": 16,
   "id": "conscious-orbit",
   "metadata": {
    "scrolled": true
   },
   "outputs": [
    {
     "data": {
      "text/plain": [
       "['racepctblack',\n",
       " 'racePctWhite',\n",
       " 'pctWInvInc',\n",
       " 'pctWPubAsst',\n",
       " 'PctPopUnderPov',\n",
       " 'PctNotHSGrad',\n",
       " 'PctUnemployed',\n",
       " 'MalePctDivorce',\n",
       " 'FemalePctDiv',\n",
       " 'TotalPctDiv',\n",
       " 'PctFam2Par',\n",
       " 'PctKids2Par',\n",
       " 'PctYoungKids2Par',\n",
       " 'PctTeen2Par',\n",
       " 'PctKidsBornNeverMar',\n",
       " 'PctLargHouseFam',\n",
       " 'PctPersOwnOccup',\n",
       " 'PctPersDenseHous',\n",
       " 'PctVacantBoarded',\n",
       " 'PctHousNoPhone']"
      ]
     },
     "execution_count": 16,
     "metadata": {},
     "output_type": "execute_result"
    }
   ],
   "source": [
    "# select k best is a univariate method for feature selection:\n",
    "# looks at the outcome and the relationship with each feature and selects k number of best features \n",
    "select = sklearn.feature_selection.SelectKBest(k=20)\n",
    "selected_features = select.fit(x_train, y_train)\n",
    "indices_selected = selected_features.get_support(indices=True)\n",
    "colnames_selected = [x.columns[I] for I in indices_selected]\n",
    "\n",
    "x_train_selected = x_train[colnames_selected]\n",
    "x_test_selected = x_test[colnames_selected]\n",
    "\n",
    "colnames_selected # 20 features selected"
   ]
  },
  {
   "cell_type": "markdown",
   "id": "fifteen-woman",
   "metadata": {
    "pycharm": {
     "name": "#%% md\n"
    },
    "scrolled": false
   },
   "source": [
    "**Build Decision tree #1**\n",
    "\n",
    "Firstly, we create a basic DecisionTreeClassifier, and then will slowly tune the parameters, firstly, we need to look at the max depth. The cell below will calcaulate the accuracy score for a max depth up to *n*. This is then plotted in a bar graph."
   ]
  },
  {
   "cell_type": "code",
   "execution_count": 65,
   "id": "turkish-buffalo",
   "metadata": {
    "pycharm": {
     "name": "#%%\n"
    }
   },
   "outputs": [],
   "source": [
    "# Max depth hyper parameter choice plot\n",
    "def max_depth(n):\n",
    "    scores = {}\n",
    "    for i in range(3, n):\n",
    "        dtree = DecisionTreeClassifier(criterion='gini', max_depth=i)  # use the entropy rather than gini index\n",
    "        dtree = dtree.fit(x_train, y_train)\n",
    "        #tree.plot_tree(dtree, feature_names=data.columns) \n",
    "\n",
    "        # model can then be used to predict !\n",
    "        # crime_predict = dtree.predict([[0,1]])\n",
    "\n",
    "        # Assess accuracy at this stage\n",
    "        clf = DecisionTreeClassifier()  # Create Decision Tree classifer object\n",
    "        clf = clf.fit(x_train,y_train)  # Train Decision Tree Classifer\n",
    "        y_pred = clf.predict(x_test)  # Predict the response for test dataset\n",
    "        #print(i, \"max_depth::\", \"Accuracy:\",metrics.accuracy_score(y_test, y_pred))\n",
    "        j = str(i)\n",
    "        depth_score = {j: metrics.accuracy_score(y_test, y_pred)}\n",
    "        scores.update(depth_score)\n",
    "    return scores\n",
    "d = max_depth(10)\n",
    "import matplotlib.pyplot as plt\n",
    "colors = list(\"rgbcmyk\")\n",
    "\n",
    "for key in d:\n",
    "    plt.bar([key], d[key], label=key)\n",
    "\n",
    "plt.title('Max Depth vs Test Data Accuracy')\n",
    "plt.xlabel('Max Depth')\n",
    "plt.ylabel('Accuracy')\n",
    "plt.ylim(0.675, 0.750)\n",
    "plt.show()"
   ]
  },
  {
   "cell_type": "markdown",
   "id": "jewish-stomach",
   "metadata": {},
   "source": [
    "For this dataset, we have shown that the best "
   ]
  },
  {
   "cell_type": "code",
   "execution_count": 73,
   "id": "several-eating",
   "metadata": {},
   "outputs": [
    {
     "name": "stdout",
     "output_type": "stream",
     "text": [
      "Accuracy: 0.7172932330827068\n"
     ]
    }
   ],
   "source": [
    "dtree = DecisionTreeClassifier(criterion='gini', max_depth=5)  # use the entropy rather than gini index\n",
    "dtree = dtree.fit(x_train, y_train)\n",
    "#tree.plot_tree(dtree, feature_names=data.columns) \n",
    "\n",
    "# model can then be used to predict !\n",
    "# crime_predict = dtree.predict([[0,1]])\n",
    "\n",
    "# Assess accuracy at this stage\n",
    "clf = DecisionTreeClassifier()  # Create Decision Tree classifer object\n",
    "clf = clf.fit(x_train,y_train)  # Train Decision Tree Classifer\n",
    "y_pred = clf.predict(x_test)  # Predict the response for test dataset\n",
    "print(\"Accuracy:\",metrics.accuracy_score(y_test, y_pred))"
   ]
  },
  {
   "cell_type": "code",
   "execution_count": 83,
   "id": "accessory-habitat",
   "metadata": {
    "scrolled": false
   },
   "outputs": [
    {
     "name": "stdout",
     "output_type": "stream",
     "text": [
      "Fold:1, Train set: 1771, Test set:443\n",
      "Fold:2, Train set: 1771, Test set:443\n",
      "Fold:3, Train set: 1771, Test set:443\n",
      "Fold:4, Train set: 1771, Test set:443\n",
      "Fold:5, Train set: 1772, Test set:442\n"
     ]
    }
   ],
   "source": [
    "from sklearn.model_selection import KFold, StratifiedKFold, cross_val_score\n",
    "kf =KFold(n_splits=5, shuffle=True, random_state=42)\n",
    "\n",
    "cnt = 1\n",
    "# split()  method generate indices to split data into training and test set.\n",
    "for train_index, test_index in kf.split(x, y):\n",
    "    print(f'Fold:{cnt}, Train set: {len(train_index)}, Test set:{len(test_index)}')\n",
    "    cnt += 1"
   ]
  },
  {
   "cell_type": "code",
   "execution_count": 95,
   "id": "parliamentary-humor",
   "metadata": {},
   "outputs": [
    {
     "data": {
      "image/png": "[encoded data removed]",
      "text/plain": [
       "<Figure size 432x288 with 1 Axes>"
      ]
     },
     "metadata": {
      "needs_background": "light"
     },
     "output_type": "display_data"
    }
   ],
   "source": [
    "kfold_scores = {}\n",
    "for i in range(2,12):\n",
    "    kf =KFold(n_splits=i, shuffle=True, random_state=42)\n",
    "    score = cross_val_score(tree.DecisionTreeClassifier(criterion='gini', max_depth=5), x, y, cv= kf, scoring=\"accuracy\")\n",
    "    #print(f'Scores for each fold are: {score}')\n",
    "    #print(f'Number of folds = {i} Average score: {\"{:.2f}\".format(score.mean())}')\n",
    "    res = {str(i): score.mean()}\n",
    "    kfold_scores.update(res)\n",
    "\n",
    "for key in kfold_scores:\n",
    "    plt.bar([key], kfold_scores[key], label=key)\n",
    "\n",
    "plt.title('K-Fold vs Test Data Accuracy')\n",
    "plt.xlabel('K')\n",
    "plt.ylabel('Accuracy')\n",
    "plt.ylim(0.7, 0.8)\n",
    "plt.show()"
   ]
  },
  {
   "cell_type": "code",
   "execution_count": 101,
   "id": "sacred-malta",
   "metadata": {},
   "outputs": [
    {
     "name": "stdout",
     "output_type": "stream",
     "text": [
      "Scores for each fold are: [0.75709779 0.81072555 0.76582278 0.80696203 0.79113924 0.79746835\n",
      " 0.7721519 ]\n",
      "Average score: 0.79\n"
     ]
    }
   ],
   "source": [
    "kf =KFold(n_splits=7, shuffle=True, random_state=42)\n",
    "score = cross_val_score(tree.DecisionTreeClassifier(criterion='gini', max_depth=5), x, y, cv= kf, scoring=\"accuracy\")\n",
    "print(f'Scores for each fold are: {score}')\n",
    "print(f'Average score: {\"{:.2f}\".format(score.mean())}')"
   ]
  },
  {
   "cell_type": "code",
   "execution_count": 81,
   "id": "amended-protection",
   "metadata": {},
   "outputs": [
    {
     "ename": "ModuleNotFoundError",
     "evalue": "No module named 'sklearn.cross_validation'",
     "output_type": "error",
     "traceback": [
      "\u001b[1;31m---------------------------------------------------------------------------\u001b[0m",
      "\u001b[1;31mModuleNotFoundError\u001b[0m                       Traceback (most recent call last)",
      "\u001b[1;32m<ipython-input-81-05981a7cf986>\u001b[0m in \u001b[0;36m<module>\u001b[1;34m\u001b[0m\n\u001b[1;32m----> 1\u001b[1;33m \u001b[1;32mfrom\u001b[0m \u001b[0msklearn\u001b[0m\u001b[1;33m.\u001b[0m\u001b[0mcross_validation\u001b[0m \u001b[1;32mimport\u001b[0m \u001b[0mcross_val_score\u001b[0m\u001b[1;33m\u001b[0m\u001b[1;33m\u001b[0m\u001b[0m\n\u001b[0m\u001b[0;32m      2\u001b[0m \u001b[1;33m\u001b[0m\u001b[0m\n\u001b[0;32m      3\u001b[0m \u001b[0mkf\u001b[0m \u001b[1;33m=\u001b[0m\u001b[0mKFold\u001b[0m\u001b[1;33m(\u001b[0m\u001b[0mn_splits\u001b[0m\u001b[1;33m=\u001b[0m\u001b[1;36m5\u001b[0m\u001b[1;33m,\u001b[0m \u001b[0mshuffle\u001b[0m\u001b[1;33m=\u001b[0m\u001b[1;32mTrue\u001b[0m\u001b[1;33m,\u001b[0m \u001b[0mrandom_state\u001b[0m\u001b[1;33m=\u001b[0m\u001b[1;36m42\u001b[0m\u001b[1;33m)\u001b[0m\u001b[1;33m\u001b[0m\u001b[1;33m\u001b[0m\u001b[0m\n\u001b[0;32m      4\u001b[0m \u001b[1;33m\u001b[0m\u001b[0m\n\u001b[0;32m      5\u001b[0m \u001b[1;31m# x_train,x_test,y_train,y_test = cross_validation.train_test_split(x,y,test_size=0.4,random_state=0)\u001b[0m\u001b[1;33m\u001b[0m\u001b[1;33m\u001b[0m\u001b[1;33m\u001b[0m\u001b[0m\n",
      "\u001b[1;31mModuleNotFoundError\u001b[0m: No module named 'sklearn.cross_validation'"
     ]
    }
   ],
   "source": [
    "from sklearn.cross_validation import cross_val_score\n",
    "\n",
    "kf =KFold(n_splits=5, shuffle=True, random_state=42)\n",
    "\n",
    "# x_train,x_test,y_train,y_test = cross_validation.train_test_split(x,y,test_size=0.4,random_state=0)\n",
    "depth = []\n",
    "for i in range(3,20):\n",
    "    clf = tree.DecisionTreeClassifier(max_depth=i)\n",
    "    # Perform 7-fold cross validation \n",
    "    scores = cross_val_score(estimator=clf, X=x, y=y, cv=7, n_jobs=4)\n",
    "    depth.append((i,scores.mean()))\n",
    "print(depth)"
   ]
  },
  {
   "cell_type": "code",
   "execution_count": 8,
   "id": "democratic-soldier",
   "metadata": {},
   "outputs": [
    {
     "ename": "NameError",
     "evalue": "name 'x' is not defined",
     "output_type": "error",
     "traceback": [
      "\u001b[1;31m---------------------------------------------------------------------------\u001b[0m",
      "\u001b[1;31mNameError\u001b[0m                                 Traceback (most recent call last)",
      "\u001b[1;32m<ipython-input-8-99bb44d20921>\u001b[0m in \u001b[0;36m<module>\u001b[1;34m\u001b[0m\n\u001b[0;32m      5\u001b[0m     \u001b[1;32mreturn\u001b[0m \u001b[0mmodel\u001b[0m\u001b[1;33m.\u001b[0m\u001b[0mscore\u001b[0m\u001b[1;33m(\u001b[0m\u001b[0mX_test\u001b[0m\u001b[1;33m,\u001b[0m \u001b[0my_test\u001b[0m\u001b[1;33m)\u001b[0m\u001b[1;33m\u001b[0m\u001b[1;33m\u001b[0m\u001b[0m\n\u001b[0;32m      6\u001b[0m \u001b[1;33m\u001b[0m\u001b[0m\n\u001b[1;32m----> 7\u001b[1;33m \u001b[1;32mfor\u001b[0m \u001b[0mtrain_index\u001b[0m\u001b[1;33m,\u001b[0m \u001b[0mtest_index\u001b[0m \u001b[1;32min\u001b[0m \u001b[0mfolds\u001b[0m\u001b[1;33m.\u001b[0m\u001b[0msplit\u001b[0m\u001b[1;33m(\u001b[0m\u001b[0mx\u001b[0m\u001b[1;33m,\u001b[0m \u001b[0my\u001b[0m\u001b[1;33m)\u001b[0m\u001b[1;33m:\u001b[0m\u001b[1;33m\u001b[0m\u001b[1;33m\u001b[0m\u001b[0m\n\u001b[0m\u001b[0;32m      8\u001b[0m     \u001b[0mX_train\u001b[0m\u001b[1;33m,\u001b[0m \u001b[0mX_test\u001b[0m\u001b[1;33m,\u001b[0m \u001b[0my_train\u001b[0m\u001b[1;33m,\u001b[0m \u001b[0my_test\u001b[0m \u001b[1;33m=\u001b[0m \u001b[0mx\u001b[0m\u001b[1;33m[\u001b[0m\u001b[0mtrain_index\u001b[0m\u001b[1;33m]\u001b[0m\u001b[1;33m,\u001b[0m \u001b[0mx\u001b[0m\u001b[1;33m[\u001b[0m\u001b[0mtest_index\u001b[0m\u001b[1;33m]\u001b[0m\u001b[1;33m,\u001b[0m \u001b[0my\u001b[0m\u001b[1;33m[\u001b[0m\u001b[0mtrain_index\u001b[0m\u001b[1;33m]\u001b[0m\u001b[1;33m,\u001b[0m \u001b[0my\u001b[0m\u001b[1;33m[\u001b[0m\u001b[0mtest_index\u001b[0m\u001b[1;33m]\u001b[0m\u001b[1;33m\u001b[0m\u001b[1;33m\u001b[0m\u001b[0m\n\u001b[0;32m      9\u001b[0m     \u001b[0mprint\u001b[0m\u001b[1;33m(\u001b[0m\u001b[0mget_score\u001b[0m\u001b[1;33m(\u001b[0m\u001b[0mDecisionTreeClassifier\u001b[0m\u001b[1;33m(\u001b[0m\u001b[1;33m)\u001b[0m\u001b[1;33m,\u001b[0m \u001b[0mX_train\u001b[0m\u001b[1;33m,\u001b[0m \u001b[0mX_test\u001b[0m\u001b[1;33m,\u001b[0m \u001b[0my_train\u001b[0m\u001b[1;33m,\u001b[0m \u001b[0my_test\u001b[0m\u001b[1;33m)\u001b[0m\u001b[1;33m)\u001b[0m\u001b[1;33m\u001b[0m\u001b[1;33m\u001b[0m\u001b[0m\n",
      "\u001b[1;31mNameError\u001b[0m: name 'x' is not defined"
     ]
    }
   ],
   "source": [
    "scores = []\n",
    "\n",
    "def get_score(model, X_train, X_test, y_train, y_test):\n",
    "    model.fit(X_train, y_train)\n",
    "    return model.score(X_test, y_test)\n",
    "\n",
    "for train_index, test_index in folds.split(x, y):\n",
    "    X_train, X_test, y_train, y_test = x[train_index], x[test_index], y[train_index], y[test_index]\n",
    "    print(get_score(DecisionTreeClassifier(), X_train, X_test, y_train, y_test))"
   ]
  },
  {
   "cell_type": "code",
   "execution_count": 6,
   "id": "particular-handling",
   "metadata": {
    "pycharm": {
     "name": "#%%\n"
    }
   },
   "outputs": [],
   "source": [
    "# most stylised tree:\n",
    "# import graphviz\n",
    "# dot_data = tree.export_graphviz(dtree, out_file=None, feature_names=features, filled=True, rounded=True, special_characters=True)\n",
    "# graph = graphviz.Source(dot_data)\n",
    "# graph"
   ]
  },
  {
   "cell_type": "markdown",
   "id": "traditional-encounter",
   "metadata": {
    "pycharm": {
     "name": "#%% md\n"
    }
   },
   "source": [
    "**Build the Decision tree #2** - applying pre-pruning techniques"
   ]
  },
  {
   "cell_type": "code",
   "execution_count": 9,
   "id": "suited-fraction",
   "metadata": {
    "pycharm": {
     "name": "#%%\n"
    }
   },
   "outputs": [
    {
     "name": "stdout",
     "output_type": "stream",
     "text": [
      "Accuracy: 1.0\n"
     ]
    }
   ],
   "source": [
    "# Testing pre pruning\n",
    "\n",
    "params = {'max_depth': [2,4,6,8,10,12],  # why did we select these parameters?\n",
    "         'min_samples_split': [2,3,4],\n",
    "         'min_samples_leaf': [1,2]}\n",
    "\n",
    "clf = DecisionTreeClassifier()\n",
    "gcv = GridSearchCV(estimator=clf,param_grid=params)\n",
    "gcv = gcv.fit(x_train,y_train)\n",
    "y_pred = gcv.predict(x_test)  # Predict the response for test dataset\n",
    "print(\"Accuracy:\",metrics.accuracy_score(y_test, y_pred)) # better accuracy score"
   ]
  },
  {
   "cell_type": "code",
   "execution_count": 10,
   "id": "respected-planning",
   "metadata": {},
   "outputs": [
    {
     "name": "stdout",
     "output_type": "stream",
     "text": [
      "Train score 1.0\n",
      "Test score 1.0\n",
      "Train Confusion matrix\n"
     ]
    },
    {
     "data": {
      "image/png": "[encoded data removed]",
      "text/plain": [
       "<Figure size 432x288 with 2 Axes>"
      ]
     },
     "metadata": {
      "needs_background": "light"
     },
     "output_type": "display_data"
    },
    {
     "name": "stdout",
     "output_type": "stream",
     "text": [
      "Test Confusion matrix\n"
     ]
    },
    {
     "data": {
      "image/png": "[encoded data removed]",
      "text/plain": [
       "<Figure size 432x288 with 2 Axes>"
      ]
     },
     "metadata": {
      "needs_background": "light"
     },
     "output_type": "display_data"
    }
   ],
   "source": [
    "# Pre-pruning summary\n",
    "\n",
    "classes = ['Low Violence', 'High Violence']\n",
    "def plot_confusionmatrix(train_pred, train, dom):\n",
    "    print(f'{dom} Confusion matrix')\n",
    "    cf = confusion_matrix(train_pred,train)\n",
    "    sns.heatmap(cf,annot=True,yticklabels=classes\n",
    "               ,xticklabels=classes,cmap='Blues', fmt='g')\n",
    "    plt.tight_layout()\n",
    "    plt.show()\n",
    "    \n",
    "model = gcv.best_estimator_\n",
    "model.fit(x_train,y_train)\n",
    "y_train_pred = model.predict(x_train)\n",
    "y_test_pred = model.predict(x_test)\n",
    "\n",
    "print(f'Train score {accuracy_score(y_train_pred,y_train)}')\n",
    "print(f'Test score {accuracy_score(y_test_pred,y_test)}')\n",
    "plot_confusionmatrix(y_train_pred,y_train,dom='Train')\n",
    "plot_confusionmatrix(y_test_pred,y_test,dom='Test')"
   ]
  },
  {
   "cell_type": "markdown",
   "id": "deluxe-quality",
   "metadata": {},
   "source": [
    "**Build Decision Tree #3** - applying post-pruning techniques\n",
    "\n",
    "https://scikit-learn.org/stable/auto_examples/tree/plot_cost_complexity_pruning.html#sphx-glr-auto-examples-tree-plot-cost-complexity-pruning-py\n",
    "\n",
    "Total impurity of leaves vs effective alphas of pruned tree:\n",
    "\n",
    "Minimal cost complexity pruning recursively finds the node with the “weakest link”. The weakest link is characterized by an effective alpha, where the nodes with the smallest effective alpha are pruned first.\n",
    "\n",
    "Scikit-learn provides DecisionTreeClassifier.cost_complexity_pruning_path that returns the effective alphas and the corresponding total leaf impurities at each step of the pruning process. As alpha increases, more of the tree is pruned, which increases the total impurity of its leaves."
   ]
  },
  {
   "cell_type": "code",
   "execution_count": 28,
   "id": "available-dryer",
   "metadata": {},
   "outputs": [
    {
     "data": {
      "text/plain": [
       "Text(0.5, 1.0, 'Total Impurity vs effective alpha for training set')"
      ]
     },
     "execution_count": 28,
     "metadata": {},
     "output_type": "execute_result"
    },
    {
     "data": {
      "image/png": "[encoded data removed]",
      "text/plain": [
       "<Figure size 432x288 with 1 Axes>"
      ]
     },
     "metadata": {
      "needs_background": "light"
     },
     "output_type": "display_data"
    }
   ],
   "source": [
    "# 1. Cost complexity pruning path\n",
    "path = clf.cost_complexity_pruning_path(x_train, y_train)\n",
    "ccp_alphas, impurities = path.ccp_alphas, path.impurities\n",
    "# Plot\n",
    "fig, ax = plt.subplots()\n",
    "ax.plot(ccp_alphas[:-1], impurities[:-1], marker='o', drawstyle=\"steps-post\")\n",
    "ax.set_xlabel(\"effective alpha\")\n",
    "ax.set_ylabel(\"total impurity of leaves\")\n",
    "ax.set_title(\"Total Impurity vs effective alpha for training set\")\n",
    "# the maximum effective alpha value is removed, because it is the trivial tree with only one node.\n"
   ]
  },
  {
   "cell_type": "code",
   "execution_count": 29,
   "id": "lyric-break",
   "metadata": {},
   "outputs": [
    {
     "name": "stdout",
     "output_type": "stream",
     "text": [
      "Number of nodes in the last tree is: 1 with ccp_alpha: 0.1028282003523327\n"
     ]
    }
   ],
   "source": [
    "# 2. Train a decision tree using the effective alphas.\n",
    "# The last value in ccp_alphas is the alpha value that prunes the whole tree, \n",
    "# this leaves the tree (clfs[-1]) with one node.\n",
    "\n",
    "clfs = []\n",
    "for ccp_alpha in ccp_alphas:\n",
    "    clf = DecisionTreeClassifier(random_state=0, ccp_alpha=ccp_alpha)\n",
    "    clf.fit(x_train, y_train)\n",
    "    clfs.append(clf)\n",
    "print(\"Number of nodes in the last tree is: {} with ccp_alpha: {}\".format(\n",
    "      clfs[-1].tree_.node_count, ccp_alphas[-1]))"
   ]
  },
  {
   "cell_type": "code",
   "execution_count": 15,
   "id": "proper-integral",
   "metadata": {},
   "outputs": [
    {
     "data": {
      "image/png": "[encoded data removed]",
      "text/plain": [
       "<Figure size 432x288 with 2 Axes>"
      ]
     },
     "metadata": {
      "needs_background": "light"
     },
     "output_type": "display_data"
    }
   ],
   "source": [
    "# 3. Remove the last element in clfs and ccp_alphas, because it is the trivial tree with only one node.\n",
    "clfs = clfs[:-1]\n",
    "ccp_alphas = ccp_alphas[:-1]\n",
    "\n",
    "# Show that the number of nodes and tree depth decreases as alpha increases.\n",
    "node_counts = [clf.tree_.node_count for clf in clfs]\n",
    "depth = [clf.tree_.max_depth for clf in clfs]\n",
    "fig, ax = plt.subplots(2, 1)\n",
    "ax[0].plot(ccp_alphas, node_counts, marker='o', drawstyle=\"steps-post\")\n",
    "ax[0].set_xlabel(\"alpha\")\n",
    "ax[0].set_ylabel(\"number of nodes\")\n",
    "ax[0].set_title(\"Number of nodes vs alpha\")\n",
    "ax[1].plot(ccp_alphas, depth, marker='o', drawstyle=\"steps-post\")\n",
    "ax[1].set_xlabel(\"alpha\")\n",
    "ax[1].set_ylabel(\"depth of tree\")\n",
    "ax[1].set_title(\"Depth vs alpha\")\n",
    "fig.tight_layout()"
   ]
  },
  {
   "cell_type": "code",
   "execution_count": 32,
   "id": "exotic-deficit",
   "metadata": {},
   "outputs": [
    {
     "data": {
      "image/png": "[encoded data removed]",
      "text/plain": [
       "<Figure size 432x288 with 1 Axes>"
      ]
     },
     "metadata": {
      "needs_background": "light"
     },
     "output_type": "display_data"
    }
   ],
   "source": [
    "# 4. Compare accuracy vs alpha for training\n",
    "# When ccp_alpha is set to zero, the tree overfits; leading to a 100% training accuracy and 88% testing accuracy.\n",
    "# As alpha increases, more of the tree is pruned, thus creating a decision tree that generalizes better. \n",
    "\n",
    "train_scores = [clf.score(x_train, y_train) for clf in clfs]\n",
    "test_scores = [clf.score(x_test, y_test) for clf in clfs]\n",
    "\n",
    "fig, ax = plt.subplots()\n",
    "ax.set_xlabel(\"alpha\")\n",
    "ax.set_ylabel(\"accuracy\")\n",
    "ax.set_title(\"Accuracy vs alpha for training and testing sets\")\n",
    "ax.plot(ccp_alphas, train_scores, marker='o', label=\"train\",\n",
    "        drawstyle=\"steps-post\")\n",
    "ax.plot(ccp_alphas, test_scores, marker='o', label=\"test\",\n",
    "        drawstyle=\"steps-post\")\n",
    "ax.legend()\n",
    "plt.show()"
   ]
  },
  {
   "cell_type": "code",
   "execution_count": 11,
   "id": "cordless-permission",
   "metadata": {
    "scrolled": true
   },
   "outputs": [
    {
     "name": "stdout",
     "output_type": "stream",
     "text": [
      "Pruned tree train accuracy score:  1.0 Pruned tree test accuracy score:  1.0\n"
     ]
    }
   ],
   "source": [
    "# fit the model again with the most suitable alpha i.e. 0.008\n",
    "# this alpha achieves the best test accuracy\n",
    "\n",
    "tree = DecisionTreeClassifier(ccp_alpha=0.01, random_state=40)\n",
    "tree.fit(x_train, y_train)\n",
    "y_train_pred=tree.predict(x_train)\n",
    "y_test_pred=tree.predict(x_test)\n",
    "\n",
    "print(\"Pruned tree train accuracy score: \", accuracy_score(y_train, y_train_pred),\n",
    "\"Pruned tree test accuracy score: \", accuracy_score(y_test, y_test_pred))"
   ]
  },
  {
   "cell_type": "code",
   "execution_count": 14,
   "id": "eight-prototype",
   "metadata": {},
   "outputs": [],
   "source": [
    "# extra graphs needed \n",
    "# https://scikit-learn.org/stable/auto_examples/tree/plot_iris_dtc.html\n",
    "    "
   ]
  },
  {
   "cell_type": "code",
   "execution_count": null,
   "id": "worse-consensus",
   "metadata": {},
   "outputs": [],
   "source": []
  }
 ],
 "metadata": {
  "kernelspec": {
   "display_name": "Python 3",
   "language": "python",
   "name": "python3"
  },
  "language_info": {
   "codemirror_mode": {
    "name": "ipython",
    "version": 3
   },
   "file_extension": ".py",
   "mimetype": "text/x-python",
   "name": "python",
   "nbconvert_exporter": "python",
   "pygments_lexer": "ipython3",
   "version": "3.8.5"
  }
 },
 "nbformat": 4,
 "nbformat_minor": 5
}
