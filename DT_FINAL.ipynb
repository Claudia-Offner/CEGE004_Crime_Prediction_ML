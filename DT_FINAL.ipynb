{
 "cells": [
  {
   "cell_type": "code",
   "execution_count": 2,
   "id": "editorial-parts",
   "metadata": {},
   "outputs": [
    {
     "name": "stdout",
     "output_type": "stream",
     "text": [
      "      communityname state  countyCode  communityCode  fold  population  \\\n",
      "0    Marpletownship    PA        45.0        47616.0     1       23123   \n",
      "1        Tigardcity    OR         NaN            NaN     1       29344   \n",
      "2  Gloversvillecity    NY        35.0        29443.0     1       16656   \n",
      "3       Bemidjicity    MN         7.0         5068.0     1       11245   \n",
      "4   Springfieldcity    MO         NaN            NaN     1      140494   \n",
      "\n",
      "   householdsize  racepctblack  racePctWhite  racePctAsian  ...  burglaries  \\\n",
      "0           2.82          0.80         95.57          3.44  ...        57.0   \n",
      "1           2.43          0.74         94.33          3.43  ...       274.0   \n",
      "2           2.40          1.70         97.35          0.50  ...       225.0   \n",
      "3           2.76          0.53         89.16          1.17  ...        91.0   \n",
      "4           2.45          2.51         95.65          0.90  ...      2094.0   \n",
      "\n",
      "   burglPerPop  larcenies  larcPerPop  autoTheft  autoTheftPerPop  arsons  \\\n",
      "0       242.37      376.0     1598.78       26.0           110.55     1.0   \n",
      "1       758.14     1797.0     4972.19      136.0           376.30    22.0   \n",
      "2      1301.78      716.0     4142.56       47.0           271.93     NaN   \n",
      "3       728.93     1060.0     8490.87       91.0           728.93     5.0   \n",
      "4      1386.46     7690.0     5091.64      454.0           300.60   134.0   \n",
      "\n",
      "   arsonsPerPop  ViolentCrimesPerPop  nonViolPerPop  \n",
      "0          4.25               127.56        1955.95  \n",
      "1         60.87               218.59        6167.51  \n",
      "2           NaN               306.64            NaN  \n",
      "3         40.05                  NaN        9988.79  \n",
      "4         88.72               442.95        6867.42  \n",
      "\n",
      "[5 rows x 147 columns]\n",
      "223.06     3\n",
      "624.31     2\n",
      "115.14     2\n",
      "28.45      2\n",
      "84.88      2\n",
      "          ..\n",
      "116.10     1\n",
      "280.44     1\n",
      "154.77     1\n",
      "974.36     1\n",
      "2089.32    1\n",
      "Name: ViolentCrimesPerPop, Length: 1972, dtype: int64\n",
      "variables    population  racepctblack  agePct12t29  numbUrban  medIncome  pctWWage  \\\n",
      "0       23123          0.80        21.30      23123      47917     78.99   \n",
      "1       29344          0.74        25.88      29344      35669     82.00   \n",
      "2       16656          1.70        25.20          0      20580     68.15   \n",
      "3       11245          0.53        40.53          0      17390     69.33   \n",
      "4      140494          2.51        32.89     140494      21577     75.78   \n",
      "\n",
      "   pctWInvInc  medFamInc  perCapInc  whitePerCap  ...  PctPersDenseHous  \\\n",
      "0       64.11      55323      20148        20191  ...              1.01   \n",
      "1       55.73      42112      16946        17103  ...              2.03   \n",
      "2       38.95      26501      10810        10909  ...              1.21   \n",
      "3       42.82      24018       8483         9009  ...              2.94   \n",
      "4       41.15      27705      11878        12029  ...              2.11   \n",
      "\n",
      "   HousVacant  PctHousOwnOcc  OwnOccLowQuart  OwnOccMedVal  RentLowQ  \\\n",
      "0         240          84.88          136300        164200       467   \n",
      "1         544          57.79           74700         90400       370   \n",
      "2         669          54.89           36400         49600       195   \n",
      "3         333          53.57           30600         43200       202   \n",
      "4        5119          55.50           37700         53900       215   \n",
      "\n",
      "   RentMedian  MedRent  MedOwnCostPctIncNoMtg  NumStreet  \n",
      "0         560      627                   12.5          0  \n",
      "1         428      484                   11.6          0  \n",
      "2         250      333                   14.5          0  \n",
      "3         283      332                   12.9          0  \n",
      "4         280      340                   11.7          4  \n",
      "\n",
      "[5 rows x 33 columns]\n",
      "crime outcome 0    0\n",
      "1    0\n",
      "2    0\n",
      "3    1\n",
      "4    0\n",
      "Name: ViolentCrimesPerPop, dtype: int64\n",
      "   population  racepctblack  agePct12t29  numbUrban  medIncome  pctWWage  \\\n",
      "0       23123          0.80        21.30      23123      47917     78.99   \n",
      "1       29344          0.74        25.88      29344      35669     82.00   \n",
      "2       16656          1.70        25.20          0      20580     68.15   \n",
      "3       11245          0.53        40.53          0      17390     69.33   \n",
      "4      140494          2.51        32.89     140494      21577     75.78   \n",
      "\n",
      "   pctWInvInc  medFamInc  perCapInc  whitePerCap  ...  HousVacant  \\\n",
      "0       64.11      55323      20148        20191  ...         240   \n",
      "1       55.73      42112      16946        17103  ...         544   \n",
      "2       38.95      26501      10810        10909  ...         669   \n",
      "3       42.82      24018       8483         9009  ...         333   \n",
      "4       41.15      27705      11878        12029  ...        5119   \n",
      "\n",
      "   PctHousOwnOcc  OwnOccLowQuart  OwnOccMedVal  RentLowQ  RentMedian  MedRent  \\\n",
      "0          84.88          136300        164200       467         560      627   \n",
      "1          57.79           74700         90400       370         428      484   \n",
      "2          54.89           36400         49600       195         250      333   \n",
      "3          53.57           30600         43200       202         283      332   \n",
      "4          55.50           37700         53900       215         280      340   \n",
      "\n",
      "   MedOwnCostPctIncNoMtg  NumStreet  ViolentCrimesPerPop  \n",
      "0                   12.5          0                    0  \n",
      "1                   11.6          0                    0  \n",
      "2                   14.5          0                    0  \n",
      "3                   12.9          0                    1  \n",
      "4                   11.7          4                    0  \n",
      "\n",
      "[5 rows x 34 columns]\n",
      "[ 68654.  68742.  69019.  69695.  69904.  69917.  70000.  70039.  70287.\n",
      "  70919.  71274.  71905.  71996.  72369.  74124.  74401.  74472.  74825.\n",
      "  75221.  75905.  76907.  77530.  78965.  79092.  79579.  79797.  80968.\n",
      "  81957.  83275.  83975.  84441.  84498.  86674.  87686.  89395.  91951.\n",
      "  95134. 100077. 101320. 110550. 118456. 123625.]\n"
     ]
    },
    {
     "data": {
      "image/png": "[encoded data removed]",
      "text/plain": [
       "<Figure size 432x288 with 1 Axes>"
      ]
     },
     "metadata": {
      "needs_background": "light"
     },
     "output_type": "display_data"
    },
    {
     "data": {
      "image/png": "[encoded data removed]",
      "text/plain": [
       "<Figure size 432x288 with 1 Axes>"
      ]
     },
     "metadata": {
      "needs_background": "light"
     },
     "output_type": "display_data"
    }
   ],
   "source": [
    "%run Preprocessing.ipynb"
   ]
  },
  {
   "cell_type": "code",
   "execution_count": 8,
   "id": "theoretical-official",
   "metadata": {
    "pycharm": {
     "name": "#%%\n"
    }
   },
   "outputs": [],
   "source": [
    "# Import packages\n",
    "import sklearn.feature_selection\n",
    "from sklearn.tree import DecisionTreeClassifier\n",
    "from sklearn import tree\n",
    "from sklearn import metrics\n",
    "from sklearn.model_selection import GridSearchCV # RandomizedSearchCV\n",
    "from sklearn.metrics import accuracy_score,confusion_matrix\n",
    "import seaborn as sns"
   ]
  },
  {
   "cell_type": "code",
   "execution_count": 5,
   "id": "accessory-pulse",
   "metadata": {
    "pycharm": {
     "name": "#%%\n"
    }
   },
   "outputs": [
    {
     "name": "stdout",
     "output_type": "stream",
     "text": [
      "(2214, 34)\n",
      "(2214, 33)\n"
     ]
    }
   ],
   "source": [
    "# Split the data into training and test data sets using sklearn.model_selection\n",
    "from sklearn.model_selection import train_test_split\n",
    "\n",
    "x_train, x_test, y_train, y_test = train_test_split(x, y, train_size=0.70, random_state=1)\n",
    "\n",
    "# check the dataset to see how much the dataset has grown (if dimenstionality was increased)\n",
    "print(data.shape)\n",
    "print(x.shape)"
   ]
  },
  {
   "cell_type": "markdown",
   "id": "english-stereo",
   "metadata": {},
   "source": [
    "**Feature Selection**\n",
    "- Build the model using the pre-processed data\n",
    "\n",
    "In order to avoid overfitting and slow computing (due to the increase in features from dummying as well as increasing dimensionality), selecting the most important features is important. \n"
   ]
  },
  {
   "cell_type": "code",
   "execution_count": 6,
   "id": "conscious-orbit",
   "metadata": {
    "scrolled": true
   },
   "outputs": [
    {
     "data": {
      "text/plain": [
       "['racepctblack',\n",
       " 'medIncome',\n",
       " 'pctWInvInc',\n",
       " 'medFamInc',\n",
       " 'perCapInc',\n",
       " 'PctEmploy',\n",
       " 'MalePctDivorce',\n",
       " 'MalePctNevMarr',\n",
       " 'TotalPctDiv',\n",
       " 'PctKids2Par',\n",
       " 'PctLargHouseOccup',\n",
       " 'PersPerRentOccHous',\n",
       " 'PctPersOwnOccup',\n",
       " 'PctPersDenseHous',\n",
       " 'HousVacant',\n",
       " 'PctHousOwnOcc',\n",
       " 'OwnOccLowQuart',\n",
       " 'OwnOccMedVal',\n",
       " 'RentMedian',\n",
       " 'MedRent']"
      ]
     },
     "execution_count": 6,
     "metadata": {},
     "output_type": "execute_result"
    }
   ],
   "source": [
    "# select k best is a univariate method for feature selection:\n",
    "# looks at the outcome and the relationship with each feature and selects k number of best features \n",
    "select = sklearn.feature_selection.SelectKBest(k=20)\n",
    "selected_features = select.fit(x_train, y_train)\n",
    "indices_selected = selected_features.get_support(indices=True)\n",
    "colnames_selected = [x.columns[I] for I in indices_selected]\n",
    "\n",
    "x_train_selected = x_train[colnames_selected]\n",
    "x_test_selected = x_test[colnames_selected]\n",
    "\n",
    "colnames_selected # 20 features selected\n"
   ]
  },
  {
   "cell_type": "markdown",
   "id": "fifteen-woman",
   "metadata": {
    "pycharm": {
     "name": "#%% md\n"
    },
    "scrolled": false
   },
   "source": [
    "**Build Decision tree #1**"
   ]
  },
  {
   "cell_type": "code",
   "execution_count": 9,
   "id": "turkish-buffalo",
   "metadata": {
    "pycharm": {
     "name": "#%%\n"
    }
   },
   "outputs": [
    {
     "name": "stdout",
     "output_type": "stream",
     "text": [
      "Accuracy: 0.6977443609022557\n"
     ]
    },
    {
     "data": {
      "image/png": "[encoded data removed]",
      "text/plain": [
       "<Figure size 432x288 with 1 Axes>"
      ]
     },
     "metadata": {
      "needs_background": "light"
     },
     "output_type": "display_data"
    }
   ],
   "source": [
    "# Plot tree at depth 2\n",
    "dtree = DecisionTreeClassifier(criterion='gini', max_depth=2)  # use the entropy rather than gini index\n",
    "dtree = dtree.fit(x_train, y_train)\n",
    "tree.plot_tree(dtree, feature_names=data.columns) \n",
    "\n",
    "# model can then be used to predict !\n",
    "# crime_predict = dtree.predict([[0,1]])\n",
    "\n",
    "# Assess accuracy at this stage\n",
    "clf = DecisionTreeClassifier()  # Create Decision Tree classifer object\n",
    "clf = clf.fit(x_train,y_train)  # Train Decision Tree Classifer\n",
    "y_pred = clf.predict(x_test)  # Predict the response for test dataset\n",
    "print(\"Accuracy:\",metrics.accuracy_score(y_test, y_pred))"
   ]
  },
  {
   "cell_type": "code",
   "execution_count": null,
   "id": "particular-handling",
   "metadata": {
    "pycharm": {
     "name": "#%%\n"
    }
   },
   "outputs": [],
   "source": [
    "# most stylised tree:\n",
    "# import graphviz\n",
    "# dot_data = tree.export_graphviz(dtree, out_file=None, feature_names=features, filled=True, rounded=True, special_characters=True)\n",
    "# graph = graphviz.Source(dot_data)\n",
    "# graph"
   ]
  },
  {
   "cell_type": "markdown",
   "id": "traditional-encounter",
   "metadata": {
    "pycharm": {
     "name": "#%% md\n"
    }
   },
   "source": [
    "**Build the Decision tree #2** - applying pre-pruning techniques"
   ]
  },
  {
   "cell_type": "code",
   "execution_count": 10,
   "id": "suited-fraction",
   "metadata": {
    "pycharm": {
     "name": "#%%\n"
    }
   },
   "outputs": [
    {
     "name": "stdout",
     "output_type": "stream",
     "text": [
      "Accuracy: 0.7533834586466165\n"
     ]
    }
   ],
   "source": [
    "# Testing pre pruning\n",
    "\n",
    "params = {'max_depth': [2,4,6,8,10,12],  # why did we select these parameters?\n",
    "         'min_samples_split': [2,3,4],\n",
    "         'min_samples_leaf': [1,2]}\n",
    "\n",
    "clf = DecisionTreeClassifier()\n",
    "gcv = GridSearchCV(estimator=clf,param_grid=params)\n",
    "gcv = gcv.fit(x_train,y_train)\n",
    "y_pred = gcv.predict(x_test)  # Predict the response for test dataset\n",
    "print(\"Accuracy:\",metrics.accuracy_score(y_test, y_pred)) # better accuracy score"
   ]
  },
  {
   "cell_type": "code",
   "execution_count": 11,
   "id": "respected-planning",
   "metadata": {},
   "outputs": [
    {
     "name": "stdout",
     "output_type": "stream",
     "text": [
      "Train score 0.8237572627501614\n",
      "Test score 0.7533834586466165\n",
      "Train Confusion matrix\n"
     ]
    },
    {
     "data": {
      "image/png": "[encoded data removed]",
      "text/plain": [
       "<Figure size 432x288 with 2 Axes>"
      ]
     },
     "metadata": {
      "needs_background": "light"
     },
     "output_type": "display_data"
    },
    {
     "name": "stdout",
     "output_type": "stream",
     "text": [
      "Test Confusion matrix\n"
     ]
    },
    {
     "data": {
      "image/png": "[encoded data removed]",
      "text/plain": [
       "<Figure size 432x288 with 2 Axes>"
      ]
     },
     "metadata": {
      "needs_background": "light"
     },
     "output_type": "display_data"
    }
   ],
   "source": [
    "# Pre-pruning summary\n",
    "\n",
    "classes = ['Low Violence', 'High Violence']\n",
    "def plot_confusionmatrix(train_pred, train, dom):\n",
    "    print(f'{dom} Confusion matrix')\n",
    "    cf = confusion_matrix(train_pred,train)\n",
    "    sns.heatmap(cf,annot=True,yticklabels=classes\n",
    "               ,xticklabels=classes,cmap='Blues', fmt='g')\n",
    "    plt.tight_layout()\n",
    "    plt.show()\n",
    "    \n",
    "model = gcv.best_estimator_\n",
    "model.fit(x_train,y_train)\n",
    "y_train_pred = model.predict(x_train)\n",
    "y_test_pred = model.predict(x_test)\n",
    "\n",
    "print(f'Train score {accuracy_score(y_train_pred,y_train)}')\n",
    "print(f'Test score {accuracy_score(y_test_pred,y_test)}')\n",
    "plot_confusionmatrix(y_train_pred,y_train,dom='Train')\n",
    "plot_confusionmatrix(y_test_pred,y_test,dom='Test')"
   ]
  },
  {
   "cell_type": "markdown",
   "id": "deluxe-quality",
   "metadata": {},
   "source": [
    "**Build Decision Tree #3** - applying post-pruning techniques\n",
    "\n",
    "https://scikit-learn.org/stable/auto_examples/tree/plot_cost_complexity_pruning.html#sphx-glr-auto-examples-tree-plot-cost-complexity-pruning-py\n",
    "\n",
    "Total impurity of leaves vs effective alphas of pruned tree:\n",
    "\n",
    "Minimal cost complexity pruning recursively finds the node with the “weakest link”. The weakest link is characterized by an effective alpha, where the nodes with the smallest effective alpha are pruned first.\n",
    "\n",
    "Scikit-learn provides DecisionTreeClassifier.cost_complexity_pruning_path that returns the effective alphas and the corresponding total leaf impurities at each step of the pruning process. As alpha increases, more of the tree is pruned, which increases the total impurity of its leaves."
   ]
  },
  {
   "cell_type": "code",
   "execution_count": 12,
   "id": "available-dryer",
   "metadata": {},
   "outputs": [
    {
     "data": {
      "text/plain": [
       "Text(0.5, 1.0, 'Total Impurity vs effective alpha for training set')"
      ]
     },
     "execution_count": 12,
     "metadata": {},
     "output_type": "execute_result"
    },
    {
     "data": {
      "image/png": "[encoded data removed]",
      "text/plain": [
       "<Figure size 432x288 with 1 Axes>"
      ]
     },
     "metadata": {
      "needs_background": "light"
     },
     "output_type": "display_data"
    }
   ],
   "source": [
    "# 1. Cost complexity pruning path\n",
    "path = clf.cost_complexity_pruning_path(x_train, y_train)\n",
    "ccp_alphas, impurities = path.ccp_alphas, path.impurities\n",
    "# Plot\n",
    "fig, ax = plt.subplots()\n",
    "ax.plot(ccp_alphas[:-1], impurities[:-1], marker='o', drawstyle=\"steps-post\")\n",
    "ax.set_xlabel(\"effective alpha\")\n",
    "ax.set_ylabel(\"total impurity of leaves\")\n",
    "ax.set_title(\"Total Impurity vs effective alpha for training set\")\n",
    "# the maximum effective alpha value is removed, because it is the trivial tree with only one node.\n"
   ]
  },
  {
   "cell_type": "code",
   "execution_count": 13,
   "id": "lyric-break",
   "metadata": {},
   "outputs": [
    {
     "name": "stdout",
     "output_type": "stream",
     "text": [
      "Number of nodes in the last tree is: 1 with ccp_alpha: 0.08858802584261255\n"
     ]
    }
   ],
   "source": [
    "# 2. Train a decision tree using the effective alphas.\n",
    "# The last value in ccp_alphas is the alpha value that prunes the whole tree, \n",
    "# this leaves the tree (clfs[-1]) with one node.\n",
    "\n",
    "clfs = []\n",
    "for ccp_alpha in ccp_alphas:\n",
    "    clf = DecisionTreeClassifier(random_state=0, ccp_alpha=ccp_alpha)\n",
    "    clf.fit(x_train, y_train)\n",
    "    clfs.append(clf)\n",
    "print(\"Number of nodes in the last tree is: {} with ccp_alpha: {}\".format(\n",
    "      clfs[-1].tree_.node_count, ccp_alphas[-1]))"
   ]
  },
  {
   "cell_type": "code",
   "execution_count": 14,
   "id": "proper-integral",
   "metadata": {},
   "outputs": [
    {
     "data": {
      "image/png": "[encoded data removed]",
      "text/plain": [
       "<Figure size 432x288 with 2 Axes>"
      ]
     },
     "metadata": {
      "needs_background": "light"
     },
     "output_type": "display_data"
    }
   ],
   "source": [
    "# 3. Remove the last element in clfs and ccp_alphas, because it is the trivial tree with only one node.\n",
    "clfs = clfs[:-1]\n",
    "ccp_alphas = ccp_alphas[:-1]\n",
    "\n",
    "# Show that the number of nodes and tree depth decreases as alpha increases.\n",
    "node_counts = [clf.tree_.node_count for clf in clfs]\n",
    "depth = [clf.tree_.max_depth for clf in clfs]\n",
    "fig, ax = plt.subplots(2, 1)\n",
    "ax[0].plot(ccp_alphas, node_counts, marker='o', drawstyle=\"steps-post\")\n",
    "ax[0].set_xlabel(\"alpha\")\n",
    "ax[0].set_ylabel(\"number of nodes\")\n",
    "ax[0].set_title(\"Number of nodes vs alpha\")\n",
    "ax[1].plot(ccp_alphas, depth, marker='o', drawstyle=\"steps-post\")\n",
    "ax[1].set_xlabel(\"alpha\")\n",
    "ax[1].set_ylabel(\"depth of tree\")\n",
    "ax[1].set_title(\"Depth vs alpha\")\n",
    "fig.tight_layout()"
   ]
  },
  {
   "cell_type": "code",
   "execution_count": 15,
   "id": "exotic-deficit",
   "metadata": {},
   "outputs": [
    {
     "data": {
      "image/png": "[encoded data removed]",
      "text/plain": [
       "<Figure size 432x288 with 1 Axes>"
      ]
     },
     "metadata": {
      "needs_background": "light"
     },
     "output_type": "display_data"
    }
   ],
   "source": [
    "# 4. Compare accuracy vs alpha for training\n",
    "# When ccp_alpha is set to zero, the tree overfits; leading to a 100% training accuracy and 88% testing accuracy.\n",
    "# As alpha increases, more of the tree is pruned, thus creating a decision tree that generalizes better. \n",
    "\n",
    "train_scores = [clf.score(x_train, y_train) for clf in clfs]\n",
    "test_scores = [clf.score(x_test, y_test) for clf in clfs]\n",
    "\n",
    "fig, ax = plt.subplots()\n",
    "ax.set_xlabel(\"alpha\")\n",
    "ax.set_ylabel(\"accuracy\")\n",
    "ax.set_title(\"Accuracy vs alpha for training and testing sets\")\n",
    "ax.plot(ccp_alphas, train_scores, marker='o', label=\"train\",\n",
    "        drawstyle=\"steps-post\")\n",
    "ax.plot(ccp_alphas, test_scores, marker='o', label=\"test\",\n",
    "        drawstyle=\"steps-post\")\n",
    "ax.legend()\n",
    "plt.show()"
   ]
  },
  {
   "cell_type": "code",
   "execution_count": 16,
   "id": "cordless-permission",
   "metadata": {
    "scrolled": true
   },
   "outputs": [
    {
     "name": "stdout",
     "output_type": "stream",
     "text": [
      "Pruned tree train accuracy score:  0.776630083925113 Pruned tree test accuracy score:  0.7639097744360902\n"
     ]
    }
   ],
   "source": [
    "# fit the model again with the most suitable alpha i.e. 0.008\n",
    "# this alpha achieves the best test accuracy\n",
    "\n",
    "tree = DecisionTreeClassifier(ccp_alpha=0.088, random_state=40)\n",
    "tree.fit(x_train, y_train)\n",
    "y_train_pred=tree.predict(x_train)\n",
    "y_test_pred=tree.predict(x_test)\n",
    "\n",
    "print(\"Pruned tree train accuracy score: \", accuracy_score(y_train, y_train_pred),\n",
    "\"Pruned tree test accuracy score: \", accuracy_score(y_test, y_test_pred))"
   ]
  },
  {
   "cell_type": "code",
   "execution_count": null,
   "id": "eight-prototype",
   "metadata": {},
   "outputs": [],
   "source": [
    "# extra graphs needed \n",
    "# https://scikit-learn.org/stable/auto_examples/tree/plot_iris_dtc.html\n",
    "    "
   ]
  },
  {
   "cell_type": "code",
   "execution_count": null,
   "id": "worse-consensus",
   "metadata": {},
   "outputs": [],
   "source": []
  }
 ],
 "metadata": {
  "kernelspec": {
   "display_name": "Python 3",
   "language": "python",
   "name": "python3"
  },
  "language_info": {
   "codemirror_mode": {
    "name": "ipython",
    "version": 3
   },
   "file_extension": ".py",
   "mimetype": "text/x-python",
   "name": "python",
   "nbconvert_exporter": "python",
   "pygments_lexer": "ipython3",
   "version": "3.8.5"
  }
 },
 "nbformat": 4,
 "nbformat_minor": 5
}
