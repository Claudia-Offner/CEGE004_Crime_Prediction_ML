{
 "cells": [
  {
   "cell_type": "markdown",
   "metadata": {
    "pycharm": {
     "name": "#%% md\n"
    }
   },
   "source": [
    "# Pre-processing data\n",
    "https://towardsdatascience.com/bayesian-linear-regression-in-python-using-machine-learning-to-predict-student-grades-part-1-7d0ad817fca5"
   ]
  },
  {
   "cell_type": "code",
   "execution_count": 13,
   "metadata": {
    "pycharm": {
     "name": "#%%\n"
    }
   },
   "outputs": [],
   "source": [
    "# import\n",
    "import pandas as pd\n",
    "import numpy as np\n",
    "import matplotlib.pyplot as plt\n",
    "from scipy.stats import percentileofscore\n",
    "from sklearn.model_selection import train_test_split\n",
    "from sklearn.impute import SimpleImputer\n",
    "from sklearn.preprocessing import MinMaxScaler\n",
    "# Visuals\n",
    "# import seaborn as sns\n",
    "# from scipy import stats\n",
    "# %matplotlib inline"
   ]
  },
  {
   "cell_type": "markdown",
   "metadata": {},
   "source": [
    "**Read in Data**\n",
    "- NOTE: Dropping spatial variables for the scope of project\n",
    "- Also, there was little correlation with spatial components in preliminary dummy coding correlation check"
   ]
  },
  {
   "cell_type": "code",
   "execution_count": 14,
   "metadata": {
    "pycharm": {
     "name": "#%%\n"
    }
   },
   "outputs": [],
   "source": [
    "# Read data and assign NA to missing values\n",
    "data = pd.read_csv('http://archive.ics.uci.edu/ml/machine-learning-databases/00211/CommViolPredUnnormalizedData.txt',\n",
    "                   sep='\\s*,\\s*',encoding='latin-1',engine='python', na_values=[\"?\"])\n",
    "\n",
    "\n",
    "data.columns = ['communityname','state','countyCode','communityCode','fold','population','householdsize','racepctblack',\n",
    "           'racePctWhite','racePctAsian','racePctHisp','agePct12t21','agePct12t29','agePct16t24','agePct65up',\n",
    "           'numbUrban','pctUrban','medIncome','pctWWage','pctWFarmSelf','pctWInvInc','pctWSocSec','pctWPubAsst',\n",
    "           'pctWRetire','medFamInc','perCapInc','whitePerCap','blackPerCap','indianPerCap','AsianPerCap','OtherPerCap',\n",
    "           'HispPerCap','NumUnderPov','PctPopUnderPov','PctLess9thGrade','PctNotHSGrad','PctBSorMore','PctUnemployed',\n",
    "           'PctEmploy','PctEmplManu','PctEmplProfServ','PctOccupManu','PctOccupMgmtProf','MalePctDivorce',\n",
    "           'MalePctNevMarr','FemalePctDiv','TotalPctDiv','PersPerFam','PctFam2Par','PctKids2Par','PctYoungKids2Par',\n",
    "           'PctTeen2Par','PctWorkMomYoungKids','PctWorkMom','NumKidsBornNeverMar','PctKidsBornNeverMar','NumImmig',\n",
    "           'PctImmigRecent','PctImmigRec5','PctImmigRec8','PctImmigRec10','PctRecentImmig','PctRecImmig5',\n",
    "           'PctRecImmig8','PctRecImmig10','PctSpeakEnglOnly','PctNotSpeakEnglWell','PctLargHouseFam',\n",
    "           'PctLargHouseOccup','PersPerOccupHous','PersPerOwnOccHous','PersPerRentOccHous','PctPersOwnOccup',\n",
    "           'PctPersDenseHous','PctHousLess3BR','MedNumBR','HousVacant','PctHousOccup','PctHousOwnOcc','PctVacantBoarded',\n",
    "           'PctVacMore6Mos','MedYrHousBuilt','PctHousNoPhone','PctWOFullPlumb','OwnOccLowQuart','OwnOccMedVal',\n",
    "           'OwnOccHiQuart','OwnOccQrange','RentLowQ','RentMedian','RentHighQ','RentQrange','MedRent','MedRentPctHousInc',\n",
    "           'MedOwnCostPctInc','MedOwnCostPctIncNoMtg','NumInShelters','NumStreet','PctForeignBorn','PctBornSameState',\n",
    "           'PctSameHouse85','PctSameCity85','PctSameState85','LemasSwornFT','LemasSwFTPerPop','LemasSwFTFieldOps',\n",
    "           'LemasSwFTFieldPerPop','LemasTotalReq','LemasTotReqPerPop','PolicReqPerOffic','PolicPerPop',\n",
    "           'RacialMatchCommPol','PctPolicWhite','PctPolicBlack','PctPolicHisp','PctPolicAsian','PctPolicMinor',\n",
    "           'OfficAssgnDrugUnits','NumKindsDrugsSeiz','PolicAveOTWorked','LandArea','PopDens','PctUsePubTrans',\n",
    "           'PolicCars','PolicOperBudg','LemasPctPolicOnPatr','LemasGangUnitDeploy','LemasPctOfficDrugUn',\n",
    "           'PolicBudgPerPop','murders','murdPerPop','rapes','rapesPerPop','robberies','robbbPerPop','assaults',\n",
    "           'assaultPerPop','burglaries','burglPerPop','larcenies','larcPerPop','autoTheft','autoTheftPerPop','arsons',\n",
    "           'arsonsPerPop','ViolentCrimesPerPop','nonViolPerPop']"
   ]
  },
  {
   "cell_type": "code",
   "execution_count": 15,
   "metadata": {
    "pycharm": {
     "name": "#%%\n"
    }
   },
   "outputs": [],
   "source": [
    "# Drop spatial variables\n",
    "data = data.drop(columns=['countyCode', 'communityCode', 'communityname', 'state'])"
   ]
  },
  {
   "cell_type": "markdown",
   "metadata": {},
   "source": [
    "**Check data**\n",
    "- NOTE: We have no categorical or string data."
   ]
  },
  {
   "cell_type": "code",
   "execution_count": 16,
   "metadata": {
    "pycharm": {
     "name": "#%%\n"
    }
   },
   "outputs": [
    {
     "data": {
      "text/plain": "   fold  population  householdsize  racepctblack  racePctWhite  racePctAsian  \\\n0     1       23123           2.82          0.80         95.57          3.44   \n1     1       29344           2.43          0.74         94.33          3.43   \n2     1       16656           2.40          1.70         97.35          0.50   \n3     1       11245           2.76          0.53         89.16          1.17   \n4     1      140494           2.45          2.51         95.65          0.90   \n\n   racePctHisp  agePct12t21  agePct12t29  agePct16t24  ...  burglaries  \\\n0         0.85        11.01        21.30        10.48  ...        57.0   \n1         2.35        11.36        25.88        11.01  ...       274.0   \n2         0.70        12.55        25.20        12.19  ...       225.0   \n3         0.52        24.46        40.53        28.69  ...        91.0   \n4         0.95        18.09        32.89        20.04  ...      2094.0   \n\n   burglPerPop  larcenies  larcPerPop  autoTheft  autoTheftPerPop  arsons  \\\n0       242.37      376.0     1598.78       26.0           110.55     1.0   \n1       758.14     1797.0     4972.19      136.0           376.30    22.0   \n2      1301.78      716.0     4142.56       47.0           271.93     NaN   \n3       728.93     1060.0     8490.87       91.0           728.93     5.0   \n4      1386.46     7690.0     5091.64      454.0           300.60   134.0   \n\n   arsonsPerPop  ViolentCrimesPerPop  nonViolPerPop  \n0          4.25               127.56        1955.95  \n1         60.87               218.59        6167.51  \n2           NaN               306.64            NaN  \n3         40.05                  NaN        9988.79  \n4         88.72               442.95        6867.42  \n\n[5 rows x 143 columns]",
      "text/html": "<div>\n<style scoped>\n    .dataframe tbody tr th:only-of-type {\n        vertical-align: middle;\n    }\n\n    .dataframe tbody tr th {\n        vertical-align: top;\n    }\n\n    .dataframe thead th {\n        text-align: right;\n    }\n</style>\n<table border=\"1\" class=\"dataframe\">\n  <thead>\n    <tr style=\"text-align: right;\">\n      <th></th>\n      <th>fold</th>\n      <th>population</th>\n      <th>householdsize</th>\n      <th>racepctblack</th>\n      <th>racePctWhite</th>\n      <th>racePctAsian</th>\n      <th>racePctHisp</th>\n      <th>agePct12t21</th>\n      <th>agePct12t29</th>\n      <th>agePct16t24</th>\n      <th>...</th>\n      <th>burglaries</th>\n      <th>burglPerPop</th>\n      <th>larcenies</th>\n      <th>larcPerPop</th>\n      <th>autoTheft</th>\n      <th>autoTheftPerPop</th>\n      <th>arsons</th>\n      <th>arsonsPerPop</th>\n      <th>ViolentCrimesPerPop</th>\n      <th>nonViolPerPop</th>\n    </tr>\n  </thead>\n  <tbody>\n    <tr>\n      <th>0</th>\n      <td>1</td>\n      <td>23123</td>\n      <td>2.82</td>\n      <td>0.80</td>\n      <td>95.57</td>\n      <td>3.44</td>\n      <td>0.85</td>\n      <td>11.01</td>\n      <td>21.30</td>\n      <td>10.48</td>\n      <td>...</td>\n      <td>57.0</td>\n      <td>242.37</td>\n      <td>376.0</td>\n      <td>1598.78</td>\n      <td>26.0</td>\n      <td>110.55</td>\n      <td>1.0</td>\n      <td>4.25</td>\n      <td>127.56</td>\n      <td>1955.95</td>\n    </tr>\n    <tr>\n      <th>1</th>\n      <td>1</td>\n      <td>29344</td>\n      <td>2.43</td>\n      <td>0.74</td>\n      <td>94.33</td>\n      <td>3.43</td>\n      <td>2.35</td>\n      <td>11.36</td>\n      <td>25.88</td>\n      <td>11.01</td>\n      <td>...</td>\n      <td>274.0</td>\n      <td>758.14</td>\n      <td>1797.0</td>\n      <td>4972.19</td>\n      <td>136.0</td>\n      <td>376.30</td>\n      <td>22.0</td>\n      <td>60.87</td>\n      <td>218.59</td>\n      <td>6167.51</td>\n    </tr>\n    <tr>\n      <th>2</th>\n      <td>1</td>\n      <td>16656</td>\n      <td>2.40</td>\n      <td>1.70</td>\n      <td>97.35</td>\n      <td>0.50</td>\n      <td>0.70</td>\n      <td>12.55</td>\n      <td>25.20</td>\n      <td>12.19</td>\n      <td>...</td>\n      <td>225.0</td>\n      <td>1301.78</td>\n      <td>716.0</td>\n      <td>4142.56</td>\n      <td>47.0</td>\n      <td>271.93</td>\n      <td>NaN</td>\n      <td>NaN</td>\n      <td>306.64</td>\n      <td>NaN</td>\n    </tr>\n    <tr>\n      <th>3</th>\n      <td>1</td>\n      <td>11245</td>\n      <td>2.76</td>\n      <td>0.53</td>\n      <td>89.16</td>\n      <td>1.17</td>\n      <td>0.52</td>\n      <td>24.46</td>\n      <td>40.53</td>\n      <td>28.69</td>\n      <td>...</td>\n      <td>91.0</td>\n      <td>728.93</td>\n      <td>1060.0</td>\n      <td>8490.87</td>\n      <td>91.0</td>\n      <td>728.93</td>\n      <td>5.0</td>\n      <td>40.05</td>\n      <td>NaN</td>\n      <td>9988.79</td>\n    </tr>\n    <tr>\n      <th>4</th>\n      <td>1</td>\n      <td>140494</td>\n      <td>2.45</td>\n      <td>2.51</td>\n      <td>95.65</td>\n      <td>0.90</td>\n      <td>0.95</td>\n      <td>18.09</td>\n      <td>32.89</td>\n      <td>20.04</td>\n      <td>...</td>\n      <td>2094.0</td>\n      <td>1386.46</td>\n      <td>7690.0</td>\n      <td>5091.64</td>\n      <td>454.0</td>\n      <td>300.60</td>\n      <td>134.0</td>\n      <td>88.72</td>\n      <td>442.95</td>\n      <td>6867.42</td>\n    </tr>\n  </tbody>\n</table>\n<p>5 rows × 143 columns</p>\n</div>"
     },
     "execution_count": 16,
     "metadata": {},
     "output_type": "execute_result"
    }
   ],
   "source": [
    "data.head(5)"
   ]
  },
  {
   "cell_type": "code",
   "execution_count": 17,
   "metadata": {
    "pycharm": {
     "name": "#%%\n"
    }
   },
   "outputs": [
    {
     "data": {
      "text/plain": "(2214, 143)"
     },
     "execution_count": 17,
     "metadata": {},
     "output_type": "execute_result"
    }
   ],
   "source": [
    "data.shape"
   ]
  },
  {
   "cell_type": "code",
   "execution_count": 18,
   "metadata": {
    "pycharm": {
     "name": "#%%\n"
    }
   },
   "outputs": [
    {
     "data": {
      "text/plain": "              fold    population  householdsize  racepctblack  racePctWhite  \\\ncount  2214.000000  2.214000e+03    2214.000000   2214.000000   2214.000000   \nmean      5.496387  5.313657e+04       2.707150      9.338699     83.976296   \nstd       2.871984  2.046646e+05       0.334091     14.249369     16.421952   \nmin       1.000000  1.000500e+04       1.600000      0.000000      2.680000   \n25%       3.000000  1.437125e+04       2.500000      0.860000     76.310000   \n50%       5.000000  2.280300e+04       2.660000      2.870000     90.350000   \n75%       8.000000  4.304350e+04       2.850000     11.157500     96.227500   \nmax      10.000000  7.322564e+06       5.280000     96.670000     99.630000   \n\n       racePctAsian  racePctHisp  agePct12t21  agePct12t29  agePct16t24  ...  \\\ncount   2214.000000  2214.000000  2214.000000  2214.000000  2214.000000  ...   \nmean       2.668473     7.952918    14.446730    27.647642    13.976518  ...   \nstd        4.474113    14.592557     4.519448     6.181506     5.971745  ...   \nmin        0.030000     0.120000     4.580000     9.380000     4.640000  ...   \n25%        0.620000     0.930000    12.250000    24.420000    11.320000  ...   \n50%        1.230000     2.180000    13.620000    26.780000    12.545000  ...   \n75%        2.670000     7.810000    15.360000    29.207500    14.347500  ...   \nmax       57.460000    95.290000    54.400000    70.510000    63.620000  ...   \n\n         burglaries   burglPerPop      larcenies    larcPerPop      autoTheft  \\\ncount   2211.000000   2211.000000    2211.000000   2211.000000    2211.000000   \nmean     761.574853   1033.845663    2138.533695   3373.992673     516.919041   \nstd     3112.366074    763.276945    7602.173806   1901.148488    3258.883890   \nmin        2.000000     16.920000      10.000000     77.860000       1.000000   \n25%       95.000000    512.185000     392.500000   2040.740000      30.000000   \n50%      205.000000    822.890000     747.000000   3081.290000      75.000000   \n75%      508.000000   1351.095000    1675.000000   4335.630000     233.000000   \nmax    99207.000000  11881.020000  235132.000000  25910.550000  112464.000000   \n\n       autoTheftPerPop       arsons  arsonsPerPop  ViolentCrimesPerPop  \\\ncount      2211.000000  2123.000000   2123.000000          1993.000000   \nmean        474.120629    30.921338     32.161098           589.353914   \nstd         504.727524   180.166592     39.248657           614.816135   \nmin           6.550000     0.000000      0.000000             0.000000   \n25%         157.060000     1.000000      7.670000           161.730000   \n50%         303.090000     5.000000     21.110000           374.070000   \n75%         589.780000    16.000000     42.865000           794.410000   \nmax        4968.590000  5119.000000    436.370000          4877.060000   \n\n       nonViolPerPop  \ncount    2117.000000  \nmean     4909.901535  \nstd      2739.290947  \nmin       116.790000  \n25%      2921.280000  \n50%      4426.270000  \n75%      6230.240000  \nmax     27119.760000  \n\n[8 rows x 143 columns]",
      "text/html": "<div>\n<style scoped>\n    .dataframe tbody tr th:only-of-type {\n        vertical-align: middle;\n    }\n\n    .dataframe tbody tr th {\n        vertical-align: top;\n    }\n\n    .dataframe thead th {\n        text-align: right;\n    }\n</style>\n<table border=\"1\" class=\"dataframe\">\n  <thead>\n    <tr style=\"text-align: right;\">\n      <th></th>\n      <th>fold</th>\n      <th>population</th>\n      <th>householdsize</th>\n      <th>racepctblack</th>\n      <th>racePctWhite</th>\n      <th>racePctAsian</th>\n      <th>racePctHisp</th>\n      <th>agePct12t21</th>\n      <th>agePct12t29</th>\n      <th>agePct16t24</th>\n      <th>...</th>\n      <th>burglaries</th>\n      <th>burglPerPop</th>\n      <th>larcenies</th>\n      <th>larcPerPop</th>\n      <th>autoTheft</th>\n      <th>autoTheftPerPop</th>\n      <th>arsons</th>\n      <th>arsonsPerPop</th>\n      <th>ViolentCrimesPerPop</th>\n      <th>nonViolPerPop</th>\n    </tr>\n  </thead>\n  <tbody>\n    <tr>\n      <th>count</th>\n      <td>2214.000000</td>\n      <td>2.214000e+03</td>\n      <td>2214.000000</td>\n      <td>2214.000000</td>\n      <td>2214.000000</td>\n      <td>2214.000000</td>\n      <td>2214.000000</td>\n      <td>2214.000000</td>\n      <td>2214.000000</td>\n      <td>2214.000000</td>\n      <td>...</td>\n      <td>2211.000000</td>\n      <td>2211.000000</td>\n      <td>2211.000000</td>\n      <td>2211.000000</td>\n      <td>2211.000000</td>\n      <td>2211.000000</td>\n      <td>2123.000000</td>\n      <td>2123.000000</td>\n      <td>1993.000000</td>\n      <td>2117.000000</td>\n    </tr>\n    <tr>\n      <th>mean</th>\n      <td>5.496387</td>\n      <td>5.313657e+04</td>\n      <td>2.707150</td>\n      <td>9.338699</td>\n      <td>83.976296</td>\n      <td>2.668473</td>\n      <td>7.952918</td>\n      <td>14.446730</td>\n      <td>27.647642</td>\n      <td>13.976518</td>\n      <td>...</td>\n      <td>761.574853</td>\n      <td>1033.845663</td>\n      <td>2138.533695</td>\n      <td>3373.992673</td>\n      <td>516.919041</td>\n      <td>474.120629</td>\n      <td>30.921338</td>\n      <td>32.161098</td>\n      <td>589.353914</td>\n      <td>4909.901535</td>\n    </tr>\n    <tr>\n      <th>std</th>\n      <td>2.871984</td>\n      <td>2.046646e+05</td>\n      <td>0.334091</td>\n      <td>14.249369</td>\n      <td>16.421952</td>\n      <td>4.474113</td>\n      <td>14.592557</td>\n      <td>4.519448</td>\n      <td>6.181506</td>\n      <td>5.971745</td>\n      <td>...</td>\n      <td>3112.366074</td>\n      <td>763.276945</td>\n      <td>7602.173806</td>\n      <td>1901.148488</td>\n      <td>3258.883890</td>\n      <td>504.727524</td>\n      <td>180.166592</td>\n      <td>39.248657</td>\n      <td>614.816135</td>\n      <td>2739.290947</td>\n    </tr>\n    <tr>\n      <th>min</th>\n      <td>1.000000</td>\n      <td>1.000500e+04</td>\n      <td>1.600000</td>\n      <td>0.000000</td>\n      <td>2.680000</td>\n      <td>0.030000</td>\n      <td>0.120000</td>\n      <td>4.580000</td>\n      <td>9.380000</td>\n      <td>4.640000</td>\n      <td>...</td>\n      <td>2.000000</td>\n      <td>16.920000</td>\n      <td>10.000000</td>\n      <td>77.860000</td>\n      <td>1.000000</td>\n      <td>6.550000</td>\n      <td>0.000000</td>\n      <td>0.000000</td>\n      <td>0.000000</td>\n      <td>116.790000</td>\n    </tr>\n    <tr>\n      <th>25%</th>\n      <td>3.000000</td>\n      <td>1.437125e+04</td>\n      <td>2.500000</td>\n      <td>0.860000</td>\n      <td>76.310000</td>\n      <td>0.620000</td>\n      <td>0.930000</td>\n      <td>12.250000</td>\n      <td>24.420000</td>\n      <td>11.320000</td>\n      <td>...</td>\n      <td>95.000000</td>\n      <td>512.185000</td>\n      <td>392.500000</td>\n      <td>2040.740000</td>\n      <td>30.000000</td>\n      <td>157.060000</td>\n      <td>1.000000</td>\n      <td>7.670000</td>\n      <td>161.730000</td>\n      <td>2921.280000</td>\n    </tr>\n    <tr>\n      <th>50%</th>\n      <td>5.000000</td>\n      <td>2.280300e+04</td>\n      <td>2.660000</td>\n      <td>2.870000</td>\n      <td>90.350000</td>\n      <td>1.230000</td>\n      <td>2.180000</td>\n      <td>13.620000</td>\n      <td>26.780000</td>\n      <td>12.545000</td>\n      <td>...</td>\n      <td>205.000000</td>\n      <td>822.890000</td>\n      <td>747.000000</td>\n      <td>3081.290000</td>\n      <td>75.000000</td>\n      <td>303.090000</td>\n      <td>5.000000</td>\n      <td>21.110000</td>\n      <td>374.070000</td>\n      <td>4426.270000</td>\n    </tr>\n    <tr>\n      <th>75%</th>\n      <td>8.000000</td>\n      <td>4.304350e+04</td>\n      <td>2.850000</td>\n      <td>11.157500</td>\n      <td>96.227500</td>\n      <td>2.670000</td>\n      <td>7.810000</td>\n      <td>15.360000</td>\n      <td>29.207500</td>\n      <td>14.347500</td>\n      <td>...</td>\n      <td>508.000000</td>\n      <td>1351.095000</td>\n      <td>1675.000000</td>\n      <td>4335.630000</td>\n      <td>233.000000</td>\n      <td>589.780000</td>\n      <td>16.000000</td>\n      <td>42.865000</td>\n      <td>794.410000</td>\n      <td>6230.240000</td>\n    </tr>\n    <tr>\n      <th>max</th>\n      <td>10.000000</td>\n      <td>7.322564e+06</td>\n      <td>5.280000</td>\n      <td>96.670000</td>\n      <td>99.630000</td>\n      <td>57.460000</td>\n      <td>95.290000</td>\n      <td>54.400000</td>\n      <td>70.510000</td>\n      <td>63.620000</td>\n      <td>...</td>\n      <td>99207.000000</td>\n      <td>11881.020000</td>\n      <td>235132.000000</td>\n      <td>25910.550000</td>\n      <td>112464.000000</td>\n      <td>4968.590000</td>\n      <td>5119.000000</td>\n      <td>436.370000</td>\n      <td>4877.060000</td>\n      <td>27119.760000</td>\n    </tr>\n  </tbody>\n</table>\n<p>8 rows × 143 columns</p>\n</div>"
     },
     "execution_count": 18,
     "metadata": {},
     "output_type": "execute_result"
    }
   ],
   "source": [
    "data.describe()"
   ]
  },
  {
   "cell_type": "code",
   "execution_count": 19,
   "metadata": {
    "pycharm": {
     "name": "#%%\n"
    }
   },
   "outputs": [],
   "source": [
    "# Print the value counts for categorical columns\n",
    "for col in data.columns:\n",
    "    if data[col].dtype == 'object':\n",
    "        print('\\nColumn Name:', col,)\n",
    "        print(data[col].value_counts())\n",
    "\n",
    "# There are none"
   ]
  },
  {
   "cell_type": "markdown",
   "metadata": {},
   "source": [
    "**Addressing missing values**\n",
    "\n",
    " - If 25% of a columns data is NA, that column is removed\n",
    " - For all other missing values, the column mean is used"
   ]
  },
  {
   "cell_type": "code",
   "execution_count": 20,
   "metadata": {
    "pycharm": {
     "name": "#%%\n"
    }
   },
   "outputs": [
    {
     "data": {
      "text/plain": "PctPolicAsian          1871\nPolicAveOTWorked       1871\nPolicCars              1871\nPolicOperBudg          1871\nLemasPctPolicOnPatr    1871\ndtype: int64"
     },
     "execution_count": 20,
     "metadata": {},
     "output_type": "execute_result"
    }
   ],
   "source": [
    "# Establish how much data is missing\n",
    "data.isnull().sum().sort_values(ascending=False).head()"
   ]
  },
  {
   "cell_type": "code",
   "execution_count": 21,
   "metadata": {},
   "outputs": [],
   "source": [
    "variables_na = []\n",
    "for i in data:\n",
    "    if data[i].isnull().sum() > 554: #find the columns with large amounts of na values\n",
    "        str(i)\n",
    "        variables_na.append(i)\n",
    "        \n",
    "data = data.drop(columns=variables_na) #delete those"
   ]
  },
  {
   "cell_type": "code",
   "execution_count": 22,
   "metadata": {
    "scrolled": true
   },
   "outputs": [
    {
     "data": {
      "text/plain": "(2214, 121)"
     },
     "execution_count": 22,
     "metadata": {},
     "output_type": "execute_result"
    }
   ],
   "source": [
    "data.shape"
   ]
  },
  {
   "cell_type": "code",
   "execution_count": 23,
   "metadata": {
    "pycharm": {
     "name": "#%%\n"
    }
   },
   "outputs": [
    {
     "data": {
      "text/plain": "nonViolPerPop    0\nPctRecImmig8     0\nPctNotHSGrad     0\nPctBSorMore      0\nPctUnemployed    0\ndtype: int64"
     },
     "execution_count": 23,
     "metadata": {},
     "output_type": "execute_result"
    }
   ],
   "source": [
    "# Impute the missing values using SimpleImputer in sklearn.impute\n",
    "imp = SimpleImputer(missing_values=np.nan, strategy='mean')\n",
    "imp.fit(data)\n",
    "data = pd.DataFrame(data=imp.transform(data), columns=data.columns)\n",
    "\n",
    "# Check if there is still missing data\n",
    "data.isnull().sum().sort_values(ascending=False).head()"
   ]
  },
  {
   "cell_type": "code",
   "execution_count": 24,
   "metadata": {
    "pycharm": {
     "name": "#%%\n"
    }
   },
   "outputs": [
    {
     "data": {
      "text/plain": "   fold  population  householdsize  racepctblack  racePctWhite  racePctAsian  \\\n0   1.0     23123.0           2.82          0.80         95.57          3.44   \n1   1.0     29344.0           2.43          0.74         94.33          3.43   \n2   1.0     16656.0           2.40          1.70         97.35          0.50   \n3   1.0     11245.0           2.76          0.53         89.16          1.17   \n4   1.0    140494.0           2.45          2.51         95.65          0.90   \n\n   racePctHisp  agePct12t21  agePct12t29  agePct16t24  ...  burglaries  \\\n0         0.85        11.01        21.30        10.48  ...        57.0   \n1         2.35        11.36        25.88        11.01  ...       274.0   \n2         0.70        12.55        25.20        12.19  ...       225.0   \n3         0.52        24.46        40.53        28.69  ...        91.0   \n4         0.95        18.09        32.89        20.04  ...      2094.0   \n\n   burglPerPop  larcenies  larcPerPop  autoTheft  autoTheftPerPop      arsons  \\\n0       242.37      376.0     1598.78       26.0           110.55    1.000000   \n1       758.14     1797.0     4972.19      136.0           376.30   22.000000   \n2      1301.78      716.0     4142.56       47.0           271.93   30.921338   \n3       728.93     1060.0     8490.87       91.0           728.93    5.000000   \n4      1386.46     7690.0     5091.64      454.0           300.60  134.000000   \n\n   arsonsPerPop  ViolentCrimesPerPop  nonViolPerPop  \n0      4.250000           127.560000    1955.950000  \n1     60.870000           218.590000    6167.510000  \n2     32.161098           306.640000    4909.901535  \n3     40.050000           589.353914    9988.790000  \n4     88.720000           442.950000    6867.420000  \n\n[5 rows x 121 columns]",
      "text/html": "<div>\n<style scoped>\n    .dataframe tbody tr th:only-of-type {\n        vertical-align: middle;\n    }\n\n    .dataframe tbody tr th {\n        vertical-align: top;\n    }\n\n    .dataframe thead th {\n        text-align: right;\n    }\n</style>\n<table border=\"1\" class=\"dataframe\">\n  <thead>\n    <tr style=\"text-align: right;\">\n      <th></th>\n      <th>fold</th>\n      <th>population</th>\n      <th>householdsize</th>\n      <th>racepctblack</th>\n      <th>racePctWhite</th>\n      <th>racePctAsian</th>\n      <th>racePctHisp</th>\n      <th>agePct12t21</th>\n      <th>agePct12t29</th>\n      <th>agePct16t24</th>\n      <th>...</th>\n      <th>burglaries</th>\n      <th>burglPerPop</th>\n      <th>larcenies</th>\n      <th>larcPerPop</th>\n      <th>autoTheft</th>\n      <th>autoTheftPerPop</th>\n      <th>arsons</th>\n      <th>arsonsPerPop</th>\n      <th>ViolentCrimesPerPop</th>\n      <th>nonViolPerPop</th>\n    </tr>\n  </thead>\n  <tbody>\n    <tr>\n      <th>0</th>\n      <td>1.0</td>\n      <td>23123.0</td>\n      <td>2.82</td>\n      <td>0.80</td>\n      <td>95.57</td>\n      <td>3.44</td>\n      <td>0.85</td>\n      <td>11.01</td>\n      <td>21.30</td>\n      <td>10.48</td>\n      <td>...</td>\n      <td>57.0</td>\n      <td>242.37</td>\n      <td>376.0</td>\n      <td>1598.78</td>\n      <td>26.0</td>\n      <td>110.55</td>\n      <td>1.000000</td>\n      <td>4.250000</td>\n      <td>127.560000</td>\n      <td>1955.950000</td>\n    </tr>\n    <tr>\n      <th>1</th>\n      <td>1.0</td>\n      <td>29344.0</td>\n      <td>2.43</td>\n      <td>0.74</td>\n      <td>94.33</td>\n      <td>3.43</td>\n      <td>2.35</td>\n      <td>11.36</td>\n      <td>25.88</td>\n      <td>11.01</td>\n      <td>...</td>\n      <td>274.0</td>\n      <td>758.14</td>\n      <td>1797.0</td>\n      <td>4972.19</td>\n      <td>136.0</td>\n      <td>376.30</td>\n      <td>22.000000</td>\n      <td>60.870000</td>\n      <td>218.590000</td>\n      <td>6167.510000</td>\n    </tr>\n    <tr>\n      <th>2</th>\n      <td>1.0</td>\n      <td>16656.0</td>\n      <td>2.40</td>\n      <td>1.70</td>\n      <td>97.35</td>\n      <td>0.50</td>\n      <td>0.70</td>\n      <td>12.55</td>\n      <td>25.20</td>\n      <td>12.19</td>\n      <td>...</td>\n      <td>225.0</td>\n      <td>1301.78</td>\n      <td>716.0</td>\n      <td>4142.56</td>\n      <td>47.0</td>\n      <td>271.93</td>\n      <td>30.921338</td>\n      <td>32.161098</td>\n      <td>306.640000</td>\n      <td>4909.901535</td>\n    </tr>\n    <tr>\n      <th>3</th>\n      <td>1.0</td>\n      <td>11245.0</td>\n      <td>2.76</td>\n      <td>0.53</td>\n      <td>89.16</td>\n      <td>1.17</td>\n      <td>0.52</td>\n      <td>24.46</td>\n      <td>40.53</td>\n      <td>28.69</td>\n      <td>...</td>\n      <td>91.0</td>\n      <td>728.93</td>\n      <td>1060.0</td>\n      <td>8490.87</td>\n      <td>91.0</td>\n      <td>728.93</td>\n      <td>5.000000</td>\n      <td>40.050000</td>\n      <td>589.353914</td>\n      <td>9988.790000</td>\n    </tr>\n    <tr>\n      <th>4</th>\n      <td>1.0</td>\n      <td>140494.0</td>\n      <td>2.45</td>\n      <td>2.51</td>\n      <td>95.65</td>\n      <td>0.90</td>\n      <td>0.95</td>\n      <td>18.09</td>\n      <td>32.89</td>\n      <td>20.04</td>\n      <td>...</td>\n      <td>2094.0</td>\n      <td>1386.46</td>\n      <td>7690.0</td>\n      <td>5091.64</td>\n      <td>454.0</td>\n      <td>300.60</td>\n      <td>134.000000</td>\n      <td>88.720000</td>\n      <td>442.950000</td>\n      <td>6867.420000</td>\n    </tr>\n  </tbody>\n</table>\n<p>5 rows × 121 columns</p>\n</div>"
     },
     "execution_count": 24,
     "metadata": {},
     "output_type": "execute_result"
    }
   ],
   "source": [
    "data.head(5)"
   ]
  },
  {
   "cell_type": "markdown",
   "metadata": {
    "pycharm": {
     "name": "#%% md\n"
    }
   },
   "source": [
    "**Normalize the data set**\n",
    "- Scales each column to values between 0-1 to be better interpreted by the models\n",
    "- CHECK: how normalisation impacts model accuracy\n"
   ]
  },
  {
   "cell_type": "code",
   "execution_count": 25,
   "metadata": {
    "pycharm": {
     "name": "#%%\n"
    }
   },
   "outputs": [
    {
     "data": {
      "text/plain": "              fold   population  householdsize  racepctblack  racePctWhite  \\\ncount  2214.000000  2214.000000    2214.000000   2214.000000   2214.000000   \nmean      0.499599     0.005898       0.300856      0.096604      0.838538   \nstd       0.319109     0.027988       0.090786      0.147402      0.169386   \nmin       0.000000     0.000000       0.000000      0.000000      0.000000   \n25%       0.222222     0.000597       0.244565      0.008896      0.759464   \n50%       0.444444     0.001750       0.288043      0.029689      0.904281   \n75%       0.777778     0.004518       0.339674      0.115418      0.964905   \nmax       1.000000     1.000000       1.000000      1.000000      1.000000   \n\n       racePctAsian  racePctHisp  agePct12t21  agePct12t29  agePct16t24  ...  \\\ncount   2214.000000  2214.000000  2214.000000  2214.000000  2214.000000  ...   \nmean       0.045942     0.082304     0.198048     0.298833     0.158300  ...   \nstd        0.077906     0.153331     0.090716     0.101121     0.101250  ...   \nmin        0.000000     0.000000     0.000000     0.000000     0.000000  ...   \n25%        0.010273     0.008511     0.153954     0.246033     0.113259  ...   \n50%        0.020895     0.021645     0.181453     0.284639     0.134028  ...   \n75%        0.045969     0.080803     0.216379     0.324350     0.164590  ...   \nmax        1.000000     1.000000     1.000000     1.000000     1.000000  ...   \n\n        burglaries  burglPerPop    larcenies   larcPerPop    autoTheft  \\\ncount  2214.000000  2214.000000  2214.000000  2214.000000  2214.000000   \nmean      0.007657     0.085715     0.009053     0.127595     0.004587   \nstd       0.031352     0.064291     0.032311     0.073545     0.028958   \nmin       0.000000     0.000000     0.000000     0.000000     0.000000   \n25%       0.000937     0.041806     0.001631     0.076008     0.000258   \n50%       0.002046     0.068003     0.003145     0.116325     0.000658   \n75%       0.005138     0.112280     0.007089     0.164794     0.002072   \nmax       1.000000     1.000000     1.000000     1.000000     1.000000   \n\n       autoTheftPerPop       arsons  arsonsPerPop  ViolentCrimesPerPop  \\\ncount      2214.000000  2214.000000   2214.000000          2214.000000   \nmean          0.094230     0.006041      0.073701             0.120842   \nstd           0.101649     0.034464      0.088075             0.119603   \nmin           0.000000     0.000000      0.000000             0.000000   \n25%           0.030337     0.000195      0.018293             0.038042   \n50%           0.059786     0.001172      0.051287             0.091446   \n75%           0.117481     0.003516      0.094971             0.148042   \nmax           1.000000     1.000000      1.000000             1.000000   \n\n       nonViolPerPop  \ncount    2214.000000  \nmean        0.177503  \nstd         0.099196  \nmin         0.000000  \n25%         0.106590  \n50%         0.165324  \n75%         0.221616  \nmax         1.000000  \n\n[8 rows x 121 columns]",
      "text/html": "<div>\n<style scoped>\n    .dataframe tbody tr th:only-of-type {\n        vertical-align: middle;\n    }\n\n    .dataframe tbody tr th {\n        vertical-align: top;\n    }\n\n    .dataframe thead th {\n        text-align: right;\n    }\n</style>\n<table border=\"1\" class=\"dataframe\">\n  <thead>\n    <tr style=\"text-align: right;\">\n      <th></th>\n      <th>fold</th>\n      <th>population</th>\n      <th>householdsize</th>\n      <th>racepctblack</th>\n      <th>racePctWhite</th>\n      <th>racePctAsian</th>\n      <th>racePctHisp</th>\n      <th>agePct12t21</th>\n      <th>agePct12t29</th>\n      <th>agePct16t24</th>\n      <th>...</th>\n      <th>burglaries</th>\n      <th>burglPerPop</th>\n      <th>larcenies</th>\n      <th>larcPerPop</th>\n      <th>autoTheft</th>\n      <th>autoTheftPerPop</th>\n      <th>arsons</th>\n      <th>arsonsPerPop</th>\n      <th>ViolentCrimesPerPop</th>\n      <th>nonViolPerPop</th>\n    </tr>\n  </thead>\n  <tbody>\n    <tr>\n      <th>count</th>\n      <td>2214.000000</td>\n      <td>2214.000000</td>\n      <td>2214.000000</td>\n      <td>2214.000000</td>\n      <td>2214.000000</td>\n      <td>2214.000000</td>\n      <td>2214.000000</td>\n      <td>2214.000000</td>\n      <td>2214.000000</td>\n      <td>2214.000000</td>\n      <td>...</td>\n      <td>2214.000000</td>\n      <td>2214.000000</td>\n      <td>2214.000000</td>\n      <td>2214.000000</td>\n      <td>2214.000000</td>\n      <td>2214.000000</td>\n      <td>2214.000000</td>\n      <td>2214.000000</td>\n      <td>2214.000000</td>\n      <td>2214.000000</td>\n    </tr>\n    <tr>\n      <th>mean</th>\n      <td>0.499599</td>\n      <td>0.005898</td>\n      <td>0.300856</td>\n      <td>0.096604</td>\n      <td>0.838538</td>\n      <td>0.045942</td>\n      <td>0.082304</td>\n      <td>0.198048</td>\n      <td>0.298833</td>\n      <td>0.158300</td>\n      <td>...</td>\n      <td>0.007657</td>\n      <td>0.085715</td>\n      <td>0.009053</td>\n      <td>0.127595</td>\n      <td>0.004587</td>\n      <td>0.094230</td>\n      <td>0.006041</td>\n      <td>0.073701</td>\n      <td>0.120842</td>\n      <td>0.177503</td>\n    </tr>\n    <tr>\n      <th>std</th>\n      <td>0.319109</td>\n      <td>0.027988</td>\n      <td>0.090786</td>\n      <td>0.147402</td>\n      <td>0.169386</td>\n      <td>0.077906</td>\n      <td>0.153331</td>\n      <td>0.090716</td>\n      <td>0.101121</td>\n      <td>0.101250</td>\n      <td>...</td>\n      <td>0.031352</td>\n      <td>0.064291</td>\n      <td>0.032311</td>\n      <td>0.073545</td>\n      <td>0.028958</td>\n      <td>0.101649</td>\n      <td>0.034464</td>\n      <td>0.088075</td>\n      <td>0.119603</td>\n      <td>0.099196</td>\n    </tr>\n    <tr>\n      <th>min</th>\n      <td>0.000000</td>\n      <td>0.000000</td>\n      <td>0.000000</td>\n      <td>0.000000</td>\n      <td>0.000000</td>\n      <td>0.000000</td>\n      <td>0.000000</td>\n      <td>0.000000</td>\n      <td>0.000000</td>\n      <td>0.000000</td>\n      <td>...</td>\n      <td>0.000000</td>\n      <td>0.000000</td>\n      <td>0.000000</td>\n      <td>0.000000</td>\n      <td>0.000000</td>\n      <td>0.000000</td>\n      <td>0.000000</td>\n      <td>0.000000</td>\n      <td>0.000000</td>\n      <td>0.000000</td>\n    </tr>\n    <tr>\n      <th>25%</th>\n      <td>0.222222</td>\n      <td>0.000597</td>\n      <td>0.244565</td>\n      <td>0.008896</td>\n      <td>0.759464</td>\n      <td>0.010273</td>\n      <td>0.008511</td>\n      <td>0.153954</td>\n      <td>0.246033</td>\n      <td>0.113259</td>\n      <td>...</td>\n      <td>0.000937</td>\n      <td>0.041806</td>\n      <td>0.001631</td>\n      <td>0.076008</td>\n      <td>0.000258</td>\n      <td>0.030337</td>\n      <td>0.000195</td>\n      <td>0.018293</td>\n      <td>0.038042</td>\n      <td>0.106590</td>\n    </tr>\n    <tr>\n      <th>50%</th>\n      <td>0.444444</td>\n      <td>0.001750</td>\n      <td>0.288043</td>\n      <td>0.029689</td>\n      <td>0.904281</td>\n      <td>0.020895</td>\n      <td>0.021645</td>\n      <td>0.181453</td>\n      <td>0.284639</td>\n      <td>0.134028</td>\n      <td>...</td>\n      <td>0.002046</td>\n      <td>0.068003</td>\n      <td>0.003145</td>\n      <td>0.116325</td>\n      <td>0.000658</td>\n      <td>0.059786</td>\n      <td>0.001172</td>\n      <td>0.051287</td>\n      <td>0.091446</td>\n      <td>0.165324</td>\n    </tr>\n    <tr>\n      <th>75%</th>\n      <td>0.777778</td>\n      <td>0.004518</td>\n      <td>0.339674</td>\n      <td>0.115418</td>\n      <td>0.964905</td>\n      <td>0.045969</td>\n      <td>0.080803</td>\n      <td>0.216379</td>\n      <td>0.324350</td>\n      <td>0.164590</td>\n      <td>...</td>\n      <td>0.005138</td>\n      <td>0.112280</td>\n      <td>0.007089</td>\n      <td>0.164794</td>\n      <td>0.002072</td>\n      <td>0.117481</td>\n      <td>0.003516</td>\n      <td>0.094971</td>\n      <td>0.148042</td>\n      <td>0.221616</td>\n    </tr>\n    <tr>\n      <th>max</th>\n      <td>1.000000</td>\n      <td>1.000000</td>\n      <td>1.000000</td>\n      <td>1.000000</td>\n      <td>1.000000</td>\n      <td>1.000000</td>\n      <td>1.000000</td>\n      <td>1.000000</td>\n      <td>1.000000</td>\n      <td>1.000000</td>\n      <td>...</td>\n      <td>1.000000</td>\n      <td>1.000000</td>\n      <td>1.000000</td>\n      <td>1.000000</td>\n      <td>1.000000</td>\n      <td>1.000000</td>\n      <td>1.000000</td>\n      <td>1.000000</td>\n      <td>1.000000</td>\n      <td>1.000000</td>\n    </tr>\n  </tbody>\n</table>\n<p>8 rows × 121 columns</p>\n</div>"
     },
     "execution_count": 25,
     "metadata": {},
     "output_type": "execute_result"
    }
   ],
   "source": [
    "scaler = MinMaxScaler()\n",
    "data = pd.DataFrame(scaler.fit_transform(data), columns=data.columns, index=data.index)\n",
    "data.head()\n",
    "data.describe()"
   ]
  },
  {
   "cell_type": "markdown",
   "metadata": {},
   "source": [
    "**Check target variable**\n",
    "- Distribution\n",
    "- Percentiles"
   ]
  },
  {
   "cell_type": "code",
   "execution_count": 26,
   "metadata": {
    "pycharm": {
     "name": "#%%\n"
    }
   },
   "outputs": [
    {
     "data": {
      "text/plain": "count    2214.000000\nmean        0.120842\nstd         0.119603\nmin         0.000000\n25%         0.038042\n50%         0.091446\n75%         0.148042\nmax         1.000000\nName: ViolentCrimesPerPop, dtype: float64"
     },
     "execution_count": 26,
     "metadata": {},
     "output_type": "execute_result"
    }
   ],
   "source": [
    "# Check\n",
    "data['ViolentCrimesPerPop'].value_counts()\n",
    "data['ViolentCrimesPerPop'].describe()"
   ]
  },
  {
   "cell_type": "code",
   "execution_count": 38,
   "metadata": {
    "pycharm": {
     "name": "#%%\n"
    }
   },
   "outputs": [
    {
     "data": {
      "text/plain": "<Figure size 432x288 with 1 Axes>",
      "image/png": "[encoded data removed]"
     },
     "metadata": {
      "needs_background": "light"
     },
     "output_type": "display_data"
    }
   ],
   "source": [
    "# Plot\n",
    "def histo_plot(x):\n",
    "    plt.hist(x, color=(0.2, 0.4, 0.6, 0.6), alpha=0.5)\n",
    "    plt.title(\"'{var_name}' Histogram\".format(var_name=x.name))\n",
    "    plt.ylabel(\"Freq\")\n",
    "    plt.xlabel(\"Value\")\n",
    "    plt.show()\n",
    "histo_plot(data['ViolentCrimesPerPop'])"
   ]
  },
  {
   "cell_type": "code",
   "execution_count": 39,
   "metadata": {
    "pycharm": {
     "name": "#%%\n"
    }
   },
   "outputs": [
    {
     "data": {
      "text/plain": "<Figure size 432x288 with 1 Axes>",
      "image/png": "[encoded data removed]"
     },
     "metadata": {
      "needs_background": "light"
     },
     "output_type": "display_data"
    }
   ],
   "source": [
    "# # Crime percentiles\n",
    "# data['percentile'] = data['ViolentCrimesPerPop'].apply(lambda x: percentileofscore(data['ViolentCrimesPerPop'], x))\n",
    "#\n",
    "# # Plot percentiles for crime\n",
    "# plt.figure(figsize = (6, 4))\n",
    "# plt.plot(data['ViolentCrimesPerPop'], data['percentile'], 'o')\n",
    "# plt.xticks([0, 0.2, 0.4, 0.6, 0.8, 1])\n",
    "# plt.xlabel('Score'); plt.ylabel('Percentile'); plt.title('Crime Percentiles');\n",
    "#\n",
    "# data = data.drop(columns=['percentile'])"
   ]
  },
  {
   "cell_type": "markdown",
   "metadata": {},
   "source": [
    "**Add a Crime Classification column**\n",
    "- Using column quartiles as a suitable threshold base\n",
    "- CHECK: how classification complexity impacts models\n",
    "- NOTE: Using +3 classes would be more informative in our model explorations"
   ]
  },
  {
   "cell_type": "code",
   "execution_count": 29,
   "metadata": {
    "pycharm": {
     "name": "#%%\n"
    }
   },
   "outputs": [],
   "source": [
    "# 3 fold classification based on quartiles\n",
    "data['HighCrime'] = pd.qcut(data['ViolentCrimesPerPop'], 3, [0, 1, 2]) # where 0 = LowCrime, 1 = MediumCrime, 2 = HighCrime\n",
    "# Binary Classification\n",
    "data['HighCrime'] = [0 if x < 2 else 1 for x in data['HighCrime']]\n",
    "\n",
    "# Reformat column\n",
    "data['HighCrime'] = data['HighCrime'].astype(float)"
   ]
  },
  {
   "cell_type": "markdown",
   "metadata": {},
   "source": [
    "**Check Variable Correlations**\n",
    "- No dummy encoding needed because we have no categorical variables"
   ]
  },
  {
   "cell_type": "code",
   "execution_count": 30,
   "metadata": {
    "pycharm": {
     "name": "#%%\n"
    }
   },
   "outputs": [
    {
     "data": {
      "text/plain": "PctKids2Par           -0.594917\nracePctWhite          -0.567260\nPctFam2Par            -0.550897\nPctYoungKids2Par      -0.528323\npctWInvInc            -0.516999\n                         ...   \nrobbbPerPop            0.567220\nburglPerPop            0.572936\nassaultPerPop          0.658918\nViolentCrimesPerPop    0.748396\nHighCrime              1.000000\nName: HighCrime, Length: 122, dtype: float64"
     },
     "execution_count": 30,
     "metadata": {},
     "output_type": "execute_result"
    }
   ],
   "source": [
    "# Correlations of numerical values\n",
    "data.corr()['HighCrime'].sort_values()"
   ]
  },
  {
   "cell_type": "markdown",
   "metadata": {},
   "source": [
    "**Select Top 100 correlated features for analysis**\n",
    "- Split data into Training, Testing and Validation sets\n",
    "- CHECK: how feature complexity impacts model accuracy\n",
    "- NOTE: When variables <=75 or >=125, the models seems to do worse. 100 seems like a good point to avoid curse of dimensionality."
   ]
  },
  {
   "cell_type": "code",
   "execution_count": 31,
   "metadata": {
    "pycharm": {
     "name": "#%%\n"
    }
   },
   "outputs": [],
   "source": [
    "def format_data(df):\n",
    "    '''\n",
    "    Takes in a dataframe, finds the most correlated variables with crime and\n",
    "    returns training and testing datasets\n",
    "    '''\n",
    "    # Drop other predictor variables from features\n",
    "    df = df.drop(columns=['ViolentCrimesPerPop', 'murders','murdPerPop','rapes','rapesPerPop','robberies','robbbPerPop','assaults',\n",
    "           'assaultPerPop','burglaries','burglPerPop','larcenies','larcPerPop','autoTheft','autoTheftPerPop','arsons',\n",
    "           'arsonsPerPop','nonViolPerPop'])\n",
    "\n",
    "    # Find correlations with the Crime\n",
    "    most_correlated = df.corr().abs()['HighCrime'].sort_values(ascending=False)\n",
    "\n",
    "    # Maintain the top 100 most correlation features with Crime\n",
    "    most_correlated = most_correlated[:101]\n",
    "    df = df.loc[:, most_correlated.index]\n",
    "\n",
    "    # split data into x & y\n",
    "    y = df['HighCrime']\n",
    "    x = df.drop(columns=['HighCrime'])\n",
    "\n",
    "    return df, x, y"
   ]
  },
  {
   "cell_type": "code",
   "execution_count": 36,
   "metadata": {
    "pycharm": {
     "name": "#%%\n"
    }
   },
   "outputs": [],
   "source": [
    "# Format data\n",
    "df, x, y = format_data(data)\n",
    "\n",
    "# Split data\n",
    "x_train, x_test, y_train, y_test = train_test_split(x, y, test_size=0.30, random_state=42)"
   ]
  },
  {
   "cell_type": "code",
   "execution_count": 37,
   "metadata": {
    "pycharm": {
     "name": "#%%\n"
    }
   },
   "outputs": [
    {
     "name": "stdout",
     "output_type": "stream",
     "text": [
      "(1549, 100)\n",
      "(665, 100)\n"
     ]
    }
   ],
   "source": [
    "print(x_train.shape)\n",
    "print(x_test.shape)"
   ]
  },
  {
   "cell_type": "markdown",
   "metadata": {},
   "source": [
    "**Visualise Exploratory Analysis**\n",
    "- Correlation coefficients\n",
    "- Distribution by crime category\n",
    "- NOTE: These visuals work best with no more than 10 features - make sure to set the format_data feature selection to 11"
   ]
  },
  {
   "cell_type": "code",
   "execution_count": 34,
   "metadata": {
    "pycharm": {
     "name": "#%%\n"
    }
   },
   "outputs": [],
   "source": [
    "# # CORRELATION COEFFICIENTS\n",
    "# def corrfunc(x, y, **kws):\n",
    "#     r, _ = stats.pearsonr(x, y)\n",
    "#     ax = plt.gca()\n",
    "#     ax.annotate(\"r = {:.2f}\".format(r),\n",
    "#                 xy=(.1, .6), xycoords=ax.transAxes,\n",
    "#                size = 24)\n",
    "#\n",
    "# cmap = sns.cubehelix_palette(light=1, dark = 0.1,\n",
    "#                              hue = 0.5, as_cmap=True)\n",
    "#\n",
    "# sns.set_context(font_scale=2)\n",
    "#\n",
    "# # Pair grid set up\n",
    "# g = sns.PairGrid(x_train)\n",
    "#\n",
    "# # Scatter plot on the upper triangle\n",
    "# g.map_upper(plt.scatter, s=10, color = 'red')\n",
    "#\n",
    "# # Distribution on the diagonal\n",
    "# g.map_diag(sns.distplot, kde=False, color = 'red')\n",
    "#\n",
    "# # Density Plot and Correlation coefficients on the lower triangle\n",
    "# g.map_lower(sns.kdeplot, cmap = cmap)\n",
    "# g.map_lower(corrfunc);\n",
    "#"
   ]
  },
  {
   "cell_type": "code",
   "execution_count": 35,
   "metadata": {
    "pycharm": {
     "name": "#%%\n"
    }
   },
   "outputs": [],
   "source": [
    "# # VARIABLE DISTRIBUTION BY CRIME CATEGORY\n",
    "# # Create relation to the Q3 of Crime column\n",
    "# X_plot = df.copy()\n",
    "# X_plot['relation_Q3'] = (X_plot['HighCrime'] >= 2)\n",
    "# X_plot['relation_Q3'] = X_plot['relation_Q3'].replace({True: 'above', False: 'below'})\n",
    "# X_plot = X_plot.drop(columns=['HighCrime'])\n",
    "#\n",
    "# plt.figure(figsize=(12, 12))\n",
    "# # Plot the distribution of each variable colored\n",
    "# # by the relation to the median grade\n",
    "# for i, col in enumerate(X_plot.columns[:-1]):\n",
    "#     plt.subplot(5, 2, i + 1)\n",
    "#     subset_above = X_plot[X_plot['relation_Q3'] == 'above']\n",
    "#     subset_below = X_plot[X_plot['relation_Q3'] == 'below']\n",
    "#     sns.kdeplot(subset_above[col], label = 'High crime', color = 'red')\n",
    "#     sns.kdeplot(subset_below[col], label = 'Low crime', color = 'green')\n",
    "#     plt.legend(); plt.title('Distribution of %s' % col)\n",
    "#\n",
    "# plt.tight_layout()"
   ]
  }
 ],
 "metadata": {
  "kernelspec": {
   "display_name": "Python 3",
   "language": "python",
   "name": "python3"
  },
  "language_info": {
   "codemirror_mode": {
    "name": "ipython",
    "version": 3
   },
   "file_extension": ".py",
   "mimetype": "text/x-python",
   "name": "python",
   "nbconvert_exporter": "python",
   "pygments_lexer": "ipython3",
   "version": "3.8.5"
  }
 },
 "nbformat": 4,
 "nbformat_minor": 1
}