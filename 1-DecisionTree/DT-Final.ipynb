{
 "cells": [
  {
   "cell_type": "code",
   "execution_count": 1,
   "id": "another-water",
   "metadata": {},
   "outputs": [],
   "source": [
    "cols_final = ['population',\n",
    " 'racepctblack',\n",
    " 'agePct12t29',\n",
    " 'numbUrban',\n",
    " 'medIncome',\n",
    " 'pctWWage',\n",
    " 'pctWInvInc',\n",
    " 'medFamInc',\n",
    " 'perCapInc',\n",
    " 'whitePerCap',\n",
    " 'PctEmploy',\n",
    " 'MalePctDivorce',\n",
    " 'MalePctNevMarr',\n",
    " 'TotalPctDiv',\n",
    " 'PctKids2Par',\n",
    " 'PctWorkMom',\n",
    " 'NumImmig',\n",
    " 'PctRecImmig8',\n",
    " 'PctRecImmig10',\n",
    " 'PctLargHouseOccup',\n",
    " 'PersPerOccupHous',\n",
    " 'PersPerRentOccHous',\n",
    " 'PctPersOwnOccup',\n",
    " 'PctPersDenseHous',\n",
    " 'HousVacant',\n",
    " 'PctHousOwnOcc',\n",
    " 'OwnOccLowQuart',\n",
    " 'OwnOccMedVal',\n",
    " 'RentLowQ',\n",
    " 'RentMedian',\n",
    " 'MedRent',\n",
    " 'MedOwnCostPctIncNoMtg',\n",
    " 'NumStreet']"
   ]
  },
  {
   "cell_type": "code",
   "execution_count": null,
   "id": "surgical-accused",
   "metadata": {},
   "outputs": [],
   "source": []
  }
 ],
 "metadata": {
  "kernelspec": {
   "display_name": "Python 3",
   "language": "python",
   "name": "python3"
  },
  "language_info": {
   "codemirror_mode": {
    "name": "ipython",
    "version": 3
   },
   "file_extension": ".py",
   "mimetype": "text/x-python",
   "name": "python",
   "nbconvert_exporter": "python",
   "pygments_lexer": "ipython3",
   "version": "3.8.5"
  }
 },
 "nbformat": 4,
 "nbformat_minor": 5
}
