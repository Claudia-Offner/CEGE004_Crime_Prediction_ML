{
 "cells": [
  {
   "cell_type": "markdown",
   "metadata": {
    "collapsed": true,
    "pycharm": {
     "name": "#%% md\n"
    }
   },
   "source": [
    "# Ensemble Learning\n",
    "https://www.geeksforgeeks.org/stacking-in-machine-learning-2/\n",
    "https://machinelearningmastery.com/stacking-ensemble-machine-learning-with-python/\n",
    "https://www.kaggle.com/arthurtok/introduction-to-ensembling-stacking-in-python"
   ]
  },
  {
   "cell_type": "markdown",
   "metadata": {},
   "source": [
    "**Load files**"
   ]
  },
  {
   "cell_type": "code",
   "execution_count": 1,
   "metadata": {
    "pycharm": {
     "name": "#%%\n"
    }
   },
   "outputs": [
    {
     "data": {
      "image/png": "[encoded data removed]",
      "text/plain": [
       "<Figure size 432x288 with 1 Axes>"
      ]
     },
     "metadata": {
      "needs_background": "light"
     },
     "output_type": "display_data"
    },
    {
     "data": {
      "image/png": "[encoded data removed]",
      "text/plain": [
       "<Figure size 432x288 with 1 Axes>"
      ]
     },
     "metadata": {
      "needs_background": "light"
     },
     "output_type": "display_data"
    },
    {
     "name": "stdout",
     "output_type": "stream",
     "text": [
      "(1549, 100)\n",
      "(332, 100)\n",
      "(333, 100)\n"
     ]
    }
   ],
   "source": [
    "%run alt_Preprocessing.ipynb"
   ]
  },
  {
   "cell_type": "code",
   "execution_count": 2,
   "metadata": {
    "pycharm": {
     "name": "#%%\n"
    }
   },
   "outputs": [],
   "source": [
    "# import packages\n",
    "from mlxtend.classifier import StackingClassifier\n",
    "from sklearn.linear_model import LogisticRegression\n",
    "from sklearn.metrics import accuracy_score\n",
    "from sklearn.tree import DecisionTreeClassifier\n",
    "from sklearn.svm import SVC\n",
    "from sklearn.naive_bayes import BernoulliNB\n",
    "from keras.wrappers.scikit_learn import KerasClassifier\n",
    "from keras.constraints import maxnorm\n",
    "from keras.layers import Dropout, Dense\n",
    "from keras.models import Sequential\n",
    "from sklearn.model_selection import KFold\n",
    "from sklearn.metrics import confusion_matrix\n",
    "import seaborn as sns\n",
    "from sklearn.model_selection import cross_val_score"
   ]
  },
  {
   "cell_type": "code",
   "execution_count": 3,
   "metadata": {
    "pycharm": {
     "name": "#%%\n"
    }
   },
   "outputs": [],
   "source": [
    "# Load train and test sets from Preprocessing file\n",
    "x_train = x_train\n",
    "y_train = y_train\n",
    "x_test = x_test\n",
    "y_test = y_test"
   ]
  },
  {
   "cell_type": "code",
   "execution_count": 4,
   "metadata": {},
   "outputs": [],
   "source": [
    "# Set classes based on classification complexity decided in pre-processing\n",
    "classes = {'LowCrime': 0, 'HighCrime': 1}"
   ]
  },
  {
   "cell_type": "code",
   "execution_count": 5,
   "metadata": {},
   "outputs": [],
   "source": [
    "# Load function for plotting confusion matrix\n",
    "def plot_confusion_matrix(train_pred, train, dom):\n",
    "    cf = confusion_matrix(train_pred,train)\n",
    "    sns.heatmap(cf,annot=True,yticklabels=classes,xticklabels=classes,cmap='Blues', fmt='g')\n",
    "    plt.title(f'{dom} Confusion matrix')\n",
    "    plt.tight_layout()\n",
    "    plt.show()"
   ]
  },
  {
   "cell_type": "markdown",
   "metadata": {},
   "source": [
    "**Paste Models from Files**"
   ]
  },
  {
   "cell_type": "code",
   "execution_count": 6,
   "metadata": {},
   "outputs": [],
   "source": [
    "# %run DT_FINAL.ipynb"
   ]
  },
  {
   "cell_type": "code",
   "execution_count": 7,
   "metadata": {},
   "outputs": [],
   "source": [
    "# %run IB_FINAL.ipynb"
   ]
  },
  {
   "cell_type": "code",
   "execution_count": 8,
   "metadata": {},
   "outputs": [],
   "source": [
    "# %run B_FINAL.ipynb"
   ]
  },
  {
   "cell_type": "code",
   "execution_count": 9,
   "metadata": {},
   "outputs": [],
   "source": [
    "# %run NN-FINAL.ipynb"
   ]
  },
  {
   "cell_type": "code",
   "execution_count": 10,
   "metadata": {
    "pycharm": {
     "name": "#%%\n"
    }
   },
   "outputs": [],
   "source": [
    "# Function for neural networks\n",
    "\n",
    "def create_model(optimizer='Adagrad', init='glorot_uniform', neurons=1, dropout_rate=0.2):\n",
    "    # create model\n",
    "    model = Sequential()\n",
    "    # adding more layers by trial and error\n",
    "    model.add(Dense(neurons, input_dim=100, kernel_initializer='uniform', activation='linear', kernel_constraint=maxnorm(4)))\n",
    "    model.add(Dropout(dropout_rate))\n",
    "    model.add(Dense(1, kernel_initializer=init, activation='sigmoid')) # kernel_initializer=init\n",
    "    print(model.summary())\n",
    "    # Compile model\n",
    "    model.compile(loss='binary_crossentropy', optimizer=optimizer, metrics=['accuracy'])\n",
    "    return model"
   ]
  },
  {
   "cell_type": "code",
   "execution_count": 11,
   "metadata": {
    "pycharm": {
     "name": "#%%\n"
    }
   },
   "outputs": [],
   "source": [
    "# Load models from files, but for now...\n",
    "dt_model = DecisionTreeClassifier(ccp_alpha=0.01, random_state=40)\n",
    "svm_model = SVC(C=1, gamma=1, probability=True)\n",
    "b_model = BernoulliNB(alpha=1, binarize=None)\n",
    "nn_model = KerasClassifier(build_fn=create_model, epochs=50, batch_size=5, verbose=0)\n",
    "# nn_model = KerasClassifier(build_fn=create_baseline, epochs=100, batch_size=5, verbose=0)\n",
    "# ValueError: Input 0 of layer sequential_1 is incompatible with the layer: expected axis -1 of input shape to have value 103 but received input with shape (None, 100)\n"
   ]
  },
  {
   "cell_type": "markdown",
   "metadata": {},
   "source": [
    "**Implement Ensemble Stacking Classifier**"
   ]
  },
  {
   "cell_type": "code",
   "execution_count": 12,
   "metadata": {
    "pycharm": {
     "name": "#%%\n"
    }
   },
   "outputs": [
    {
     "name": "stdout",
     "output_type": "stream",
     "text": [
      "Model: \"sequential\"\n",
      "_________________________________________________________________\n",
      "Layer (type)                 Output Shape              Param #   \n",
      "=================================================================\n",
      "dense (Dense)                (None, 1)                 101       \n",
      "_________________________________________________________________\n",
      "dropout (Dropout)            (None, 1)                 0         \n",
      "_________________________________________________________________\n",
      "dense_1 (Dense)              (None, 1)                 2         \n",
      "=================================================================\n",
      "Total params: 103\n",
      "Trainable params: 103\n",
      "Non-trainable params: 0\n",
      "_________________________________________________________________\n",
      "None\n",
      "WARNING:tensorflow:From D:\\Anaconda\\envs\\geospatial\\lib\\site-packages\\tensorflow\\python\\keras\\wrappers\\scikit_learn.py:264: Sequential.predict_proba (from tensorflow.python.keras.engine.sequential) is deprecated and will be removed after 2021-01-01.\n",
      "Instructions for updating:\n",
      "Please use `model.predict()` instead.\n"
     ]
    }
   ],
   "source": [
    "# Fit & Train model\n",
    "lr = LogisticRegression()  # defining meta-classifier\n",
    "clf_stack = StackingClassifier(classifiers =[dt_model, svm_model, b_model, nn_model], meta_classifier = lr, use_probas = True, use_features_in_secondary = True)\n",
    "model_stack = clf_stack.fit(x_train, y_train)"
   ]
  },
  {
   "cell_type": "markdown",
   "metadata": {},
   "source": [
    "- use_probas = True indicates the Stacking Classifier uses the prediction probabilities as an input instead of using predictions classes.\n",
    "- use_features_in_secondary = True indicates Stacking Classifier not only take predictions as an input but also uses features in the dataset to predict on new data."
   ]
  },
  {
   "cell_type": "code",
   "execution_count": 13,
   "metadata": {
    "pycharm": {
     "name": "#%%\n"
    }
   },
   "outputs": [
    {
     "name": "stdout",
     "output_type": "stream",
     "text": [
      "Model: \"sequential_1\"\n",
      "_________________________________________________________________\n",
      "Layer (type)                 Output Shape              Param #   \n",
      "=================================================================\n",
      "dense_2 (Dense)              (None, 1)                 101       \n",
      "_________________________________________________________________\n",
      "dropout_1 (Dropout)          (None, 1)                 0         \n",
      "_________________________________________________________________\n",
      "dense_3 (Dense)              (None, 1)                 2         \n",
      "=================================================================\n",
      "Total params: 103\n",
      "Trainable params: 103\n",
      "Non-trainable params: 0\n",
      "_________________________________________________________________\n",
      "None\n"
     ]
    },
    {
     "name": "stderr",
     "output_type": "stream",
     "text": [
      "D:\\Anaconda\\envs\\geospatial\\lib\\site-packages\\sklearn\\linear_model\\_logistic.py:762: ConvergenceWarning: lbfgs failed to converge (status=1):\n",
      "STOP: TOTAL NO. of ITERATIONS REACHED LIMIT.\n",
      "\n",
      "Increase the number of iterations (max_iter) or scale the data as shown in:\n",
      "    https://scikit-learn.org/stable/modules/preprocessing.html\n",
      "Please also refer to the documentation for alternative solver options:\n",
      "    https://scikit-learn.org/stable/modules/linear_model.html#logistic-regression\n",
      "  n_iter_i = _check_optimize_result(\n"
     ]
    }
   ],
   "source": [
    "# Train model\n",
    "model_stack = clf_stack.fit(x_train, y_train)   # training of stacked model\n",
    "pred_stack = model_stack.predict(x_val)       # predictions on test data using stacked model"
   ]
  },
  {
   "cell_type": "code",
   "execution_count": 14,
   "metadata": {
    "pycharm": {
     "name": "#%%\n"
    }
   },
   "outputs": [
    {
     "name": "stdout",
     "output_type": "stream",
     "text": [
      "Accuray score of Stacked model: 84.63855421686746\n"
     ]
    }
   ],
   "source": [
    "# Evaluate model\n",
    "acc_stack = accuracy_score(y_val, pred_stack)  # evaluating accuracy\n",
    "print('Accuray score of Stacked model:', acc_stack * 100)"
   ]
  },
  {
   "cell_type": "markdown",
   "metadata": {},
   "source": [
    "**Perform k-fold cross validation**"
   ]
  },
  {
   "cell_type": "code",
   "execution_count": 15,
   "metadata": {
    "pycharm": {
     "name": "#%%\n"
    }
   },
   "outputs": [
    {
     "data": {
      "image/png": "[encoded data removed]",
      "text/plain": [
       "<Figure size 432x288 with 1 Axes>"
      ]
     },
     "metadata": {
      "needs_background": "light"
     },
     "output_type": "display_data"
    }
   ],
   "source": [
    "# Perform k-fold split on training data\n",
    "kf =KFold(n_splits=10, shuffle=True, random_state=42)\n",
    "kfold_scores = {}\n",
    "for i in range(2,12):\n",
    "    kf =KFold(n_splits=i, shuffle=True, random_state=42)\n",
    "    score = cross_val_score(model_stack, x_train, y_train, scoring='accuracy', cv=kf, n_jobs=-1)\n",
    "    res = {str(i): score.mean()}\n",
    "    kfold_scores.update(res)\n",
    "\n",
    "for key in kfold_scores:\n",
    "    plt.bar([key], kfold_scores[key], label=key, color=(0.2, 0.4, 0.6, 0.6))\n",
    "\n",
    "plt.title('K-Fold vs Train Data Accuracy')\n",
    "plt.xlabel('K')\n",
    "plt.ylabel('Accuracy')\n",
    "plt.ylim(0.83, 0.8675)\n",
    "plt.show()"
   ]
  },
  {
   "cell_type": "code",
   "execution_count": 16,
   "metadata": {
    "pycharm": {
     "name": "#%%\n"
    }
   },
   "outputs": [
    {
     "name": "stdout",
     "output_type": "stream",
     "text": [
      "Scores for each fold are: [0.84684685 0.82882883 0.86877828 0.87330317 0.84615385 0.84615385\n",
      " 0.87330317]\n",
      "Average score: 0.85\n",
      "Standard Deviation in score: 0.02\n"
     ]
    }
   ],
   "source": [
    "# Check k-fold split\n",
    "kf =KFold(n_splits=7, shuffle=True, random_state=42)\n",
    "score = cross_val_score(model_stack, x_train, y_train, scoring='accuracy', cv=kf, n_jobs=-1)\n",
    "print(f'Scores for each fold are: {score}')\n",
    "print(f'Average score: {\"{:.2f}\".format(score.mean())}')\n",
    "print(f'Standard Deviation in score: {\"{:.2f}\".format(score.std())}')\n",
    "\n",
    "\n",
    "# Good - most accurate and minimal variation\n",
    "\n"
   ]
  },
  {
   "cell_type": "code",
   "execution_count": 17,
   "metadata": {},
   "outputs": [
    {
     "name": "stdout",
     "output_type": "stream",
     "text": [
      "Ensemble Train Model Accuracy(in %): 92.51129761136217\n",
      "Ensemble Test Model Accuracy(in %): 86.48648648648648\n"
     ]
    },
    {
     "data": {
      "image/png": "[encoded data removed]",
      "text/plain": [
       "<Figure size 432x288 with 2 Axes>"
      ]
     },
     "metadata": {
      "needs_background": "light"
     },
     "output_type": "display_data"
    },
    {
     "data": {
      "image/png": "[encoded data removed]",
      "text/plain": [
       "<Figure size 432x288 with 2 Axes>"
      ]
     },
     "metadata": {
      "needs_background": "light"
     },
     "output_type": "display_data"
    }
   ],
   "source": [
    "# Compare train &  test data\n",
    "y_train_pred = model_stack.predict(x_train)\n",
    "y_test_pred = model_stack.predict(x_test)\n",
    "\n",
    "print(f'Ensemble Train Model Accuracy(in %): {accuracy_score(y_train_pred,y_train)*100}')\n",
    "print(f'Ensemble Test Model Accuracy(in %): {accuracy_score(y_test_pred,y_test)*100}')\n",
    "plot_confusion_matrix(y_train_pred,y_train,dom='Train')\n",
    "plot_confusion_matrix(y_test_pred,y_test,dom='Test')"
   ]
  }
 ],
 "metadata": {
  "kernelspec": {
   "display_name": "Python 3",
   "language": "python",
   "name": "python3"
  },
  "language_info": {
   "codemirror_mode": {
    "name": "ipython",
    "version": 3
   },
   "file_extension": ".py",
   "mimetype": "text/x-python",
   "name": "python",
   "nbconvert_exporter": "python",
   "pygments_lexer": "ipython3",
   "version": "3.8.5"
  }
 },
 "nbformat": 4,
 "nbformat_minor": 1
}
