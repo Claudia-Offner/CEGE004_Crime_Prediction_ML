{
 "cells": [
  {
   "cell_type": "markdown",
   "metadata": {
    "collapsed": true,
    "pycharm": {
     "name": "#%% md\n"
    }
   },
   "source": [
    "# Ensemble Learning\n",
    "https://www.geeksforgeeks.org/stacking-in-machine-learning-2/\n",
    "https://machinelearningmastery.com/stacking-ensemble-machine-learning-with-python/\n",
    "https://www.kaggle.com/arthurtok/introduction-to-ensembling-stacking-in-python"
   ]
  },
  {
   "cell_type": "markdown",
   "source": [
    "**Load files**"
   ],
   "metadata": {
    "collapsed": false
   }
  },
  {
   "cell_type": "code",
   "execution_count": 1,
   "outputs": [],
   "source": [
    "# %run DT_FINAL.ipynb"
   ],
   "metadata": {
    "collapsed": false,
    "pycharm": {
     "name": "#%%\n"
    }
   }
  },
  {
   "cell_type": "code",
   "execution_count": 2,
   "outputs": [],
   "source": [
    "# %run IB_FINAL.ipynb"
   ],
   "metadata": {
    "collapsed": false,
    "pycharm": {
     "name": "#%%\n"
    }
   }
  },
  {
   "cell_type": "code",
   "execution_count": 3,
   "outputs": [],
   "source": [
    "# %run B_FINAL.ipynb"
   ],
   "metadata": {
    "collapsed": false,
    "pycharm": {
     "name": "#%%\n"
    }
   }
  },
  {
   "cell_type": "code",
   "execution_count": 4,
   "outputs": [],
   "source": [
    "# %run NN-FINAL.ipynb"
   ],
   "metadata": {
    "collapsed": false,
    "pycharm": {
     "name": "#%%\n"
    }
   }
  },
  {
   "cell_type": "code",
   "execution_count": 5,
   "outputs": [
    {
     "data": {
      "text/plain": "<Figure size 432x288 with 1 Axes>",
      "image/png": "[encoded data removed]"
     },
     "metadata": {
      "needs_background": "light"
     },
     "output_type": "display_data"
    },
    {
     "data": {
      "text/plain": "<Figure size 432x288 with 1 Axes>",
      "image/png": "[encoded data removed]"
     },
     "metadata": {
      "needs_background": "light"
     },
     "output_type": "display_data"
    },
    {
     "name": "stdout",
     "output_type": "stream",
     "text": [
      "(1549, 100)\n",
      "(332, 100)\n",
      "(333, 100)\n"
     ]
    }
   ],
   "source": [
    "%run alt_Preprocessing.ipynb"
   ],
   "metadata": {
    "collapsed": false,
    "pycharm": {
     "name": "#%%\n"
    }
   }
  },
  {
   "cell_type": "code",
   "execution_count": 6,
   "outputs": [],
   "source": [
    "# import packages\n",
    "from mlxtend.classifier import StackingClassifier\n",
    "from sklearn.linear_model import LogisticRegression\n",
    "from sklearn.metrics import accuracy_score\n",
    "from sklearn.tree import DecisionTreeClassifier\n",
    "from sklearn.svm import SVC\n",
    "from sklearn.naive_bayes import GaussianNB\n",
    "from keras.wrappers.scikit_learn import KerasClassifier\n",
    "from keras.models import Sequential\n",
    "from keras.layers import Dense\n",
    "from sklearn.model_selection import KFold\n",
    "from sklearn.model_selection import cross_val_score"
   ],
   "metadata": {
    "collapsed": false,
    "pycharm": {
     "name": "#%%\n"
    }
   }
  },
  {
   "cell_type": "code",
   "execution_count": 7,
   "outputs": [
    {
     "data": {
      "text/plain": "      PctKids2Par  racePctWhite  PctKidsBornNeverMar  PctFam2Par  \\\n471      0.852719      0.968644             0.040585    0.853037   \n741      0.914782      0.982259             0.021207    0.935013   \n816      0.754173      0.896545             0.044607    0.758035   \n1651     0.554120      0.730789             0.239488    0.590825   \n173      0.545504      0.631253             0.317367    0.606824   \n\n      PctYoungKids2Par  pctWInvInc  PctTeen2Par  FemalePctDiv  \\\n471           0.870099    0.540310     0.874514      0.341760   \n741           0.959584    0.544155     0.861680      0.213904   \n816           0.924644    0.495615     0.720508      0.611084   \n1651          0.725082    0.281028     0.619004      0.316480   \n173           0.758160    0.338099     0.648691      0.288284   \n\n      PctPersOwnOccup  pctWPubAsst  ...  indianPerCap  PctEmplManu  PolicCars  \\\n471          0.898452     0.082885  ...      0.012917     0.550021   0.052251   \n741          0.918977     0.059140  ...      0.012356     0.533347   0.052251   \n816          0.543632     0.067428  ...      0.044227     0.231763   0.052251   \n1651         0.374745     0.171371  ...      0.019450     0.244685   0.052251   \n173          0.479774     0.168459  ...      0.008621     0.165694   0.052251   \n\n      PolicReqPerOffic  PctEmplProfServ  OwnOccQrange  MedYrHousBuilt  \\\n471           0.234794         0.283253      0.129909        0.479167   \n741           0.234794         0.276028      0.201813        0.666667   \n816           0.234794         0.230826      0.529305        0.791667   \n1651          0.234794         0.426639      0.144713        0.687500   \n173           0.234794         0.597443      0.132628        0.604167   \n\n      agePct65up  LemasPctPolicOnPatr  LemasTotReqPerPop  \n471     0.241831             0.856223           0.061316  \n741     0.102328             0.856223           0.061316  \n816     0.145764             0.856223           0.061316  \n1651    0.151634             0.856223           0.061316  \n173     0.159264             0.856223           0.061316  \n\n[5 rows x 100 columns]",
      "text/html": "<div>\n<style scoped>\n    .dataframe tbody tr th:only-of-type {\n        vertical-align: middle;\n    }\n\n    .dataframe tbody tr th {\n        vertical-align: top;\n    }\n\n    .dataframe thead th {\n        text-align: right;\n    }\n</style>\n<table border=\"1\" class=\"dataframe\">\n  <thead>\n    <tr style=\"text-align: right;\">\n      <th></th>\n      <th>PctKids2Par</th>\n      <th>racePctWhite</th>\n      <th>PctKidsBornNeverMar</th>\n      <th>PctFam2Par</th>\n      <th>PctYoungKids2Par</th>\n      <th>pctWInvInc</th>\n      <th>PctTeen2Par</th>\n      <th>FemalePctDiv</th>\n      <th>PctPersOwnOccup</th>\n      <th>pctWPubAsst</th>\n      <th>...</th>\n      <th>indianPerCap</th>\n      <th>PctEmplManu</th>\n      <th>PolicCars</th>\n      <th>PolicReqPerOffic</th>\n      <th>PctEmplProfServ</th>\n      <th>OwnOccQrange</th>\n      <th>MedYrHousBuilt</th>\n      <th>agePct65up</th>\n      <th>LemasPctPolicOnPatr</th>\n      <th>LemasTotReqPerPop</th>\n    </tr>\n  </thead>\n  <tbody>\n    <tr>\n      <th>471</th>\n      <td>0.852719</td>\n      <td>0.968644</td>\n      <td>0.040585</td>\n      <td>0.853037</td>\n      <td>0.870099</td>\n      <td>0.540310</td>\n      <td>0.874514</td>\n      <td>0.341760</td>\n      <td>0.898452</td>\n      <td>0.082885</td>\n      <td>...</td>\n      <td>0.012917</td>\n      <td>0.550021</td>\n      <td>0.052251</td>\n      <td>0.234794</td>\n      <td>0.283253</td>\n      <td>0.129909</td>\n      <td>0.479167</td>\n      <td>0.241831</td>\n      <td>0.856223</td>\n      <td>0.061316</td>\n    </tr>\n    <tr>\n      <th>741</th>\n      <td>0.914782</td>\n      <td>0.982259</td>\n      <td>0.021207</td>\n      <td>0.935013</td>\n      <td>0.959584</td>\n      <td>0.544155</td>\n      <td>0.861680</td>\n      <td>0.213904</td>\n      <td>0.918977</td>\n      <td>0.059140</td>\n      <td>...</td>\n      <td>0.012356</td>\n      <td>0.533347</td>\n      <td>0.052251</td>\n      <td>0.234794</td>\n      <td>0.276028</td>\n      <td>0.201813</td>\n      <td>0.666667</td>\n      <td>0.102328</td>\n      <td>0.856223</td>\n      <td>0.061316</td>\n    </tr>\n    <tr>\n      <th>816</th>\n      <td>0.754173</td>\n      <td>0.896545</td>\n      <td>0.044607</td>\n      <td>0.758035</td>\n      <td>0.924644</td>\n      <td>0.495615</td>\n      <td>0.720508</td>\n      <td>0.611084</td>\n      <td>0.543632</td>\n      <td>0.067428</td>\n      <td>...</td>\n      <td>0.044227</td>\n      <td>0.231763</td>\n      <td>0.052251</td>\n      <td>0.234794</td>\n      <td>0.230826</td>\n      <td>0.529305</td>\n      <td>0.791667</td>\n      <td>0.145764</td>\n      <td>0.856223</td>\n      <td>0.061316</td>\n    </tr>\n    <tr>\n      <th>1651</th>\n      <td>0.554120</td>\n      <td>0.730789</td>\n      <td>0.239488</td>\n      <td>0.590825</td>\n      <td>0.725082</td>\n      <td>0.281028</td>\n      <td>0.619004</td>\n      <td>0.316480</td>\n      <td>0.374745</td>\n      <td>0.171371</td>\n      <td>...</td>\n      <td>0.019450</td>\n      <td>0.244685</td>\n      <td>0.052251</td>\n      <td>0.234794</td>\n      <td>0.426639</td>\n      <td>0.144713</td>\n      <td>0.687500</td>\n      <td>0.151634</td>\n      <td>0.856223</td>\n      <td>0.061316</td>\n    </tr>\n    <tr>\n      <th>173</th>\n      <td>0.545504</td>\n      <td>0.631253</td>\n      <td>0.317367</td>\n      <td>0.606824</td>\n      <td>0.758160</td>\n      <td>0.338099</td>\n      <td>0.648691</td>\n      <td>0.288284</td>\n      <td>0.479774</td>\n      <td>0.168459</td>\n      <td>...</td>\n      <td>0.008621</td>\n      <td>0.165694</td>\n      <td>0.052251</td>\n      <td>0.234794</td>\n      <td>0.597443</td>\n      <td>0.132628</td>\n      <td>0.604167</td>\n      <td>0.159264</td>\n      <td>0.856223</td>\n      <td>0.061316</td>\n    </tr>\n  </tbody>\n</table>\n<p>5 rows × 100 columns</p>\n</div>"
     },
     "execution_count": 7,
     "metadata": {},
     "output_type": "execute_result"
    }
   ],
   "source": [
    "# Load training and validation test\n",
    "x_train.head(5)\n",
    "x_val.head(5)"
   ],
   "metadata": {
    "collapsed": false,
    "pycharm": {
     "name": "#%%\n"
    }
   }
  },
  {
   "cell_type": "code",
   "execution_count": 8,
   "outputs": [],
   "source": [
    "#For neural networks\n",
    "def create_baseline():\n",
    "        model = Sequential()\n",
    "        model.add(Dense(60, activation='sigmoid', input_shape=(103, ))),\n",
    "        model.add(Dense(30, activation='relu')),\n",
    "        model.add(Dense(1, activation = 'sigmoid')),\n",
    "        # compile model\n",
    "        model.compile(loss='binary_crossentropy', optimizer='adam', metrics = ['accuracy'])\n",
    "        return model"
   ],
   "metadata": {
    "collapsed": false,
    "pycharm": {
     "name": "#%%\n"
    }
   }
  },
  {
   "cell_type": "code",
   "execution_count": 9,
   "outputs": [],
   "source": [
    "# Load models from files, but for now...\n",
    "dt_model = DecisionTreeClassifier(ccp_alpha=0.01, random_state=40)\n",
    "svm_model = SVC(kernel='linear', probability=True)\n",
    "gnb_model = GaussianNB(priors=None, var_smoothing=1e-9)\n",
    "# nn_model = KerasClassifier(build_fn=create_baseline, epochs=100, batch_size=5, verbose=0)\n",
    "# ValueError: Input 0 of layer sequential_1 is incompatible with the layer: expected axis -1 of input shape to have value 103 but received input with shape (None, 100)\n"
   ],
   "metadata": {
    "collapsed": false,
    "pycharm": {
     "name": "#%%\n"
    }
   }
  },
  {
   "cell_type": "markdown",
   "source": [
    "**Implement Stacking Classifier**"
   ],
   "metadata": {
    "collapsed": false
   }
  },
  {
   "cell_type": "code",
   "execution_count": 10,
   "outputs": [],
   "source": [
    "# Fit model\n",
    "lr = LogisticRegression()  # defining meta-classifier\n",
    "clf_stack = StackingClassifier(classifiers =[dt_model, svm_model, gnb_model], meta_classifier = lr, use_probas = True, use_features_in_secondary = True)"
   ],
   "metadata": {
    "collapsed": false,
    "pycharm": {
     "name": "#%%\n"
    }
   }
  },
  {
   "cell_type": "markdown",
   "source": [
    "- use_probas = True indicates the Stacking Classifier uses the prediction probabilities as an input instead of using predictions classes.\n",
    "- use_features_in_secondary = True indicates Stacking Classifier not only take predictions as an input but also uses features in the dataset to predict on new data."
   ],
   "metadata": {
    "collapsed": false
   }
  },
  {
   "cell_type": "code",
   "execution_count": 11,
   "outputs": [
    {
     "name": "stderr",
     "output_type": "stream",
     "text": [
      "c:\\programdata\\anaconda3\\envs\\geospatial\\lib\\site-packages\\sklearn\\linear_model\\_logistic.py:765: ConvergenceWarning: lbfgs failed to converge (status=1):\n",
      "STOP: TOTAL NO. of ITERATIONS REACHED LIMIT.\n",
      "\n",
      "Increase the number of iterations (max_iter) or scale the data as shown in:\n",
      "    https://scikit-learn.org/stable/modules/preprocessing.html\n",
      "Please also refer to the documentation for alternative solver options:\n",
      "    https://scikit-learn.org/stable/modules/linear_model.html#logistic-regression\n",
      "  extra_warning_msg=_LOGISTIC_SOLVER_CONVERGENCE_MSG)\n"
     ]
    }
   ],
   "source": [
    "# Train model\n",
    "model_stack = clf_stack.fit(x_train, y_train)   # training of stacked model\n",
    "pred_stack = model_stack.predict(x_val)       # predictions on test data using stacked model"
   ],
   "metadata": {
    "collapsed": false,
    "pycharm": {
     "name": "#%%\n"
    }
   }
  },
  {
   "cell_type": "code",
   "execution_count": 12,
   "outputs": [
    {
     "name": "stdout",
     "output_type": "stream",
     "text": [
      "Accuray score of Stacked model: 86.48648648648648\n"
     ]
    }
   ],
   "source": [
    "# Evaluate model\n",
    "acc_stack = accuracy_score(y_val, pred_stack)  # evaluating accuracy\n",
    "print('Accuray score of Stacked model:', acc_stack * 100)"
   ],
   "metadata": {
    "collapsed": false,
    "pycharm": {
     "name": "#%%\n"
    }
   }
  },
  {
   "cell_type": "markdown",
   "source": [
    "**Perform k-fold cross validation**"
   ],
   "metadata": {
    "collapsed": false
   }
  },
  {
   "cell_type": "code",
   "execution_count": 13,
   "outputs": [
    {
     "data": {
      "text/plain": "<Figure size 432x288 with 1 Axes>",
      "image/png": "[encoded data removed]"
     },
     "metadata": {
      "needs_background": "light"
     },
     "output_type": "display_data"
    }
   ],
   "source": [
    "# Perform k-fold split on all data\n",
    "kf =KFold(n_splits=10, shuffle=True, random_state=42)\n",
    "kfold_scores = {}\n",
    "for i in range(2,12):\n",
    "    kf =KFold(n_splits=i, shuffle=True, random_state=42)\n",
    "    score = cross_val_score(model_stack, x, y, scoring='accuracy', cv=kf, n_jobs=-1)\n",
    "    #print(f'Scores for each fold are: {score}')\n",
    "    #print(f'Number of folds = {i} Average score: {\"{:.2f}\".format(score.mean())}')\n",
    "    res = {str(i): score.mean()}\n",
    "    kfold_scores.update(res)\n",
    "\n",
    "for key in kfold_scores:\n",
    "    plt.bar([key], kfold_scores[key], label=key)\n",
    "\n",
    "plt.title('K-Fold vs Test Data Accuracy')\n",
    "plt.xlabel('K')\n",
    "plt.ylabel('Accuracy')\n",
    "plt.ylim(0.83, 0.86)\n",
    "plt.show()"
   ],
   "metadata": {
    "collapsed": false,
    "pycharm": {
     "name": "#%%\n"
    }
   }
  },
  {
   "cell_type": "code",
   "execution_count": 14,
   "outputs": [
    {
     "name": "stdout",
     "output_type": "stream",
     "text": [
      "Scores for each fold are: [0.87398374 0.84552846 0.86178862 0.8495935  0.86585366 0.85365854\n",
      " 0.85772358 0.82520325 0.85772358]\n",
      "Average score: 0.85\n",
      "Standard Deviation in score: 0.01\n"
     ]
    }
   ],
   "source": [
    "# Check k-fold split\n",
    "kf =KFold(n_splits=9, shuffle=True, random_state=42)\n",
    "score = cross_val_score(model_stack, x, y, scoring='accuracy', cv=kf, n_jobs=-1)\n",
    "print(f'Scores for each fold are: {score}')\n",
    "print(f'Average score: {\"{:.2f}\".format(score.mean())}')\n",
    "print(f'Standard Deviation in score: {\"{:.2f}\".format(score.std())}')\n",
    "\n",
    "# Good - most accurate and minimal variation\n",
    "\n"
   ],
   "metadata": {
    "collapsed": false,
    "pycharm": {
     "name": "#%%\n"
    }
   }
  }
 ],
 "metadata": {
  "kernelspec": {
   "display_name": "Python 3",
   "language": "python",
   "name": "python3"
  },
  "language_info": {
   "codemirror_mode": {
    "name": "ipython",
    "version": 2
   },
   "file_extension": ".py",
   "mimetype": "text/x-python",
   "name": "python",
   "nbconvert_exporter": "python",
   "pygments_lexer": "ipython2",
   "version": "2.7.6"
  }
 },
 "nbformat": 4,
 "nbformat_minor": 0
}