{
 "cells": [
  {
   "cell_type": "code",
   "execution_count": 73,
   "outputs": [
    {
     "name": "stdout",
     "output_type": "stream",
     "text": [
      "C:\\Users\\offne\\Documents\\GitHub\\CEGE0004\n",
      "      communityname state  countyCode  communityCode  fold  population  \\\n",
      "0    Marpletownship    PA        45.0        47616.0     1       23123   \n",
      "1        Tigardcity    OR         NaN            NaN     1       29344   \n",
      "2  Gloversvillecity    NY        35.0        29443.0     1       16656   \n",
      "3       Bemidjicity    MN         7.0         5068.0     1       11245   \n",
      "4   Springfieldcity    MO         NaN            NaN     1      140494   \n",
      "\n",
      "   householdsize  racepctblack  racePctWhite  racePctAsian  ...  burglaries  \\\n",
      "0           2.82          0.80         95.57          3.44  ...        57.0   \n",
      "1           2.43          0.74         94.33          3.43  ...       274.0   \n",
      "2           2.40          1.70         97.35          0.50  ...       225.0   \n",
      "3           2.76          0.53         89.16          1.17  ...        91.0   \n",
      "4           2.45          2.51         95.65          0.90  ...      2094.0   \n",
      "\n",
      "   burglPerPop  larcenies  larcPerPop  autoTheft  autoTheftPerPop  arsons  \\\n",
      "0       242.37      376.0     1598.78       26.0           110.55     1.0   \n",
      "1       758.14     1797.0     4972.19      136.0           376.30    22.0   \n",
      "2      1301.78      716.0     4142.56       47.0           271.93     NaN   \n",
      "3       728.93     1060.0     8490.87       91.0           728.93     5.0   \n",
      "4      1386.46     7690.0     5091.64      454.0           300.60   134.0   \n",
      "\n",
      "   arsonsPerPop  ViolentCrimesPerPop  nonViolPerPop  \n",
      "0          4.25               127.56        1955.95  \n",
      "1         60.87               218.59        6167.51  \n",
      "2           NaN               306.64            NaN  \n",
      "3         40.05                  NaN        9988.79  \n",
      "4         88.72               442.95        6867.42  \n",
      "\n",
      "[5 rows x 147 columns]\n",
      "223.06     3\n",
      "190.95     2\n",
      "103.33     2\n",
      "144.90     2\n",
      "624.31     2\n",
      "          ..\n",
      "369.24     1\n",
      "636.96     1\n",
      "1135.50    1\n",
      "1502.52    1\n",
      "112.50     1\n",
      "Name: ViolentCrimesPerPop, Length: 1972, dtype: int64\n",
      "variables    population  householdsize  racepctblack  racePctWhite  racePctAsian  \\\n",
      "0       23123           2.82          0.80         95.57          3.44   \n",
      "1       29344           2.43          0.74         94.33          3.43   \n",
      "2       16656           2.40          1.70         97.35          0.50   \n",
      "3       11245           2.76          0.53         89.16          1.17   \n",
      "4      140494           2.45          2.51         95.65          0.90   \n",
      "\n",
      "   racePctHisp  agePct12t21  agePct12t29  agePct16t24  agePct65up  ...  \\\n",
      "0         0.85        11.01        21.30        10.48       17.18  ...   \n",
      "1         2.35        11.36        25.88        11.01       10.28  ...   \n",
      "2         0.70        12.55        25.20        12.19       17.57  ...   \n",
      "3         0.52        24.46        40.53        28.69       12.65  ...   \n",
      "4         0.95        18.09        32.89        20.04       13.26  ...   \n",
      "\n",
      "   PctForeignBorn  PctBornSameState  PctSameHouse85  PctSameCity85  \\\n",
      "0            8.30             77.17           71.27          90.22   \n",
      "1            5.00             44.77           36.60          61.26   \n",
      "2            2.04             88.71           56.70          90.17   \n",
      "3            1.74             73.75           42.22          60.34   \n",
      "4            1.49             64.35           42.29          70.61   \n",
      "\n",
      "   PctSameState85  LandArea  PopDens  PctUsePubTrans  LemasPctOfficDrugUn  \\\n",
      "0           96.12      10.6   2186.7            3.84                  0.0   \n",
      "1           82.85      10.6   2780.9            4.37                  0.0   \n",
      "2           96.24       5.2   3217.7            3.31                  0.0   \n",
      "3           89.02      11.5    974.2            0.38                  0.0   \n",
      "4           85.66      70.4   1995.7            0.97                  0.0   \n",
      "\n",
      "   murders  \n",
      "0        0  \n",
      "1        3  \n",
      "2        0  \n",
      "3        0  \n",
      "4        7  \n",
      "\n",
      "[5 rows x 103 columns]\n",
      "crime outcome 0    0\n",
      "1    0\n",
      "2    0\n",
      "3    1\n",
      "4    0\n",
      "Name: ViolentCrimesPerPop, dtype: int64\n",
      "   population  householdsize  racepctblack  racePctWhite  racePctAsian  \\\n",
      "0       23123           2.82          0.80         95.57          3.44   \n",
      "1       29344           2.43          0.74         94.33          3.43   \n",
      "2       16656           2.40          1.70         97.35          0.50   \n",
      "3       11245           2.76          0.53         89.16          1.17   \n",
      "4      140494           2.45          2.51         95.65          0.90   \n",
      "\n",
      "   racePctHisp  agePct12t21  agePct12t29  agePct16t24  agePct65up  ...  \\\n",
      "0         0.85        11.01        21.30        10.48       17.18  ...   \n",
      "1         2.35        11.36        25.88        11.01       10.28  ...   \n",
      "2         0.70        12.55        25.20        12.19       17.57  ...   \n",
      "3         0.52        24.46        40.53        28.69       12.65  ...   \n",
      "4         0.95        18.09        32.89        20.04       13.26  ...   \n",
      "\n",
      "   PctBornSameState  PctSameHouse85  PctSameCity85  PctSameState85  LandArea  \\\n",
      "0             77.17           71.27          90.22           96.12      10.6   \n",
      "1             44.77           36.60          61.26           82.85      10.6   \n",
      "2             88.71           56.70          90.17           96.24       5.2   \n",
      "3             73.75           42.22          60.34           89.02      11.5   \n",
      "4             64.35           42.29          70.61           85.66      70.4   \n",
      "\n",
      "   PopDens  PctUsePubTrans  LemasPctOfficDrugUn  murders  ViolentCrimesPerPop  \n",
      "0   2186.7            3.84                  0.0        0                    0  \n",
      "1   2780.9            4.37                  0.0        3                    0  \n",
      "2   3217.7            3.31                  0.0        0                    0  \n",
      "3    974.2            0.38                  0.0        0                    1  \n",
      "4   1995.7            0.97                  0.0        7                    0  \n",
      "\n",
      "[5 rows x 104 columns]\n",
      "[ 68654.  68742.  69019.  69695.  69904.  69917.  70000.  70039.  70287.\n",
      "  70919.  71274.  71905.  71996.  72369.  74124.  74401.  74472.  74825.\n",
      "  75221.  75905.  76907.  77530.  78965.  79092.  79579.  79797.  80968.\n",
      "  81957.  83275.  83975.  84441.  84498.  86674.  87686.  89395.  91951.\n",
      "  95134. 100077. 101320. 110550. 118456. 123625.]\n"
     ]
    },
    {
     "data": {
      "text/plain": "<Figure size 432x288 with 1 Axes>",
      "image/png": "[encoded data removed]"
     },
     "metadata": {
      "needs_background": "light"
     },
     "output_type": "display_data"
    },
    {
     "data": {
      "text/plain": "<Figure size 432x288 with 1 Axes>",
      "image/png": "[encoded data removed]"
     },
     "metadata": {
      "needs_background": "light"
     },
     "output_type": "display_data"
    }
   ],
   "source": [
    "# load preprocessed data\n",
    "%pwd  #look at the current work dir\n",
    "%cd C:\\\\Users\\\\offne\\\\Documents\\\\GitHub\\\\CEGE0004\n",
    "%run Preprocessing.ipynb"
   ],
   "metadata": {
    "collapsed": false,
    "pycharm": {
     "name": "#%%\n"
    }
   }
  },
  {
   "cell_type": "markdown",
   "source": [
    "# Neural Networks\n",
    "\n",
    "https://www.springboard.com/blog/beginners-guide-neural-network-in-python-scikit-learn-0-18/"
   ],
   "metadata": {
    "collapsed": false
   }
  },
  {
   "cell_type": "code",
   "execution_count": 74,
   "outputs": [],
   "source": [
    "import numpy as np\n",
    "import matplotlib.pyplot as plt\n",
    "from sklearn.preprocessing import StandardScaler\n",
    "from sklearn.neural_network import MLPClassifier"
   ],
   "metadata": {
    "collapsed": false,
    "pycharm": {
     "name": "#%%\n"
    }
   }
  },
  {
   "cell_type": "markdown",
   "source": [
    "**Data Preprocessing**\n",
    "\n",
    "The neural network in Python may have difficulty converging before the maximum number of iterations allowed if the data is not normalized. Multi-layer Perceptron is sensitive to feature scaling, so it is highly recommended to scale your data. Note that you must apply the same scaling to the test set for meaningful results. There are a lot of different methods for normalization of data, we will use the built-in StandardScaler for standardization."
   ],
   "metadata": {
    "collapsed": false
   }
  },
  {
   "cell_type": "code",
   "execution_count": 75,
   "outputs": [],
   "source": [
    "scaler = StandardScaler()\n",
    "# Fit only to the training data\n",
    "scaler.fit(x_train)\n",
    "StandardScaler(copy=True, with_mean=True, with_std=True)\n",
    "# Now apply the transformations to the data:\n",
    "x_train = scaler.transform(x_train)\n",
    "x_test = scaler.transform(x_test)"
   ],
   "metadata": {
    "collapsed": false,
    "pycharm": {
     "name": "#%%\n"
    }
   }
  },
  {
   "cell_type": "markdown",
   "source": [
    "# Train the Model\n",
    "\n",
    "Now it is time to train our model. We create an instance of the model, there are a lot of parameters you can choose to define and customize here, we will only define the hidden_layer_sizes.\n",
    "\n",
    "For this parameter you pass in a tuple consisting of the number of neurons you want at each layer, where the nth entry in the tuple represents the number of neurons in the nth layer of the MLP model.\n",
    "\n",
    "There are many ways to choose these numbers, but for simplicity we will choose 3 layers with the same number of neurons as there are features in our data set along with 500 max iterations.\n",
    "\n",
    "Try playing around with the number of hidden layers and neurons and see how they effect the results of your neural network in Python."
   ],
   "metadata": {
    "collapsed": false
   }
  },
  {
   "cell_type": "code",
   "execution_count": 76,
   "outputs": [
    {
     "data": {
      "text/plain": "MLPClassifier(hidden_layer_sizes=(13, 13, 13), max_iter=500)"
     },
     "execution_count": 76,
     "metadata": {},
     "output_type": "execute_result"
    }
   ],
   "source": [
    "mlp = MLPClassifier(hidden_layer_sizes=(13,13,13),max_iter=500)\n",
    "mlp.fit(x_train,y_train)\n",
    "\n",
    "# Other model parameters to consider...\n",
    "# MLPClassifier(activation='relu', alpha=0.0001, batch_size='auto', beta_1=0.9,\n",
    "#        beta_2=0.999, early_stopping=False, epsilon=1e-08,\n",
    "#        hidden_layer_sizes=(13, 13, 13), learning_rate='constant',\n",
    "#        learning_rate_init=0.001, max_iter=500, momentum=0.9,\n",
    "#        nesterovs_momentum=True, power_t=0.5, random_state=None,\n",
    "#        shuffle=True, solver='adam', tol=0.0001, validation_fraction=0.1,\n",
    "#        verbose=False, warm_start=False)"
   ],
   "metadata": {
    "collapsed": false,
    "pycharm": {
     "name": "#%%\n"
    }
   }
  },
  {
   "cell_type": "markdown",
   "source": [
    "# Predictions"
   ],
   "metadata": {
    "collapsed": false
   }
  },
  {
   "cell_type": "code",
   "execution_count": 77,
   "outputs": [
    {
     "name": "stdout",
     "output_type": "stream",
     "text": [
      "[[283 154]\n",
      " [ 98 130]]\n",
      "              precision    recall  f1-score   support\n",
      "\n",
      "           0       0.74      0.65      0.69       437\n",
      "           1       0.46      0.57      0.51       228\n",
      "\n",
      "    accuracy                           0.62       665\n",
      "   macro avg       0.60      0.61      0.60       665\n",
      "weighted avg       0.65      0.62      0.63       665\n",
      "\n",
      "Accuracy: 0.6210526315789474\n"
     ]
    }
   ],
   "source": [
    "y_pred = mlp.predict(x_test)\n",
    "from sklearn.metrics import classification_report, accuracy_score, confusion_matrix\n",
    "print(confusion_matrix(y_test,y_pred))\n",
    "print(classification_report(y_test,y_pred))\n",
    "print(\"Accuracy:\", accuracy_score(y_test, y_pred))"
   ],
   "metadata": {
    "collapsed": false,
    "pycharm": {
     "name": "#%%\n"
    }
   }
  },
  {
   "cell_type": "markdown",
   "source": [
    "The downside however to using a Multi-Layer Perceptron model is how difficult it is to interpret the model itself. The weights and biases won’t be easily interpretable in relation to which features are important to the model itself.\n",
    "\n",
    "However, if you do want to extract the MLP weights and biases after training your model, you use its public attributes coefs_ and intercepts_.\n",
    "\n",
    "**coefs_** is a list of weight matrices, where weight matrix at index i represents the weights between layer i and layer i+1.\n",
    "\n",
    "**intercepts_** is a list of bias vectors, where the vector at index i represents the bias values added to layer i+1."
   ],
   "metadata": {
    "collapsed": false
   }
  },
  {
   "cell_type": "code",
   "execution_count": 78,
   "outputs": [
    {
     "data": {
      "text/plain": "4"
     },
     "execution_count": 78,
     "metadata": {},
     "output_type": "execute_result"
    }
   ],
   "source": [
    "len(mlp.coefs_)"
   ],
   "metadata": {
    "collapsed": false,
    "pycharm": {
     "name": "#%%\n"
    }
   }
  },
  {
   "cell_type": "code",
   "execution_count": 79,
   "outputs": [
    {
     "data": {
      "text/plain": "103"
     },
     "execution_count": 79,
     "metadata": {},
     "output_type": "execute_result"
    }
   ],
   "source": [
    "len(mlp.coefs_[0])"
   ],
   "metadata": {
    "collapsed": false,
    "pycharm": {
     "name": "#%%\n"
    }
   }
  },
  {
   "cell_type": "code",
   "execution_count": 80,
   "outputs": [
    {
     "data": {
      "text/plain": "13"
     },
     "execution_count": 80,
     "metadata": {},
     "output_type": "execute_result"
    }
   ],
   "source": [
    "len(mlp.intercepts_[0])"
   ],
   "metadata": {
    "collapsed": false,
    "pycharm": {
     "name": "#%%\n"
    }
   }
  },
  {
   "cell_type": "markdown",
   "source": [
    "Other resources:\n",
    "\n",
    "https://humboldt-wi.github.io/blog/research/information_systems_1819/02lstmgruandbeyond/\n",
    "\n",
    "https://www.dummies.com/programming/python/how-to-build-a-simple-neural-network-in-python/"
   ],
   "metadata": {
    "collapsed": false,
    "pycharm": {
     "name": "#%% md\n"
    }
   }
  },
  {
   "cell_type": "markdown",
   "source": [
    "# Random forest classifier\n",
    "\n",
    "https://www.geeksforgeeks.org/random-forest-classifier-using-scikit-learn/\n",
    "\n",
    "https://stackabuse.com/random-forest-algorithm-with-python-and-scikit-learn/"
   ],
   "metadata": {
    "collapsed": false
   }
  },
  {
   "cell_type": "code",
   "execution_count": 90,
   "outputs": [],
   "source": [
    "from sklearn.ensemble import RandomForestClassifier\n",
    "from sklearn import metrics\n",
    "\n",
    "# creating a RF classifier\n",
    "clf = RandomForestClassifier(n_estimators = 100)"
   ],
   "metadata": {
    "collapsed": false,
    "pycharm": {
     "name": "#%%\n"
    }
   }
  },
  {
   "cell_type": "code",
   "execution_count": 91,
   "outputs": [],
   "source": [
    "# Training the model on the training dataset\n",
    "# fit function is used to train the model using the training sets as parameters\n",
    "\n",
    "clf.fit(x_train, y_train)\n",
    "\n",
    "# performing predictions on the test dataset\n",
    "y_pred = clf.predict(x_test)"
   ],
   "metadata": {
    "collapsed": false,
    "pycharm": {
     "name": "#%%\n"
    }
   }
  },
  {
   "cell_type": "code",
   "execution_count": 92,
   "outputs": [
    {
     "name": "stdout",
     "output_type": "stream",
     "text": [
      "ACCURACY OF THE MODEL:  0.7323308270676692\n"
     ]
    }
   ],
   "source": [
    "# using metrics module for accuracy calculation\n",
    "print(\"ACCURACY OF THE MODEL: \", metrics.accuracy_score(y_test, y_pred))"
   ],
   "metadata": {
    "collapsed": false,
    "pycharm": {
     "name": "#%%\n"
    }
   }
  }
 ],
 "metadata": {
  "kernelspec": {
   "name": "python3",
   "language": "python",
   "display_name": "Python 3"
  }
 },
 "nbformat": 4,
 "nbformat_minor": 5
}