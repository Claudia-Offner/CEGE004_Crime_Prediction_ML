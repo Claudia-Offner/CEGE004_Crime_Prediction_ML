{
 "cells": [
  {
   "cell_type": "markdown",
   "id": "seasonal-medium",
   "metadata": {},
   "source": [
    "**Decision Trees**\n",
    "This is the final file for decision trees to predict areas of High Crime. The preprocessing file will provide the x_train and x_test. X_train will be used for the hyper-paramater tuning using K-Fold validation. Then the x_test will provide the final accuracy ouput. \n",
    "\n",
    "This is support to the main essay, which is provided in the PDF. To see the maths and theory behind the process, please read. "
   ]
  },
  {
   "cell_type": "code",
   "execution_count": 1,
   "id": "editorial-parts",
   "metadata": {
    "scrolled": true
   },
   "outputs": [
    {
     "name": "stdout",
     "output_type": "stream",
     "text": [
      "(1549, 100)\n",
      "(665, 100)\n"
     ]
    }
   ],
   "source": [
    "%run Preprocessing.ipynb"
   ]
  },
  {
   "cell_type": "code",
   "execution_count": 5,
   "id": "theoretical-official",
   "metadata": {
    "pycharm": {
     "name": "#%%\n"
    }
   },
   "outputs": [],
   "source": [
    "# Import packages\n",
    "import sklearn.feature_selection\n",
    "from sklearn.tree import DecisionTreeClassifier\n",
    "from sklearn import tree\n",
    "from sklearn import metrics\n",
    "from sklearn.model_selection import GridSearchCV # RandomizedSearchCV\n",
    "from sklearn.metrics import accuracy_score,confusion_matrix\n",
    "import seaborn as sns\n",
    "import pandas as pd\n",
    "from sklearn.model_selection import KFold, StratifiedKFold, cross_val_score\n"
   ]
  },
  {
   "cell_type": "code",
   "execution_count": 3,
   "id": "accessory-pulse",
   "metadata": {
    "pycharm": {
     "name": "#%%\n"
    }
   },
   "outputs": [],
   "source": [
    "x_train = x_train #use for hyperparameter tuning\n",
    "y_train = y_train #use for hyperparameter tuning\n",
    "x_test = x_test #final valication with the kfold\n",
    "y_test = y_test #final valication with the kfold"
   ]
  },
  {
   "cell_type": "markdown",
   "id": "fifteen-woman",
   "metadata": {
    "pycharm": {
     "name": "#%% md\n"
    },
    "scrolled": false
   },
   "source": [
    "**Build Decision tree #1**\n",
    "\n",
    "Firstly, we create a basic DecisionTreeClassifier, and then will slowly tune the parameters, firstly, we need to look at the **max depth**. The cell below will calcaulate the accuracy score for a max depth up to *n*. This is then plotted in a bar graph.\n",
    "\n",
    "For each parameter, we need to create a k-means loop, that then plots the overall figure. \n"
   ]
  },
  {
   "cell_type": "markdown",
   "id": "civil-handling",
   "metadata": {},
   "source": [
    "**Criterion**"
   ]
  },
  {
   "cell_type": "code",
   "execution_count": 7,
   "id": "abroad-coordination",
   "metadata": {
    "scrolled": true
   },
   "outputs": [
    {
     "name": "stdout",
     "output_type": "stream",
     "text": [
      "0.805033928385009\n",
      "0.8108466436997599\n"
     ]
    }
   ],
   "source": [
    "kf =KFold(n_splits=5, shuffle=True, random_state=42)\n",
    "score = cross_val_score(tree.DecisionTreeClassifier(criterion='entropy'), x_train, y_train, cv= kf, scoring=\"accuracy\")\n",
    "print(score.mean())\n",
    "\n",
    "kf =KFold(n_splits=5, shuffle=True, random_state=42)\n",
    "score = cross_val_score(tree.DecisionTreeClassifier(criterion='gini'), x_train, y_train, cv= kf, scoring=\"accuracy\")\n",
    "print(score.mean())"
   ]
  },
  {
   "cell_type": "markdown",
   "id": "south-rochester",
   "metadata": {},
   "source": [
    "**Max Depth**"
   ]
  },
  {
   "cell_type": "code",
   "execution_count": 9,
   "id": "trained-reality",
   "metadata": {
    "scrolled": true
   },
   "outputs": [
    {
     "data": {
      "text/plain": [
       "(0.8, 0.86)"
      ]
     },
     "execution_count": 9,
     "metadata": {},
     "output_type": "execute_result"
    },
    {
     "data": {
      "image/png": "[encoded data removed]",
      "text/plain": [
       "<Figure size 432x288 with 1 Axes>"
      ]
     },
     "metadata": {
      "needs_background": "light"
     },
     "output_type": "display_data"
    }
   ],
   "source": [
    "def get_max_depth(n):\n",
    "    scores ={}\n",
    "    x = list()\n",
    "    y = list()\n",
    "    error = list()\n",
    "    \n",
    "    for i in range(3,n): #first create a for loop for each max depth\n",
    "        value_of_j = [] #this will take the average score for each value of k\n",
    "        \n",
    "        for j in range(2,10): #create a for loop for each kfold\n",
    "            kf =KFold(n_splits=j, shuffle=True, random_state=42)\n",
    "            score = cross_val_score(tree.DecisionTreeClassifier(criterion='gini', max_depth=i), x_train, y_train, cv= kf, scoring=\"accuracy\")\n",
    "            value_of_j.append(score.mean())\n",
    "            \n",
    "        res = {str(i): value_of_j}\n",
    "        scores.update(res) # for each max_depth, the average k_fold score\n",
    "  \n",
    "    return scores\n",
    "            \n",
    "d_max_depth = get_max_depth(10)\n",
    "\n",
    "import numpy as np\n",
    "import statistics \n",
    "x =[]\n",
    "y =[]\n",
    "error = []\n",
    "for key, value in d_max_depth.items():\n",
    "    x.append(key)\n",
    "    y.append(sum(value)/len(value))\n",
    "    error.append(statistics.stdev(value))\n",
    "    \n",
    "xfit = np.linspace(0, 10, 1000)\n",
    "# plt.plot(x, error, 'or')\n",
    "plt.bar(x, y, color=(0.2, 0.4, 0.6, 0.6))\n",
    "plt.errorbar(x, y, yerr = error, barsabove = False, fmt='o', capsize=3, color='red')\n",
    "#plt.errorbar(x, y, yerr = error, ls='-.', fmt='o', capsize=3)\n",
    "plt.xlabel('Max_Depth', fontsize=15)\n",
    "plt.ylabel('Accuracy', fontsize=15)\n",
    "plt.title('Change in Accuracy as Max Depth increases')\n",
    "plt.ylim(0.8, 0.86)"
   ]
  },
  {
   "cell_type": "markdown",
   "id": "arbitrary-rendering",
   "metadata": {},
   "source": [
    "For this dataset, we have shown that the max_depth at 4 provides the highest accuracy with the lowest error."
   ]
  },
  {
   "cell_type": "code",
   "execution_count": 10,
   "id": "cardiovascular-senegal",
   "metadata": {
    "scrolled": true
   },
   "outputs": [],
   "source": [
    "from sklearn.metrics import roc_curve, auc\n",
    "scores ={}\n",
    "x = list()\n",
    "y = list()\n",
    "error = list()\n",
    "\n",
    "min_samples_splits = np.linspace(0.1, 1.0, 10, endpoint=True)\n",
    "\n",
    "for i in min_samples_splits: #first create a for loop for each max depth\n",
    "    value_of_j = [] #this will take the average score for each value of k\n",
    "\n",
    "    for j in range(2,10): #create a for loop for each kfold\n",
    "        kf =KFold(n_splits=j, shuffle=True, random_state=42)\n",
    "        score = cross_val_score(tree.DecisionTreeClassifier(criterion='gini', splitter = 'best', max_depth=4, min_samples_split = i), x_train, y_train, cv= kf, scoring=\"accuracy\")\n",
    "        value_of_j.append(score.mean())\n",
    "\n",
    "    res = {str(i): value_of_j}\n",
    "    scores.update(res) # for each max_depth, the average k_fold score\n",
    "\n",
    "get_min_sample_split = scores\n",
    "\n"
   ]
  },
  {
   "cell_type": "code",
   "execution_count": 11,
   "id": "moderate-ministry",
   "metadata": {},
   "outputs": [
    {
     "data": {
      "text/plain": [
       "(0.0, 1.1)"
      ]
     },
     "execution_count": 11,
     "metadata": {},
     "output_type": "execute_result"
    },
    {
     "data": {
      "image/png": "[encoded data removed]",
      "text/plain": [
       "<Figure size 432x288 with 1 Axes>"
      ]
     },
     "metadata": {
      "needs_background": "light"
     },
     "output_type": "display_data"
    }
   ],
   "source": [
    "import numpy as np\n",
    "import statistics \n",
    "x =[]\n",
    "y =[]\n",
    "error = []\n",
    "for key, value in get_min_sample_split.items():\n",
    "    x.append(key)\n",
    "    y.append(sum(value)/len(value))\n",
    "    error.append(statistics.stdev(value))\n",
    "    \n",
    "x = [round(float(i),2) for i in x]\n",
    "    \n",
    "# plt.plot(x, error, 'or')\n",
    "plt.plot(x, y, color=(0.2, 0.4, 0.6, 0.6), lw=3)\n",
    "plt.errorbar(x, y, yerr = error, barsabove = False, fmt='o', capsize=3, color='red')\n",
    "#plt.errorbar(x, y, yerr = error, ls='-.', fmt='o', capsize=3)\n",
    "plt.xlabel('Min_samples_split', fontsize=15)\n",
    "plt.ylabel('Accuracy', fontsize=15)\n",
    "plt.title('Change in Accuracy as min_samples_split increases')\n",
    "plt.ylim(0.8, 0.86)\n",
    "plt.xlim(0,1.1)"
   ]
  },
  {
   "cell_type": "code",
   "execution_count": 12,
   "id": "greater-preference",
   "metadata": {},
   "outputs": [
    {
     "name": "stdout",
     "output_type": "stream",
     "text": [
      "Accuracy: 0.8406015037593985\n"
     ]
    }
   ],
   "source": [
    "dtree = DecisionTreeClassifier(criterion='gini', splitter = 'best', max_depth=6, min_samples_split =0.1)\n",
    "dtree = dtree.fit(x_train, y_train)\n",
    "#tree.plot_tree(dtree, feature_names=data.columns) \n",
    "\n",
    "# model can then be used to predict !\n",
    "# crime_predict = dtree.predict([[0,1]])\n",
    "\n",
    "y_pred = dtree.predict(x_test)  # Predict the response for test dataset\n",
    "print(\"Accuracy:\",metrics.accuracy_score(y_test, y_pred))"
   ]
  },
  {
   "cell_type": "code",
   "execution_count": 13,
   "id": "particular-handling",
   "metadata": {
    "pycharm": {
     "name": "#%%\n"
    },
    "scrolled": true
   },
   "outputs": [
    {
     "data": {
      "image/svg+xml": [
       "<?xml version=\"1.0\" encoding=\"UTF-8\" standalone=\"no\"?>\r\n",
       "<!DOCTYPE svg PUBLIC \"-//W3C//DTD SVG 1.1//EN\"\r\n",
       " \"http://www.w3.org/Graphics/SVG/1.1/DTD/svg11.dtd\">\r\n",
       "<!-- Generated by graphviz version 2.38.0 (20140413.2041)\r\n",
       " -->\r\n",
       "<!-- Title: Tree Pages: 1 -->\r\n",
       "<svg width=\"1355pt\" height=\"685pt\"\r\n",
       " viewBox=\"0.00 0.00 1354.50 685.00\" xmlns=\"http://www.w3.org/2000/svg\" xmlns:xlink=\"http://www.w3.org/1999/xlink\">\r\n",
       "<g id=\"graph0\" class=\"graph\" transform=\"scale(1 1) rotate(0) translate(4 681)\">\r\n",
       "<title>Tree</title>\r\n",
       "<polygon fill=\"white\" stroke=\"none\" points=\"-4,4 -4,-681 1350.5,-681 1350.5,4 -4,4\"/>\r\n",
       "<!-- 0 -->\r\n",
       "<g id=\"node1\" class=\"node\"><title>0</title>\r\n",
       "<path fill=\"#eead7e\" stroke=\"black\" d=\"M785,-677C785,-677 600,-677 600,-677 594,-677 588,-671 588,-665 588,-665 588,-621 588,-621 588,-615 594,-609 600,-609 600,-609 785,-609 785,-609 791,-609 797,-615 797,-621 797,-621 797,-665 797,-665 797,-671 791,-677 785,-677\"/>\r\n",
       "<text text-anchor=\"start\" x=\"596\" y=\"-661.8\" font-family=\"Helvetica,sans-Serif\" font-size=\"14.00\">PctKidsBornNeverMar ≤ 0.128</text>\r\n",
       "<text text-anchor=\"start\" x=\"655\" y=\"-646.8\" font-family=\"Helvetica,sans-Serif\" font-size=\"14.00\">gini = 0.384</text>\r\n",
       "<text text-anchor=\"start\" x=\"641\" y=\"-631.8\" font-family=\"Helvetica,sans-Serif\" font-size=\"14.00\">samples = 1549</text>\r\n",
       "<text text-anchor=\"start\" x=\"631.5\" y=\"-616.8\" font-family=\"Helvetica,sans-Serif\" font-size=\"14.00\">value = [1148, 401]</text>\r\n",
       "</g>\r\n",
       "<!-- 1 -->\r\n",
       "<g id=\"node2\" class=\"node\"><title>1</title>\r\n",
       "<path fill=\"#e88e4d\" stroke=\"black\" d=\"M642.5,-573C642.5,-573 512.5,-573 512.5,-573 506.5,-573 500.5,-567 500.5,-561 500.5,-561 500.5,-517 500.5,-517 500.5,-511 506.5,-505 512.5,-505 512.5,-505 642.5,-505 642.5,-505 648.5,-505 654.5,-511 654.5,-517 654.5,-517 654.5,-561 654.5,-561 654.5,-567 648.5,-573 642.5,-573\"/>\r\n",
       "<text text-anchor=\"start\" x=\"508.5\" y=\"-557.8\" font-family=\"Helvetica,sans-Serif\" font-size=\"14.00\">racePctWhite ≤ 0.837</text>\r\n",
       "<text text-anchor=\"start\" x=\"540\" y=\"-542.8\" font-family=\"Helvetica,sans-Serif\" font-size=\"14.00\">gini = 0.164</text>\r\n",
       "<text text-anchor=\"start\" x=\"526\" y=\"-527.8\" font-family=\"Helvetica,sans-Serif\" font-size=\"14.00\">samples = 1084</text>\r\n",
       "<text text-anchor=\"start\" x=\"524.5\" y=\"-512.8\" font-family=\"Helvetica,sans-Serif\" font-size=\"14.00\">value = [986, 98]</text>\r\n",
       "</g>\r\n",
       "<!-- 0&#45;&gt;1 -->\r\n",
       "<g id=\"edge1\" class=\"edge\"><title>0&#45;&gt;1</title>\r\n",
       "<path fill=\"none\" stroke=\"black\" d=\"M655.163,-608.884C644.819,-599.709 633.478,-589.65 622.736,-580.123\"/>\r\n",
       "<polygon fill=\"black\" stroke=\"black\" points=\"624.847,-577.317 615.043,-573.299 620.202,-582.553 624.847,-577.317\"/>\r\n",
       "<text text-anchor=\"middle\" x=\"616.538\" y=\"-594.555\" font-family=\"Helvetica,sans-Serif\" font-size=\"14.00\">True</text>\r\n",
       "</g>\r\n",
       "<!-- 22 -->\r\n",
       "<g id=\"node23\" class=\"node\"><title>22</title>\r\n",
       "<path fill=\"#a3d1f3\" stroke=\"black\" d=\"M905,-573C905,-573 712,-573 712,-573 706,-573 700,-567 700,-561 700,-561 700,-517 700,-517 700,-511 706,-505 712,-505 712,-505 905,-505 905,-505 911,-505 917,-511 917,-517 917,-517 917,-561 917,-561 917,-567 911,-573 905,-573\"/>\r\n",
       "<text text-anchor=\"start\" x=\"708\" y=\"-557.8\" font-family=\"Helvetica,sans-Serif\" font-size=\"14.00\">NumKidsBornNeverMar ≤ 0.001</text>\r\n",
       "<text text-anchor=\"start\" x=\"771\" y=\"-542.8\" font-family=\"Helvetica,sans-Serif\" font-size=\"14.00\">gini = 0.454</text>\r\n",
       "<text text-anchor=\"start\" x=\"761\" y=\"-527.8\" font-family=\"Helvetica,sans-Serif\" font-size=\"14.00\">samples = 465</text>\r\n",
       "<text text-anchor=\"start\" x=\"751.5\" y=\"-512.8\" font-family=\"Helvetica,sans-Serif\" font-size=\"14.00\">value = [162, 303]</text>\r\n",
       "</g>\r\n",
       "<!-- 0&#45;&gt;22 -->\r\n",
       "<g id=\"edge22\" class=\"edge\"><title>0&#45;&gt;22</title>\r\n",
       "<path fill=\"none\" stroke=\"black\" d=\"M730.162,-608.884C740.596,-599.709 752.035,-589.65 762.87,-580.123\"/>\r\n",
       "<polygon fill=\"black\" stroke=\"black\" points=\"765.432,-582.531 770.63,-573.299 760.809,-577.274 765.432,-582.531\"/>\r\n",
       "<text text-anchor=\"middle\" x=\"769.028\" y=\"-594.548\" font-family=\"Helvetica,sans-Serif\" font-size=\"14.00\">False</text>\r\n",
       "</g>\r\n",
       "<!-- 2 -->\r\n",
       "<g id=\"node3\" class=\"node\"><title>2</title>\r\n",
       "<path fill=\"#efaf82\" stroke=\"black\" d=\"M285.5,-469C285.5,-469 145.5,-469 145.5,-469 139.5,-469 133.5,-463 133.5,-457 133.5,-457 133.5,-413 133.5,-413 133.5,-407 139.5,-401 145.5,-401 145.5,-401 285.5,-401 285.5,-401 291.5,-401 297.5,-407 297.5,-413 297.5,-413 297.5,-457 297.5,-457 297.5,-463 291.5,-469 285.5,-469\"/>\r\n",
       "<text text-anchor=\"start\" x=\"141.5\" y=\"-453.8\" font-family=\"Helvetica,sans-Serif\" font-size=\"14.00\">PctHousOccup ≤ 0.814</text>\r\n",
       "<text text-anchor=\"start\" x=\"178\" y=\"-438.8\" font-family=\"Helvetica,sans-Serif\" font-size=\"14.00\">gini = 0.393</text>\r\n",
       "<text text-anchor=\"start\" x=\"168\" y=\"-423.8\" font-family=\"Helvetica,sans-Serif\" font-size=\"14.00\">samples = 197</text>\r\n",
       "<text text-anchor=\"start\" x=\"162.5\" y=\"-408.8\" font-family=\"Helvetica,sans-Serif\" font-size=\"14.00\">value = [144, 53]</text>\r\n",
       "</g>\r\n",
       "<!-- 1&#45;&gt;2 -->\r\n",
       "<g id=\"edge2\" class=\"edge\"><title>1&#45;&gt;2</title>\r\n",
       "<path fill=\"none\" stroke=\"black\" d=\"M500.286,-516.244C443.834,-500.337 367.038,-478.699 307.419,-461.9\"/>\r\n",
       "<polygon fill=\"black\" stroke=\"black\" points=\"308.203,-458.484 297.628,-459.141 306.304,-465.222 308.203,-458.484\"/>\r\n",
       "</g>\r\n",
       "<!-- 7 -->\r\n",
       "<g id=\"node8\" class=\"node\"><title>7</title>\r\n",
       "<path fill=\"#e68844\" stroke=\"black\" d=\"M635.5,-469C635.5,-469 519.5,-469 519.5,-469 513.5,-469 507.5,-463 507.5,-457 507.5,-457 507.5,-413 507.5,-413 507.5,-407 513.5,-401 519.5,-401 519.5,-401 635.5,-401 635.5,-401 641.5,-401 647.5,-407 647.5,-413 647.5,-413 647.5,-457 647.5,-457 647.5,-463 641.5,-469 635.5,-469\"/>\r\n",
       "<text text-anchor=\"start\" x=\"515.5\" y=\"-453.8\" font-family=\"Helvetica,sans-Serif\" font-size=\"14.00\">PctKids2Par ≤ 0.72</text>\r\n",
       "<text text-anchor=\"start\" x=\"540\" y=\"-438.8\" font-family=\"Helvetica,sans-Serif\" font-size=\"14.00\">gini = 0.096</text>\r\n",
       "<text text-anchor=\"start\" x=\"530\" y=\"-423.8\" font-family=\"Helvetica,sans-Serif\" font-size=\"14.00\">samples = 887</text>\r\n",
       "<text text-anchor=\"start\" x=\"524.5\" y=\"-408.8\" font-family=\"Helvetica,sans-Serif\" font-size=\"14.00\">value = [842, 45]</text>\r\n",
       "</g>\r\n",
       "<!-- 1&#45;&gt;7 -->\r\n",
       "<g id=\"edge7\" class=\"edge\"><title>1&#45;&gt;7</title>\r\n",
       "<path fill=\"none\" stroke=\"black\" d=\"M577.5,-504.884C577.5,-496.778 577.5,-487.982 577.5,-479.472\"/>\r\n",
       "<polygon fill=\"black\" stroke=\"black\" points=\"581,-479.299 577.5,-469.299 574,-479.299 581,-479.299\"/>\r\n",
       "</g>\r\n",
       "<!-- 3 -->\r\n",
       "<g id=\"node4\" class=\"node\"><title>3</title>\r\n",
       "<path fill=\"#b2d9f5\" stroke=\"black\" d=\"M101,-357.5C101,-357.5 12,-357.5 12,-357.5 6,-357.5 0,-351.5 0,-345.5 0,-345.5 0,-316.5 0,-316.5 0,-310.5 6,-304.5 12,-304.5 12,-304.5 101,-304.5 101,-304.5 107,-304.5 113,-310.5 113,-316.5 113,-316.5 113,-345.5 113,-345.5 113,-351.5 107,-357.5 101,-357.5\"/>\r\n",
       "<text text-anchor=\"start\" x=\"19\" y=\"-342.3\" font-family=\"Helvetica,sans-Serif\" font-size=\"14.00\">gini = 0.471</text>\r\n",
       "<text text-anchor=\"start\" x=\"13\" y=\"-327.3\" font-family=\"Helvetica,sans-Serif\" font-size=\"14.00\">samples = 29</text>\r\n",
       "<text text-anchor=\"start\" x=\"8\" y=\"-312.3\" font-family=\"Helvetica,sans-Serif\" font-size=\"14.00\">value = [11, 18]</text>\r\n",
       "</g>\r\n",
       "<!-- 2&#45;&gt;3 -->\r\n",
       "<g id=\"edge3\" class=\"edge\"><title>2&#45;&gt;3</title>\r\n",
       "<path fill=\"none\" stroke=\"black\" d=\"M163.877,-400.884C144.933,-388.731 123.572,-375.027 104.919,-363.061\"/>\r\n",
       "<polygon fill=\"black\" stroke=\"black\" points=\"106.588,-359.974 96.2811,-357.52 102.808,-365.865 106.588,-359.974\"/>\r\n",
       "</g>\r\n",
       "<!-- 4 -->\r\n",
       "<g id=\"node5\" class=\"node\"><title>4</title>\r\n",
       "<path fill=\"#eca26d\" stroke=\"black\" d=\"M287.5,-365C287.5,-365 143.5,-365 143.5,-365 137.5,-365 131.5,-359 131.5,-353 131.5,-353 131.5,-309 131.5,-309 131.5,-303 137.5,-297 143.5,-297 143.5,-297 287.5,-297 287.5,-297 293.5,-297 299.5,-303 299.5,-309 299.5,-309 299.5,-353 299.5,-353 299.5,-359 293.5,-365 287.5,-365\"/>\r\n",
       "<text text-anchor=\"start\" x=\"139.5\" y=\"-349.8\" font-family=\"Helvetica,sans-Serif\" font-size=\"14.00\">MalePctDivorce ≤ 0.368</text>\r\n",
       "<text text-anchor=\"start\" x=\"182\" y=\"-334.8\" font-family=\"Helvetica,sans-Serif\" font-size=\"14.00\">gini = 0.33</text>\r\n",
       "<text text-anchor=\"start\" x=\"168\" y=\"-319.8\" font-family=\"Helvetica,sans-Serif\" font-size=\"14.00\">samples = 168</text>\r\n",
       "<text text-anchor=\"start\" x=\"162.5\" y=\"-304.8\" font-family=\"Helvetica,sans-Serif\" font-size=\"14.00\">value = [133, 35]</text>\r\n",
       "</g>\r\n",
       "<!-- 2&#45;&gt;4 -->\r\n",
       "<g id=\"edge4\" class=\"edge\"><title>2&#45;&gt;4</title>\r\n",
       "<path fill=\"none\" stroke=\"black\" d=\"M215.5,-400.884C215.5,-392.778 215.5,-383.982 215.5,-375.472\"/>\r\n",
       "<polygon fill=\"black\" stroke=\"black\" points=\"219,-375.299 215.5,-365.299 212,-375.299 219,-375.299\"/>\r\n",
       "</g>\r\n",
       "<!-- 5 -->\r\n",
       "<g id=\"node6\" class=\"node\"><title>5</title>\r\n",
       "<path fill=\"#e78945\" stroke=\"black\" d=\"M129,-253.5C129,-253.5 48,-253.5 48,-253.5 42,-253.5 36,-247.5 36,-241.5 36,-241.5 36,-212.5 36,-212.5 36,-206.5 42,-200.5 48,-200.5 48,-200.5 129,-200.5 129,-200.5 135,-200.5 141,-206.5 141,-212.5 141,-212.5 141,-241.5 141,-241.5 141,-247.5 135,-253.5 129,-253.5\"/>\r\n",
       "<text text-anchor=\"start\" x=\"51\" y=\"-238.3\" font-family=\"Helvetica,sans-Serif\" font-size=\"14.00\">gini = 0.106</text>\r\n",
       "<text text-anchor=\"start\" x=\"45\" y=\"-223.3\" font-family=\"Helvetica,sans-Serif\" font-size=\"14.00\">samples = 71</text>\r\n",
       "<text text-anchor=\"start\" x=\"44\" y=\"-208.3\" font-family=\"Helvetica,sans-Serif\" font-size=\"14.00\">value = [67, 4]</text>\r\n",
       "</g>\r\n",
       "<!-- 4&#45;&gt;5 -->\r\n",
       "<g id=\"edge5\" class=\"edge\"><title>4&#45;&gt;5</title>\r\n",
       "<path fill=\"none\" stroke=\"black\" d=\"M174.267,-296.884C159.478,-285.006 142.844,-271.646 128.189,-259.876\"/>\r\n",
       "<polygon fill=\"black\" stroke=\"black\" points=\"130.263,-257.053 120.275,-253.52 125.88,-262.511 130.263,-257.053\"/>\r\n",
       "</g>\r\n",
       "<!-- 6 -->\r\n",
       "<g id=\"node7\" class=\"node\"><title>6</title>\r\n",
       "<path fill=\"#f1bc96\" stroke=\"black\" d=\"M260,-253.5C260,-253.5 171,-253.5 171,-253.5 165,-253.5 159,-247.5 159,-241.5 159,-241.5 159,-212.5 159,-212.5 159,-206.5 165,-200.5 171,-200.5 171,-200.5 260,-200.5 260,-200.5 266,-200.5 272,-206.5 272,-212.5 272,-212.5 272,-241.5 272,-241.5 272,-247.5 266,-253.5 260,-253.5\"/>\r\n",
       "<text text-anchor=\"start\" x=\"178\" y=\"-238.3\" font-family=\"Helvetica,sans-Serif\" font-size=\"14.00\">gini = 0.435</text>\r\n",
       "<text text-anchor=\"start\" x=\"172\" y=\"-223.3\" font-family=\"Helvetica,sans-Serif\" font-size=\"14.00\">samples = 97</text>\r\n",
       "<text text-anchor=\"start\" x=\"167\" y=\"-208.3\" font-family=\"Helvetica,sans-Serif\" font-size=\"14.00\">value = [66, 31]</text>\r\n",
       "</g>\r\n",
       "<!-- 4&#45;&gt;6 -->\r\n",
       "<g id=\"edge6\" class=\"edge\"><title>4&#45;&gt;6</title>\r\n",
       "<path fill=\"none\" stroke=\"black\" d=\"M215.5,-296.884C215.5,-286.326 215.5,-274.597 215.5,-263.854\"/>\r\n",
       "<polygon fill=\"black\" stroke=\"black\" points=\"219,-263.52 215.5,-253.52 212,-263.52 219,-263.52\"/>\r\n",
       "</g>\r\n",
       "<!-- 8 -->\r\n",
       "<g id=\"node9\" class=\"node\"><title>8</title>\r\n",
       "<path fill=\"#ea985d\" stroke=\"black\" d=\"M589,-365C589,-365 458,-365 458,-365 452,-365 446,-359 446,-353 446,-353 446,-309 446,-309 446,-303 452,-297 458,-297 458,-297 589,-297 589,-297 595,-297 601,-303 601,-309 601,-309 601,-353 601,-353 601,-359 595,-365 589,-365\"/>\r\n",
       "<text text-anchor=\"start\" x=\"454\" y=\"-349.8\" font-family=\"Helvetica,sans-Serif\" font-size=\"14.00\">PctRecImmig5 ≤ 0.13</text>\r\n",
       "<text text-anchor=\"start\" x=\"490\" y=\"-334.8\" font-family=\"Helvetica,sans-Serif\" font-size=\"14.00\">gini = 0.26</text>\r\n",
       "<text text-anchor=\"start\" x=\"476\" y=\"-319.8\" font-family=\"Helvetica,sans-Serif\" font-size=\"14.00\">samples = 202</text>\r\n",
       "<text text-anchor=\"start\" x=\"470.5\" y=\"-304.8\" font-family=\"Helvetica,sans-Serif\" font-size=\"14.00\">value = [171, 31]</text>\r\n",
       "</g>\r\n",
       "<!-- 7&#45;&gt;8 -->\r\n",
       "<g id=\"edge8\" class=\"edge\"><title>7&#45;&gt;8</title>\r\n",
       "<path fill=\"none\" stroke=\"black\" d=\"M559.968,-400.884C555.488,-392.422 550.61,-383.207 545.921,-374.352\"/>\r\n",
       "<polygon fill=\"black\" stroke=\"black\" points=\"548.901,-372.5 541.129,-365.299 542.715,-375.775 548.901,-372.5\"/>\r\n",
       "</g>\r\n",
       "<!-- 15 -->\r\n",
       "<g id=\"node16\" class=\"node\"><title>15</title>\r\n",
       "<path fill=\"#e6843d\" stroke=\"black\" d=\"M767.5,-365C767.5,-365 631.5,-365 631.5,-365 625.5,-365 619.5,-359 619.5,-353 619.5,-353 619.5,-309 619.5,-309 619.5,-303 625.5,-297 631.5,-297 631.5,-297 767.5,-297 767.5,-297 773.5,-297 779.5,-303 779.5,-309 779.5,-309 779.5,-353 779.5,-353 779.5,-359 773.5,-365 767.5,-365\"/>\r\n",
       "<text text-anchor=\"start\" x=\"627.5\" y=\"-349.8\" font-family=\"Helvetica,sans-Serif\" font-size=\"14.00\">PctForeignBorn ≤ 0.51</text>\r\n",
       "<text text-anchor=\"start\" x=\"666\" y=\"-334.8\" font-family=\"Helvetica,sans-Serif\" font-size=\"14.00\">gini = 0.04</text>\r\n",
       "<text text-anchor=\"start\" x=\"652\" y=\"-319.8\" font-family=\"Helvetica,sans-Serif\" font-size=\"14.00\">samples = 685</text>\r\n",
       "<text text-anchor=\"start\" x=\"646.5\" y=\"-304.8\" font-family=\"Helvetica,sans-Serif\" font-size=\"14.00\">value = [671, 14]</text>\r\n",
       "</g>\r\n",
       "<!-- 7&#45;&gt;15 -->\r\n",
       "<g id=\"edge15\" class=\"edge\"><title>7&#45;&gt;15</title>\r\n",
       "<path fill=\"none\" stroke=\"black\" d=\"M617.11,-400.884C628.19,-391.62 640.348,-381.455 651.842,-371.845\"/>\r\n",
       "<polygon fill=\"black\" stroke=\"black\" points=\"654.244,-374.399 659.671,-365.299 649.754,-369.028 654.244,-374.399\"/>\r\n",
       "</g>\r\n",
       "<!-- 9 -->\r\n",
       "<g id=\"node10\" class=\"node\"><title>9</title>\r\n",
       "<path fill=\"#e99355\" stroke=\"black\" d=\"M442.5,-261C442.5,-261 302.5,-261 302.5,-261 296.5,-261 290.5,-255 290.5,-249 290.5,-249 290.5,-205 290.5,-205 290.5,-199 296.5,-193 302.5,-193 302.5,-193 442.5,-193 442.5,-193 448.5,-193 454.5,-199 454.5,-205 454.5,-205 454.5,-249 454.5,-249 454.5,-255 448.5,-261 442.5,-261\"/>\r\n",
       "<text text-anchor=\"start\" x=\"298.5\" y=\"-245.8\" font-family=\"Helvetica,sans-Serif\" font-size=\"14.00\">PctHousOccup ≤ 0.773</text>\r\n",
       "<text text-anchor=\"start\" x=\"335\" y=\"-230.8\" font-family=\"Helvetica,sans-Serif\" font-size=\"14.00\">gini = 0.216</text>\r\n",
       "<text text-anchor=\"start\" x=\"325\" y=\"-215.8\" font-family=\"Helvetica,sans-Serif\" font-size=\"14.00\">samples = 187</text>\r\n",
       "<text text-anchor=\"start\" x=\"319.5\" y=\"-200.8\" font-family=\"Helvetica,sans-Serif\" font-size=\"14.00\">value = [164, 23]</text>\r\n",
       "</g>\r\n",
       "<!-- 8&#45;&gt;9 -->\r\n",
       "<g id=\"edge9\" class=\"edge\"><title>8&#45;&gt;9</title>\r\n",
       "<path fill=\"none\" stroke=\"black\" d=\"M474.475,-296.884C460.293,-287.304 444.685,-276.761 430.035,-266.864\"/>\r\n",
       "<polygon fill=\"black\" stroke=\"black\" points=\"431.783,-263.822 421.538,-261.125 427.865,-269.623 431.783,-263.822\"/>\r\n",
       "</g>\r\n",
       "<!-- 14 -->\r\n",
       "<g id=\"node15\" class=\"node\"><title>14</title>\r\n",
       "<path fill=\"#e6f3fc\" stroke=\"black\" d=\"M564,-253.5C564,-253.5 485,-253.5 485,-253.5 479,-253.5 473,-247.5 473,-241.5 473,-241.5 473,-212.5 473,-212.5 473,-206.5 479,-200.5 485,-200.5 485,-200.5 564,-200.5 564,-200.5 570,-200.5 576,-206.5 576,-212.5 576,-212.5 576,-241.5 576,-241.5 576,-247.5 570,-253.5 564,-253.5\"/>\r\n",
       "<text text-anchor=\"start\" x=\"487\" y=\"-238.3\" font-family=\"Helvetica,sans-Serif\" font-size=\"14.00\">gini = 0.498</text>\r\n",
       "<text text-anchor=\"start\" x=\"481\" y=\"-223.3\" font-family=\"Helvetica,sans-Serif\" font-size=\"14.00\">samples = 15</text>\r\n",
       "<text text-anchor=\"start\" x=\"484\" y=\"-208.3\" font-family=\"Helvetica,sans-Serif\" font-size=\"14.00\">value = [7, 8]</text>\r\n",
       "</g>\r\n",
       "<!-- 8&#45;&gt;14 -->\r\n",
       "<g id=\"edge14\" class=\"edge\"><title>8&#45;&gt;14</title>\r\n",
       "<path fill=\"none\" stroke=\"black\" d=\"M523.825,-296.884C523.928,-286.326 524.043,-274.597 524.148,-263.854\"/>\r\n",
       "<polygon fill=\"black\" stroke=\"black\" points=\"527.652,-263.554 524.25,-253.52 520.652,-263.485 527.652,-263.554\"/>\r\n",
       "</g>\r\n",
       "<!-- 10 -->\r\n",
       "<g id=\"node11\" class=\"node\"><title>10</title>\r\n",
       "<path fill=\"#fae6d7\" stroke=\"black\" d=\"M304,-149.5C304,-149.5 223,-149.5 223,-149.5 217,-149.5 211,-143.5 211,-137.5 211,-137.5 211,-108.5 211,-108.5 211,-102.5 217,-96.5 223,-96.5 223,-96.5 304,-96.5 304,-96.5 310,-96.5 316,-102.5 316,-108.5 316,-108.5 316,-137.5 316,-137.5 316,-143.5 310,-149.5 304,-149.5\"/>\r\n",
       "<text text-anchor=\"start\" x=\"226\" y=\"-134.3\" font-family=\"Helvetica,sans-Serif\" font-size=\"14.00\">gini = 0.494</text>\r\n",
       "<text text-anchor=\"start\" x=\"220\" y=\"-119.3\" font-family=\"Helvetica,sans-Serif\" font-size=\"14.00\">samples = 18</text>\r\n",
       "<text text-anchor=\"start\" x=\"219\" y=\"-104.3\" font-family=\"Helvetica,sans-Serif\" font-size=\"14.00\">value = [10, 8]</text>\r\n",
       "</g>\r\n",
       "<!-- 9&#45;&gt;10 -->\r\n",
       "<g id=\"edge10\" class=\"edge\"><title>9&#45;&gt;10</title>\r\n",
       "<path fill=\"none\" stroke=\"black\" d=\"M337.111,-192.884C324.653,-181.226 310.67,-168.141 298.264,-156.532\"/>\r\n",
       "<polygon fill=\"black\" stroke=\"black\" points=\"300.464,-153.797 290.771,-149.52 295.681,-158.908 300.464,-153.797\"/>\r\n",
       "</g>\r\n",
       "<!-- 11 -->\r\n",
       "<g id=\"node12\" class=\"node\"><title>11</title>\r\n",
       "<path fill=\"#e88d4c\" stroke=\"black\" d=\"M498.5,-157C498.5,-157 346.5,-157 346.5,-157 340.5,-157 334.5,-151 334.5,-145 334.5,-145 334.5,-101 334.5,-101 334.5,-95 340.5,-89 346.5,-89 346.5,-89 498.5,-89 498.5,-89 504.5,-89 510.5,-95 510.5,-101 510.5,-101 510.5,-145 510.5,-145 510.5,-151 504.5,-157 498.5,-157\"/>\r\n",
       "<text text-anchor=\"start\" x=\"342.5\" y=\"-141.8\" font-family=\"Helvetica,sans-Serif\" font-size=\"14.00\">PctSameState85 ≤ 0.627</text>\r\n",
       "<text text-anchor=\"start\" x=\"385\" y=\"-126.8\" font-family=\"Helvetica,sans-Serif\" font-size=\"14.00\">gini = 0.162</text>\r\n",
       "<text text-anchor=\"start\" x=\"375\" y=\"-111.8\" font-family=\"Helvetica,sans-Serif\" font-size=\"14.00\">samples = 169</text>\r\n",
       "<text text-anchor=\"start\" x=\"369.5\" y=\"-96.8\" font-family=\"Helvetica,sans-Serif\" font-size=\"14.00\">value = [154, 15]</text>\r\n",
       "</g>\r\n",
       "<!-- 9&#45;&gt;11 -->\r\n",
       "<g id=\"edge11\" class=\"edge\"><title>9&#45;&gt;11</title>\r\n",
       "<path fill=\"none\" stroke=\"black\" d=\"M388.734,-192.884C392.882,-184.422 397.398,-175.207 401.739,-166.352\"/>\r\n",
       "<polygon fill=\"black\" stroke=\"black\" points=\"404.918,-167.819 406.177,-157.299 398.632,-164.738 404.918,-167.819\"/>\r\n",
       "</g>\r\n",
       "<!-- 12 -->\r\n",
       "<g id=\"node13\" class=\"node\"><title>12</title>\r\n",
       "<path fill=\"#9ccef2\" stroke=\"black\" d=\"M364,-53C364,-53 291,-53 291,-53 285,-53 279,-47 279,-41 279,-41 279,-12 279,-12 279,-6 285,-0 291,-0 291,-0 364,-0 364,-0 370,-0 376,-6 376,-12 376,-12 376,-41 376,-41 376,-47 370,-53 364,-53\"/>\r\n",
       "<text text-anchor=\"start\" x=\"290\" y=\"-37.8\" font-family=\"Helvetica,sans-Serif\" font-size=\"14.00\">gini = 0.444</text>\r\n",
       "<text text-anchor=\"start\" x=\"288\" y=\"-22.8\" font-family=\"Helvetica,sans-Serif\" font-size=\"14.00\">samples = 3</text>\r\n",
       "<text text-anchor=\"start\" x=\"287\" y=\"-7.8\" font-family=\"Helvetica,sans-Serif\" font-size=\"14.00\">value = [1, 2]</text>\r\n",
       "</g>\r\n",
       "<!-- 11&#45;&gt;12 -->\r\n",
       "<g id=\"edge12\" class=\"edge\"><title>11&#45;&gt;12</title>\r\n",
       "<path fill=\"none\" stroke=\"black\" d=\"M389.274,-88.9485C379.985,-79.709 369.894,-69.671 360.612,-60.4381\"/>\r\n",
       "<polygon fill=\"black\" stroke=\"black\" points=\"362.931,-57.8077 353.373,-53.2367 357.994,-62.7705 362.931,-57.8077\"/>\r\n",
       "</g>\r\n",
       "<!-- 13 -->\r\n",
       "<g id=\"node14\" class=\"node\"><title>13</title>\r\n",
       "<path fill=\"#e78c4a\" stroke=\"black\" d=\"M504.5,-53C504.5,-53 406.5,-53 406.5,-53 400.5,-53 394.5,-47 394.5,-41 394.5,-41 394.5,-12 394.5,-12 394.5,-6 400.5,-0 406.5,-0 406.5,-0 504.5,-0 504.5,-0 510.5,-0 516.5,-6 516.5,-12 516.5,-12 516.5,-41 516.5,-41 516.5,-47 510.5,-53 504.5,-53\"/>\r\n",
       "<text text-anchor=\"start\" x=\"418\" y=\"-37.8\" font-family=\"Helvetica,sans-Serif\" font-size=\"14.00\">gini = 0.144</text>\r\n",
       "<text text-anchor=\"start\" x=\"408\" y=\"-22.8\" font-family=\"Helvetica,sans-Serif\" font-size=\"14.00\">samples = 166</text>\r\n",
       "<text text-anchor=\"start\" x=\"402.5\" y=\"-7.8\" font-family=\"Helvetica,sans-Serif\" font-size=\"14.00\">value = [153, 13]</text>\r\n",
       "</g>\r\n",
       "<!-- 11&#45;&gt;13 -->\r\n",
       "<g id=\"edge13\" class=\"edge\"><title>11&#45;&gt;13</title>\r\n",
       "<path fill=\"none\" stroke=\"black\" d=\"M434.042,-88.9485C436.981,-80.5323 440.151,-71.4536 443.13,-62.9243\"/>\r\n",
       "<polygon fill=\"black\" stroke=\"black\" points=\"446.52,-63.8315 446.513,-53.2367 439.911,-61.5237 446.52,-63.8315\"/>\r\n",
       "</g>\r\n",
       "<!-- 16 -->\r\n",
       "<g id=\"node17\" class=\"node\"><title>16</title>\r\n",
       "<path fill=\"#e5833d\" stroke=\"black\" d=\"M791,-261C791,-261 606,-261 606,-261 600,-261 594,-255 594,-249 594,-249 594,-205 594,-205 594,-199 600,-193 606,-193 606,-193 791,-193 791,-193 797,-193 803,-199 803,-205 803,-205 803,-249 803,-249 803,-255 797,-261 791,-261\"/>\r\n",
       "<text text-anchor=\"start\" x=\"602\" y=\"-245.8\" font-family=\"Helvetica,sans-Serif\" font-size=\"14.00\">PctNotSpeakEnglWell ≤ 0.001</text>\r\n",
       "<text text-anchor=\"start\" x=\"661\" y=\"-230.8\" font-family=\"Helvetica,sans-Serif\" font-size=\"14.00\">gini = 0.035</text>\r\n",
       "<text text-anchor=\"start\" x=\"651\" y=\"-215.8\" font-family=\"Helvetica,sans-Serif\" font-size=\"14.00\">samples = 683</text>\r\n",
       "<text text-anchor=\"start\" x=\"645.5\" y=\"-200.8\" font-family=\"Helvetica,sans-Serif\" font-size=\"14.00\">value = [671, 12]</text>\r\n",
       "</g>\r\n",
       "<!-- 15&#45;&gt;16 -->\r\n",
       "<g id=\"edge16\" class=\"edge\"><title>15&#45;&gt;16</title>\r\n",
       "<path fill=\"none\" stroke=\"black\" d=\"M699.175,-296.884C699.096,-288.778 699.01,-279.982 698.926,-271.472\"/>\r\n",
       "<polygon fill=\"black\" stroke=\"black\" points=\"702.424,-271.265 698.826,-261.299 695.425,-271.333 702.424,-271.265\"/>\r\n",
       "</g>\r\n",
       "<!-- 21 -->\r\n",
       "<g id=\"node22\" class=\"node\"><title>21</title>\r\n",
       "<path fill=\"#399de5\" stroke=\"black\" d=\"M906,-253.5C906,-253.5 833,-253.5 833,-253.5 827,-253.5 821,-247.5 821,-241.5 821,-241.5 821,-212.5 821,-212.5 821,-206.5 827,-200.5 833,-200.5 833,-200.5 906,-200.5 906,-200.5 912,-200.5 918,-206.5 918,-212.5 918,-212.5 918,-241.5 918,-241.5 918,-247.5 912,-253.5 906,-253.5\"/>\r\n",
       "<text text-anchor=\"start\" x=\"840.5\" y=\"-238.3\" font-family=\"Helvetica,sans-Serif\" font-size=\"14.00\">gini = 0.0</text>\r\n",
       "<text text-anchor=\"start\" x=\"830\" y=\"-223.3\" font-family=\"Helvetica,sans-Serif\" font-size=\"14.00\">samples = 2</text>\r\n",
       "<text text-anchor=\"start\" x=\"829\" y=\"-208.3\" font-family=\"Helvetica,sans-Serif\" font-size=\"14.00\">value = [0, 2]</text>\r\n",
       "</g>\r\n",
       "<!-- 15&#45;&gt;21 -->\r\n",
       "<g id=\"edge21\" class=\"edge\"><title>15&#45;&gt;21</title>\r\n",
       "<path fill=\"none\" stroke=\"black\" d=\"M754.694,-296.884C775.132,-284.621 798.202,-270.779 818.272,-258.737\"/>\r\n",
       "<polygon fill=\"black\" stroke=\"black\" points=\"820.193,-261.666 826.967,-253.52 816.591,-255.664 820.193,-261.666\"/>\r\n",
       "</g>\r\n",
       "<!-- 17 -->\r\n",
       "<g id=\"node18\" class=\"node\"><title>17</title>\r\n",
       "<path fill=\"#f2c09c\" stroke=\"black\" d=\"M664,-149.5C664,-149.5 591,-149.5 591,-149.5 585,-149.5 579,-143.5 579,-137.5 579,-137.5 579,-108.5 579,-108.5 579,-102.5 585,-96.5 591,-96.5 591,-96.5 664,-96.5 664,-96.5 670,-96.5 676,-102.5 676,-108.5 676,-108.5 676,-137.5 676,-137.5 676,-143.5 670,-149.5 664,-149.5\"/>\r\n",
       "<text text-anchor=\"start\" x=\"590\" y=\"-134.3\" font-family=\"Helvetica,sans-Serif\" font-size=\"14.00\">gini = 0.444</text>\r\n",
       "<text text-anchor=\"start\" x=\"588\" y=\"-119.3\" font-family=\"Helvetica,sans-Serif\" font-size=\"14.00\">samples = 6</text>\r\n",
       "<text text-anchor=\"start\" x=\"587\" y=\"-104.3\" font-family=\"Helvetica,sans-Serif\" font-size=\"14.00\">value = [4, 2]</text>\r\n",
       "</g>\r\n",
       "<!-- 16&#45;&gt;17 -->\r\n",
       "<g id=\"edge17\" class=\"edge\"><title>16&#45;&gt;17</title>\r\n",
       "<path fill=\"none\" stroke=\"black\" d=\"M675.448,-192.884C667.64,-181.666 658.911,-169.126 651.064,-157.852\"/>\r\n",
       "<polygon fill=\"black\" stroke=\"black\" points=\"653.85,-155.728 645.264,-149.52 648.104,-159.727 653.85,-155.728\"/>\r\n",
       "</g>\r\n",
       "<!-- 18 -->\r\n",
       "<g id=\"node19\" class=\"node\"><title>18</title>\r\n",
       "<path fill=\"#e5833c\" stroke=\"black\" d=\"M831,-157C831,-157 706,-157 706,-157 700,-157 694,-151 694,-145 694,-145 694,-101 694,-101 694,-95 700,-89 706,-89 706,-89 831,-89 831,-89 837,-89 843,-95 843,-101 843,-101 843,-145 843,-145 843,-151 837,-157 831,-157\"/>\r\n",
       "<text text-anchor=\"start\" x=\"702\" y=\"-141.8\" font-family=\"Helvetica,sans-Serif\" font-size=\"14.00\">racepctblack ≤ 0.143</text>\r\n",
       "<text text-anchor=\"start\" x=\"731\" y=\"-126.8\" font-family=\"Helvetica,sans-Serif\" font-size=\"14.00\">gini = 0.029</text>\r\n",
       "<text text-anchor=\"start\" x=\"721\" y=\"-111.8\" font-family=\"Helvetica,sans-Serif\" font-size=\"14.00\">samples = 677</text>\r\n",
       "<text text-anchor=\"start\" x=\"715.5\" y=\"-96.8\" font-family=\"Helvetica,sans-Serif\" font-size=\"14.00\">value = [667, 10]</text>\r\n",
       "</g>\r\n",
       "<!-- 16&#45;&gt;18 -->\r\n",
       "<g id=\"edge18\" class=\"edge\"><title>16&#45;&gt;18</title>\r\n",
       "<path fill=\"none\" stroke=\"black\" d=\"M721.227,-192.884C727.157,-184.243 733.624,-174.819 739.819,-165.793\"/>\r\n",
       "<polygon fill=\"black\" stroke=\"black\" points=\"742.875,-167.525 745.647,-157.299 737.103,-163.564 742.875,-167.525\"/>\r\n",
       "</g>\r\n",
       "<!-- 19 -->\r\n",
       "<g id=\"node20\" class=\"node\"><title>19</title>\r\n",
       "<path fill=\"#e5833c\" stroke=\"black\" d=\"M751,-53C751,-53 662,-53 662,-53 656,-53 650,-47 650,-41 650,-41 650,-12 650,-12 650,-6 656,-0 662,-0 662,-0 751,-0 751,-0 757,-0 763,-6 763,-12 763,-12 763,-41 763,-41 763,-47 757,-53 751,-53\"/>\r\n",
       "<text text-anchor=\"start\" x=\"669\" y=\"-37.8\" font-family=\"Helvetica,sans-Serif\" font-size=\"14.00\">gini = 0.026</text>\r\n",
       "<text text-anchor=\"start\" x=\"659\" y=\"-22.8\" font-family=\"Helvetica,sans-Serif\" font-size=\"14.00\">samples = 675</text>\r\n",
       "<text text-anchor=\"start\" x=\"658\" y=\"-7.8\" font-family=\"Helvetica,sans-Serif\" font-size=\"14.00\">value = [666, 9]</text>\r\n",
       "</g>\r\n",
       "<!-- 18&#45;&gt;19 -->\r\n",
       "<g id=\"edge19\" class=\"edge\"><title>18&#45;&gt;19</title>\r\n",
       "<path fill=\"none\" stroke=\"black\" d=\"M746.815,-88.9485C741.054,-80.1664 734.819,-70.6629 729.014,-61.815\"/>\r\n",
       "<polygon fill=\"black\" stroke=\"black\" points=\"731.797,-59.6779 723.385,-53.2367 725.945,-63.5178 731.797,-59.6779\"/>\r\n",
       "</g>\r\n",
       "<!-- 20 -->\r\n",
       "<g id=\"node21\" class=\"node\"><title>20</title>\r\n",
       "<path fill=\"#ffffff\" stroke=\"black\" d=\"M866,-53C866,-53 793,-53 793,-53 787,-53 781,-47 781,-41 781,-41 781,-12 781,-12 781,-6 787,-0 793,-0 793,-0 866,-0 866,-0 872,-0 878,-6 878,-12 878,-12 878,-41 878,-41 878,-47 872,-53 866,-53\"/>\r\n",
       "<text text-anchor=\"start\" x=\"800.5\" y=\"-37.8\" font-family=\"Helvetica,sans-Serif\" font-size=\"14.00\">gini = 0.5</text>\r\n",
       "<text text-anchor=\"start\" x=\"790\" y=\"-22.8\" font-family=\"Helvetica,sans-Serif\" font-size=\"14.00\">samples = 2</text>\r\n",
       "<text text-anchor=\"start\" x=\"789\" y=\"-7.8\" font-family=\"Helvetica,sans-Serif\" font-size=\"14.00\">value = [1, 1]</text>\r\n",
       "</g>\r\n",
       "<!-- 18&#45;&gt;20 -->\r\n",
       "<g id=\"edge20\" class=\"edge\"><title>18&#45;&gt;20</title>\r\n",
       "<path fill=\"none\" stroke=\"black\" d=\"M789.835,-88.9485C795.504,-80.1664 801.638,-70.6629 807.35,-61.815\"/>\r\n",
       "<polygon fill=\"black\" stroke=\"black\" points=\"810.404,-63.5365 812.887,-53.2367 804.523,-59.7402 810.404,-63.5365\"/>\r\n",
       "</g>\r\n",
       "<!-- 23 -->\r\n",
       "<g id=\"node24\" class=\"node\"><title>23</title>\r\n",
       "<path fill=\"#eeae7f\" stroke=\"black\" d=\"M853,-461.5C853,-461.5 764,-461.5 764,-461.5 758,-461.5 752,-455.5 752,-449.5 752,-449.5 752,-420.5 752,-420.5 752,-414.5 758,-408.5 764,-408.5 764,-408.5 853,-408.5 853,-408.5 859,-408.5 865,-414.5 865,-420.5 865,-420.5 865,-449.5 865,-449.5 865,-455.5 859,-461.5 853,-461.5\"/>\r\n",
       "<text text-anchor=\"start\" x=\"771\" y=\"-446.3\" font-family=\"Helvetica,sans-Serif\" font-size=\"14.00\">gini = 0.387</text>\r\n",
       "<text text-anchor=\"start\" x=\"765\" y=\"-431.3\" font-family=\"Helvetica,sans-Serif\" font-size=\"14.00\">samples = 84</text>\r\n",
       "<text text-anchor=\"start\" x=\"760\" y=\"-416.3\" font-family=\"Helvetica,sans-Serif\" font-size=\"14.00\">value = [62, 22]</text>\r\n",
       "</g>\r\n",
       "<!-- 22&#45;&gt;23 -->\r\n",
       "<g id=\"edge23\" class=\"edge\"><title>22&#45;&gt;23</title>\r\n",
       "<path fill=\"none\" stroke=\"black\" d=\"M808.5,-504.884C808.5,-494.326 808.5,-482.597 808.5,-471.854\"/>\r\n",
       "<polygon fill=\"black\" stroke=\"black\" points=\"812,-471.52 808.5,-461.52 805,-471.52 812,-471.52\"/>\r\n",
       "</g>\r\n",
       "<!-- 24 -->\r\n",
       "<g id=\"node25\" class=\"node\"><title>24</title>\r\n",
       "<path fill=\"#7fc0ee\" stroke=\"black\" d=\"M1053.5,-469C1053.5,-469 923.5,-469 923.5,-469 917.5,-469 911.5,-463 911.5,-457 911.5,-457 911.5,-413 911.5,-413 911.5,-407 917.5,-401 923.5,-401 923.5,-401 1053.5,-401 1053.5,-401 1059.5,-401 1065.5,-407 1065.5,-413 1065.5,-413 1065.5,-457 1065.5,-457 1065.5,-463 1059.5,-469 1053.5,-469\"/>\r\n",
       "<text text-anchor=\"start\" x=\"919.5\" y=\"-453.8\" font-family=\"Helvetica,sans-Serif\" font-size=\"14.00\">racePctWhite ≤ 0.892</text>\r\n",
       "<text text-anchor=\"start\" x=\"951\" y=\"-438.8\" font-family=\"Helvetica,sans-Serif\" font-size=\"14.00\">gini = 0.387</text>\r\n",
       "<text text-anchor=\"start\" x=\"941\" y=\"-423.8\" font-family=\"Helvetica,sans-Serif\" font-size=\"14.00\">samples = 381</text>\r\n",
       "<text text-anchor=\"start\" x=\"931.5\" y=\"-408.8\" font-family=\"Helvetica,sans-Serif\" font-size=\"14.00\">value = [100, 281]</text>\r\n",
       "</g>\r\n",
       "<!-- 22&#45;&gt;24 -->\r\n",
       "<g id=\"edge24\" class=\"edge\"><title>22&#45;&gt;24</title>\r\n",
       "<path fill=\"none\" stroke=\"black\" d=\"M866.941,-504.884C884.162,-495.125 903.148,-484.366 920.894,-474.31\"/>\r\n",
       "<polygon fill=\"black\" stroke=\"black\" points=\"923.07,-477.1 930.045,-469.125 919.619,-471.01 923.07,-477.1\"/>\r\n",
       "</g>\r\n",
       "<!-- 25 -->\r\n",
       "<g id=\"node26\" class=\"node\"><title>25</title>\r\n",
       "<path fill=\"#73baed\" stroke=\"black\" d=\"M1067.5,-365C1067.5,-365 909.5,-365 909.5,-365 903.5,-365 897.5,-359 897.5,-353 897.5,-353 897.5,-309 897.5,-309 897.5,-303 903.5,-297 909.5,-297 909.5,-297 1067.5,-297 1067.5,-297 1073.5,-297 1079.5,-303 1079.5,-309 1079.5,-309 1079.5,-353 1079.5,-353 1079.5,-359 1073.5,-365 1067.5,-365\"/>\r\n",
       "<text text-anchor=\"start\" x=\"905.5\" y=\"-349.8\" font-family=\"Helvetica,sans-Serif\" font-size=\"14.00\">PctHousNoPhone ≤ 0.087</text>\r\n",
       "<text text-anchor=\"start\" x=\"951\" y=\"-334.8\" font-family=\"Helvetica,sans-Serif\" font-size=\"14.00\">gini = 0.349</text>\r\n",
       "<text text-anchor=\"start\" x=\"941\" y=\"-319.8\" font-family=\"Helvetica,sans-Serif\" font-size=\"14.00\">samples = 355</text>\r\n",
       "<text text-anchor=\"start\" x=\"935.5\" y=\"-304.8\" font-family=\"Helvetica,sans-Serif\" font-size=\"14.00\">value = [80, 275]</text>\r\n",
       "</g>\r\n",
       "<!-- 24&#45;&gt;25 -->\r\n",
       "<g id=\"edge25\" class=\"edge\"><title>24&#45;&gt;25</title>\r\n",
       "<path fill=\"none\" stroke=\"black\" d=\"M988.5,-400.884C988.5,-392.778 988.5,-383.982 988.5,-375.472\"/>\r\n",
       "<polygon fill=\"black\" stroke=\"black\" points=\"992,-375.299 988.5,-365.299 985,-375.299 992,-375.299\"/>\r\n",
       "</g>\r\n",
       "<!-- 32 -->\r\n",
       "<g id=\"node33\" class=\"node\"><title>32</title>\r\n",
       "<path fill=\"#eda774\" stroke=\"black\" d=\"M1191,-357.5C1191,-357.5 1110,-357.5 1110,-357.5 1104,-357.5 1098,-351.5 1098,-345.5 1098,-345.5 1098,-316.5 1098,-316.5 1098,-310.5 1104,-304.5 1110,-304.5 1110,-304.5 1191,-304.5 1191,-304.5 1197,-304.5 1203,-310.5 1203,-316.5 1203,-316.5 1203,-345.5 1203,-345.5 1203,-351.5 1197,-357.5 1191,-357.5\"/>\r\n",
       "<text text-anchor=\"start\" x=\"1113\" y=\"-342.3\" font-family=\"Helvetica,sans-Serif\" font-size=\"14.00\">gini = 0.355</text>\r\n",
       "<text text-anchor=\"start\" x=\"1107\" y=\"-327.3\" font-family=\"Helvetica,sans-Serif\" font-size=\"14.00\">samples = 26</text>\r\n",
       "<text text-anchor=\"start\" x=\"1106\" y=\"-312.3\" font-family=\"Helvetica,sans-Serif\" font-size=\"14.00\">value = [20, 6]</text>\r\n",
       "</g>\r\n",
       "<!-- 24&#45;&gt;32 -->\r\n",
       "<g id=\"edge32\" class=\"edge\"><title>24&#45;&gt;32</title>\r\n",
       "<path fill=\"none\" stroke=\"black\" d=\"M1041.1,-400.884C1060.49,-388.676 1082.36,-374.903 1101.43,-362.899\"/>\r\n",
       "<polygon fill=\"black\" stroke=\"black\" points=\"1103.37,-365.81 1109.97,-357.52 1099.64,-359.886 1103.37,-365.81\"/>\r\n",
       "</g>\r\n",
       "<!-- 26 -->\r\n",
       "<g id=\"node27\" class=\"node\"><title>26</title>\r\n",
       "<path fill=\"#eb9e67\" stroke=\"black\" d=\"M1029,-253.5C1029,-253.5 948,-253.5 948,-253.5 942,-253.5 936,-247.5 936,-241.5 936,-241.5 936,-212.5 936,-212.5 936,-206.5 942,-200.5 948,-200.5 948,-200.5 1029,-200.5 1029,-200.5 1035,-200.5 1041,-206.5 1041,-212.5 1041,-212.5 1041,-241.5 1041,-241.5 1041,-247.5 1035,-253.5 1029,-253.5\"/>\r\n",
       "<text text-anchor=\"start\" x=\"951\" y=\"-238.3\" font-family=\"Helvetica,sans-Serif\" font-size=\"14.00\">gini = 0.305</text>\r\n",
       "<text text-anchor=\"start\" x=\"945\" y=\"-223.3\" font-family=\"Helvetica,sans-Serif\" font-size=\"14.00\">samples = 16</text>\r\n",
       "<text text-anchor=\"start\" x=\"944\" y=\"-208.3\" font-family=\"Helvetica,sans-Serif\" font-size=\"14.00\">value = [13, 3]</text>\r\n",
       "</g>\r\n",
       "<!-- 25&#45;&gt;26 -->\r\n",
       "<g id=\"edge26\" class=\"edge\"><title>25&#45;&gt;26</title>\r\n",
       "<path fill=\"none\" stroke=\"black\" d=\"M988.5,-296.884C988.5,-286.326 988.5,-274.597 988.5,-263.854\"/>\r\n",
       "<polygon fill=\"black\" stroke=\"black\" points=\"992,-263.52 988.5,-253.52 985,-263.52 992,-263.52\"/>\r\n",
       "</g>\r\n",
       "<!-- 27 -->\r\n",
       "<g id=\"node28\" class=\"node\"><title>27</title>\r\n",
       "<path fill=\"#6ab5eb\" stroke=\"black\" d=\"M1217.5,-261C1217.5,-261 1071.5,-261 1071.5,-261 1065.5,-261 1059.5,-255 1059.5,-249 1059.5,-249 1059.5,-205 1059.5,-205 1059.5,-199 1065.5,-193 1071.5,-193 1071.5,-193 1217.5,-193 1217.5,-193 1223.5,-193 1229.5,-199 1229.5,-205 1229.5,-205 1229.5,-249 1229.5,-249 1229.5,-255 1223.5,-261 1217.5,-261\"/>\r\n",
       "<text text-anchor=\"start\" x=\"1067.5\" y=\"-245.8\" font-family=\"Helvetica,sans-Serif\" font-size=\"14.00\">OwnOccQrange ≤ 0.066</text>\r\n",
       "<text text-anchor=\"start\" x=\"1107\" y=\"-230.8\" font-family=\"Helvetica,sans-Serif\" font-size=\"14.00\">gini = 0.317</text>\r\n",
       "<text text-anchor=\"start\" x=\"1097\" y=\"-215.8\" font-family=\"Helvetica,sans-Serif\" font-size=\"14.00\">samples = 339</text>\r\n",
       "<text text-anchor=\"start\" x=\"1091.5\" y=\"-200.8\" font-family=\"Helvetica,sans-Serif\" font-size=\"14.00\">value = [67, 272]</text>\r\n",
       "</g>\r\n",
       "<!-- 25&#45;&gt;27 -->\r\n",
       "<g id=\"edge27\" class=\"edge\"><title>25&#45;&gt;27</title>\r\n",
       "<path fill=\"none\" stroke=\"black\" d=\"M1039.15,-296.884C1053.8,-287.304 1069.92,-276.761 1085.06,-266.864\"/>\r\n",
       "<polygon fill=\"black\" stroke=\"black\" points=\"1087.38,-269.527 1093.84,-261.125 1083.55,-263.668 1087.38,-269.527\"/>\r\n",
       "</g>\r\n",
       "<!-- 28 -->\r\n",
       "<g id=\"node29\" class=\"node\"><title>28</title>\r\n",
       "<path fill=\"#e88e4d\" stroke=\"black\" d=\"M1109,-149.5C1109,-149.5 1028,-149.5 1028,-149.5 1022,-149.5 1016,-143.5 1016,-137.5 1016,-137.5 1016,-108.5 1016,-108.5 1016,-102.5 1022,-96.5 1028,-96.5 1028,-96.5 1109,-96.5 1109,-96.5 1115,-96.5 1121,-102.5 1121,-108.5 1121,-108.5 1121,-137.5 1121,-137.5 1121,-143.5 1115,-149.5 1109,-149.5\"/>\r\n",
       "<text text-anchor=\"start\" x=\"1031\" y=\"-134.3\" font-family=\"Helvetica,sans-Serif\" font-size=\"14.00\">gini = 0.165</text>\r\n",
       "<text text-anchor=\"start\" x=\"1025\" y=\"-119.3\" font-family=\"Helvetica,sans-Serif\" font-size=\"14.00\">samples = 11</text>\r\n",
       "<text text-anchor=\"start\" x=\"1024\" y=\"-104.3\" font-family=\"Helvetica,sans-Serif\" font-size=\"14.00\">value = [10, 1]</text>\r\n",
       "</g>\r\n",
       "<!-- 27&#45;&gt;28 -->\r\n",
       "<g id=\"edge28\" class=\"edge\"><title>27&#45;&gt;28</title>\r\n",
       "<path fill=\"none\" stroke=\"black\" d=\"M1119.82,-192.884C1111.47,-181.666 1102.12,-169.126 1093.72,-157.852\"/>\r\n",
       "<polygon fill=\"black\" stroke=\"black\" points=\"1096.3,-155.448 1087.51,-149.52 1090.68,-159.63 1096.3,-155.448\"/>\r\n",
       "</g>\r\n",
       "<!-- 29 -->\r\n",
       "<g id=\"node30\" class=\"node\"><title>29</title>\r\n",
       "<path fill=\"#63b2ea\" stroke=\"black\" d=\"M1288,-157C1288,-157 1151,-157 1151,-157 1145,-157 1139,-151 1139,-145 1139,-145 1139,-101 1139,-101 1139,-95 1145,-89 1151,-89 1151,-89 1288,-89 1288,-89 1294,-89 1300,-95 1300,-101 1300,-101 1300,-145 1300,-145 1300,-151 1294,-157 1288,-157\"/>\r\n",
       "<text text-anchor=\"start\" x=\"1147\" y=\"-141.8\" font-family=\"Helvetica,sans-Serif\" font-size=\"14.00\">NumUnderPov ≤ 0.002</text>\r\n",
       "<text text-anchor=\"start\" x=\"1182\" y=\"-126.8\" font-family=\"Helvetica,sans-Serif\" font-size=\"14.00\">gini = 0.287</text>\r\n",
       "<text text-anchor=\"start\" x=\"1172\" y=\"-111.8\" font-family=\"Helvetica,sans-Serif\" font-size=\"14.00\">samples = 328</text>\r\n",
       "<text text-anchor=\"start\" x=\"1166.5\" y=\"-96.8\" font-family=\"Helvetica,sans-Serif\" font-size=\"14.00\">value = [57, 271]</text>\r\n",
       "</g>\r\n",
       "<!-- 27&#45;&gt;29 -->\r\n",
       "<g id=\"edge29\" class=\"edge\"><title>27&#45;&gt;29</title>\r\n",
       "<path fill=\"none\" stroke=\"black\" d=\"M1168.85,-192.884C1175.27,-184.154 1182.28,-174.625 1188.98,-165.514\"/>\r\n",
       "<polygon fill=\"black\" stroke=\"black\" points=\"1191.91,-167.429 1195.02,-157.299 1186.27,-163.283 1191.91,-167.429\"/>\r\n",
       "</g>\r\n",
       "<!-- 30 -->\r\n",
       "<g id=\"node31\" class=\"node\"><title>30</title>\r\n",
       "<path fill=\"#f7d9c4\" stroke=\"black\" d=\"M1194,-53C1194,-53 1113,-53 1113,-53 1107,-53 1101,-47 1101,-41 1101,-41 1101,-12 1101,-12 1101,-6 1107,-0 1113,-0 1113,-0 1194,-0 1194,-0 1200,-0 1206,-6 1206,-12 1206,-12 1206,-41 1206,-41 1206,-47 1200,-53 1194,-53\"/>\r\n",
       "<text text-anchor=\"start\" x=\"1116\" y=\"-37.8\" font-family=\"Helvetica,sans-Serif\" font-size=\"14.00\">gini = 0.484</text>\r\n",
       "<text text-anchor=\"start\" x=\"1110\" y=\"-22.8\" font-family=\"Helvetica,sans-Serif\" font-size=\"14.00\">samples = 17</text>\r\n",
       "<text text-anchor=\"start\" x=\"1109\" y=\"-7.8\" font-family=\"Helvetica,sans-Serif\" font-size=\"14.00\">value = [10, 7]</text>\r\n",
       "</g>\r\n",
       "<!-- 29&#45;&gt;30 -->\r\n",
       "<g id=\"edge30\" class=\"edge\"><title>29&#45;&gt;30</title>\r\n",
       "<path fill=\"none\" stroke=\"black\" d=\"M1196.42,-88.9485C1190.22,-80.0749 1183.51,-70.4648 1177.27,-61.5388\"/>\r\n",
       "<polygon fill=\"black\" stroke=\"black\" points=\"1180.07,-59.4311 1171.47,-53.2367 1174.33,-63.4392 1180.07,-59.4311\"/>\r\n",
       "</g>\r\n",
       "<!-- 31 -->\r\n",
       "<g id=\"node32\" class=\"node\"><title>31</title>\r\n",
       "<path fill=\"#5caeea\" stroke=\"black\" d=\"M1334.5,-53C1334.5,-53 1236.5,-53 1236.5,-53 1230.5,-53 1224.5,-47 1224.5,-41 1224.5,-41 1224.5,-12 1224.5,-12 1224.5,-6 1230.5,-0 1236.5,-0 1236.5,-0 1334.5,-0 1334.5,-0 1340.5,-0 1346.5,-6 1346.5,-12 1346.5,-12 1346.5,-41 1346.5,-41 1346.5,-47 1340.5,-53 1334.5,-53\"/>\r\n",
       "<text text-anchor=\"start\" x=\"1248\" y=\"-37.8\" font-family=\"Helvetica,sans-Serif\" font-size=\"14.00\">gini = 0.257</text>\r\n",
       "<text text-anchor=\"start\" x=\"1238\" y=\"-22.8\" font-family=\"Helvetica,sans-Serif\" font-size=\"14.00\">samples = 311</text>\r\n",
       "<text text-anchor=\"start\" x=\"1232.5\" y=\"-7.8\" font-family=\"Helvetica,sans-Serif\" font-size=\"14.00\">value = [47, 264]</text>\r\n",
       "</g>\r\n",
       "<!-- 29&#45;&gt;31 -->\r\n",
       "<g id=\"edge31\" class=\"edge\"><title>29&#45;&gt;31</title>\r\n",
       "<path fill=\"none\" stroke=\"black\" d=\"M1242.58,-88.9485C1248.78,-80.0749 1255.49,-70.4648 1261.73,-61.5388\"/>\r\n",
       "<polygon fill=\"black\" stroke=\"black\" points=\"1264.67,-63.4392 1267.53,-53.2367 1258.93,-59.4311 1264.67,-63.4392\"/>\r\n",
       "</g>\r\n",
       "</g>\r\n",
       "</svg>\r\n"
      ],
      "text/plain": [
       "<graphviz.files.Source at 0x2887653a4c0>"
      ]
     },
     "execution_count": 13,
     "metadata": {},
     "output_type": "execute_result"
    }
   ],
   "source": [
    "# Get the tree\n",
    "import graphviz\n",
    "import pandas as pd\n",
    "\n",
    "features = []\n",
    "df = pd.DataFrame(x_train)\n",
    "for i in df[1:]:\n",
    "    features.append(str(i))\n",
    "dot_data = tree.export_graphviz(dtree, out_file=None, feature_names=features, filled=True, rounded=True, special_characters=True)\n",
    "graph = graphviz.Source(dot_data)\n",
    "graph"
   ]
  },
  {
   "cell_type": "markdown",
   "id": "accepted-little",
   "metadata": {},
   "source": [
    "**Max Features**"
   ]
  },
  {
   "cell_type": "code",
   "execution_count": 14,
   "id": "minimal-advantage",
   "metadata": {},
   "outputs": [],
   "source": [
    "scores ={}\n",
    "x = list()\n",
    "y = list()\n",
    "error = list()\n",
    "\n",
    "features = []\n",
    "df = pd.DataFrame(x_train)\n",
    "for i in df[1:]:\n",
    "    features.append(str(i))\n",
    "\n",
    "max_features = len(features)\n",
    "\n",
    "for i in range(1, max_features): #first create a for loop for each max depth\n",
    "    value_of_j = [] #this will take the average score for each value of k\n",
    "\n",
    "    for j in range(2,10): #create a for loop for each kfold\n",
    "        kf =KFold(n_splits=j, shuffle=True, random_state=42)\n",
    "        score = cross_val_score(tree.DecisionTreeClassifier(criterion='gini', splitter = 'best', max_depth=3, min_samples_split = 0.1, max_features=i), x_train, y_train, cv= kf, scoring=\"accuracy\")\n",
    "        value_of_j.append(score.mean())\n",
    "\n",
    "    res = {str(i): value_of_j}\n",
    "    scores.update(res) # for each max_depth, the average k_fold score\n",
    "\n",
    "get_min_sample_split = scores"
   ]
  },
  {
   "cell_type": "code",
   "execution_count": 15,
   "id": "changing-highway",
   "metadata": {
    "scrolled": true
   },
   "outputs": [
    {
     "data": {
      "text/plain": [
       "<matplotlib.collections.PolyCollection at 0x288766069a0>"
      ]
     },
     "execution_count": 15,
     "metadata": {},
     "output_type": "execute_result"
    },
    {
     "data": {
      "image/png": "[encoded data removed]",
      "text/plain": [
       "<Figure size 432x288 with 1 Axes>"
      ]
     },
     "metadata": {
      "needs_background": "light"
     },
     "output_type": "display_data"
    }
   ],
   "source": [
    "import numpy as np\n",
    "import statistics \n",
    "x =[]\n",
    "y =[]\n",
    "error = []\n",
    "for key, value in get_min_sample_split.items():\n",
    "    x.append(key)\n",
    "    y.append(sum(value)/len(value))\n",
    "    error.append(statistics.stdev(value))\n",
    "    \n",
    "x = [round(float(i),2) for i in x]\n",
    "\n",
    "y_above = []\n",
    "y_below = []\n",
    "for i in range(len(error)):\n",
    "    y_above.append(y[i]+(error[i]*0.5))\n",
    "    y_below.append(y[i]-(error[i]*0.5))\n",
    "    \n",
    "# plt.plot(x, error, 'or')\n",
    "plt.plot(x, y, color=(0.2, 0.4, 0.6, 0.6), lw=3)\n",
    "#plt.errorbar(x, y, yerr = error, barsabove = False, fmt='o', capsize=3, color='red')\n",
    "\n",
    "#plt.fill_between(range(100), y-y_diff, y+y_diff, alpha=0.5)\n",
    "#plt.errorbar(x, y, yerr = error, ls='-.', fmt='o', capsize=3)\n",
    "plt.xlabel('Max_Features', fontsize=15)\n",
    "plt.ylabel('Accuracy', fontsize=15)\n",
    "plt.title('Change in Accuracy as max_features increases')\n",
    "plt.ylim(0.8, 0.86)\n",
    "plt.xlim(0,100)#plot the outputs\n",
    "\n",
    "z1 = np.array(y_above)\n",
    "z2 = np.array(y_below)\n",
    "\n",
    "plt.fill_between(x,y_above,y_below,where=z1>=z2,color='grey',alpha=0.5, interpolate=True)\n"
   ]
  },
  {
   "cell_type": "code",
   "execution_count": 19,
   "id": "based-survivor",
   "metadata": {
    "scrolled": true
   },
   "outputs": [
    {
     "name": "stdout",
     "output_type": "stream",
     "text": [
      "Scores for each fold are: [0.84278351 0.79586563 0.81136951 0.8372093 ]\n",
      "Average score: 0.82\n"
     ]
    }
   ],
   "source": [
    "from sklearn.model_selection import KFold, StratifiedKFold, cross_val_score\n",
    "\n",
    "kf =KFold(n_splits=4, shuffle=True, random_state=42)\n",
    "score = cross_val_score(tree.DecisionTreeClassifier(criterion='gini', splitter = 'best', max_depth=9, min_samples_split = 0.6, ccp_alpha = 0.012, max_features = 70), x_train, y_train, cv= kf, scoring=\"accuracy\")\n",
    "print(f'Scores for each fold are: {score}')\n",
    "print(f'Average score: {\"{:.2f}\".format(score.mean())}')"
   ]
  },
  {
   "cell_type": "markdown",
   "id": "photographic-alexandria",
   "metadata": {},
   "source": [
    "**CCP Alpha**"
   ]
  },
  {
   "cell_type": "code",
   "execution_count": 20,
   "id": "numerical-criminal",
   "metadata": {},
   "outputs": [],
   "source": [
    "from sklearn.metrics import roc_curve, auc\n",
    "\n",
    "scores ={}\n",
    "x = list()\n",
    "y = list()\n",
    "error = list()\n",
    "\n",
    "ccp_alpha_vals = np.arange(0,0.3,0.001)\n",
    "\n",
    "\n",
    "for i in ccp_alpha_vals: #first create a for loop for each max depth\n",
    "    value_of_j = [] #this will take the average score for each value of k\n",
    "\n",
    "    for j in range(2,10): #create a for loop for each kfold\n",
    "        kf =KFold(n_splits=j, shuffle=True, random_state=42)\n",
    "        score = cross_val_score(tree.DecisionTreeClassifier(criterion='gini',splitter = 'best', max_depth=3, min_samples_split = 0.1, max_features=100, ccp_alpha=i), x_train, y_train, cv= kf, scoring=\"accuracy\")\n",
    "        value_of_j.append(score.mean())\n",
    "\n",
    "    res = {str(i): value_of_j}\n",
    "    scores.update(res) # for each max_depth, the average k_fold score\n",
    "\n",
    "get_min_sample_split = scores"
   ]
  },
  {
   "cell_type": "code",
   "execution_count": 21,
   "id": "forced-perfume",
   "metadata": {},
   "outputs": [
    {
     "data": {
      "text/plain": [
       "(0.0, 0.15)"
      ]
     },
     "execution_count": 21,
     "metadata": {},
     "output_type": "execute_result"
    },
    {
     "data": {
      "image/png": "[encoded data removed]",
      "text/plain": [
       "<Figure size 432x288 with 1 Axes>"
      ]
     },
     "metadata": {
      "needs_background": "light"
     },
     "output_type": "display_data"
    }
   ],
   "source": [
    "import numpy as np\n",
    "import statistics \n",
    "x =[]\n",
    "y =[]\n",
    "error = []\n",
    "for key, value in get_min_sample_split.items():\n",
    "    x.append(key)\n",
    "    y.append(sum(value)/len(value))\n",
    "    error.append(statistics.stdev(value))\n",
    "    \n",
    "x = [round(float(i),2) for i in x]\n",
    "    \n",
    "# plt.plot(x, error, 'or')\n",
    "plt.plot(x, y, color=(0.2, 0.4, 0.6, 0.6), lw=3)\n",
    "#plt.errorbar(x, y, yerr = error, barsabove = False, fmt='o', capsize=3, color='red')\n",
    "#plt.errorbar(x, y, yerr = error, ls='-.', fmt='o', capsize=3)\n",
    "plt.xlabel('ccp_alpha', fontsize=15)\n",
    "plt.ylabel('Accuracy', fontsize=15)\n",
    "plt.title('Change in Accuracy as ccp_alpha increases')\n",
    "plt.ylim(0.8, 0.86)\n",
    "plt.xlim(0,0.15)#plot the outputs\n"
   ]
  },
  {
   "cell_type": "markdown",
   "id": "characteristic-detection",
   "metadata": {},
   "source": [
    "**K-Fold Classification** \n",
    "This will increase the number of times the test and train data is split, then will average out the accuracy scores. The cells below will increase the number of K up to 12, then plot the accuracy for the data."
   ]
  },
  {
   "cell_type": "code",
   "execution_count": 24,
   "id": "grand-football",
   "metadata": {
    "scrolled": true
   },
   "outputs": [
    {
     "data": {
      "text/plain": [
       "(0.75, 0.925)"
      ]
     },
     "execution_count": 24,
     "metadata": {},
     "output_type": "execute_result"
    },
    {
     "data": {
      "image/png": "[encoded data removed]",
      "text/plain": [
       "<Figure size 432x288 with 1 Axes>"
      ]
     },
     "metadata": {
      "needs_background": "light"
     },
     "output_type": "display_data"
    }
   ],
   "source": [
    "kfold_scores = {}\n",
    "for i in range(2, 12):\n",
    "    kf =KFold(n_splits=i, shuffle=True, random_state=42)\n",
    "    score = cross_val_score(tree.DecisionTreeClassifier(criterion='gini', splitter = 'best', max_depth=3, min_samples_split = 0.1, max_features=100, ccp_alpha=0.01), x_test, y_test, cv= kf, scoring=\"accuracy\")\n",
    "    res = {str(i):list(score)}\n",
    "    kfold_scores.update(res)\n",
    "    \n",
    "import numpy as np\n",
    "import statistics \n",
    "x =[]\n",
    "y =[]\n",
    "error = []\n",
    "for key, value in kfold_scores.items():\n",
    "    x.append(key)\n",
    "    y.append(sum(value)/len(value))\n",
    "    error.append(statistics.stdev(value))\n",
    "    \n",
    "xfit = np.linspace(0, 10, 1000)\n",
    "# plt.plot(x, error, 'or')\n",
    "plt.bar(x, y, color=(0.2, 0.4, 0.6, 0.6))\n",
    "plt.errorbar(x, y, yerr = error, barsabove = False, fmt='o', capsize=3, color='red')\n",
    "#plt.errorbar(x, y, yerr = error, ls='-.', fmt='o', capsize=3)\n",
    "plt.xlabel('K', fontsize=15)\n",
    "plt.ylabel('Accuracy', fontsize=15)\n",
    "plt.title('Change in Accuracy as K increases')\n",
    "plt.ylim(0.75, 0.925)"
   ]
  },
  {
   "cell_type": "code",
   "execution_count": 27,
   "id": "personalized-niger",
   "metadata": {
    "scrolled": true
   },
   "outputs": [
    {
     "name": "stdout",
     "output_type": "stream",
     "text": [
      "Scores for each fold are: [0.86466165 0.85714286 0.87969925 0.85714286 0.84210526]\n",
      "Average score: 0.86\n"
     ]
    }
   ],
   "source": [
    "kf =KFold(n_splits=5, shuffle=True, random_state=42)\n",
    "score = cross_val_score(tree.DecisionTreeClassifier(criterion='gini', max_depth=4, min_samples_split = 0.1, max_features=70, ccp_alpha=0.01, splitter = 'best'), x_test, y_test, cv= kf, scoring=\"accuracy\")\n",
    "print(f'Scores for each fold are: {score}')\n",
    "print(f'Average score: {\"{:.2f}\".format(score.mean())}')"
   ]
  },
  {
   "cell_type": "markdown",
   "id": "median-uniform",
   "metadata": {},
   "source": [
    "**Final Confusion Matrix on both test and train data!**"
   ]
  },
  {
   "cell_type": "code",
   "execution_count": 31,
   "id": "instant-position",
   "metadata": {
    "scrolled": true
   },
   "outputs": [
    {
     "data": {
      "image/png": "[encoded data removed]",
      "text/plain": [
       "<Figure size 432x288 with 2 Axes>"
      ]
     },
     "metadata": {
      "needs_background": "light"
     },
     "output_type": "display_data"
    },
    {
     "data": {
      "image/png": "[encoded data removed]",
      "text/plain": [
       "<Figure size 432x288 with 2 Axes>"
      ]
     },
     "metadata": {
      "needs_background": "light"
     },
     "output_type": "display_data"
    }
   ],
   "source": [
    "dt = tree.DecisionTreeClassifier(criterion='gini', max_depth=4, min_samples_split = 0.1, max_features=100, ccp_alpha=0.01, splitter = 'best')\n",
    "dt.fit(x_train, y_train)\n",
    "y_train_predict = dt.predict(x_train)\n",
    "y_test_predict = dt.predict(x_test)\n",
    "\n",
    "# Set classes based on classification complexity decided in pre-processing\n",
    "classes = {'LowCrime': 0, 'HighCrime': 1}\n",
    "\n",
    "# Plot confusion matrix\n",
    "def plot_confusionmatrix(train_p, train, dom):\n",
    "    cf = confusion_matrix(train_p,train)\n",
    "    sns.heatmap(cf,annot=True,yticklabels=classes,xticklabels=classes,cmap='Blues', fmt='g')\n",
    "    plt.title(f'{dom} Confusion matrix')\n",
    "    plt.tight_layout()\n",
    "    # plt.savefig(f'{dom} Confusion matrix.png')\n",
    "    plt.show()\n",
    "    \n",
    "plot_confusionmatrix(y_train_predict,y_train,dom='Train')\n",
    "plot_confusionmatrix(y_test_predict,y_test,dom='Test')"
   ]
  },
  {
   "cell_type": "markdown",
   "id": "light-stereo",
   "metadata": {},
   "source": [
    "**Final Decision Tree**"
   ]
  },
  {
   "cell_type": "code",
   "execution_count": 37,
   "id": "fabulous-touch",
   "metadata": {},
   "outputs": [
    {
     "data": {
      "text/plain": [
       "'DecisionTree.png'"
      ]
     },
     "execution_count": 37,
     "metadata": {},
     "output_type": "execute_result"
    }
   ],
   "source": [
    "# Get the tree\n",
    "import graphviz\n",
    "import pandas as pd\n",
    "\n",
    "features = []\n",
    "df = pd.DataFrame(x_train)\n",
    "for i in df[1:]:\n",
    "    features.append(str(i))\n",
    "dot_data = tree.export_graphviz(dtree, out_file=None, feature_names=features, filled=True, rounded=True, special_characters=True)\n",
    "graph = graphviz.Source(dot_data)\n",
    "graph.format = 'png'\n",
    "graph.render(filename='DecisionTree')\n",
    "\n"
   ]
  }
 ],
 "metadata": {
  "kernelspec": {
   "display_name": "Python 3",
   "language": "python",
   "name": "python3"
  },
  "language_info": {
   "codemirror_mode": {
    "name": "ipython",
    "version": 3
   },
   "file_extension": ".py",
   "mimetype": "text/x-python",
   "name": "python",
   "nbconvert_exporter": "python",
   "pygments_lexer": "ipython3",
   "version": "3.8.5"
  }
 },
 "nbformat": 4,
 "nbformat_minor": 5
}
