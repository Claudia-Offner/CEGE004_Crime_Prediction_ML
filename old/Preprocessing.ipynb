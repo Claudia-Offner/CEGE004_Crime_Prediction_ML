{
 "cells": [
  {
   "cell_type": "markdown",
   "metadata": {},
   "source": [
    "# Data Pre-processing\n",
    "\n",
    "Data from: https://archive.ics.uci.edu/ml/datasets/Communities+and+Crime\n",
    "\n",
    "1. Data Cleaning\n",
    "    - Dealing with data types e.g. making categorical data numeric i.e. dummy features\n",
    "    - Handling missing data (Imputing Na values instead of removing)\n",
    "\n",
    "2. Data Exploration\n",
    "    - Detecting outliers (Tukey IQH or Kernal Density Estimation)\n",
    "    - Plotting Distributions. Log transformation of data that is skewed (very long tails) can impove accuracy.\n",
    "    - Smote. Balance dataset-to prevent the tree from being biased toward the classes that are dominant. Create an equal number of samples from each class by normalising the sum of the sample weights for each class to the same value.\n",
    "\n",
    "3. Feature Enigineering\n",
    "    - Interactions between features\n",
    "    - Increasing dimensionality vs decreasing dimensionality\n",
    "\n",
    "4. Feature Selection\n",
    "    - Discard the least important variables to reduce noise (Decrease dimensionality)\n",
    "    - Good variables are often constructed using ratios, differences, averages of variables etc. (Increase Dimensionality)\n"
   ]
  },
  {
   "cell_type": "code",
   "execution_count": 2,
   "metadata": {},
   "outputs": [],
   "source": [
    "# Import packages\n",
    "import pandas as pd\n",
    "import numpy as np\n",
    "from sklearn.impute import SimpleImputer\n",
    "%matplotlib inline\n",
    "import matplotlib.pyplot as plt"
   ]
  },
  {
   "cell_type": "code",
   "execution_count": 3,
   "metadata": {
    "pycharm": {
     "name": "#%%\n"
    },
    "scrolled": true
   },
   "outputs": [
    {
     "name": "stdout",
     "output_type": "stream",
     "text": [
      "      communityname state  countyCode  communityCode  fold  population  \\\n",
      "0    Marpletownship    PA        45.0        47616.0     1       23123   \n",
      "1        Tigardcity    OR         NaN            NaN     1       29344   \n",
      "2  Gloversvillecity    NY        35.0        29443.0     1       16656   \n",
      "3       Bemidjicity    MN         7.0         5068.0     1       11245   \n",
      "4   Springfieldcity    MO         NaN            NaN     1      140494   \n",
      "\n",
      "   householdsize  racepctblack  racePctWhite  racePctAsian  ...  burglaries  \\\n",
      "0           2.82          0.80         95.57          3.44  ...        57.0   \n",
      "1           2.43          0.74         94.33          3.43  ...       274.0   \n",
      "2           2.40          1.70         97.35          0.50  ...       225.0   \n",
      "3           2.76          0.53         89.16          1.17  ...        91.0   \n",
      "4           2.45          2.51         95.65          0.90  ...      2094.0   \n",
      "\n",
      "   burglPerPop  larcenies  larcPerPop  autoTheft  autoTheftPerPop  arsons  \\\n",
      "0       242.37      376.0     1598.78       26.0           110.55     1.0   \n",
      "1       758.14     1797.0     4972.19      136.0           376.30    22.0   \n",
      "2      1301.78      716.0     4142.56       47.0           271.93     NaN   \n",
      "3       728.93     1060.0     8490.87       91.0           728.93     5.0   \n",
      "4      1386.46     7690.0     5091.64      454.0           300.60   134.0   \n",
      "\n",
      "   arsonsPerPop  ViolentCrimesPerPop  nonViolPerPop  \n",
      "0          4.25               127.56        1955.95  \n",
      "1         60.87               218.59        6167.51  \n",
      "2           NaN               306.64            NaN  \n",
      "3         40.05                  NaN        9988.79  \n",
      "4         88.72               442.95        6867.42  \n",
      "\n",
      "[5 rows x 147 columns]\n"
     ]
    }
   ],
   "source": [
    "# Read data and assign NA to missing values\n",
    "data = pd.read_csv('http://archive.ics.uci.edu/ml/machine-learning-databases/00211/CommViolPredUnnormalizedData.txt',\n",
    "                   sep='\\s*,\\s*',encoding='latin-1',engine='python', na_values=[\"?\"])\n",
    "\n",
    "\n",
    "data.columns = ['communityname','state','countyCode','communityCode','fold','population','householdsize','racepctblack',\n",
    "           'racePctWhite','racePctAsian','racePctHisp','agePct12t21','agePct12t29','agePct16t24','agePct65up',\n",
    "           'numbUrban','pctUrban','medIncome','pctWWage','pctWFarmSelf','pctWInvInc','pctWSocSec','pctWPubAsst',\n",
    "           'pctWRetire','medFamInc','perCapInc','whitePerCap','blackPerCap','indianPerCap','AsianPerCap','OtherPerCap',\n",
    "           'HispPerCap','NumUnderPov','PctPopUnderPov','PctLess9thGrade','PctNotHSGrad','PctBSorMore','PctUnemployed',\n",
    "           'PctEmploy','PctEmplManu','PctEmplProfServ','PctOccupManu','PctOccupMgmtProf','MalePctDivorce',\n",
    "           'MalePctNevMarr','FemalePctDiv','TotalPctDiv','PersPerFam','PctFam2Par','PctKids2Par','PctYoungKids2Par',\n",
    "           'PctTeen2Par','PctWorkMomYoungKids','PctWorkMom','NumKidsBornNeverMar','PctKidsBornNeverMar','NumImmig',\n",
    "           'PctImmigRecent','PctImmigRec5','PctImmigRec8','PctImmigRec10','PctRecentImmig','PctRecImmig5',\n",
    "           'PctRecImmig8','PctRecImmig10','PctSpeakEnglOnly','PctNotSpeakEnglWell','PctLargHouseFam',\n",
    "           'PctLargHouseOccup','PersPerOccupHous','PersPerOwnOccHous','PersPerRentOccHous','PctPersOwnOccup',\n",
    "           'PctPersDenseHous','PctHousLess3BR','MedNumBR','HousVacant','PctHousOccup','PctHousOwnOcc','PctVacantBoarded',\n",
    "           'PctVacMore6Mos','MedYrHousBuilt','PctHousNoPhone','PctWOFullPlumb','OwnOccLowQuart','OwnOccMedVal',\n",
    "           'OwnOccHiQuart','OwnOccQrange','RentLowQ','RentMedian','RentHighQ','RentQrange','MedRent','MedRentPctHousInc',\n",
    "           'MedOwnCostPctInc','MedOwnCostPctIncNoMtg','NumInShelters','NumStreet','PctForeignBorn','PctBornSameState',\n",
    "           'PctSameHouse85','PctSameCity85','PctSameState85','LemasSwornFT','LemasSwFTPerPop','LemasSwFTFieldOps',\n",
    "           'LemasSwFTFieldPerPop','LemasTotalReq','LemasTotReqPerPop','PolicReqPerOffic','PolicPerPop',\n",
    "           'RacialMatchCommPol','PctPolicWhite','PctPolicBlack','PctPolicHisp','PctPolicAsian','PctPolicMinor',\n",
    "           'OfficAssgnDrugUnits','NumKindsDrugsSeiz','PolicAveOTWorked','LandArea','PopDens','PctUsePubTrans',\n",
    "           'PolicCars','PolicOperBudg','LemasPctPolicOnPatr','LemasGangUnitDeploy','LemasPctOfficDrugUn',\n",
    "           'PolicBudgPerPop','murders','murdPerPop','rapes','rapesPerPop','robberies','robbbPerPop','assaults',\n",
    "           'assaultPerPop','burglaries','burglPerPop','larcenies','larcPerPop','autoTheft','autoTheftPerPop','arsons',\n",
    "           'arsonsPerPop','ViolentCrimesPerPop','nonViolPerPop']\n",
    "\n",
    "print(data.head(5))"
   ]
  },
  {
   "cell_type": "code",
   "execution_count": 38,
   "metadata": {},
   "outputs": [
    {
     "data": {
      "text/html": [
       "<div>\n",
       "<style scoped>\n",
       "    .dataframe tbody tr th:only-of-type {\n",
       "        vertical-align: middle;\n",
       "    }\n",
       "\n",
       "    .dataframe tbody tr th {\n",
       "        vertical-align: top;\n",
       "    }\n",
       "\n",
       "    .dataframe thead th {\n",
       "        text-align: right;\n",
       "    }\n",
       "</style>\n",
       "<table border=\"1\" class=\"dataframe\">\n",
       "  <thead>\n",
       "    <tr style=\"text-align: right;\">\n",
       "      <th></th>\n",
       "      <th>population</th>\n",
       "      <th>householdsize</th>\n",
       "      <th>racepctblack</th>\n",
       "      <th>racePctWhite</th>\n",
       "      <th>racePctAsian</th>\n",
       "      <th>racePctHisp</th>\n",
       "      <th>agePct12t21</th>\n",
       "      <th>agePct12t29</th>\n",
       "      <th>agePct16t24</th>\n",
       "      <th>agePct65up</th>\n",
       "      <th>...</th>\n",
       "      <th>PctBornSameState</th>\n",
       "      <th>PctSameHouse85</th>\n",
       "      <th>PctSameCity85</th>\n",
       "      <th>PctSameState85</th>\n",
       "      <th>LandArea</th>\n",
       "      <th>PopDens</th>\n",
       "      <th>PctUsePubTrans</th>\n",
       "      <th>LemasPctOfficDrugUn</th>\n",
       "      <th>murders</th>\n",
       "      <th>ViolentCrimesPerPop</th>\n",
       "    </tr>\n",
       "  </thead>\n",
       "  <tbody>\n",
       "    <tr>\n",
       "      <th>count</th>\n",
       "      <td>2.214000e+03</td>\n",
       "      <td>2214.000000</td>\n",
       "      <td>2214.000000</td>\n",
       "      <td>2214.000000</td>\n",
       "      <td>2214.000000</td>\n",
       "      <td>2214.000000</td>\n",
       "      <td>2214.000000</td>\n",
       "      <td>2214.000000</td>\n",
       "      <td>2214.000000</td>\n",
       "      <td>2214.000000</td>\n",
       "      <td>...</td>\n",
       "      <td>2214.000000</td>\n",
       "      <td>2214.000000</td>\n",
       "      <td>2214.000000</td>\n",
       "      <td>2214.00000</td>\n",
       "      <td>2214.000000</td>\n",
       "      <td>2214.000000</td>\n",
       "      <td>2214.000000</td>\n",
       "      <td>2214.000000</td>\n",
       "      <td>2214.000000</td>\n",
       "      <td>1993.000000</td>\n",
       "    </tr>\n",
       "    <tr>\n",
       "      <th>mean</th>\n",
       "      <td>5.313657e+04</td>\n",
       "      <td>2.707150</td>\n",
       "      <td>9.338699</td>\n",
       "      <td>83.976296</td>\n",
       "      <td>2.668473</td>\n",
       "      <td>7.952918</td>\n",
       "      <td>14.446730</td>\n",
       "      <td>27.647642</td>\n",
       "      <td>13.976518</td>\n",
       "      <td>11.836621</td>\n",
       "      <td>...</td>\n",
       "      <td>61.543162</td>\n",
       "      <td>51.532385</td>\n",
       "      <td>77.410772</td>\n",
       "      <td>88.11140</td>\n",
       "      <td>27.429404</td>\n",
       "      <td>2784.258672</td>\n",
       "      <td>3.038148</td>\n",
       "      <td>0.980605</td>\n",
       "      <td>7.768293</td>\n",
       "      <td>589.353914</td>\n",
       "    </tr>\n",
       "    <tr>\n",
       "      <th>std</th>\n",
       "      <td>2.046646e+05</td>\n",
       "      <td>0.334091</td>\n",
       "      <td>14.249369</td>\n",
       "      <td>16.421952</td>\n",
       "      <td>4.474113</td>\n",
       "      <td>14.592557</td>\n",
       "      <td>4.519448</td>\n",
       "      <td>6.181506</td>\n",
       "      <td>5.971745</td>\n",
       "      <td>4.778632</td>\n",
       "      <td>...</td>\n",
       "      <td>16.753020</td>\n",
       "      <td>10.516238</td>\n",
       "      <td>10.880634</td>\n",
       "      <td>7.28945</td>\n",
       "      <td>109.846510</td>\n",
       "      <td>2829.562169</td>\n",
       "      <td>4.912029</td>\n",
       "      <td>2.877702</td>\n",
       "      <td>58.179375</td>\n",
       "      <td>614.816135</td>\n",
       "    </tr>\n",
       "    <tr>\n",
       "      <th>min</th>\n",
       "      <td>1.000500e+04</td>\n",
       "      <td>1.600000</td>\n",
       "      <td>0.000000</td>\n",
       "      <td>2.680000</td>\n",
       "      <td>0.030000</td>\n",
       "      <td>0.120000</td>\n",
       "      <td>4.580000</td>\n",
       "      <td>9.380000</td>\n",
       "      <td>4.640000</td>\n",
       "      <td>1.660000</td>\n",
       "      <td>...</td>\n",
       "      <td>6.750000</td>\n",
       "      <td>11.830000</td>\n",
       "      <td>27.950000</td>\n",
       "      <td>32.83000</td>\n",
       "      <td>0.900000</td>\n",
       "      <td>10.000000</td>\n",
       "      <td>0.000000</td>\n",
       "      <td>0.000000</td>\n",
       "      <td>0.000000</td>\n",
       "      <td>0.000000</td>\n",
       "    </tr>\n",
       "    <tr>\n",
       "      <th>25%</th>\n",
       "      <td>1.437125e+04</td>\n",
       "      <td>2.500000</td>\n",
       "      <td>0.860000</td>\n",
       "      <td>76.310000</td>\n",
       "      <td>0.620000</td>\n",
       "      <td>0.930000</td>\n",
       "      <td>12.250000</td>\n",
       "      <td>24.420000</td>\n",
       "      <td>11.320000</td>\n",
       "      <td>8.740000</td>\n",
       "      <td>...</td>\n",
       "      <td>50.110000</td>\n",
       "      <td>44.992500</td>\n",
       "      <td>72.060000</td>\n",
       "      <td>85.20000</td>\n",
       "      <td>7.300000</td>\n",
       "      <td>1181.850000</td>\n",
       "      <td>0.360000</td>\n",
       "      <td>0.000000</td>\n",
       "      <td>0.000000</td>\n",
       "      <td>161.730000</td>\n",
       "    </tr>\n",
       "    <tr>\n",
       "      <th>50%</th>\n",
       "      <td>2.280300e+04</td>\n",
       "      <td>2.660000</td>\n",
       "      <td>2.870000</td>\n",
       "      <td>90.350000</td>\n",
       "      <td>1.230000</td>\n",
       "      <td>2.180000</td>\n",
       "      <td>13.620000</td>\n",
       "      <td>26.780000</td>\n",
       "      <td>12.545000</td>\n",
       "      <td>11.735000</td>\n",
       "      <td>...</td>\n",
       "      <td>64.500000</td>\n",
       "      <td>52.170000</td>\n",
       "      <td>79.495000</td>\n",
       "      <td>90.03000</td>\n",
       "      <td>13.700000</td>\n",
       "      <td>2029.600000</td>\n",
       "      <td>1.220000</td>\n",
       "      <td>0.000000</td>\n",
       "      <td>1.000000</td>\n",
       "      <td>374.070000</td>\n",
       "    </tr>\n",
       "    <tr>\n",
       "      <th>75%</th>\n",
       "      <td>4.304350e+04</td>\n",
       "      <td>2.850000</td>\n",
       "      <td>11.157500</td>\n",
       "      <td>96.227500</td>\n",
       "      <td>2.670000</td>\n",
       "      <td>7.810000</td>\n",
       "      <td>15.360000</td>\n",
       "      <td>29.207500</td>\n",
       "      <td>14.347500</td>\n",
       "      <td>14.417500</td>\n",
       "      <td>...</td>\n",
       "      <td>74.862500</td>\n",
       "      <td>58.727500</td>\n",
       "      <td>85.137500</td>\n",
       "      <td>93.01000</td>\n",
       "      <td>26.100000</td>\n",
       "      <td>3322.250000</td>\n",
       "      <td>3.357500</td>\n",
       "      <td>0.000000</td>\n",
       "      <td>3.000000</td>\n",
       "      <td>794.410000</td>\n",
       "    </tr>\n",
       "    <tr>\n",
       "      <th>max</th>\n",
       "      <td>7.322564e+06</td>\n",
       "      <td>5.280000</td>\n",
       "      <td>96.670000</td>\n",
       "      <td>99.630000</td>\n",
       "      <td>57.460000</td>\n",
       "      <td>95.290000</td>\n",
       "      <td>54.400000</td>\n",
       "      <td>70.510000</td>\n",
       "      <td>63.620000</td>\n",
       "      <td>52.770000</td>\n",
       "      <td>...</td>\n",
       "      <td>93.140000</td>\n",
       "      <td>78.560000</td>\n",
       "      <td>96.590000</td>\n",
       "      <td>99.90000</td>\n",
       "      <td>3569.800000</td>\n",
       "      <td>44229.900000</td>\n",
       "      <td>54.330000</td>\n",
       "      <td>48.440000</td>\n",
       "      <td>1946.000000</td>\n",
       "      <td>4877.060000</td>\n",
       "    </tr>\n",
       "  </tbody>\n",
       "</table>\n",
       "<p>8 rows × 104 columns</p>\n",
       "</div>"
      ],
      "text/plain": [
       "         population  householdsize  racepctblack  racePctWhite  racePctAsian  \\\n",
       "count  2.214000e+03    2214.000000   2214.000000   2214.000000   2214.000000   \n",
       "mean   5.313657e+04       2.707150      9.338699     83.976296      2.668473   \n",
       "std    2.046646e+05       0.334091     14.249369     16.421952      4.474113   \n",
       "min    1.000500e+04       1.600000      0.000000      2.680000      0.030000   \n",
       "25%    1.437125e+04       2.500000      0.860000     76.310000      0.620000   \n",
       "50%    2.280300e+04       2.660000      2.870000     90.350000      1.230000   \n",
       "75%    4.304350e+04       2.850000     11.157500     96.227500      2.670000   \n",
       "max    7.322564e+06       5.280000     96.670000     99.630000     57.460000   \n",
       "\n",
       "       racePctHisp  agePct12t21  agePct12t29  agePct16t24   agePct65up  ...  \\\n",
       "count  2214.000000  2214.000000  2214.000000  2214.000000  2214.000000  ...   \n",
       "mean      7.952918    14.446730    27.647642    13.976518    11.836621  ...   \n",
       "std      14.592557     4.519448     6.181506     5.971745     4.778632  ...   \n",
       "min       0.120000     4.580000     9.380000     4.640000     1.660000  ...   \n",
       "25%       0.930000    12.250000    24.420000    11.320000     8.740000  ...   \n",
       "50%       2.180000    13.620000    26.780000    12.545000    11.735000  ...   \n",
       "75%       7.810000    15.360000    29.207500    14.347500    14.417500  ...   \n",
       "max      95.290000    54.400000    70.510000    63.620000    52.770000  ...   \n",
       "\n",
       "       PctBornSameState  PctSameHouse85  PctSameCity85  PctSameState85  \\\n",
       "count       2214.000000     2214.000000    2214.000000      2214.00000   \n",
       "mean          61.543162       51.532385      77.410772        88.11140   \n",
       "std           16.753020       10.516238      10.880634         7.28945   \n",
       "min            6.750000       11.830000      27.950000        32.83000   \n",
       "25%           50.110000       44.992500      72.060000        85.20000   \n",
       "50%           64.500000       52.170000      79.495000        90.03000   \n",
       "75%           74.862500       58.727500      85.137500        93.01000   \n",
       "max           93.140000       78.560000      96.590000        99.90000   \n",
       "\n",
       "          LandArea       PopDens  PctUsePubTrans  LemasPctOfficDrugUn  \\\n",
       "count  2214.000000   2214.000000     2214.000000          2214.000000   \n",
       "mean     27.429404   2784.258672        3.038148             0.980605   \n",
       "std     109.846510   2829.562169        4.912029             2.877702   \n",
       "min       0.900000     10.000000        0.000000             0.000000   \n",
       "25%       7.300000   1181.850000        0.360000             0.000000   \n",
       "50%      13.700000   2029.600000        1.220000             0.000000   \n",
       "75%      26.100000   3322.250000        3.357500             0.000000   \n",
       "max    3569.800000  44229.900000       54.330000            48.440000   \n",
       "\n",
       "           murders  ViolentCrimesPerPop  \n",
       "count  2214.000000          1993.000000  \n",
       "mean      7.768293           589.353914  \n",
       "std      58.179375           614.816135  \n",
       "min       0.000000             0.000000  \n",
       "25%       0.000000           161.730000  \n",
       "50%       1.000000           374.070000  \n",
       "75%       3.000000           794.410000  \n",
       "max    1946.000000          4877.060000  \n",
       "\n",
       "[8 rows x 104 columns]"
      ]
     },
     "execution_count": 38,
     "metadata": {},
     "output_type": "execute_result"
    }
   ],
   "source": [
    "columns = 'population,householdsize,racepctblack,racePctWhite,racePctAsian,racePctHisp,agePct12t21,agePct12t29,agePct16t24,agePct65up,numbUrban,pctUrban,medIncome,pctWWage,pctWFarmSelf,pctWInvInc,pctWSocSec,pctWPubAsst,pctWRetire,medFamInc,perCapInc,whitePerCap,blackPerCap,indianPerCap,AsianPerCap,OtherPerCap,HispPerCap,NumUnderPov,PctPopUnderPov,PctLess9thGrade,PctNotHSGrad,PctBSorMore,PctUnemployed,PctEmploy,PctEmplManu,PctEmplProfServ,PctOccupManu,PctOccupMgmtProf,MalePctDivorce,MalePctNevMarr,FemalePctDiv,TotalPctDiv,PersPerFam,PctFam2Par,PctKids2Par,PctYoungKids2Par,PctTeen2Par,PctWorkMomYoungKids,PctWorkMom,NumKidsBornNeverMar,PctKidsBornNeverMar,NumImmig,PctImmigRecent,PctImmigRec5,PctImmigRec8,PctImmigRec10,PctRecentImmig,PctRecImmig5,PctRecImmig8,PctRecImmig10,PctSpeakEnglOnly,PctNotSpeakEnglWell,PctLargHouseFam,PctLargHouseOccup,PersPerOccupHous,PersPerOwnOccHous,PersPerRentOccHous,PctPersOwnOccup,PctPersDenseHous,PctHousLess3BR,MedNumBR,HousVacant,PctHousOccup,PctHousOwnOcc,PctVacantBoarded,PctVacMore6Mos,MedYrHousBuilt,PctHousNoPhone,PctWOFullPlumb,OwnOccLowQuart,OwnOccMedVal,OwnOccHiQuart,OwnOccQrange,RentLowQ,RentMedian,RentHighQ,RentQrange,MedRent,MedRentPctHousInc,MedOwnCostPctInc,MedOwnCostPctIncNoMtg,NumInShelters,NumStreet,PctForeignBorn,PctBornSameState,PctSameHouse85,PctSameCity85,PctSameState85,LandArea,PopDens,PctUsePubTrans,LemasPctOfficDrugUn,murders,HighCrime,ViolentCrimesPerPop'\n",
    "cols_final = columns.split(',')\n",
    "data.drop(data.columns.difference(cols_final), 1, inplace=True) # drop all columns that are not in required list\n",
    "data.describe()"
   ]
  },
  {
   "cell_type": "code",
   "execution_count": 28,
   "metadata": {
    "scrolled": true
   },
   "outputs": [
    {
     "name": "stdout",
     "output_type": "stream",
     "text": [
      "4877.06\n"
     ]
    },
    {
     "data": {
      "image/png": "[encoded data removed]",
      "text/plain": [
       "<Figure size 432x288 with 1 Axes>"
      ]
     },
     "metadata": {
      "needs_background": "light"
     },
     "output_type": "display_data"
    }
   ],
   "source": [
    "# creating a couple of descriptive plots for the report\n",
    "import matplotlib.mlab as mlab\n",
    "import matplotlib.pyplot as plt\n",
    "test = data['ViolentCrimesPerPop']\n",
    "test.dropna()\n",
    "print(test.max())\n",
    "plt.hist(test, 100)\n",
    "plt.axvline()\n",
    "plt.xlabel('Violent Crimes Per Pop')\n",
    "plt.ylabel('Frequency')\n",
    "plt.show()"
   ]
  },
  {
   "cell_type": "code",
   "execution_count": 39,
   "metadata": {
    "pycharm": {
     "name": "#%%\n"
    }
   },
   "outputs": [
    {
     "name": "stdout",
     "output_type": "stream",
     "text": [
      "223.06     3\n",
      "190.95     2\n",
      "103.33     2\n",
      "144.90     2\n",
      "624.31     2\n",
      "          ..\n",
      "369.24     1\n",
      "636.96     1\n",
      "1135.50    1\n",
      "1502.52    1\n",
      "112.50     1\n",
      "Name: ViolentCrimesPerPop, Length: 1972, dtype: int64\n",
      "variables    population  householdsize  racepctblack  racePctWhite  racePctAsian  \\\n",
      "0       23123           2.82          0.80         95.57          3.44   \n",
      "1       29344           2.43          0.74         94.33          3.43   \n",
      "2       16656           2.40          1.70         97.35          0.50   \n",
      "3       11245           2.76          0.53         89.16          1.17   \n",
      "4      140494           2.45          2.51         95.65          0.90   \n",
      "\n",
      "   racePctHisp  agePct12t21  agePct12t29  agePct16t24  agePct65up  ...  \\\n",
      "0         0.85        11.01        21.30        10.48       17.18  ...   \n",
      "1         2.35        11.36        25.88        11.01       10.28  ...   \n",
      "2         0.70        12.55        25.20        12.19       17.57  ...   \n",
      "3         0.52        24.46        40.53        28.69       12.65  ...   \n",
      "4         0.95        18.09        32.89        20.04       13.26  ...   \n",
      "\n",
      "   PctForeignBorn  PctBornSameState  PctSameHouse85  PctSameCity85  \\\n",
      "0            8.30             77.17           71.27          90.22   \n",
      "1            5.00             44.77           36.60          61.26   \n",
      "2            2.04             88.71           56.70          90.17   \n",
      "3            1.74             73.75           42.22          60.34   \n",
      "4            1.49             64.35           42.29          70.61   \n",
      "\n",
      "   PctSameState85  LandArea  PopDens  PctUsePubTrans  LemasPctOfficDrugUn  \\\n",
      "0           96.12      10.6   2186.7            3.84                  0.0   \n",
      "1           82.85      10.6   2780.9            4.37                  0.0   \n",
      "2           96.24       5.2   3217.7            3.31                  0.0   \n",
      "3           89.02      11.5    974.2            0.38                  0.0   \n",
      "4           85.66      70.4   1995.7            0.97                  0.0   \n",
      "\n",
      "   murders  \n",
      "0        0  \n",
      "1        3  \n",
      "2        0  \n",
      "3        0  \n",
      "4        7  \n",
      "\n",
      "[5 rows x 103 columns]\n",
      "crime outcome 0    0\n",
      "1    0\n",
      "2    0\n",
      "3    1\n",
      "4    0\n",
      "Name: ViolentCrimesPerPop, dtype: int64\n"
     ]
    }
   ],
   "source": [
    "# Take a look at the outcome variable i.e. crime\n",
    "print(data['ViolentCrimesPerPop'].value_counts())\n",
    "\n",
    "# need to transform this outcome into 0 and 1's, 0 for low crime, 1 for high crime.\n",
    "# choose a suitable threshold based, < 2500 crimes is low crime, although this is subjective.\n",
    "data['ViolentCrimesPerPop'] = [0 if x < 795 else 1 for x in data['ViolentCrimesPerPop']]\n",
    "\n",
    "# Then need to split up the features and outcomes\n",
    "# So x as a data frame of features and y as a series of the outcome variable\n",
    "x = data.drop('ViolentCrimesPerPop', 1)\n",
    "y = data.ViolentCrimesPerPop\n",
    "\n",
    "\n",
    "print('variables', x.head(5))\n",
    "print('crime outcome', y.head(5))"
   ]
  },
  {
   "cell_type": "code",
   "execution_count": 40,
   "metadata": {},
   "outputs": [
    {
     "name": "stdout",
     "output_type": "stream",
     "text": [
      "   population  householdsize  racepctblack  racePctWhite  racePctAsian  \\\n",
      "0       23123           2.82          0.80         95.57          3.44   \n",
      "1       29344           2.43          0.74         94.33          3.43   \n",
      "2       16656           2.40          1.70         97.35          0.50   \n",
      "3       11245           2.76          0.53         89.16          1.17   \n",
      "4      140494           2.45          2.51         95.65          0.90   \n",
      "\n",
      "   racePctHisp  agePct12t21  agePct12t29  agePct16t24  agePct65up  ...  \\\n",
      "0         0.85        11.01        21.30        10.48       17.18  ...   \n",
      "1         2.35        11.36        25.88        11.01       10.28  ...   \n",
      "2         0.70        12.55        25.20        12.19       17.57  ...   \n",
      "3         0.52        24.46        40.53        28.69       12.65  ...   \n",
      "4         0.95        18.09        32.89        20.04       13.26  ...   \n",
      "\n",
      "   PctBornSameState  PctSameHouse85  PctSameCity85  PctSameState85  LandArea  \\\n",
      "0             77.17           71.27          90.22           96.12      10.6   \n",
      "1             44.77           36.60          61.26           82.85      10.6   \n",
      "2             88.71           56.70          90.17           96.24       5.2   \n",
      "3             73.75           42.22          60.34           89.02      11.5   \n",
      "4             64.35           42.29          70.61           85.66      70.4   \n",
      "\n",
      "   PopDens  PctUsePubTrans  LemasPctOfficDrugUn  murders  ViolentCrimesPerPop  \n",
      "0   2186.7            3.84                  0.0        0                    0  \n",
      "1   2780.9            4.37                  0.0        3                    0  \n",
      "2   3217.7            3.31                  0.0        0                    0  \n",
      "3    974.2            0.38                  0.0        0                    1  \n",
      "4   1995.7            0.97                  0.0        7                    0  \n",
      "\n",
      "[5 rows x 104 columns]\n"
     ]
    }
   ],
   "source": [
    "# look at data again to see all variables and then y, the outcome, as 0s and 1s\n",
    "print(data.head(5))\n"
   ]
  },
  {
   "cell_type": "markdown",
   "metadata": {
    "pycharm": {
     "name": "#%% md\n"
    }
   },
   "source": [
    "**Data Cleaning**\n",
    "- Decide which categorical variables to use in the model\n",
    "\n",
    "Models can only handle numerical features, so dummy features are created to transform a categorical feature into a set of dummy features, each representing a unique category. In the set of dummy features, 1 indicates that the observation belongs in that category e.g. female would be 1, male 0.\n",
    "\n",
    "Dummy features dont have to be used for ones with low frequencies, instead, buckets can be used to bucket low frequency categories as 'other'."
   ]
  },
  {
   "cell_type": "code",
   "execution_count": 41,
   "metadata": {
    "pycharm": {
     "name": "#%%\n"
    }
   },
   "outputs": [],
   "source": [
    "\n",
    "# Use get_dummies in pandas (OR OneHotEncoder in scikit learn) to change categorical data to numerical\n",
    "# print(pd.get_dummies(x['communityname']).head(5))\n",
    "\n",
    "# Check how many unique categories there are\n",
    "for col_name in x.columns:\n",
    "    if x[col_name].dtypes == 'object':\n",
    "        unique_cat = len(x[col_name].unique())\n",
    "        print(\"Feature '{col_name}' has {unique_cat} unique categories\".format(\n",
    "            col_name=col_name, unique_cat=unique_cat))\n",
    "\n",
    "# THERE ARE NONE - so skip dummy coding"
   ]
  },
  {
   "cell_type": "code",
   "execution_count": 42,
   "metadata": {},
   "outputs": [],
   "source": [
    "# select the features which are not numeric\n",
    "# todummy_list = ['state', 'communityname']\n",
    "\n",
    "# Dummy all categorical variables used. make them numeric and then missing values can be dealt with.\n",
    "# def dummy_df(data, todummy_list):\n",
    "#     for x in todummy_list:\n",
    "#         dummies = pd.get_dummies(data[x], prefix=x, dummy_na=False)\n",
    "#         data = data.drop(x, 1) # dropping the original feature\n",
    "#         data = pd.concat([data, dummies], axis=1) # adding the one to be used\n",
    "#     return data\n",
    "#\n",
    "# x = dummy_df(x, todummy_list)\n",
    "# print(x.head(5))"
   ]
  },
  {
   "cell_type": "markdown",
   "metadata": {
    "pycharm": {
     "name": "#%% md\n"
    }
   },
   "source": [
    "**Removing items with missing data**\n",
    "\n",
    "Models can't handle missing data, so features with missing data should be removed. Removing data can cause issues if the data is randomly missing because it can cause the loss of a lot of data. However, greater issues arise from removing data if the data is randomly as well as non-randomly missing because this makes it no longer representative of the whole population and can introduce potential biases.\n",
    "\n",
    "Imputation can be used to replace missing values with another value i.e. the mean, median or highest frequency of a given feature."
   ]
  },
  {
   "cell_type": "code",
   "execution_count": 43,
   "metadata": {},
   "outputs": [],
   "source": [
    "# Remove missing values\n",
    "# First establish how much data is missing\n",
    "x.isnull().sum().sort_values(ascending=False).head()\n",
    "\n",
    "# Impute the missing values using SimpleImputer in sklearn.impute\n",
    "imp = SimpleImputer(missing_values=np.nan, strategy='mean')\n",
    "imp.fit(x)\n",
    "x = pd.DataFrame(data=imp.transform(x), columns=x.columns)"
   ]
  },
  {
   "cell_type": "code",
   "execution_count": 44,
   "metadata": {
    "pycharm": {
     "name": "#%%\n"
    }
   },
   "outputs": [
    {
     "data": {
      "text/plain": [
       "murders             0\n",
       "PctOccupMgmtProf    0\n",
       "NumUnderPov         0\n",
       "PctPopUnderPov      0\n",
       "PctLess9thGrade     0\n",
       "dtype: int64"
      ]
     },
     "execution_count": 44,
     "metadata": {},
     "output_type": "execute_result"
    }
   ],
   "source": [
    "# Check if there is still missing data\n",
    "x.isnull().sum().sort_values(ascending=False).head()"
   ]
  },
  {
   "cell_type": "markdown",
   "metadata": {
    "pycharm": {
     "name": "#%% md\n"
    }
   },
   "source": [
    "**Outlier Detection**\n",
    "\n",
    "An outlier = an observation that deviates drastically from other values in the dataset. Decision trees are robust to outliers because they isolate them in small regions of the feature space. Since the prediction for each leaf is the average (for regression), being isolated in seperate leaves, outliers won't influence the rest of the predictions/ impact the mean of the other leaves.\n",
    "\n",
    "Natural vs error:\n",
    "- Naturally occuring error, although not problematic, can skew the model by affecting the slope\n",
    "- Error is indicative of data quality issues, therefore it it not information that should be used in the model. Imputation can be used to deal with these erroneous values (the same way as dealing with missing data).\n",
    "\n",
    "Methods of outlier detection include Kernel density estimation or Tukey IQR.\n",
    "\n",
    "1. Tukey IQR\n",
    "Identifies extreme values in the data and is favourable to using standard deviation from the mean to detect outliers because Tukey doesn't make assumptions about normality and is less sensitive to extreme values.\n",
    "\n",
    "(Interquartile ranges). To find most most extreme values, use a diff multiplier to 1.5.\n",
    "\n",
    "Q1-1.5(Q3-Q1) or above Q3+1.5(Q3-Q1)\n",
    "\n",
    "One limitation of Tukey IQR outlier detection is that it does not capture outliers in a bimodal distribution, but rather extreme values, like Kernal Density Estimation can."
   ]
  },
  {
   "cell_type": "code",
   "execution_count": 45,
   "metadata": {
    "pycharm": {
     "name": "#%%\n"
    }
   },
   "outputs": [
    {
     "name": "stdout",
     "output_type": "stream",
     "text": [
      "[ 68654.  68742.  69019.  69695.  69904.  69917.  70000.  70039.  70287.\n",
      "  70919.  71274.  71905.  71996.  72369.  74124.  74401.  74472.  74825.\n",
      "  75221.  75905.  76907.  77530.  78965.  79092.  79579.  79797.  80968.\n",
      "  81957.  83275.  83975.  84441.  84498.  86674.  87686.  89395.  91951.\n",
      "  95134. 100077. 101320. 110550. 118456. 123625.]\n"
     ]
    }
   ],
   "source": [
    "# find outliers using Tukey IQR\n",
    "def find_outliers_tukey(x):\n",
    "    q1 = np.percentile(x, 25)\n",
    "    q3 = np.percentile(x, 75)\n",
    "    iqr = q3-q1\n",
    "    floor = q1 - 1.5*iqr # The floor = less than the first quartile minus the IQR.\n",
    "    ceiling = q3 + 1.5*iqr # The ceiling = more than the third quartile plus the IQR.\n",
    "    outlier_indices = list(x.index[(x < floor) | (x > ceiling)]) # If the value is below the floor, or above the ceiling, it is an outlier\n",
    "    outlier_values = list(x[outlier_indices]) # indices to access these data points later\n",
    "\n",
    "    return outlier_indices, outlier_values\n",
    "\n",
    "# for example, check the outliers for ‘medIncome’\n",
    "tukey_indices, tukey_values = find_outliers_tukey(x['medIncome'])\n",
    "print(np.sort(tukey_values))\n",
    "\n",
    "# tukey_list = []\n",
    "# for column in x:\n",
    "#     tukey_indices, tukey_values = find_outliers_tukey(x[column])\n",
    "#     tukey_list.append(tukey_values) # We need ID though\n",
    "\n",
    "# NOTE: What are we going to do with outliers?"
   ]
  },
  {
   "cell_type": "markdown",
   "metadata": {
    "pycharm": {
     "name": "#%% md\n"
    }
   },
   "source": [
    "**Distribution of Features**\n",
    "- Plotting frequency histograms to show the distribution of a given feature."
   ]
  },
  {
   "cell_type": "code",
   "execution_count": 46,
   "metadata": {},
   "outputs": [
    {
     "data": {
      "image/png": "[encoded data removed]",
      "text/plain": [
       "<Figure size 432x288 with 1 Axes>"
      ]
     },
     "metadata": {
      "needs_background": "light"
     },
     "output_type": "display_data"
    }
   ],
   "source": [
    "# plot histograms using matplotlib\n",
    "def histo_plot(x):\n",
    "    plt.hist(x,color='red', alpha=0.5)\n",
    "    plt.title(\"'{var_name}' Histogram\".format(var_name=x.name))\n",
    "    plt.ylabel(\"Freq\")\n",
    "    plt.xlabel(\"Value\")\n",
    "    plt.show()\n",
    "\n",
    "# plot histograms to show the distributions of given features\n",
    "# for column in x: # Get all variable distributions\n",
    "#     histo_plot(x[column])\n",
    "histo_plot(x['medIncome'])"
   ]
  },
  {
   "cell_type": "code",
   "execution_count": 47,
   "metadata": {
    "pycharm": {
     "name": "#%%\n"
    }
   },
   "outputs": [
    {
     "data": {
      "image/png": "[encoded data removed]",
      "text/plain": [
       "<Figure size 432x288 with 1 Axes>"
      ]
     },
     "metadata": {
      "needs_background": "light"
     },
     "output_type": "display_data"
    }
   ],
   "source": [
    "# histograms showing the distribution of features by the outcome variable (dependent variable)\n",
    "def histogram_dv(a, b):\n",
    "    plt.hist(list(a[b==0]), alpha=0.5, label='DV=0')\n",
    "    plt.hist(list(a[b==1]), alpha=0.5, label='DV=1')\n",
    "    plt.title(\"'{var_name}' Histogram by DV Category\".format(var_name=a.name))\n",
    "    plt.ylabel(\"Freq\")\n",
    "    plt.xlabel(\"Value\")\n",
    "    plt.legend(loc='upper right')\n",
    "    plt.show()\n",
    "\n",
    "# these show the distribution of a feature when the outcome is 0, so crime is less than .../none\n",
    "# for column in x: # Get all variable distributions\n",
    "#     histogram_dv(x[column], y)\n",
    "histogram_dv(x['medIncome'], y)"
   ]
  },
  {
   "cell_type": "markdown",
   "metadata": {
    "pycharm": {
     "name": "#%% md\n"
    }
   },
   "source": [
    "**Feature Engineering**\n",
    "\n",
    "Either 1. increase the dimensionality or 2. decrease the dimentionality\n",
    "\n",
    "1. Increasing Dimensionality\n",
    "= creating new features. This is useful if the impact of two or more features on the outcome is non-additive. A good automated way to do this is to look for interactions between features.\n",
    "\n",
    "e.g. a simple 2-way interaction (where X3 is the interaction between X1 and X2):\n",
    "\n",
    "X3-X1 * X2\n",
    "\n",
    "However, with lots of features, this grows the data A LOT. Therefore, it is better t use domain knowledge about certain interactions between features so that there aren't too many interaction terms.\n",
    "\n",
    "Dimensionality has benefits because information is added, however, it is computationally costly i.e. inefficient and also has the potential for overfitting the model. So it is a trade off between creating new useful information vs the potential for overfitting plus the computational cost."
   ]
  },
  {
   "cell_type": "code",
   "execution_count": 48,
   "metadata": {
    "pycharm": {
     "name": "#%%\n"
    }
   },
   "outputs": [],
   "source": [
    "# polynomialFeatures in sklearn.preprocessing to create two-way interactions for ALL features\n",
    "# from itertools import combinations\n",
    "# from sklearn.preprocessing import PolynomialFeatures\n",
    "\n",
    "# def add_interactions(df):\n",
    "#     # get feature names\n",
    "#     combos = list(combinations(list(df.columns),2))\n",
    "#     colnames = list(df.columns) + ['_'.join(x) for x in combos]\n",
    "#\n",
    "#     # establish the interactions in the data\n",
    "#     poly = PolynomialFeatures(interaction_only=True, include_bias=False)\n",
    "#     df = poly.fit_transform(df)\n",
    "#     df = pd.DataFrame(df)\n",
    "#     df.columns = colnames\n",
    "#\n",
    "#     # remove the interactions with 0 values\n",
    "#     noint_indicies = [i for i, x in enumerate(list((df == 0).all())) if x]\n",
    "#     df = df.drop(df.columns[noint_indicies], axis=1)\n",
    "#\n",
    "#     return df\n",
    "#\n",
    "# x = add_interactions(x)\n",
    "# print(x.head(5))\n",
    "\n",
    "# NOTE: maybe better if two way interactions are created only for SOME features, bc the data set is so large. Way too computationally slow.\n",
    "# NOTE: maybe select the most significantly correlated interactions from this set?"
   ]
  },
  {
   "cell_type": "markdown",
   "metadata": {
    "pycharm": {
     "name": "#%% md\n"
    }
   },
   "source": [
    "2. Decreasing dimensionality\n",
    "\n",
    "Using principal component analysis(PCA), a method that transforms a dataset with many features into its principle components that best summarise the underlying variance in the data.\n",
    "\n",
    "Each ‘principle component’ is  established by finding the linear combination of features that maximises variance, whilst also ensuring zero correlation with previously calculated principal components.\n",
    "\n",
    "PCA/ decreasing dimensionality is useful when you have very high-dimensionality data, in order to reduce dimensions, when the dataset has many highly correlated variables because it will take the variance from these to reduce this correlation and when there is poor observation-to-feature ratio.\n",
    "\n",
    "However, using dimensionality reduction makes the data harder to interpret and understand because the output gives arbitrary principle components, e.g. for interpreting the outcome, principle component number 1 is not as easy to interpret as medIncome. Therefore, in certain contexts, like explaining the results to a client, this would make it difficult to explain the drivers of the target outcome variable.\n"
   ]
  },
  {
   "cell_type": "markdown",
   "metadata": {},
   "source": [
    "Split the data"
   ]
  },
  {
   "cell_type": "code",
   "execution_count": 49,
   "metadata": {
    "pycharm": {
     "name": "#%%\n"
    }
   },
   "outputs": [],
   "source": [
    "# Split the data into training and test data sets using sklearn.model_selection\n",
    "\n",
    "from sklearn.model_selection import train_test_split\n",
    "\n",
    "x_train, x_test, y_train, y_test = train_test_split(x, y, train_size=0.70, random_state=1)"
   ]
  },
  {
   "cell_type": "markdown",
   "metadata": {},
   "source": [
    "Normalise the training set"
   ]
  },
  {
   "cell_type": "code",
   "execution_count": 50,
   "metadata": {
    "pycharm": {
     "name": "#%%\n"
    }
   },
   "outputs": [],
   "source": [
    "\n",
    "# normalisation computed on the training set\n",
    "mu = np.mean(x_train, axis=0)\n",
    "sigma = np.std(x_train, axis=0)\n",
    "\n",
    "x_train = (x_train - mu)#/sigma\n",
    "x_test = (x_test - mu)/sigma"
   ]
  },
  {
   "cell_type": "code",
   "execution_count": 51,
   "metadata": {
    "pycharm": {
     "name": "#%%\n"
    }
   },
   "outputs": [
    {
     "data": {
      "text/plain": [
       "population             1.033007e-10\n",
       "householdsize         -2.219873e-15\n",
       "racepctblack           2.384148e-15\n",
       "racePctWhite           3.608218e-14\n",
       "racePctAsian          -3.029927e-15\n",
       "                           ...     \n",
       "LandArea               8.738437e-15\n",
       "PopDens               -1.015769e-12\n",
       "PctUsePubTrans        -4.286077e-17\n",
       "LemasPctOfficDrugUn    7.200323e-16\n",
       "murders               -3.902481e-15\n",
       "Length: 103, dtype: float64"
      ]
     },
     "execution_count": 51,
     "metadata": {},
     "output_type": "execute_result"
    }
   ],
   "source": [
    "np.mean(x_train, axis=0)"
   ]
  },
  {
   "cell_type": "code",
   "execution_count": 52,
   "metadata": {
    "pycharm": {
     "name": "#%%\n"
    }
   },
   "outputs": [
    {
     "data": {
      "text/plain": [
       "population            -0.012550\n",
       "householdsize         -0.070587\n",
       "racepctblack          -0.032446\n",
       "racePctWhite           0.046305\n",
       "racePctAsian          -0.019599\n",
       "                         ...   \n",
       "LandArea               0.014078\n",
       "PopDens                0.034542\n",
       "PctUsePubTrans        -0.017998\n",
       "LemasPctOfficDrugUn    0.029594\n",
       "murders               -0.011230\n",
       "Length: 103, dtype: float64"
      ]
     },
     "execution_count": 52,
     "metadata": {},
     "output_type": "execute_result"
    }
   ],
   "source": [
    "# If we have properly sampled the dataset:\n",
    "# we should get a mean vector for the test set that contains close to zero values.\n",
    "np.mean(x_test, axis=0)"
   ]
  },
  {
   "cell_type": "code",
   "execution_count": 53,
   "metadata": {
    "pycharm": {
     "name": "#%%\n"
    }
   },
   "outputs": [],
   "source": [
    "# # Using sklearn.decomposition PCA to find the principal components\n",
    "# from sklearn.decomposition import PCA\n",
    "#\n",
    "# # transform entire data set into 10 features\n",
    "# pca = PCA(n_components=10)\n",
    "# x_pca = pd.DataFrame(pca.fit_transform(x))\n",
    "#\n",
    "# print(x_pca.head(5))\n",
    "\n",
    "# NOTE: maybe we should leave dimensionality out of the code, but mention it in the report?"
   ]
  },
  {
   "cell_type": "markdown",
   "metadata": {
    "pycharm": {
     "name": "#%% md\n"
    }
   },
   "source": [
    "**End data processing**"
   ]
  }
 ],
 "metadata": {
  "kernelspec": {
   "display_name": "Python 3",
   "language": "python",
   "name": "python3"
  },
  "language_info": {
   "codemirror_mode": {
    "name": "ipython",
    "version": 3
   },
   "file_extension": ".py",
   "mimetype": "text/x-python",
   "name": "python",
   "nbconvert_exporter": "python",
   "pygments_lexer": "ipython3",
   "version": "3.8.5"
  }
 },
 "nbformat": 4,
 "nbformat_minor": 4
}
